{
 "cells": [
  {
   "cell_type": "code",
   "execution_count": 29,
   "id": "cd724df8",
   "metadata": {},
   "outputs": [],
   "source": [
    "import numpy as np\n",
    "import matplotlib.pyplot as plt \n",
    "import cv2\n",
    "from PIL import Image\n",
    "import nibabel as nib\n",
    "import os\n",
    "import torch\n",
    "import torch.nn as nn\n",
    "import tqdm\n",
    "from sklearn.model_selection import train_test_split\n",
    "from torch.utils.data import Dataset, DataLoader\n",
    "from torchvision import transforms"
   ]
  },
  {
   "cell_type": "code",
   "execution_count": 2,
   "id": "c98dbc53",
   "metadata": {},
   "outputs": [],
   "source": [
    "adc_images = []\n",
    "dwi_images = []\n",
    "masks = []\n",
    "adc_dir = r\"/home/pritamk/AIMIA/DS-261-AIMIA/AIMIA_Assignment_2/dataset_2/img/adc\"\n",
    "dwi_dir = r\"/home/pritamk/AIMIA/DS-261-AIMIA/AIMIA_Assignment_2/dataset_2/img/dwi\"\n",
    "mask_dir = r\"/home/pritamk/AIMIA/DS-261-AIMIA/AIMIA_Assignment_2/dataset_2/mask\"\n",
    "for filename in os.listdir(adc_dir):\n",
    "    if filename.endswith(\".gz\"):\n",
    "        adc_path = os.path.join(adc_dir, filename)\n",
    "        adc_img = nib.load(adc_path).get_fdata()\n",
    "        adc_images.append(adc_img)\n",
    "for filename in os.listdir(dwi_dir):\n",
    "    if filename.endswith(\".gz\"):\n",
    "        dwi_path = os.path.join(dwi_dir, filename)\n",
    "        dwi_img = nib.load(dwi_path).get_fdata()\n",
    "        dwi_images.append(dwi_img)\n",
    "for filename in os.listdir(mask_dir):\n",
    "    if filename.endswith(\".gz\"):\n",
    "        mask_path = os.path.join(mask_dir, filename)\n",
    "        mask_img = nib.load(mask_path).get_fdata()\n",
    "        masks.append(mask_img)"
   ]
  },
  {
   "cell_type": "code",
   "execution_count": 3,
   "id": "7d197915",
   "metadata": {},
   "outputs": [
    {
     "data": {
      "text/plain": [
       "((64, 64), (64, 64), (64, 64))"
      ]
     },
     "execution_count": 3,
     "metadata": {},
     "output_type": "execute_result"
    }
   ],
   "source": [
    "adc_images[0].shape, dwi_images[0].shape, masks[0].shape"
   ]
  },
  {
   "cell_type": "code",
   "execution_count": 4,
   "id": "9d8f6800",
   "metadata": {},
   "outputs": [
    {
     "data": {
      "image/png": "[encoded data removed]",
      "text/plain": [
       "<Figure size 1200x800 with 3 Axes>"
      ]
     },
     "metadata": {},
     "output_type": "display_data"
    }
   ],
   "source": [
    "plt.figure(figsize=(12, 8))\n",
    "plt.subplot(1, 3, 1)\n",
    "plt.imshow(adc_images[0], cmap='gray')\n",
    "plt.title('ADC Image')\n",
    "plt.axis('off')\n",
    "plt.subplot(1, 3, 2)\n",
    "plt.imshow(dwi_images[0], cmap='gray')\n",
    "plt.title('DWI Image')\n",
    "plt.axis('off')\n",
    "plt.subplot(1, 3, 3)\n",
    "plt.imshow(masks[0], cmap='gray')\n",
    "plt.title('Mask Image')\n",
    "plt.axis('off')\n",
    "plt.show()"
   ]
  },
  {
   "cell_type": "code",
   "execution_count": 5,
   "id": "b2fe49db",
   "metadata": {},
   "outputs": [
    {
     "name": "stdout",
     "output_type": "stream",
     "text": [
      "(1504, 64, 64) (1504, 64, 64) (1504, 64, 64)\n"
     ]
    }
   ],
   "source": [
    "adc_images = np.array(adc_images)\n",
    "dwi_images = np.array(dwi_images)\n",
    "masks = np.array(masks)\n",
    "print(adc_images.shape, dwi_images.shape, masks.shape)"
   ]
  },
  {
   "cell_type": "code",
   "execution_count": 6,
   "id": "4efb1ec9",
   "metadata": {},
   "outputs": [
    {
     "name": "stdout",
     "output_type": "stream",
     "text": [
      "(2, 1504, 64, 64) (1, 1504, 64, 64)\n"
     ]
    }
   ],
   "source": [
    "X = np.stack((adc_images, dwi_images), axis=0)\n",
    "y = masks[np.newaxis, ...]\n",
    "print(X.shape, y.shape)"
   ]
  },
  {
   "cell_type": "code",
   "execution_count": 20,
   "id": "801b658a",
   "metadata": {},
   "outputs": [],
   "source": [
    "# import segmentation_models_pytorch as smp"
   ]
  },
  {
   "cell_type": "code",
   "execution_count": 21,
   "id": "d5135464",
   "metadata": {},
   "outputs": [],
   "source": [
    "# model = smp.Unet(\n",
    "#     encoder_name=\"resnet34\",\n",
    "#     encoder_weights=\"imagenet\",\n",
    "#     in_channels=2,\n",
    "#     classes=1\n",
    "# )"
   ]
  },
  {
   "cell_type": "code",
   "execution_count": 18,
   "id": "4ef94833",
   "metadata": {},
   "outputs": [],
   "source": [
    "class DoubleConv(nn.Module): # Convolutional block with two convolutional layers followed by ReLU activations.\n",
    "    def __init__(self, in_channels, out_channels):\n",
    "        super().__init__()\n",
    "        self.conv_op = nn.Sequential(\n",
    "            nn.Conv2d(in_channels, out_channels,kernel_size=3, padding=1),\n",
    "            nn.BatchNorm2d(out_channels),\n",
    "            nn.ReLU(inplace=True),\n",
    "            nn.Conv2d(out_channels, out_channels, kernel_size=3, padding=1),\n",
    "            nn.BatchNorm2d(out_channels),\n",
    "            nn.ReLU(inplace=True)\n",
    "        )\n",
    "    \n",
    "    def forward(self,x):\n",
    "        return self.conv_op(x)\n",
    "    \n",
    "class DownSample(nn.Module): # Downsampling block with DoubleConv followed by MaxPooling. Returns both the output before pooling and after pooling.\n",
    "    def  __init__(self, in_channels, out_channels):\n",
    "        super().__init__()\n",
    "        self.conv = DoubleConv(in_channels, out_channels)\n",
    "        self.pool = nn.MaxPool2d(kernel_size=2, stride=2)\n",
    "    \n",
    "    def forward(self, x):\n",
    "        down = self.conv(x)\n",
    "        p = self.pool(down)\n",
    "        return down, p # p is used for next layer input and down for skip connection\n",
    "class UpSample(nn.Module): # Upsampling block with ConvTranspose2d followed by DoubleConv. Takes two inputs for skip connections.\n",
    "    def __init__(self, in_channels, out_channels):\n",
    "        super().__init__()\n",
    "        self.up = nn.ConvTranspose2d(in_channels, in_channels//2 , kernel_size=2, stride=2)\n",
    "        self.conv = DoubleConv(in_channels,out_channels)\n",
    "    \n",
    "    def forward(self,x1, x2):\n",
    "        x1 = self.up(x1)\n",
    "        x = torch.cat([x1,x2],dim=1) # Concatenate along channel dimension. x1 is the upsampled tensor and x2 is the skip connection tensor.\n",
    "        return self.conv(x)"
   ]
  },
  {
   "cell_type": "code",
   "execution_count": 19,
   "id": "b0e733b8",
   "metadata": {},
   "outputs": [],
   "source": [
    "class UNet(nn.Module):\n",
    "    def __init__(self, in_channels, num_classes):\n",
    "        super().__init__()\n",
    "\n",
    "        # Encoder depth will be controlled by depth list\n",
    "        self.down_convolution_1 = DownSample(in_channels, 64)\n",
    "        self.down_convolution_2 = DownSample(64, 128)\n",
    "        self.down_convolution_3 = DownSample(128, 256)\n",
    "        self.down_convolution_4 = DownSample(256, 512)\n",
    "        # Bottleneck\n",
    "        self.bottleneck = DoubleConv(512, 1024)\n",
    "\n",
    "        # Decoder\n",
    "        self.up_convolution_1 = UpSample(1024, 512)\n",
    "        self.up_convolution_2 = UpSample(512, 256)\n",
    "        self.up_convolution_3 = UpSample(256, 128)\n",
    "        self.up_convolution_4 = UpSample(128, 64)\n",
    "\n",
    "        # Output\n",
    "        self.out = nn.Conv2d(64, num_classes, kernel_size=1)\n",
    "\n",
    "    def forward(self, x):\n",
    "        # Encoder\n",
    "        down_1, p1 = self.down_convolution_1(x)\n",
    "        down_2, p2 = self.down_convolution_2(p1)\n",
    "        down_3, p3 = self.down_convolution_3(p2)\n",
    "        down_4, p4 = self.down_convolution_4(p3)\n",
    "    \n",
    "        # Bottleneck\n",
    "        b = self.bottleneck(p4)\n",
    "\n",
    "        # Decoder\n",
    "        up_1 = self.up_convolution_1(b, down_4)\n",
    "        up_2 = self.up_convolution_2(up_1, down_3)\n",
    "        up_3 = self.up_convolution_3(up_2, down_2)\n",
    "        up_4 = self.up_convolution_4(up_3, down_1)\n",
    "\n",
    "        out = self.out(up_4)\n",
    "        return out\n"
   ]
  },
  {
   "cell_type": "code",
   "execution_count": null,
   "id": "717a6fef",
   "metadata": {},
   "outputs": [],
   "source": [
    "DEVICE = torch.device(\"cuda:4\" if torch.cuda.is_available() else \"cpu\")\n",
    "model = UNet(in_channels=2, num_classes=1)\n",
    "model.to(DEVICE)"
   ]
  },
  {
   "cell_type": "code",
   "execution_count": 24,
   "id": "f3f3e6e1",
   "metadata": {},
   "outputs": [
    {
     "name": "stdout",
     "output_type": "stream",
     "text": [
      "Normalized X range: [0.000, 1.000]\n",
      "Normalized y range: [0.000, 1.000]\n",
      "Unique values in masks: [0. 1.]\n",
      "X tensor shape: torch.Size([1504, 2, 64, 64])\n",
      "y tensor shape: torch.Size([1504, 1, 64, 64])\n"
     ]
    }
   ],
   "source": [
    "def normalize_data(X, y):\n",
    "    X_norm = np.zeros_like(X)\n",
    "    for i in range(X.shape[0]):  # For two channels\n",
    "        X_norm[i] = (X[i] - X[i].min()) / (X[i].max() - X[i].min() + 1e-8)\n",
    "    \n",
    "    y_norm = (y > 0).astype(np.float32)\n",
    "    \n",
    "    return X_norm, y_norm\n",
    "\n",
    "X_normalized, y_normalized = normalize_data(X, y)\n",
    "print(f\"Normalized X range: [{X_normalized.min():.3f}, {X_normalized.max():.3f}]\")\n",
    "print(f\"Normalized y range: [{y_normalized.min():.3f}, {y_normalized.max():.3f}]\")\n",
    "print(f\"Unique values in masks: {np.unique(y_normalized)}\")\n",
    "\n",
    "\n",
    "X_tensor = torch.FloatTensor(X_normalized).permute(1, 0, 2, 3)  # (samples, channels, H, W)\n",
    "y_tensor = torch.FloatTensor(y_normalized).permute(1, 0, 2, 3)  # (samples, classes, H, W)\n",
    "\n",
    "print(f\"X tensor shape: {X_tensor.shape}\")\n",
    "print(f\"y tensor shape: {y_tensor.shape}\")"
   ]
  },
  {
   "cell_type": "code",
   "execution_count": 26,
   "id": "a124357c",
   "metadata": {},
   "outputs": [
    {
     "name": "stdout",
     "output_type": "stream",
     "text": [
      "Train shape torch.Size([1128, 2, 64, 64]), labels shape torch.Size([1128, 1, 64, 64])\n"
     ]
    }
   ],
   "source": [
    "from sklearn.model_selection import train_test_split\n",
    "from torch.utils.data import TensorDataset\n",
    "\n",
    "X_train, X_val_test, y_train, y_val_test = train_test_split(X_tensor, y_tensor, test_size=0.25, random_state=42)\n",
    "\n",
    "# X_val, X_test, y_val, y_test = train_test_split(X_val_test, y_val_test, test_size=0.5, random_state=42)\n",
    "\n",
    "train_loader = DataLoader(TensorDataset(X_train, y_train), batch_size=16, shuffle=True)\n",
    "val_loader = DataLoader(TensorDataset(X_val_test, y_val_test), batch_size=16, shuffle=False)\n",
    "# test_loader = DataLoader(TensorDataset(X_test, y_test), batch_size=16, shuffle=False)\n",
    "print(f\"Train shape {X_train.shape}, labels shape {y_train.shape}\")"
   ]
  },
  {
   "cell_type": "code",
   "execution_count": 30,
   "id": "14d4ee60",
   "metadata": {},
   "outputs": [],
   "source": [
    "class Metrix:\n",
    "    def __init__(self, threshold):\n",
    "        self.threshold = threshold\n",
    "    def dice_score(self, preds, labels):\n",
    "        preds= torch.sigmoid(preds)\n",
    "        preds = (preds > self.threshold).float()\n",
    "        intersection = (preds * labels).sum(dim=(1, 2, 3))\n",
    "        dice = (2 * intersection) / (preds.sum(dim=(1, 2, 3)) + labels.sum(dim=(1, 2, 3)) + 1e-8)\n",
    "        return dice.mean().item()\n",
    "    def f1_score(self, preds, labels):\n",
    "        preds= torch.sigmoid(preds)\n",
    "        preds = (preds > self.threshold).float()\n",
    "        intersection = (preds * labels).sum(dim=(1, 2, 3))\n",
    "        precision = intersection / (preds.sum(dim=(1, 2, 3)) + 1e-8)\n",
    "        recall = intersection / (labels.sum(dim=(1, 2, 3)) + 1e-8)\n",
    "        f1 = 2 * (precision * recall) / (precision + recall + 1e-8)\n",
    "        return f1.mean().item()\n",
    "    \n",
    "    def lesion_wise_accuracy(self, preds, labels):\n",
    "        preds= torch.sigmoid(preds)\n",
    "        preds = (preds > self.threshold).float()\n",
    "        batch_size = preds.shape[0]\n",
    "        correct_lesions = 0\n",
    "        for i in range(batch_size):\n",
    "            pred_lesion = (preds[i].sum() > 0).float()\n",
    "            true_lesion = (labels[i].sum() > 0).float()\n",
    "            if pred_lesion == true_lesion:\n",
    "                correct_lesions += 1\n",
    "        return correct_lesions / batch_size"
   ]
  },
  {
   "cell_type": "code",
   "execution_count": 31,
   "id": "928e3b47",
   "metadata": {},
   "outputs": [],
   "source": [
    "metrix = Metrix(threshold=0.5)\n",
    "dice_score = metrix.dice_score\n",
    "f1_score = metrix.f1_score\n",
    "lesion_wise_accuracy = metrix.lesion_wise_accuracy"
   ]
  },
  {
   "cell_type": "code",
   "execution_count": 34,
   "id": "c74859ae",
   "metadata": {},
   "outputs": [],
   "source": [
    "def trainer_class(model, train_loader, test_loader, criterion, optimizer, num_epochs, device, patience_counter, scheduler=None):\n",
    "    training_losses = []\n",
    "    validation_losses = []\n",
    "    best_val_loss = float('inf')\n",
    "    train_dice_scores = []\n",
    "    valid_dice_scores = []\n",
    "    patience = 0\n",
    "    for epoch in range(num_epochs):\n",
    "        model.train()\n",
    "        train_loss = 0.0\n",
    "        validation_loss = 0.0\n",
    "        dice = 0.0\n",
    "        for batch_idx, (images, masks) in enumerate(tqdm.tqdm(train_loader, desc=f\"Train Epoch {epoch+1}/{num_epochs}\")):\n",
    "            images, masks = images.to(device, dtype=torch.float32), masks.to(device, dtype=torch.float32)\n",
    "            optimizer.zero_grad()\n",
    "            outputs = model(images) #logits \n",
    "            # print(f\"masks shape: {masks.shape}, outputs shape: {outputs.shape}\")\n",
    "            loss = criterion(outputs, masks)\n",
    "            loss.backward()\n",
    "            torch.nn.utils.clip_grad_norm_(model.parameters(), max_norm=1.0)\n",
    "            optimizer.step()\n",
    "            preds = outputs > 0.5\n",
    "            train_loss += loss.item() * images.size(0)\n",
    "            dice+= dice_score(masks, preds)\n",
    "        epoch_train_loss = train_loss / len(train_loader.dataset)\n",
    "        training_losses.append(epoch_train_loss)\n",
    "        epoch_dice_score = dice / len(train_loader.dataset)\n",
    "        train_dice_scores.append(epoch_dice_score)\n",
    "        # Validation\n",
    "        model.eval()\n",
    "        with torch.no_grad():\n",
    "            for images, masks in tqdm.tqdm(test_loader, desc=f\"Validation Epoch {epoch+1}/{num_epochs}\"):\n",
    "                images, masks = images.to(device), masks.to(device)\n",
    "                outputs = model(images)\n",
    "                # print(f\"masks shape: {masks.shape}, outputs shape: {outputs.shape}\")\n",
    "                loss = criterion(outputs, masks)\n",
    "                validation_loss += loss.item() * images.size(0)\n",
    "                dice += dice_score(masks, (outputs > 0.5))\n",
    "        epoch_val_loss = validation_loss / len(test_loader.dataset)\n",
    "        validation_losses.append(epoch_val_loss)\n",
    "        epoch_dice_score_val = dice / len(test_loader.dataset)\n",
    "        valid_dice_scores.append(epoch_dice_score_val)\n",
    "        print(f\"Epoch {epoch+1}/{num_epochs}, Train Loss: {epoch_train_loss:.4f}, Val Loss: {epoch_val_loss:.4f}\")\n",
    "        if epoch_val_loss < best_val_loss:\n",
    "            best_val_loss = epoch_val_loss\n",
    "            patience = 0\n",
    "        else:\n",
    "            patience += 1\n",
    "        if patience >= patience_counter:\n",
    "            print(\"Early stopping triggered\")\n",
    "            break\n",
    "        if scheduler:\n",
    "            scheduler.step(epoch_val_loss)\n",
    "    return training_losses, validation_losses, train_dice_scores, valid_dice_scores"
   ]
  },
  {
   "cell_type": "code",
   "execution_count": 35,
   "id": "3f0bdfd7",
   "metadata": {},
   "outputs": [],
   "source": [
    "criterion = torch.nn.BCEWithLogitsLoss()\n",
    "optimizer = torch.optim.Adam(model.parameters(), lr=1e-4, weight_decay=1e-5)\n",
    "scheduler = torch.optim.lr_scheduler.ReduceLROnPlateau(optimizer, mode='min', factor=0.5, patience=5)"
   ]
  },
  {
   "cell_type": "code",
   "execution_count": 36,
   "id": "ea7f551f",
   "metadata": {},
   "outputs": [
    {
     "name": "stderr",
     "output_type": "stream",
     "text": [
      "Train Epoch 1/30: 100%|██████████| 71/71 [00:01<00:00, 47.00it/s]\n",
      "Validation Epoch 1/30: 100%|██████████| 24/24 [00:00<00:00, 174.97it/s]\n"
     ]
    },
    {
     "name": "stdout",
     "output_type": "stream",
     "text": [
      "Epoch 1/30, Train Loss: 0.3899, Val Loss: 0.3025\n"
     ]
    },
    {
     "name": "stderr",
     "output_type": "stream",
     "text": [
      "Train Epoch 2/30: 100%|██████████| 71/71 [00:01<00:00, 44.38it/s]\n",
      "Validation Epoch 2/30: 100%|██████████| 24/24 [00:00<00:00, 179.15it/s]\n"
     ]
    },
    {
     "name": "stdout",
     "output_type": "stream",
     "text": [
      "Epoch 2/30, Train Loss: 0.2693, Val Loss: 0.2459\n"
     ]
    },
    {
     "name": "stderr",
     "output_type": "stream",
     "text": [
      "Train Epoch 3/30: 100%|██████████| 71/71 [00:01<00:00, 47.96it/s]\n",
      "Validation Epoch 3/30: 100%|██████████| 24/24 [00:00<00:00, 187.89it/s]\n"
     ]
    },
    {
     "name": "stdout",
     "output_type": "stream",
     "text": [
      "Epoch 3/30, Train Loss: 0.2308, Val Loss: 0.2141\n"
     ]
    },
    {
     "name": "stderr",
     "output_type": "stream",
     "text": [
      "Train Epoch 4/30: 100%|██████████| 71/71 [00:01<00:00, 48.64it/s]\n",
      "Validation Epoch 4/30: 100%|██████████| 24/24 [00:00<00:00, 182.65it/s]\n"
     ]
    },
    {
     "name": "stdout",
     "output_type": "stream",
     "text": [
      "Epoch 4/30, Train Loss: 0.2021, Val Loss: 0.1927\n"
     ]
    },
    {
     "name": "stderr",
     "output_type": "stream",
     "text": [
      "Train Epoch 5/30: 100%|██████████| 71/71 [00:01<00:00, 48.28it/s]\n",
      "Validation Epoch 5/30: 100%|██████████| 24/24 [00:00<00:00, 185.75it/s]\n"
     ]
    },
    {
     "name": "stdout",
     "output_type": "stream",
     "text": [
      "Epoch 5/30, Train Loss: 0.1760, Val Loss: 0.1672\n"
     ]
    },
    {
     "name": "stderr",
     "output_type": "stream",
     "text": [
      "Train Epoch 6/30: 100%|██████████| 71/71 [00:01<00:00, 47.77it/s]\n",
      "Validation Epoch 6/30: 100%|██████████| 24/24 [00:00<00:00, 187.25it/s]\n"
     ]
    },
    {
     "name": "stdout",
     "output_type": "stream",
     "text": [
      "Epoch 6/30, Train Loss: 0.1561, Val Loss: 0.1492\n"
     ]
    },
    {
     "name": "stderr",
     "output_type": "stream",
     "text": [
      "Train Epoch 7/30: 100%|██████████| 71/71 [00:01<00:00, 46.68it/s]\n",
      "Validation Epoch 7/30: 100%|██████████| 24/24 [00:00<00:00, 162.26it/s]\n"
     ]
    },
    {
     "name": "stdout",
     "output_type": "stream",
     "text": [
      "Epoch 7/30, Train Loss: 0.1388, Val Loss: 0.1304\n"
     ]
    },
    {
     "name": "stderr",
     "output_type": "stream",
     "text": [
      "Train Epoch 8/30: 100%|██████████| 71/71 [00:01<00:00, 48.69it/s]\n",
      "Validation Epoch 8/30: 100%|██████████| 24/24 [00:00<00:00, 184.00it/s]\n"
     ]
    },
    {
     "name": "stdout",
     "output_type": "stream",
     "text": [
      "Epoch 8/30, Train Loss: 0.1244, Val Loss: 0.1234\n"
     ]
    },
    {
     "name": "stderr",
     "output_type": "stream",
     "text": [
      "Train Epoch 9/30: 100%|██████████| 71/71 [00:01<00:00, 48.44it/s]\n",
      "Validation Epoch 9/30: 100%|██████████| 24/24 [00:00<00:00, 182.87it/s]\n"
     ]
    },
    {
     "name": "stdout",
     "output_type": "stream",
     "text": [
      "Epoch 9/30, Train Loss: 0.1117, Val Loss: 0.1037\n"
     ]
    },
    {
     "name": "stderr",
     "output_type": "stream",
     "text": [
      "Train Epoch 10/30: 100%|██████████| 71/71 [00:01<00:00, 48.32it/s]\n",
      "Validation Epoch 10/30: 100%|██████████| 24/24 [00:00<00:00, 184.69it/s]\n"
     ]
    },
    {
     "name": "stdout",
     "output_type": "stream",
     "text": [
      "Epoch 10/30, Train Loss: 0.1011, Val Loss: 0.0969\n"
     ]
    },
    {
     "name": "stderr",
     "output_type": "stream",
     "text": [
      "Train Epoch 11/30: 100%|██████████| 71/71 [00:01<00:00, 48.11it/s]\n",
      "Validation Epoch 11/30: 100%|██████████| 24/24 [00:00<00:00, 162.91it/s]\n"
     ]
    },
    {
     "name": "stdout",
     "output_type": "stream",
     "text": [
      "Epoch 11/30, Train Loss: 0.0904, Val Loss: 0.0882\n"
     ]
    },
    {
     "name": "stderr",
     "output_type": "stream",
     "text": [
      "Train Epoch 12/30: 100%|██████████| 71/71 [00:01<00:00, 46.75it/s]\n",
      "Validation Epoch 12/30: 100%|██████████| 24/24 [00:00<00:00, 176.64it/s]\n"
     ]
    },
    {
     "name": "stdout",
     "output_type": "stream",
     "text": [
      "Epoch 12/30, Train Loss: 0.0822, Val Loss: 0.0819\n"
     ]
    },
    {
     "name": "stderr",
     "output_type": "stream",
     "text": [
      "Train Epoch 13/30: 100%|██████████| 71/71 [00:01<00:00, 48.26it/s]\n",
      "Validation Epoch 13/30: 100%|██████████| 24/24 [00:00<00:00, 181.80it/s]\n"
     ]
    },
    {
     "name": "stdout",
     "output_type": "stream",
     "text": [
      "Epoch 13/30, Train Loss: 0.0760, Val Loss: 0.0708\n"
     ]
    },
    {
     "name": "stderr",
     "output_type": "stream",
     "text": [
      "Train Epoch 14/30: 100%|██████████| 71/71 [00:01<00:00, 48.03it/s]\n",
      "Validation Epoch 14/30: 100%|██████████| 24/24 [00:00<00:00, 185.08it/s]\n"
     ]
    },
    {
     "name": "stdout",
     "output_type": "stream",
     "text": [
      "Epoch 14/30, Train Loss: 0.0697, Val Loss: 0.0655\n"
     ]
    },
    {
     "name": "stderr",
     "output_type": "stream",
     "text": [
      "Train Epoch 15/30: 100%|██████████| 71/71 [00:01<00:00, 47.64it/s]\n",
      "Validation Epoch 15/30: 100%|██████████| 24/24 [00:00<00:00, 183.09it/s]\n"
     ]
    },
    {
     "name": "stdout",
     "output_type": "stream",
     "text": [
      "Epoch 15/30, Train Loss: 0.0647, Val Loss: 0.0605\n"
     ]
    },
    {
     "name": "stderr",
     "output_type": "stream",
     "text": [
      "Train Epoch 16/30: 100%|██████████| 71/71 [00:01<00:00, 48.81it/s]\n",
      "Validation Epoch 16/30: 100%|██████████| 24/24 [00:00<00:00, 185.81it/s]\n"
     ]
    },
    {
     "name": "stdout",
     "output_type": "stream",
     "text": [
      "Epoch 16/30, Train Loss: 0.0586, Val Loss: 0.0559\n"
     ]
    },
    {
     "name": "stderr",
     "output_type": "stream",
     "text": [
      "Train Epoch 17/30: 100%|██████████| 71/71 [00:01<00:00, 48.55it/s]\n",
      "Validation Epoch 17/30: 100%|██████████| 24/24 [00:00<00:00, 185.50it/s]\n"
     ]
    },
    {
     "name": "stdout",
     "output_type": "stream",
     "text": [
      "Epoch 17/30, Train Loss: 0.0539, Val Loss: 0.0541\n"
     ]
    },
    {
     "name": "stderr",
     "output_type": "stream",
     "text": [
      "Train Epoch 18/30: 100%|██████████| 71/71 [00:01<00:00, 48.78it/s]\n",
      "Validation Epoch 18/30: 100%|██████████| 24/24 [00:00<00:00, 187.48it/s]\n"
     ]
    },
    {
     "name": "stdout",
     "output_type": "stream",
     "text": [
      "Epoch 18/30, Train Loss: 0.0505, Val Loss: 0.0483\n"
     ]
    },
    {
     "name": "stderr",
     "output_type": "stream",
     "text": [
      "Train Epoch 19/30: 100%|██████████| 71/71 [00:01<00:00, 48.62it/s]\n",
      "Validation Epoch 19/30: 100%|██████████| 24/24 [00:00<00:00, 187.79it/s]\n"
     ]
    },
    {
     "name": "stdout",
     "output_type": "stream",
     "text": [
      "Epoch 19/30, Train Loss: 0.0467, Val Loss: 0.0465\n"
     ]
    },
    {
     "name": "stderr",
     "output_type": "stream",
     "text": [
      "Train Epoch 20/30: 100%|██████████| 71/71 [00:01<00:00, 48.73it/s]\n",
      "Validation Epoch 20/30: 100%|██████████| 24/24 [00:00<00:00, 186.77it/s]\n"
     ]
    },
    {
     "name": "stdout",
     "output_type": "stream",
     "text": [
      "Epoch 20/30, Train Loss: 0.0438, Val Loss: 0.0500\n"
     ]
    },
    {
     "name": "stderr",
     "output_type": "stream",
     "text": [
      "Train Epoch 21/30: 100%|██████████| 71/71 [00:01<00:00, 48.54it/s]\n",
      "Validation Epoch 21/30: 100%|██████████| 24/24 [00:00<00:00, 173.94it/s]\n"
     ]
    },
    {
     "name": "stdout",
     "output_type": "stream",
     "text": [
      "Epoch 21/30, Train Loss: 0.0419, Val Loss: 0.0412\n"
     ]
    },
    {
     "name": "stderr",
     "output_type": "stream",
     "text": [
      "Train Epoch 22/30: 100%|██████████| 71/71 [00:01<00:00, 47.90it/s]\n",
      "Validation Epoch 22/30: 100%|██████████| 24/24 [00:00<00:00, 182.30it/s]\n"
     ]
    },
    {
     "name": "stdout",
     "output_type": "stream",
     "text": [
      "Epoch 22/30, Train Loss: 0.0379, Val Loss: 0.0393\n"
     ]
    },
    {
     "name": "stderr",
     "output_type": "stream",
     "text": [
      "Train Epoch 23/30: 100%|██████████| 71/71 [00:01<00:00, 45.72it/s]\n",
      "Validation Epoch 23/30: 100%|██████████| 24/24 [00:00<00:00, 184.90it/s]\n"
     ]
    },
    {
     "name": "stdout",
     "output_type": "stream",
     "text": [
      "Epoch 23/30, Train Loss: 0.0367, Val Loss: 0.0354\n"
     ]
    },
    {
     "name": "stderr",
     "output_type": "stream",
     "text": [
      "Train Epoch 24/30: 100%|██████████| 71/71 [00:01<00:00, 49.01it/s]\n",
      "Validation Epoch 24/30: 100%|██████████| 24/24 [00:00<00:00, 186.00it/s]\n"
     ]
    },
    {
     "name": "stdout",
     "output_type": "stream",
     "text": [
      "Epoch 24/30, Train Loss: 0.0345, Val Loss: 0.0351\n"
     ]
    },
    {
     "name": "stderr",
     "output_type": "stream",
     "text": [
      "Train Epoch 25/30: 100%|██████████| 71/71 [00:01<00:00, 48.46it/s]\n",
      "Validation Epoch 25/30: 100%|██████████| 24/24 [00:00<00:00, 157.05it/s]\n"
     ]
    },
    {
     "name": "stdout",
     "output_type": "stream",
     "text": [
      "Epoch 25/30, Train Loss: 0.0316, Val Loss: 0.0329\n"
     ]
    },
    {
     "name": "stderr",
     "output_type": "stream",
     "text": [
      "Train Epoch 26/30: 100%|██████████| 71/71 [00:01<00:00, 44.40it/s]\n",
      "Validation Epoch 26/30: 100%|██████████| 24/24 [00:00<00:00, 154.31it/s]\n"
     ]
    },
    {
     "name": "stdout",
     "output_type": "stream",
     "text": [
      "Epoch 26/30, Train Loss: 0.0303, Val Loss: 0.0326\n"
     ]
    },
    {
     "name": "stderr",
     "output_type": "stream",
     "text": [
      "Train Epoch 27/30: 100%|██████████| 71/71 [00:01<00:00, 46.21it/s]\n",
      "Validation Epoch 27/30: 100%|██████████| 24/24 [00:00<00:00, 181.92it/s]\n"
     ]
    },
    {
     "name": "stdout",
     "output_type": "stream",
     "text": [
      "Epoch 27/30, Train Loss: 0.0287, Val Loss: 0.0317\n"
     ]
    },
    {
     "name": "stderr",
     "output_type": "stream",
     "text": [
      "Train Epoch 28/30: 100%|██████████| 71/71 [00:01<00:00, 48.30it/s]\n",
      "Validation Epoch 28/30: 100%|██████████| 24/24 [00:00<00:00, 186.50it/s]\n"
     ]
    },
    {
     "name": "stdout",
     "output_type": "stream",
     "text": [
      "Epoch 28/30, Train Loss: 0.0285, Val Loss: 0.0318\n"
     ]
    },
    {
     "name": "stderr",
     "output_type": "stream",
     "text": [
      "Train Epoch 29/30: 100%|██████████| 71/71 [00:01<00:00, 48.07it/s]\n",
      "Validation Epoch 29/30: 100%|██████████| 24/24 [00:00<00:00, 186.80it/s]\n"
     ]
    },
    {
     "name": "stdout",
     "output_type": "stream",
     "text": [
      "Epoch 29/30, Train Loss: 0.0258, Val Loss: 0.0281\n"
     ]
    },
    {
     "name": "stderr",
     "output_type": "stream",
     "text": [
      "Train Epoch 30/30: 100%|██████████| 71/71 [00:01<00:00, 48.39it/s]\n",
      "Validation Epoch 30/30: 100%|██████████| 24/24 [00:00<00:00, 186.62it/s]"
     ]
    },
    {
     "name": "stdout",
     "output_type": "stream",
     "text": [
      "Epoch 30/30, Train Loss: 0.0257, Val Loss: 0.0270\n"
     ]
    },
    {
     "name": "stderr",
     "output_type": "stream",
     "text": [
      "\n"
     ]
    }
   ],
   "source": [
    "training_losses, validation_losses, train_dice_scores, valid_dice_scores = trainer_class(\n",
    "    model, train_loader, val_loader, criterion, optimizer, num_epochs=30, device=DEVICE, patience_counter=7, scheduler=scheduler\n",
    ")"
   ]
  },
  {
   "cell_type": "code",
   "execution_count": 40,
   "id": "4c1c383c",
   "metadata": {},
   "outputs": [
    {
     "data": {
      "image/png": "[encoded data removed]",
      "text/plain": [
       "<Figure size 640x480 with 1 Axes>"
      ]
     },
     "metadata": {},
     "output_type": "display_data"
    }
   ],
   "source": [
    "# plt.figure(figsize=(12, 5))\n",
    "plt.plot(training_losses, label='Training Loss', color='blue', marker ='o')\n",
    "plt.plot(validation_losses, label='Validation Loss', color='orange', marker ='s')\n",
    "plt.title('Training and Validation Loss')\n",
    "plt.xlabel('Epochs')\n",
    "plt.ylabel('Loss')\n",
    "plt.legend()\n",
    "plt.grid()\n",
    "plt.show()"
   ]
  },
  {
   "cell_type": "code",
   "execution_count": 39,
   "id": "bc43dfff",
   "metadata": {},
   "outputs": [
    {
     "data": {
      "image/png": "[encoded data removed]",
      "text/plain": [
       "<Figure size 640x480 with 1 Axes>"
      ]
     },
     "metadata": {},
     "output_type": "display_data"
    }
   ],
   "source": [
    "plt.plot(train_dice_scores, label='Training Dice Score', color='green', marker ='o')\n",
    "plt.plot(valid_dice_scores, label='Validation Dice Score', color='red', marker ='s')\n",
    "plt.title('Training and Validation Dice Score')\n",
    "plt.xlabel('Epochs')\n",
    "plt.ylabel('Dice Score')\n",
    "plt.legend()\n",
    "plt.grid()\n",
    "plt.show()"
   ]
  },
  {
   "cell_type": "code",
   "execution_count": 38,
   "id": "c606e3ea",
   "metadata": {},
   "outputs": [],
   "source": [
    "def evaluate(model, test_loader, device, threshold=0.5):\n",
    "    model.eval()\n",
    "    preds, labels = [], []\n",
    "\n",
    "    with torch.no_grad():\n",
    "        for img, label in test_loader:\n",
    "            img = img.to(device, dtype=torch.float32)\n",
    "            label = label.to(device, dtype=torch.float32)\n",
    "\n",
    "            output = model(img)  # logits\n",
    "            output = torch.sigmoid(output)  # convert logits → probability\n",
    "\n",
    "            preds.append(output.cpu())\n",
    "            labels.append(label.cpu())\n",
    "\n",
    "    # Concatenate all batches\n",
    "    preds = torch.cat(preds, dim=0)         # shape: [N, 1, 64, 64]\n",
    "    labels = torch.cat(labels, dim=0)       # shape: [N, 1, 64, 64]\n",
    "\n",
    "    # Binarize predictions\n",
    "    binary_preds = (preds >= threshold).float()\n",
    "\n",
    "    return binary_preds, labels\n"
   ]
  },
  {
   "cell_type": "code",
   "execution_count": 155,
   "id": "616d89a8",
   "metadata": {},
   "outputs": [
    {
     "name": "stdout",
     "output_type": "stream",
     "text": [
      "Predictions shape: (226, 64, 64)\n",
      "Labels shape: (226, 64, 64)\n"
     ]
    }
   ],
   "source": [
    "outputs, labels = evaluate(model, test_loader, device='cuda', threshold=0.45)\n",
    "outputs = outputs.squeeze(1)\n",
    "labels = labels.squeeze(1)\n",
    "outputs = outputs.numpy()\n",
    "labels = labels.numpy()\n",
    "print(\"Predictions shape:\", outputs.shape)\n",
    "print(\"Labels shape:\", labels.shape)\n"
   ]
  },
  {
   "cell_type": "code",
   "execution_count": 156,
   "id": "87152603",
   "metadata": {},
   "outputs": [
    {
     "data": {
      "text/plain": [
       "(np.float32(1.0), np.float32(0.0), array([0., 1.], dtype=float32))"
      ]
     },
     "execution_count": 156,
     "metadata": {},
     "output_type": "execute_result"
    }
   ],
   "source": [
    "np.max(outputs), np.min(outputs), np.unique(outputs)"
   ]
  },
  {
   "cell_type": "code",
   "execution_count": 161,
   "id": "57a4f2b6",
   "metadata": {},
   "outputs": [
    {
     "name": "stdout",
     "output_type": "stream",
     "text": [
      "IoU: 0.0131, Dice: 0.0243\n"
     ]
    }
   ],
   "source": [
    "iou, dice = compute_metrics(torch.tensor(outputs).unsqueeze(1), torch.tensor(labels).unsqueeze(1), threshold=0.45)\n",
    "print(f\"IoU: {iou:.4f}, Dice: {dice:.4f}\")"
   ]
  },
  {
   "cell_type": "code",
   "execution_count": 147,
   "id": "3e98001d",
   "metadata": {},
   "outputs": [
    {
     "data": {
      "image/png": "[encoded data removed]",
      "text/plain": [
       "<Figure size 1000x500 with 2 Axes>"
      ]
     },
     "metadata": {},
     "output_type": "display_data"
    },
    {
     "data": {
      "image/png": "[encoded data removed]",
      "text/plain": [
       "<Figure size 1000x500 with 2 Axes>"
      ]
     },
     "metadata": {},
     "output_type": "display_data"
    },
    {
     "data": {
      "image/png": "[encoded data removed]",
      "text/plain": [
       "<Figure size 1000x500 with 2 Axes>"
      ]
     },
     "metadata": {},
     "output_type": "display_data"
    },
    {
     "data": {
      "image/png": "[encoded data removed]",
      "text/plain": [
       "<Figure size 1000x500 with 2 Axes>"
      ]
     },
     "metadata": {},
     "output_type": "display_data"
    },
    {
     "data": {
      "image/png": "[encoded data removed]",
      "text/plain": [
       "<Figure size 1000x500 with 2 Axes>"
      ]
     },
     "metadata": {},
     "output_type": "display_data"
    }
   ],
   "source": [
    "num_samples_to_plot = 5\n",
    "\n",
    "for i in range(num_samples_to_plot):\n",
    "    plt.figure(figsize=(10, 5))\n",
    "    plt.subplot(1, 2, 1)\n",
    "    plt.imshow(outputs[i], cmap='gray')\n",
    "    plt.title(f'Predicted Mask (Sample {i+1})')\n",
    "    plt.axis('off')\n",
    "    plt.subplot(1, 2, 2)\n",
    "    plt.imshow(labels[i], cmap='gray')\n",
    "    plt.title(f'Ground Truth Mask (Sample {i+1})')\n",
    "    plt.axis('off')\n",
    "    plt.show()"
   ]
  },
  {
   "cell_type": "code",
   "execution_count": null,
   "id": "0f95bd3e",
   "metadata": {},
   "outputs": [],
   "source": [
    "def compute_dice(y_pred, y_true):\n",
    "    intersection = np.sum(y_pred * y_true)\n",
    "    union = np.sum(y_pred) + np.sum(y_true)\n",
    "    dice = (2.0 * intersection + 1e-8) / (union + 1e-8)\n",
    "    return dice"
   ]
  }
 ],
 "metadata": {
  "kernelspec": {
   "display_name": "AIMIA",
   "language": "python",
   "name": "python3"
  },
  "language_info": {
   "codemirror_mode": {
    "name": "ipython",
    "version": 3
   },
   "file_extension": ".py",
   "mimetype": "text/x-python",
   "name": "python",
   "nbconvert_exporter": "python",
   "pygments_lexer": "ipython3",
   "version": "3.12.12"
  }
 },
 "nbformat": 4,
 "nbformat_minor": 5
}
