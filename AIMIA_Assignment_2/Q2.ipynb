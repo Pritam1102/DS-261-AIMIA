{
 "cells": [
  {
   "cell_type": "code",
   "execution_count": 1,
   "id": "cd724df8",
   "metadata": {},
   "outputs": [],
   "source": [
    "import numpy as np\n",
    "import matplotlib.pyplot as plt \n",
    "import cv2\n",
    "from PIL import Image\n",
    "import nibabel as nib\n",
    "import os\n",
    "import torch\n",
    "import torch.nn as nn\n",
    "from torch.utils.data import Dataset, DataLoader\n",
    "from torchvision import transforms"
   ]
  },
  {
   "cell_type": "code",
   "execution_count": 2,
   "id": "c98dbc53",
   "metadata": {},
   "outputs": [],
   "source": [
    "adc_images = []\n",
    "dwi_images = []\n",
    "masks = []\n",
    "adc_dir = r\"/home/pritamk/AIMIA/DS-261-AIMIA/AIMIA_Assignment_2/dataset_2/img/adc\"\n",
    "dwi_dir = r\"/home/pritamk/AIMIA/DS-261-AIMIA/AIMIA_Assignment_2/dataset_2/img/dwi\"\n",
    "mask_dir = r\"/home/pritamk/AIMIA/DS-261-AIMIA/AIMIA_Assignment_2/dataset_2/mask\"\n",
    "for filename in os.listdir(adc_dir):\n",
    "    if filename.endswith(\".gz\"):\n",
    "        adc_path = os.path.join(adc_dir, filename)\n",
    "        adc_img = nib.load(adc_path).get_fdata()\n",
    "        adc_images.append(adc_img)\n",
    "for filename in os.listdir(dwi_dir):\n",
    "    if filename.endswith(\".gz\"):\n",
    "        dwi_path = os.path.join(dwi_dir, filename)\n",
    "        dwi_img = nib.load(dwi_path).get_fdata()\n",
    "        dwi_images.append(dwi_img)\n",
    "for filename in os.listdir(mask_dir):\n",
    "    if filename.endswith(\".gz\"):\n",
    "        mask_path = os.path.join(mask_dir, filename)\n",
    "        mask_img = nib.load(mask_path).get_fdata()\n",
    "        masks.append(mask_img)"
   ]
  },
  {
   "cell_type": "code",
   "execution_count": 3,
   "id": "7d197915",
   "metadata": {},
   "outputs": [
    {
     "data": {
      "text/plain": [
       "((64, 64), (64, 64), (64, 64))"
      ]
     },
     "execution_count": 3,
     "metadata": {},
     "output_type": "execute_result"
    }
   ],
   "source": [
    "adc_images[0].shape, dwi_images[0].shape, masks[0].shape"
   ]
  },
  {
   "cell_type": "code",
   "execution_count": 4,
   "id": "9d8f6800",
   "metadata": {},
   "outputs": [
    {
     "data": {
      "image/png": "[encoded data removed]",
      "text/plain": [
       "<Figure size 1200x800 with 3 Axes>"
      ]
     },
     "metadata": {},
     "output_type": "display_data"
    }
   ],
   "source": [
    "plt.figure(figsize=(12, 8))\n",
    "plt.subplot(1, 3, 1)\n",
    "plt.imshow(adc_images[0], cmap='gray')\n",
    "plt.title('ADC Image')\n",
    "plt.axis('off')\n",
    "plt.subplot(1, 3, 2)\n",
    "plt.imshow(dwi_images[0], cmap='gray')\n",
    "plt.title('DWI Image')\n",
    "plt.axis('off')\n",
    "plt.subplot(1, 3, 3)\n",
    "plt.imshow(masks[0], cmap='gray')\n",
    "plt.title('Mask Image')\n",
    "plt.axis('off')\n",
    "plt.show()"
   ]
  },
  {
   "cell_type": "code",
   "execution_count": 5,
   "id": "b2fe49db",
   "metadata": {},
   "outputs": [
    {
     "name": "stdout",
     "output_type": "stream",
     "text": [
      "(1504, 64, 64) (1504, 64, 64) (1504, 64, 64)\n"
     ]
    }
   ],
   "source": [
    "adc_images = np.array(adc_images)\n",
    "dwi_images = np.array(dwi_images)\n",
    "masks = np.array(masks)\n",
    "print(adc_images.shape, dwi_images.shape, masks.shape)"
   ]
  },
  {
   "cell_type": "code",
   "execution_count": 6,
   "id": "4efb1ec9",
   "metadata": {},
   "outputs": [
    {
     "name": "stdout",
     "output_type": "stream",
     "text": [
      "(2, 1504, 64, 64) (1, 1504, 64, 64)\n"
     ]
    }
   ],
   "source": [
    "X = np.stack((adc_images, dwi_images), axis=0)\n",
    "y = masks[np.newaxis, ...]\n",
    "print(X.shape, y.shape)"
   ]
  },
  {
   "cell_type": "code",
   "execution_count": 7,
   "id": "801b658a",
   "metadata": {},
   "outputs": [
    {
     "name": "stderr",
     "output_type": "stream",
     "text": [
      "/home/pritamk/miniconda3/envs/AIMIA/lib/python3.12/site-packages/tqdm/auto.py:21: TqdmWarning: IProgress not found. Please update jupyter and ipywidgets. See https://ipywidgets.readthedocs.io/en/stable/user_install.html\n",
      "  from .autonotebook import tqdm as notebook_tqdm\n"
     ]
    }
   ],
   "source": [
    "import segmentation_models_pytorch as smp"
   ]
  },
  {
   "cell_type": "code",
   "execution_count": 23,
   "id": "d5135464",
   "metadata": {},
   "outputs": [],
   "source": [
    "model = smp.Unet(\n",
    "    encoder_name=\"resnet34\",\n",
    "    encoder_weights=\"imagenet\",\n",
    "    in_channels=2,\n",
    "    classes=1\n",
    ")"
   ]
  },
  {
   "cell_type": "code",
   "execution_count": 9,
   "id": "f3f3e6e1",
   "metadata": {},
   "outputs": [
    {
     "name": "stdout",
     "output_type": "stream",
     "text": [
      "Normalized X range: [0.000, 1.000]\n",
      "Normalized y range: [0.000, 1.000]\n",
      "Unique values in masks: [0. 1.]\n",
      "X tensor shape: torch.Size([1504, 2, 64, 64])\n",
      "y tensor shape: torch.Size([1504, 1, 64, 64])\n"
     ]
    }
   ],
   "source": [
    "def normalize_data(X, y):\n",
    "    X_norm = np.zeros_like(X)\n",
    "    for i in range(X.shape[0]):  # For two channels\n",
    "        X_norm[i] = (X[i] - X[i].min()) / (X[i].max() - X[i].min() + 1e-8)\n",
    "    \n",
    "    y_norm = (y > 0).astype(np.float32)\n",
    "    \n",
    "    return X_norm, y_norm\n",
    "\n",
    "X_normalized, y_normalized = normalize_data(X, y)\n",
    "print(f\"Normalized X range: [{X_normalized.min():.3f}, {X_normalized.max():.3f}]\")\n",
    "print(f\"Normalized y range: [{y_normalized.min():.3f}, {y_normalized.max():.3f}]\")\n",
    "print(f\"Unique values in masks: {np.unique(y_normalized)}\")\n",
    "\n",
    "\n",
    "X_tensor = torch.FloatTensor(X_normalized).permute(1, 0, 2, 3)  # (samples, channels, H, W)\n",
    "y_tensor = torch.FloatTensor(y_normalized).permute(1, 0, 2, 3)  # (samples, classes, H, W)\n",
    "\n",
    "print(f\"X tensor shape: {X_tensor.shape}\")\n",
    "print(f\"y tensor shape: {y_tensor.shape}\")"
   ]
  },
  {
   "cell_type": "code",
   "execution_count": 24,
   "id": "a124357c",
   "metadata": {},
   "outputs": [
    {
     "name": "stdout",
     "output_type": "stream",
     "text": [
      "Train shape torch.Size([1052, 2, 64, 64]), labels shape torch.Size([1052, 1, 64, 64])\n"
     ]
    }
   ],
   "source": [
    "from sklearn.model_selection import train_test_split\n",
    "from torch.utils.data import TensorDataset\n",
    "\n",
    "X_train, X_val_test, y_train, y_val_test = train_test_split(X_tensor, y_tensor, test_size=0.3, random_state=42)\n",
    "\n",
    "X_val, X_test, y_val, y_test = train_test_split(X_val_test, y_val_test, test_size=0.5, random_state=42)\n",
    "\n",
    "train_loader = DataLoader(TensorDataset(X_train, y_train), batch_size=16, shuffle=True)\n",
    "val_loader = DataLoader(TensorDataset(X_val, y_val), batch_size=16, shuffle=False)\n",
    "test_loader = DataLoader(TensorDataset(X_test, y_test), batch_size=16, shuffle=False)\n",
    "print(f\"Train shape {X_train.shape}, labels shape {y_train.shape}\")"
   ]
  },
  {
   "cell_type": "code",
   "execution_count": null,
   "id": "712921c1",
   "metadata": {},
   "outputs": [
    {
     "name": "stdout",
     "output_type": "stream",
     "text": [
      "Image batch shape: torch.Size([16, 2, 64, 64]), Label batch shape: torch.Size([16, 1, 64, 64])\n",
      "True\n"
     ]
    }
   ],
   "source": [
    "model.to('cuda')"
   ]
  },
  {
   "cell_type": "code",
   "execution_count": null,
   "id": "14d4ee60",
   "metadata": {},
   "outputs": [],
   "source": [
    "def compute_metrics(preds, labels, threshold=0.5):\n",
    "        preds = torch.sigmoid(preds)\n",
    "        preds = (preds > threshold).float()\n",
    "\n",
    "        intersection = (preds * labels).sum(dim=(1, 2, 3))\n",
    "        union = (preds + labels - preds * labels).sum(dim=(1, 2, 3))\n",
    "        dice = (2 * intersection) / (preds.sum(dim=(1, 2, 3)) + labels.sum(dim=(1, 2, 3)) + 1e-8)\n",
    "        iou = (intersection + 1e-8) / (union + 1e-8)\n",
    "\n",
    "        return iou.mean().item(), dice.mean().item()"
   ]
  },
  {
   "cell_type": "code",
   "execution_count": 149,
   "id": "c74859ae",
   "metadata": {},
   "outputs": [],
   "source": [
    "import tqdm\n",
    "\n",
    "def train_segmentation(train_loader, val_loader, criterion, scheduler, epochs, optimizer, model, device):\n",
    "    train_losses, val_losses = [], []\n",
    "    train_ious, val_ious = [], []\n",
    "    train_dices, val_dices = [], []\n",
    "    model.to(device)\n",
    "    for epoch in range(epochs):\n",
    "        model.train()\n",
    "        train_loss, train_iou, train_dice = 0.0, 0.0, 0.0\n",
    "\n",
    "        for img, label in tqdm.tqdm(train_loader, desc=f\"Epoch {epoch+1}/{epochs} [Train]\"):\n",
    "            img = img.to(device, dtype=torch.float32)\n",
    "            label = label.to(device, dtype=torch.float32)\n",
    "\n",
    "            optimizer.zero_grad()\n",
    "            outputs = model(img)  # logits\n",
    "\n",
    "            loss = criterion(outputs, label)\n",
    "            loss.backward()\n",
    "            optimizer.step()\n",
    "\n",
    "            train_loss += loss.item() * img.size(0)\n",
    "\n",
    "            # Metrics\n",
    "            batch_iou, batch_dice = compute_metrics(outputs.detach(), label)\n",
    "            train_iou += batch_iou * img.size(0)\n",
    "            train_dice += batch_dice * img.size(0)\n",
    "\n",
    "        train_loss /= len(train_loader.dataset)\n",
    "        train_iou /= len(train_loader.dataset)\n",
    "        train_dice /= len(train_loader.dataset)\n",
    "\n",
    "        train_losses.append(train_loss)\n",
    "        train_ious.append(train_iou)\n",
    "        train_dices.append(train_dice)\n",
    "\n",
    "        model.eval()\n",
    "        val_loss, val_iou, val_dice = 0.0, 0.0, 0.0\n",
    "\n",
    "        with torch.no_grad():\n",
    "            for img, label in tqdm.tqdm(val_loader, desc=f\"Epoch {epoch+1}/{epochs} [Val]\"):\n",
    "                img = img.to(device, dtype=torch.float32)\n",
    "                label = label.to(device, dtype=torch.float32)\n",
    "\n",
    "                outputs = model(img)  # logits\n",
    "                loss = criterion(outputs, label)\n",
    "                val_loss += loss.item() * img.size(0)\n",
    "\n",
    "                batch_iou, batch_dice = compute_metrics(outputs, label)\n",
    "                val_iou += batch_iou * img.size(0)\n",
    "                val_dice += batch_dice * img.size(0)\n",
    "\n",
    "        val_loss /= len(val_loader.dataset)\n",
    "        val_iou /= len(val_loader.dataset)\n",
    "        val_dice /= len(val_loader.dataset)\n",
    "\n",
    "        val_losses.append(val_loss)\n",
    "        val_ious.append(val_iou)\n",
    "        val_dices.append(val_dice)\n",
    "\n",
    "        scheduler.step(val_loss)\n",
    "\n",
    "        print(f\"Epoch [{epoch+1}/{epochs}] | \"\n",
    "              f\"Train Loss: {train_loss:.4f}, Val Loss: {val_loss:.4f} | \"\n",
    "              f\"Train IoU: {train_iou:.4f}, Val IoU: {val_iou:.4f} | \"\n",
    "              f\"Train Dice: {train_dice:.4f}, Val Dice: {val_dice:.4f}\")\n",
    "\n",
    "    return {\n",
    "        \"train_losses\": train_losses,\n",
    "        \"val_losses\": val_losses,\n",
    "        \"train_ious\": train_ious,\n",
    "        \"val_ious\": val_ious,\n",
    "        \"train_dices\": train_dices,\n",
    "        \"val_dices\": val_dices,\n",
    "    }\n"
   ]
  },
  {
   "cell_type": "code",
   "execution_count": 150,
   "id": "3f0bdfd7",
   "metadata": {},
   "outputs": [],
   "source": [
    "criterion = torch.nn.BCEWithLogitsLoss()\n",
    "optimizer = torch.optim.SGD(model.parameters(), lr=1e-3, weight_decay=1e-5, momentum=0.9)\n",
    "scheduler = torch.optim.lr_scheduler.ReduceLROnPlateau(optimizer, mode='min', factor=0.5, patience=5)"
   ]
  },
  {
   "cell_type": "code",
   "execution_count": 151,
   "id": "ea7f551f",
   "metadata": {},
   "outputs": [
    {
     "name": "stderr",
     "output_type": "stream",
     "text": [
      "Epoch 1/30 [Train]: 100%|██████████| 66/66 [00:01<00:00, 53.77it/s]\n",
      "Epoch 1/30 [Val]: 100%|██████████| 15/15 [00:00<00:00, 180.44it/s]\n"
     ]
    },
    {
     "name": "stdout",
     "output_type": "stream",
     "text": [
      "Epoch [1/30] | Train Loss: 0.0236, Val Loss: 0.0290 | Train IoU: 0.3789, Val IoU: 0.3554 | Train Dice: 0.3130, Val Dice: 0.2536\n"
     ]
    },
    {
     "name": "stderr",
     "output_type": "stream",
     "text": [
      "Epoch 2/30 [Train]: 100%|██████████| 66/66 [00:01<00:00, 55.26it/s]\n",
      "Epoch 2/30 [Val]: 100%|██████████| 15/15 [00:00<00:00, 182.59it/s]\n"
     ]
    },
    {
     "name": "stdout",
     "output_type": "stream",
     "text": [
      "Epoch [2/30] | Train Loss: 0.0235, Val Loss: 0.0289 | Train IoU: 0.3803, Val IoU: 0.3571 | Train Dice: 0.3132, Val Dice: 0.2504\n"
     ]
    },
    {
     "name": "stderr",
     "output_type": "stream",
     "text": [
      "Epoch 3/30 [Train]: 100%|██████████| 66/66 [00:01<00:00, 55.08it/s]\n",
      "Epoch 3/30 [Val]: 100%|██████████| 15/15 [00:00<00:00, 183.46it/s]\n"
     ]
    },
    {
     "name": "stdout",
     "output_type": "stream",
     "text": [
      "Epoch [3/30] | Train Loss: 0.0235, Val Loss: 0.0290 | Train IoU: 0.3861, Val IoU: 0.3554 | Train Dice: 0.3180, Val Dice: 0.2544\n"
     ]
    },
    {
     "name": "stderr",
     "output_type": "stream",
     "text": [
      "Epoch 4/30 [Train]: 100%|██████████| 66/66 [00:01<00:00, 55.25it/s]\n",
      "Epoch 4/30 [Val]: 100%|██████████| 15/15 [00:00<00:00, 184.77it/s]\n"
     ]
    },
    {
     "name": "stdout",
     "output_type": "stream",
     "text": [
      "Epoch [4/30] | Train Loss: 0.0239, Val Loss: 0.0293 | Train IoU: 0.3796, Val IoU: 0.3560 | Train Dice: 0.3127, Val Dice: 0.2433\n"
     ]
    },
    {
     "name": "stderr",
     "output_type": "stream",
     "text": [
      "Epoch 5/30 [Train]: 100%|██████████| 66/66 [00:01<00:00, 55.23it/s]\n",
      "Epoch 5/30 [Val]: 100%|██████████| 15/15 [00:00<00:00, 184.69it/s]\n"
     ]
    },
    {
     "name": "stdout",
     "output_type": "stream",
     "text": [
      "Epoch [5/30] | Train Loss: 0.0235, Val Loss: 0.0293 | Train IoU: 0.3828, Val IoU: 0.3500 | Train Dice: 0.3172, Val Dice: 0.2417\n"
     ]
    },
    {
     "name": "stderr",
     "output_type": "stream",
     "text": [
      "Epoch 6/30 [Train]: 100%|██████████| 66/66 [00:01<00:00, 55.32it/s]\n",
      "Epoch 6/30 [Val]: 100%|██████████| 15/15 [00:00<00:00, 181.07it/s]\n"
     ]
    },
    {
     "name": "stdout",
     "output_type": "stream",
     "text": [
      "Epoch [6/30] | Train Loss: 0.0232, Val Loss: 0.0291 | Train IoU: 0.3820, Val IoU: 0.3579 | Train Dice: 0.3169, Val Dice: 0.2522\n"
     ]
    },
    {
     "name": "stderr",
     "output_type": "stream",
     "text": [
      "Epoch 7/30 [Train]: 100%|██████████| 66/66 [00:01<00:00, 55.37it/s]\n",
      "Epoch 7/30 [Val]: 100%|██████████| 15/15 [00:00<00:00, 184.61it/s]\n"
     ]
    },
    {
     "name": "stdout",
     "output_type": "stream",
     "text": [
      "Epoch [7/30] | Train Loss: 0.0234, Val Loss: 0.0292 | Train IoU: 0.3777, Val IoU: 0.3579 | Train Dice: 0.3107, Val Dice: 0.2460\n"
     ]
    },
    {
     "name": "stderr",
     "output_type": "stream",
     "text": [
      "Epoch 8/30 [Train]: 100%|██████████| 66/66 [00:01<00:00, 55.15it/s]\n",
      "Epoch 8/30 [Val]: 100%|██████████| 15/15 [00:00<00:00, 185.13it/s]\n"
     ]
    },
    {
     "name": "stdout",
     "output_type": "stream",
     "text": [
      "Epoch [8/30] | Train Loss: 0.0236, Val Loss: 0.0292 | Train IoU: 0.3837, Val IoU: 0.3535 | Train Dice: 0.3222, Val Dice: 0.2463\n"
     ]
    },
    {
     "name": "stderr",
     "output_type": "stream",
     "text": [
      "Epoch 9/30 [Train]: 100%|██████████| 66/66 [00:01<00:00, 55.38it/s]\n",
      "Epoch 9/30 [Val]: 100%|██████████| 15/15 [00:00<00:00, 183.83it/s]\n"
     ]
    },
    {
     "name": "stdout",
     "output_type": "stream",
     "text": [
      "Epoch [9/30] | Train Loss: 0.0236, Val Loss: 0.0288 | Train IoU: 0.3836, Val IoU: 0.3610 | Train Dice: 0.3198, Val Dice: 0.2565\n"
     ]
    },
    {
     "name": "stderr",
     "output_type": "stream",
     "text": [
      "Epoch 10/30 [Train]: 100%|██████████| 66/66 [00:01<00:00, 55.37it/s]\n",
      "Epoch 10/30 [Val]: 100%|██████████| 15/15 [00:00<00:00, 185.21it/s]\n"
     ]
    },
    {
     "name": "stdout",
     "output_type": "stream",
     "text": [
      "Epoch [10/30] | Train Loss: 0.0233, Val Loss: 0.0290 | Train IoU: 0.3842, Val IoU: 0.3605 | Train Dice: 0.3183, Val Dice: 0.2553\n"
     ]
    },
    {
     "name": "stderr",
     "output_type": "stream",
     "text": [
      "Epoch 11/30 [Train]: 100%|██████████| 66/66 [00:01<00:00, 55.40it/s]\n",
      "Epoch 11/30 [Val]: 100%|██████████| 15/15 [00:00<00:00, 183.66it/s]\n"
     ]
    },
    {
     "name": "stdout",
     "output_type": "stream",
     "text": [
      "Epoch [11/30] | Train Loss: 0.0234, Val Loss: 0.0293 | Train IoU: 0.3836, Val IoU: 0.3540 | Train Dice: 0.3185, Val Dice: 0.2468\n"
     ]
    },
    {
     "name": "stderr",
     "output_type": "stream",
     "text": [
      "Epoch 12/30 [Train]: 100%|██████████| 66/66 [00:01<00:00, 48.33it/s]\n",
      "Epoch 12/30 [Val]: 100%|██████████| 15/15 [00:00<00:00, 185.21it/s]\n"
     ]
    },
    {
     "name": "stdout",
     "output_type": "stream",
     "text": [
      "Epoch [12/30] | Train Loss: 0.0234, Val Loss: 0.0293 | Train IoU: 0.3807, Val IoU: 0.3508 | Train Dice: 0.3149, Val Dice: 0.2436\n"
     ]
    },
    {
     "name": "stderr",
     "output_type": "stream",
     "text": [
      "Epoch 13/30 [Train]: 100%|██████████| 66/66 [00:01<00:00, 55.26it/s]\n",
      "Epoch 13/30 [Val]: 100%|██████████| 15/15 [00:00<00:00, 184.70it/s]\n"
     ]
    },
    {
     "name": "stdout",
     "output_type": "stream",
     "text": [
      "Epoch [13/30] | Train Loss: 0.0234, Val Loss: 0.0293 | Train IoU: 0.3792, Val IoU: 0.3615 | Train Dice: 0.3132, Val Dice: 0.2505\n"
     ]
    },
    {
     "name": "stderr",
     "output_type": "stream",
     "text": [
      "Epoch 14/30 [Train]: 100%|██████████| 66/66 [00:01<00:00, 55.46it/s]\n",
      "Epoch 14/30 [Val]: 100%|██████████| 15/15 [00:00<00:00, 184.29it/s]\n"
     ]
    },
    {
     "name": "stdout",
     "output_type": "stream",
     "text": [
      "Epoch [14/30] | Train Loss: 0.0233, Val Loss: 0.0288 | Train IoU: 0.3875, Val IoU: 0.3589 | Train Dice: 0.3186, Val Dice: 0.2539\n"
     ]
    },
    {
     "name": "stderr",
     "output_type": "stream",
     "text": [
      "Epoch 15/30 [Train]: 100%|██████████| 66/66 [00:01<00:00, 55.23it/s]\n",
      "Epoch 15/30 [Val]: 100%|██████████| 15/15 [00:00<00:00, 184.12it/s]\n"
     ]
    },
    {
     "name": "stdout",
     "output_type": "stream",
     "text": [
      "Epoch [15/30] | Train Loss: 0.0230, Val Loss: 0.0289 | Train IoU: 0.3855, Val IoU: 0.3546 | Train Dice: 0.3166, Val Dice: 0.2536\n"
     ]
    },
    {
     "name": "stderr",
     "output_type": "stream",
     "text": [
      "Epoch 16/30 [Train]: 100%|██████████| 66/66 [00:01<00:00, 55.42it/s]\n",
      "Epoch 16/30 [Val]: 100%|██████████| 15/15 [00:00<00:00, 184.37it/s]\n"
     ]
    },
    {
     "name": "stdout",
     "output_type": "stream",
     "text": [
      "Epoch [16/30] | Train Loss: 0.0234, Val Loss: 0.0292 | Train IoU: 0.3812, Val IoU: 0.3569 | Train Dice: 0.3164, Val Dice: 0.2503\n"
     ]
    },
    {
     "name": "stderr",
     "output_type": "stream",
     "text": [
      "Epoch 17/30 [Train]: 100%|██████████| 66/66 [00:01<00:00, 55.40it/s]\n",
      "Epoch 17/30 [Val]: 100%|██████████| 15/15 [00:00<00:00, 181.45it/s]\n"
     ]
    },
    {
     "name": "stdout",
     "output_type": "stream",
     "text": [
      "Epoch [17/30] | Train Loss: 0.0232, Val Loss: 0.0289 | Train IoU: 0.3831, Val IoU: 0.3579 | Train Dice: 0.3197, Val Dice: 0.2522\n"
     ]
    },
    {
     "name": "stderr",
     "output_type": "stream",
     "text": [
      "Epoch 18/30 [Train]: 100%|██████████| 66/66 [00:01<00:00, 55.27it/s]\n",
      "Epoch 18/30 [Val]: 100%|██████████| 15/15 [00:00<00:00, 184.12it/s]\n"
     ]
    },
    {
     "name": "stdout",
     "output_type": "stream",
     "text": [
      "Epoch [18/30] | Train Loss: 0.0231, Val Loss: 0.0291 | Train IoU: 0.3832, Val IoU: 0.3533 | Train Dice: 0.3152, Val Dice: 0.2515\n"
     ]
    },
    {
     "name": "stderr",
     "output_type": "stream",
     "text": [
      "Epoch 19/30 [Train]: 100%|██████████| 66/66 [00:01<00:00, 51.04it/s]\n",
      "Epoch 19/30 [Val]: 100%|██████████| 15/15 [00:00<00:00, 184.66it/s]\n"
     ]
    },
    {
     "name": "stdout",
     "output_type": "stream",
     "text": [
      "Epoch [19/30] | Train Loss: 0.0230, Val Loss: 0.0293 | Train IoU: 0.3926, Val IoU: 0.3528 | Train Dice: 0.3239, Val Dice: 0.2451\n"
     ]
    },
    {
     "name": "stderr",
     "output_type": "stream",
     "text": [
      "Epoch 20/30 [Train]: 100%|██████████| 66/66 [00:01<00:00, 55.31it/s]\n",
      "Epoch 20/30 [Val]: 100%|██████████| 15/15 [00:00<00:00, 181.13it/s]\n"
     ]
    },
    {
     "name": "stdout",
     "output_type": "stream",
     "text": [
      "Epoch [20/30] | Train Loss: 0.0231, Val Loss: 0.0291 | Train IoU: 0.3851, Val IoU: 0.3578 | Train Dice: 0.3200, Val Dice: 0.2510\n"
     ]
    },
    {
     "name": "stderr",
     "output_type": "stream",
     "text": [
      "Epoch 21/30 [Train]: 100%|██████████| 66/66 [00:01<00:00, 54.34it/s]\n",
      "Epoch 21/30 [Val]: 100%|██████████| 15/15 [00:00<00:00, 182.94it/s]\n"
     ]
    },
    {
     "name": "stdout",
     "output_type": "stream",
     "text": [
      "Epoch [21/30] | Train Loss: 0.0233, Val Loss: 0.0288 | Train IoU: 0.3875, Val IoU: 0.3575 | Train Dice: 0.3220, Val Dice: 0.2573\n"
     ]
    },
    {
     "name": "stderr",
     "output_type": "stream",
     "text": [
      "Epoch 22/30 [Train]: 100%|██████████| 66/66 [00:01<00:00, 54.27it/s]\n",
      "Epoch 22/30 [Val]: 100%|██████████| 15/15 [00:00<00:00, 182.52it/s]\n"
     ]
    },
    {
     "name": "stdout",
     "output_type": "stream",
     "text": [
      "Epoch [22/30] | Train Loss: 0.0234, Val Loss: 0.0293 | Train IoU: 0.3822, Val IoU: 0.3554 | Train Dice: 0.3184, Val Dice: 0.2481\n"
     ]
    },
    {
     "name": "stderr",
     "output_type": "stream",
     "text": [
      "Epoch 23/30 [Train]: 100%|██████████| 66/66 [00:01<00:00, 54.17it/s]\n",
      "Epoch 23/30 [Val]: 100%|██████████| 15/15 [00:00<00:00, 184.00it/s]\n"
     ]
    },
    {
     "name": "stdout",
     "output_type": "stream",
     "text": [
      "Epoch [23/30] | Train Loss: 0.0232, Val Loss: 0.0291 | Train IoU: 0.3821, Val IoU: 0.3616 | Train Dice: 0.3163, Val Dice: 0.2502\n"
     ]
    },
    {
     "name": "stderr",
     "output_type": "stream",
     "text": [
      "Epoch 24/30 [Train]: 100%|██████████| 66/66 [00:01<00:00, 54.48it/s]\n",
      "Epoch 24/30 [Val]: 100%|██████████| 15/15 [00:00<00:00, 183.39it/s]\n"
     ]
    },
    {
     "name": "stdout",
     "output_type": "stream",
     "text": [
      "Epoch [24/30] | Train Loss: 0.0231, Val Loss: 0.0288 | Train IoU: 0.3829, Val IoU: 0.3612 | Train Dice: 0.3168, Val Dice: 0.2568\n"
     ]
    },
    {
     "name": "stderr",
     "output_type": "stream",
     "text": [
      "Epoch 25/30 [Train]: 100%|██████████| 66/66 [00:01<00:00, 52.42it/s]\n",
      "Epoch 25/30 [Val]: 100%|██████████| 15/15 [00:00<00:00, 184.51it/s]\n"
     ]
    },
    {
     "name": "stdout",
     "output_type": "stream",
     "text": [
      "Epoch [25/30] | Train Loss: 0.0231, Val Loss: 0.0289 | Train IoU: 0.3853, Val IoU: 0.3615 | Train Dice: 0.3213, Val Dice: 0.2562\n"
     ]
    },
    {
     "name": "stderr",
     "output_type": "stream",
     "text": [
      "Epoch 26/30 [Train]: 100%|██████████| 66/66 [00:01<00:00, 54.69it/s]\n",
      "Epoch 26/30 [Val]: 100%|██████████| 15/15 [00:00<00:00, 184.07it/s]\n"
     ]
    },
    {
     "name": "stdout",
     "output_type": "stream",
     "text": [
      "Epoch [26/30] | Train Loss: 0.0232, Val Loss: 0.0291 | Train IoU: 0.3828, Val IoU: 0.3566 | Train Dice: 0.3172, Val Dice: 0.2497\n"
     ]
    },
    {
     "name": "stderr",
     "output_type": "stream",
     "text": [
      "Epoch 27/30 [Train]: 100%|██████████| 66/66 [00:01<00:00, 54.64it/s]\n",
      "Epoch 27/30 [Val]: 100%|██████████| 15/15 [00:00<00:00, 184.37it/s]\n"
     ]
    },
    {
     "name": "stdout",
     "output_type": "stream",
     "text": [
      "Epoch [27/30] | Train Loss: 0.0233, Val Loss: 0.0289 | Train IoU: 0.3873, Val IoU: 0.3586 | Train Dice: 0.3201, Val Dice: 0.2528\n"
     ]
    },
    {
     "name": "stderr",
     "output_type": "stream",
     "text": [
      "Epoch 28/30 [Train]: 100%|██████████| 66/66 [00:01<00:00, 54.70it/s]\n",
      "Epoch 28/30 [Val]: 100%|██████████| 15/15 [00:00<00:00, 184.23it/s]\n"
     ]
    },
    {
     "name": "stdout",
     "output_type": "stream",
     "text": [
      "Epoch [28/30] | Train Loss: 0.0228, Val Loss: 0.0288 | Train IoU: 0.3842, Val IoU: 0.3611 | Train Dice: 0.3178, Val Dice: 0.2561\n"
     ]
    },
    {
     "name": "stderr",
     "output_type": "stream",
     "text": [
      "Epoch 29/30 [Train]: 100%|██████████| 66/66 [00:01<00:00, 54.62it/s]\n",
      "Epoch 29/30 [Val]: 100%|██████████| 15/15 [00:00<00:00, 184.31it/s]\n"
     ]
    },
    {
     "name": "stdout",
     "output_type": "stream",
     "text": [
      "Epoch [29/30] | Train Loss: 0.0230, Val Loss: 0.0288 | Train IoU: 0.3859, Val IoU: 0.3602 | Train Dice: 0.3192, Val Dice: 0.2550\n"
     ]
    },
    {
     "name": "stderr",
     "output_type": "stream",
     "text": [
      "Epoch 30/30 [Train]: 100%|██████████| 66/66 [00:01<00:00, 54.65it/s]\n",
      "Epoch 30/30 [Val]: 100%|██████████| 15/15 [00:00<00:00, 184.23it/s]"
     ]
    },
    {
     "name": "stdout",
     "output_type": "stream",
     "text": [
      "Epoch [30/30] | Train Loss: 0.0232, Val Loss: 0.0289 | Train IoU: 0.3851, Val IoU: 0.3600 | Train Dice: 0.3196, Val Dice: 0.2549\n"
     ]
    },
    {
     "name": "stderr",
     "output_type": "stream",
     "text": [
      "\n"
     ]
    }
   ],
   "source": [
    "history = train_segmentation(train_loader, val_loader, criterion, scheduler, epochs=30, optimizer=optimizer, model=model, device='cuda')"
   ]
  },
  {
   "cell_type": "code",
   "execution_count": 152,
   "id": "91380e08",
   "metadata": {},
   "outputs": [
    {
     "data": {
      "image/png": "[encoded data removed]",
      "text/plain": [
       "<Figure size 640x480 with 1 Axes>"
      ]
     },
     "metadata": {},
     "output_type": "display_data"
    }
   ],
   "source": [
    "plt.plot(history['train_losses'], label='Train Loss')\n",
    "plt.plot(history['val_losses'], label='Validation Loss')\n",
    "plt.xlabel('Epoch')\n",
    "plt.grid()\n",
    "plt.ylabel('Loss')\n",
    "plt.legend()\n",
    "plt.show()"
   ]
  },
  {
   "cell_type": "code",
   "execution_count": 153,
   "id": "fd8fd5c9",
   "metadata": {},
   "outputs": [
    {
     "data": {
      "image/png": "[encoded data removed]",
      "text/plain": [
       "<Figure size 640x480 with 1 Axes>"
      ]
     },
     "metadata": {},
     "output_type": "display_data"
    }
   ],
   "source": [
    "plt.plot(history[\"val_ious\"], label=\"Val IoU\")\n",
    "plt.plot(history[\"val_dices\"], label=\"Val Dice\")\n",
    "plt.xlabel('Epoch')\n",
    "plt.ylabel('Score')\n",
    "plt.grid()\n",
    "plt.legend()\n",
    "plt.show()\n"
   ]
  },
  {
   "cell_type": "code",
   "execution_count": 154,
   "id": "c606e3ea",
   "metadata": {},
   "outputs": [],
   "source": [
    "def evaluate(model, test_loader, device, threshold=0.5):\n",
    "    model.eval()\n",
    "    preds, labels = [], []\n",
    "\n",
    "    with torch.no_grad():\n",
    "        for img, label in test_loader:\n",
    "            img = img.to(device, dtype=torch.float32)\n",
    "            label = label.to(device, dtype=torch.float32)\n",
    "\n",
    "            output = model(img)  # logits\n",
    "            output = torch.sigmoid(output)  # convert logits → probability\n",
    "\n",
    "            preds.append(output.cpu())\n",
    "            labels.append(label.cpu())\n",
    "\n",
    "    # Concatenate all batches\n",
    "    preds = torch.cat(preds, dim=0)         # shape: [N, 1, 64, 64]\n",
    "    labels = torch.cat(labels, dim=0)       # shape: [N, 1, 64, 64]\n",
    "\n",
    "    # Binarize predictions\n",
    "    binary_preds = (preds >= threshold).float()\n",
    "\n",
    "    return binary_preds, labels\n"
   ]
  },
  {
   "cell_type": "code",
   "execution_count": 155,
   "id": "616d89a8",
   "metadata": {},
   "outputs": [
    {
     "name": "stdout",
     "output_type": "stream",
     "text": [
      "Predictions shape: (226, 64, 64)\n",
      "Labels shape: (226, 64, 64)\n"
     ]
    }
   ],
   "source": [
    "outputs, labels = evaluate(model, test_loader, device='cuda', threshold=0.45)\n",
    "outputs = outputs.squeeze(1)\n",
    "labels = labels.squeeze(1)\n",
    "outputs = outputs.numpy()\n",
    "labels = labels.numpy()\n",
    "print(\"Predictions shape:\", outputs.shape)\n",
    "print(\"Labels shape:\", labels.shape)\n"
   ]
  },
  {
   "cell_type": "code",
   "execution_count": 156,
   "id": "87152603",
   "metadata": {},
   "outputs": [
    {
     "data": {
      "text/plain": [
       "(np.float32(1.0), np.float32(0.0), array([0., 1.], dtype=float32))"
      ]
     },
     "execution_count": 156,
     "metadata": {},
     "output_type": "execute_result"
    }
   ],
   "source": [
    "np.max(outputs), np.min(outputs), np.unique(outputs)"
   ]
  },
  {
   "cell_type": "code",
   "execution_count": 161,
   "id": "57a4f2b6",
   "metadata": {},
   "outputs": [
    {
     "name": "stdout",
     "output_type": "stream",
     "text": [
      "IoU: 0.0131, Dice: 0.0243\n"
     ]
    }
   ],
   "source": [
    "iou, dice = compute_metrics(torch.tensor(outputs).unsqueeze(1), torch.tensor(labels).unsqueeze(1), threshold=0.45)\n",
    "print(f\"IoU: {iou:.4f}, Dice: {dice:.4f}\")"
   ]
  },
  {
   "cell_type": "code",
   "execution_count": 147,
   "id": "3e98001d",
   "metadata": {},
   "outputs": [
    {
     "data": {
      "image/png": "[encoded data removed]",
      "text/plain": [
       "<Figure size 1000x500 with 2 Axes>"
      ]
     },
     "metadata": {},
     "output_type": "display_data"
    },
    {
     "data": {
      "image/png": "[encoded data removed]",
      "text/plain": [
       "<Figure size 1000x500 with 2 Axes>"
      ]
     },
     "metadata": {},
     "output_type": "display_data"
    },
    {
     "data": {
      "image/png": "[encoded data removed]",
      "text/plain": [
       "<Figure size 1000x500 with 2 Axes>"
      ]
     },
     "metadata": {},
     "output_type": "display_data"
    },
    {
     "data": {
      "image/png": "[encoded data removed]",
      "text/plain": [
       "<Figure size 1000x500 with 2 Axes>"
      ]
     },
     "metadata": {},
     "output_type": "display_data"
    },
    {
     "data": {
      "image/png": "[encoded data removed]",
      "text/plain": [
       "<Figure size 1000x500 with 2 Axes>"
      ]
     },
     "metadata": {},
     "output_type": "display_data"
    }
   ],
   "source": [
    "num_samples_to_plot = 5\n",
    "\n",
    "for i in range(num_samples_to_plot):\n",
    "    plt.figure(figsize=(10, 5))\n",
    "    plt.subplot(1, 2, 1)\n",
    "    plt.imshow(outputs[i], cmap='gray')\n",
    "    plt.title(f'Predicted Mask (Sample {i+1})')\n",
    "    plt.axis('off')\n",
    "    plt.subplot(1, 2, 2)\n",
    "    plt.imshow(labels[i], cmap='gray')\n",
    "    plt.title(f'Ground Truth Mask (Sample {i+1})')\n",
    "    plt.axis('off')\n",
    "    plt.show()"
   ]
  },
  {
   "cell_type": "code",
   "execution_count": null,
   "id": "0f95bd3e",
   "metadata": {},
   "outputs": [],
   "source": [
    "def compute_dice(y_pred, y_true):\n",
    "    intersection = np.sum(y_pred * y_true)\n",
    "    union = np.sum(y_pred) + np.sum(y_true)\n",
    "    dice = (2.0 * intersection + 1e-8) / (union + 1e-8)\n",
    "    return dice"
   ]
  }
 ],
 "metadata": {
  "kernelspec": {
   "display_name": "AIMIA",
   "language": "python",
   "name": "python3"
  },
  "language_info": {
   "codemirror_mode": {
    "name": "ipython",
    "version": 3
   },
   "file_extension": ".py",
   "mimetype": "text/x-python",
   "name": "python",
   "nbconvert_exporter": "python",
   "pygments_lexer": "ipython3",
   "version": "3.13.7"
  }
 },
 "nbformat": 4,
 "nbformat_minor": 5
}
