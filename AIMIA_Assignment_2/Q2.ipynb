{
 "cells": [
  {
   "cell_type": "code",
   "execution_count": 2,
   "id": "cd724df8",
   "metadata": {},
   "outputs": [],
   "source": [
    "import numpy as np\n",
    "import matplotlib.pyplot as plt \n",
    "import cv2\n",
    "from PIL import Image\n",
    "import nibabel as nib\n",
    "import os\n",
    "import torch\n",
    "import torch.nn as nn\n",
    "import tqdm\n",
    "import segmentation_models_pytorch as smp\n",
    "from sklearn.model_selection import train_test_split\n",
    "from torch.utils.data import TensorDataset, DataLoader\n",
    "from torchvision import transforms\n",
    "from scipy import ndimage\n",
    "from skimage.measure import label"
   ]
  },
  {
   "cell_type": "code",
   "execution_count": 3,
   "id": "c98dbc53",
   "metadata": {},
   "outputs": [],
   "source": [
    "#Load Dataset 2 \n",
    "adc_images = []\n",
    "dwi_images = []\n",
    "masks = []\n",
    "adc_dir = r\"/home/pritamk/AIMIA/DS-261-AIMIA/AIMIA_Assignment_2/dataset_2/img/adc\"\n",
    "dwi_dir = r\"/home/pritamk/AIMIA/DS-261-AIMIA/AIMIA_Assignment_2/dataset_2/img/dwi\"\n",
    "mask_dir = r\"/home/pritamk/AIMIA/DS-261-AIMIA/AIMIA_Assignment_2/dataset_2/mask\"\n",
    "\n",
    "for filename in os.listdir(adc_dir):\n",
    "    if filename.endswith(\".gz\"):\n",
    "        adc_path = os.path.join(adc_dir, filename)\n",
    "        adc_img = nib.load(adc_path).get_fdata()\n",
    "        adc_images.append(adc_img)\n",
    "for filename in os.listdir(dwi_dir):\n",
    "    if filename.endswith(\".gz\"):\n",
    "        dwi_path = os.path.join(dwi_dir, filename)\n",
    "        dwi_img = nib.load(dwi_path).get_fdata()\n",
    "        dwi_images.append(dwi_img)\n",
    "for filename in os.listdir(mask_dir):\n",
    "    if filename.endswith(\".gz\"):\n",
    "        mask_path = os.path.join(mask_dir, filename)\n",
    "        mask_img = nib.load(mask_path).get_fdata()\n",
    "        masks.append(mask_img)"
   ]
  },
  {
   "cell_type": "code",
   "execution_count": 4,
   "id": "2a38bb77",
   "metadata": {},
   "outputs": [
    {
     "name": "stdout",
     "output_type": "stream",
     "text": [
      "Shape of ADC images from Dataset 3: (950, 64, 64)\n",
      "Shape of DWI images from Dataset 3: (950, 64, 64)\n",
      "Shape of Mask images from Dataset 3: (950, 64, 64)\n",
      "Shape of ADC images for testing from Dataset 3: (407, 64, 64)\n",
      "Shape of DWI images for testing from Dataset 3: (407, 64, 64)\n",
      "Shape of Mask images for testing from Dataset 3: (407, 64, 64)\n"
     ]
    }
   ],
   "source": [
    "#Load Dataset 3\n",
    "ds3_test_adc = []\n",
    "ds3_train_adc = []\n",
    "ds3_test_dwi = []\n",
    "ds3_train_dwi = []\n",
    "ds3_test_masks = []\n",
    "ds3_train_masks = []\n",
    "ds3_test_dir_adc = r\"/home/pritamk/AIMIA/DS-261-AIMIA/AIMIA_Assignment_2/dataset_3/test/img/adc\"\n",
    "ds3_test_dir_dwi = r\"/home/pritamk/AIMIA/DS-261-AIMIA/AIMIA_Assignment_2/dataset_3/test/img/dwi\"\n",
    "ds3_train_dir_adc = r\"/home/pritamk/AIMIA/DS-261-AIMIA/AIMIA_Assignment_2/dataset_3/train/img/adc\"\n",
    "ds3_train_dir_dwi = r\"/home/pritamk/AIMIA/DS-261-AIMIA/AIMIA_Assignment_2/dataset_3/train/img/dwi\"\n",
    "ds3_test_mask_dir = r\"/home/pritamk/AIMIA/DS-261-AIMIA/AIMIA_Assignment_2/dataset_3/test/mask\"\n",
    "ds3_train_mask_dir = r\"/home/pritamk/AIMIA/DS-261-AIMIA/AIMIA_Assignment_2/dataset_3/train/mask\"\n",
    "for filename in os.listdir(ds3_test_dir_adc):\n",
    "    if filename.endswith(\".gz\"):\n",
    "        adc_path = os.path.join(ds3_test_dir_adc, filename)\n",
    "        adc_img = nib.load(adc_path).get_fdata()\n",
    "        ds3_test_adc.append(adc_img)\n",
    "for filename in os.listdir(ds3_train_dir_adc):\n",
    "    if filename.endswith(\".gz\"):\n",
    "        adc_path = os.path.join(ds3_train_dir_adc, filename)\n",
    "        adc_img = nib.load(adc_path).get_fdata()\n",
    "        ds3_train_adc.append(adc_img)\n",
    "for filename in os.listdir(ds3_test_dir_dwi):\n",
    "    if filename.endswith(\".gz\"):\n",
    "        dwi_path = os.path.join(ds3_test_dir_dwi, filename)\n",
    "        dwi_img = nib.load(dwi_path).get_fdata()\n",
    "        ds3_test_dwi.append(dwi_img)\n",
    "for filename in os.listdir(ds3_train_dir_dwi):\n",
    "    if filename.endswith(\".gz\"):\n",
    "        dwi_path = os.path.join(ds3_train_dir_dwi, filename)\n",
    "        dwi_img = nib.load(dwi_path).get_fdata()\n",
    "        ds3_train_dwi.append(dwi_img)\n",
    "for filename in os.listdir(ds3_test_mask_dir):\n",
    "    if filename.endswith(\".gz\"):\n",
    "        mask_path = os.path.join(ds3_test_mask_dir, filename)\n",
    "        mask_img = nib.load(mask_path).get_fdata()\n",
    "        ds3_test_masks.append(mask_img)\n",
    "for filename in os.listdir(ds3_train_mask_dir):\n",
    "    if filename.endswith(\".gz\"):\n",
    "        mask_path = os.path.join(ds3_train_mask_dir, filename)\n",
    "        mask_img = nib.load(mask_path).get_fdata()\n",
    "        ds3_train_masks.append(mask_img)\n",
    "\n",
    "print(f\"Shape of ADC images from Dataset 3: {np.array(ds3_train_adc).shape}\")\n",
    "print(f\"Shape of DWI images from Dataset 3: {np.array(ds3_train_dwi).shape}\")\n",
    "print(f\"Shape of Mask images from Dataset 3: {np.array(ds3_train_masks).shape}\")\n",
    "print(f\"Shape of ADC images for testing from Dataset 3: {np.array(ds3_test_adc).shape}\")\n",
    "print(f\"Shape of DWI images for testing from Dataset 3: {np.array(ds3_test_dwi).shape}\")\n",
    "print(f\"Shape of Mask images for testing from Dataset 3: {np.array(ds3_test_masks).shape}\")"
   ]
  },
  {
   "cell_type": "code",
   "execution_count": 5,
   "id": "7d197915",
   "metadata": {},
   "outputs": [
    {
     "data": {
      "text/plain": [
       "((64, 64), (64, 64), (64, 64))"
      ]
     },
     "execution_count": 5,
     "metadata": {},
     "output_type": "execute_result"
    }
   ],
   "source": [
    "adc_images[0].shape, dwi_images[0].shape, masks[0].shape"
   ]
  },
  {
   "cell_type": "code",
   "execution_count": 6,
   "id": "9d8f6800",
   "metadata": {},
   "outputs": [
    {
     "data": {
      "image/png": "[encoded data removed]",
      "text/plain": [
       "<Figure size 1200x800 with 3 Axes>"
      ]
     },
     "metadata": {},
     "output_type": "display_data"
    }
   ],
   "source": [
    "plt.figure(figsize=(12, 8))\n",
    "plt.subplot(1, 3, 1)\n",
    "plt.imshow(adc_images[0], cmap='gray')\n",
    "plt.title('ADC Image')\n",
    "plt.axis('off')\n",
    "plt.subplot(1, 3, 2)\n",
    "plt.imshow(dwi_images[0], cmap='gray')\n",
    "plt.title('DWI Image')\n",
    "plt.axis('off')\n",
    "plt.subplot(1, 3, 3)\n",
    "plt.imshow(masks[0], cmap='gray')\n",
    "plt.title('Mask Image')\n",
    "plt.axis('off')\n",
    "plt.show()"
   ]
  },
  {
   "cell_type": "code",
   "execution_count": 7,
   "id": "b2fe49db",
   "metadata": {},
   "outputs": [
    {
     "name": "stdout",
     "output_type": "stream",
     "text": [
      "(1504, 64, 64) (1504, 64, 64) (1504, 64, 64)\n"
     ]
    }
   ],
   "source": [
    "adc_images = np.array(adc_images)\n",
    "dwi_images = np.array(dwi_images)\n",
    "masks = np.array(masks)\n",
    "print(adc_images.shape, dwi_images.shape, masks.shape)"
   ]
  },
  {
   "cell_type": "code",
   "execution_count": 8,
   "id": "4efb1ec9",
   "metadata": {},
   "outputs": [
    {
     "name": "stdout",
     "output_type": "stream",
     "text": [
      "(2, 1504, 64, 64) (1, 1504, 64, 64)\n"
     ]
    }
   ],
   "source": [
    "X = np.stack((adc_images, dwi_images), axis=0) # Combine ADC and DWI images. There are two channels in the training images\n",
    "y = masks[np.newaxis, ...] # Add a new axis to masks to match the shape of X\n",
    "print(X.shape, y.shape)"
   ]
  },
  {
   "cell_type": "code",
   "execution_count": 9,
   "id": "862e9044",
   "metadata": {},
   "outputs": [
    {
     "name": "stdout",
     "output_type": "stream",
     "text": [
      "(2, 950, 64, 64) (1, 950, 64, 64)\n",
      "(2, 407, 64, 64) (1, 407, 64, 64)\n"
     ]
    }
   ],
   "source": [
    "#Combine adc and dwi images from dataset 3\n",
    "ds3_train_images = np.stack((ds3_train_adc, ds3_train_dwi), axis=0)\n",
    "ds3_test_images = np.stack((ds3_test_adc, ds3_test_dwi), axis=0)\n",
    "ds3_train_masks = np.array(ds3_train_masks)[np.newaxis, ...]\n",
    "ds3_test_masks = np.array(ds3_test_masks)[np.newaxis, ...]\n",
    "ds3_train_images[np.isnan(ds3_train_images)] = 0 # Replace NaN values with 0\n",
    "ds3_test_images[np.isnan(ds3_test_images)] = 0\n",
    "print(ds3_train_images.shape, ds3_train_masks.shape)\n",
    "print(ds3_test_images.shape, ds3_test_masks.shape)\n"
   ]
  },
  {
   "cell_type": "code",
   "execution_count": 10,
   "id": "f3f3e6e1",
   "metadata": {},
   "outputs": [
    {
     "name": "stdout",
     "output_type": "stream",
     "text": [
      "Normalized X range: [0.000, 1.000]\n",
      "Normalized y range: [0.000, 1.000]\n",
      "Unique values in masks: (array([0., 1.], dtype=float32), array([6082668,   77716]))\n",
      "X tensor shape: torch.Size([1504, 2, 64, 64])\n",
      "y tensor shape: torch.Size([1504, 1, 64, 64])\n"
     ]
    }
   ],
   "source": [
    "def normalize_data(X, y):\n",
    "    X_norm = np.zeros_like(X)\n",
    "    for i in range(X.shape[0]):  # For two channels\n",
    "        X_norm[i] = (X[i] - X[i].min()) / (X[i].max() - X[i].min() + 1e-8)\n",
    "    \n",
    "    y_norm = (y > 0).astype(np.float32)\n",
    "    \n",
    "    return X_norm, y_norm\n",
    "\n",
    "X_normalized, y_normalized = normalize_data(X, y)\n",
    "print(f\"Normalized X range: [{X_normalized.min():.3f}, {X_normalized.max():.3f}]\")\n",
    "print(f\"Normalized y range: [{y_normalized.min():.3f}, {y_normalized.max():.3f}]\")\n",
    "print(f\"Unique values in masks: {np.unique(y_normalized, return_counts=True)}\")\n",
    "\n",
    "\n",
    "X_tensor = torch.FloatTensor(X_normalized).permute(1, 0, 2, 3)  # (samples, channels, H, W)\n",
    "y_tensor = torch.FloatTensor(y_normalized).permute(1, 0, 2, 3)  # (samples, classes, H, W)\n",
    "\n",
    "print(f\"X tensor shape: {X_tensor.shape}\")\n",
    "print(f\"y tensor shape: {y_tensor.shape}\")"
   ]
  },
  {
   "cell_type": "code",
   "execution_count": 11,
   "id": "1f493f28",
   "metadata": {},
   "outputs": [
    {
     "name": "stdout",
     "output_type": "stream",
     "text": [
      "DS3 Train tensor shape: torch.Size([950, 2, 64, 64])\n",
      "DS3 masks tensor shape: torch.Size([950, 1, 64, 64])\n",
      "DS3 Test tensor shape: torch.Size([407, 2, 64, 64])\n",
      "DS3 Test masks tensor shape: torch.Size([407, 1, 64, 64])\n"
     ]
    }
   ],
   "source": [
    "#Normalize datasets 3\n",
    "ds3_train_images_normalized, ds3_train_masks_normalized = normalize_data(ds3_train_images, ds3_train_masks)\n",
    "ds3_test_images_normalized, ds3_test_masks_normalized = normalize_data(ds3_test_images, ds3_test_masks)\n",
    "ds3_train = torch.FloatTensor(ds3_train_images_normalized).permute(1, 0, 2, 3) # Has NaN values\n",
    "ds3_train_masks = torch.FloatTensor(ds3_train_masks_normalized).permute(1, 0, 2, 3)\n",
    "ds3_test = torch.FloatTensor(ds3_test_images_normalized).permute(1, 0, 2, 3) #Has NaN values\n",
    "ds3_test_masks = torch.FloatTensor(ds3_test_masks_normalized).permute(1, 0, 2, 3)\n",
    "print(f\"DS3 Train tensor shape: {ds3_train.shape}\")\n",
    "print(f\"DS3 masks tensor shape: {ds3_train_masks.shape}\")\n",
    "print(f\"DS3 Test tensor shape: {ds3_test.shape}\")\n",
    "print(f\"DS3 Test masks tensor shape: {ds3_test_masks.shape}\")"
   ]
  },
  {
   "cell_type": "code",
   "execution_count": 12,
   "id": "a124357c",
   "metadata": {},
   "outputs": [
    {
     "name": "stdout",
     "output_type": "stream",
     "text": [
      "Train shape torch.Size([1504, 2, 64, 64]), labels shape torch.Size([1504, 1, 64, 64])\n",
      "Validation shape torch.Size([407, 2, 64, 64]), labels shape torch.Size([407, 1, 64, 64])\n",
      "Number of batches in train loader: 188\n",
      "Number of batches in validation loader: 51\n"
     ]
    }
   ],
   "source": [
    "train_loader = DataLoader(TensorDataset(X_tensor, y_tensor), batch_size=8, shuffle=True)\n",
    "val_loader = DataLoader(TensorDataset(ds3_test, ds3_test_masks), batch_size=8, shuffle=False)\n",
    "print(f\"Train shape {X_tensor.shape}, labels shape {y_tensor.shape}\")\n",
    "print(f\"Validation shape {ds3_test.shape}, labels shape {ds3_test_masks.shape}\")\n",
    "print(f\"Number of batches in train loader: {len(train_loader)}\")\n",
    "print(f\"Number of batches in validation loader: {len(val_loader)}\")"
   ]
  },
  {
   "cell_type": "code",
   "execution_count": 13,
   "id": "14d4ee60",
   "metadata": {},
   "outputs": [],
   "source": [
    "def dice_score(y_true, y_pred):\n",
    "    intersection = np.sum(y_true * y_pred) # Element-wise multiplication and sum. If y_true and y_pred are binary masks, this gives the number of pixels that are predicted as positive and are actually positive.\n",
    "    total = np.sum(y_true) + np.sum(y_pred) # total number of positive pixels in both masks\n",
    "    if total == 0:\n",
    "        return 1.0  \n",
    "    return 2. * intersection / total\n",
    "\n",
    "def lesion_wise_accuracy(y_true, y_pred):\n",
    "    true_labeled, true_num_lesions = label(y_true, return_num=True)\n",
    "    pred_labeled, pred_num_lesions = label(y_pred, return_num=True)\n",
    "    \n",
    "    if true_num_lesions == 0 and pred_num_lesions == 0:\n",
    "        return 1.0  # Perfect if both have no lesions\n",
    "    \n",
    "    if true_num_lesions == 0 or pred_num_lesions == 0:\n",
    "        return 0.0  # One has lesions, other does not\n",
    "    \n",
    "    # Count overlapping lesions\n",
    "    true_positive = 0\n",
    "    \n",
    "    for true_lesion_id in range(1, true_num_lesions + 1):\n",
    "        true_lesion_mask = (true_labeled == true_lesion_id)\n",
    "        \n",
    "        overlapping_pred_labels = np.unique(pred_labeled[true_lesion_mask]) # Check if any predicted lesion overlaps with this true lesion\n",
    "        overlapping_pred_labels = overlapping_pred_labels[overlapping_pred_labels != 0]\n",
    "        \n",
    "        if len(overlapping_pred_labels) > 0:\n",
    "             \n",
    "            for pred_label in overlapping_pred_labels: # Check if the overlap is significant\n",
    "                pred_lesion_mask = (pred_labeled == pred_label)\n",
    "                intersection = np.sum(true_lesion_mask & pred_lesion_mask)\n",
    "                true_lesion_size = np.sum(true_lesion_mask)\n",
    "                \n",
    "                if intersection / true_lesion_size > 0.5:  \n",
    "                    true_positive += 1\n",
    "                    break\n",
    "    \n",
    "    # Calculate metrics\n",
    "    false_negative = true_num_lesions - true_positive\n",
    "    false_positive = pred_num_lesions - true_positive\n",
    "    \n",
    "    if true_positive + false_negative == 0:\n",
    "        sensitivity = 1.0\n",
    "    else:\n",
    "        sensitivity = true_positive / (true_positive + false_negative)\n",
    "    \n",
    "    if true_positive + false_positive == 0:\n",
    "        precision = 1.0\n",
    "    else:\n",
    "        precision = true_positive / (true_positive + false_positive)\n",
    "    \n",
    "    if precision + sensitivity == 0:\n",
    "        f1 = 0.0\n",
    "    else:\n",
    "        f1 = 2 * (precision * sensitivity) / (precision + sensitivity)\n",
    "    \n",
    "    return f1\n"
   ]
  },
  {
   "cell_type": "code",
   "execution_count": null,
   "id": "c74859ae",
   "metadata": {},
   "outputs": [],
   "source": [
    "def trainer_class(model, train_loader, test_loader, criterion, optimizer, num_epochs, device, patience_counter, scheduler=None):\n",
    "    training_losses = []\n",
    "    validation_losses = []\n",
    "    best_val_loss = float('inf')\n",
    "    train_dice_scores = []\n",
    "    valid_dice_scores = []\n",
    "    patience = 0\n",
    "    \n",
    "    for epoch in range(num_epochs):\n",
    "        model.train()\n",
    "        train_loss = 0.0\n",
    "        train_dice_total = 0.0\n",
    "        num_train_batches = 0\n",
    "        \n",
    "        for batch_idx, (images, masks) in enumerate(tqdm.tqdm(train_loader, desc=f\"Train Epoch {epoch+1}/{num_epochs}\")):\n",
    "            images, masks = images.to(device, dtype=torch.float32), masks.to(device, dtype=torch.float32)\n",
    "            optimizer.zero_grad()\n",
    "            \n",
    "            outputs = model(images)  # logits \n",
    "            loss = criterion(outputs, masks)\n",
    "            loss.backward()\n",
    "            torch.nn.utils.clip_grad_norm_(model.parameters(), max_norm=1.0)\n",
    "            optimizer.step()\n",
    "            \n",
    "            with torch.no_grad():\n",
    "                preds = (torch.sigmoid(outputs) > 0.5).float()\n",
    "                batch_dice = dice_score(masks.cpu().numpy(), preds.cpu().numpy())\n",
    "                train_dice_total += batch_dice\n",
    "            \n",
    "            train_loss += loss.item() * images.size(0)\n",
    "            num_train_batches += 1\n",
    "        \n",
    "        epoch_train_loss = train_loss / len(train_loader.dataset)\n",
    "        training_losses.append(epoch_train_loss)\n",
    "        epoch_dice_score = train_dice_total / num_train_batches\n",
    "        train_dice_scores.append(epoch_dice_score)\n",
    "        \n",
    "        # Validation\n",
    "        model.eval()\n",
    "        validation_loss = 0.0\n",
    "        val_dice_total = 0.0\n",
    "        num_val_batches = 0\n",
    "        \n",
    "        with torch.no_grad():\n",
    "            for images, masks in tqdm.tqdm(test_loader, desc=f\"Validation Epoch {epoch+1}/{num_epochs}\"):\n",
    "                images, masks = images.to(device, dtype=torch.float32), masks.to(device, dtype=torch.float32)\n",
    "                outputs = model(images)\n",
    "                loss = criterion(outputs, masks)\n",
    "                validation_loss += loss.item() * images.size(0)\n",
    "                \n",
    "                preds = (torch.sigmoid(outputs) > 0.5).float()\n",
    "                batch_dice = dice_score(masks.cpu().numpy(), preds.cpu().numpy())\n",
    "                val_dice_total += batch_dice\n",
    "                num_val_batches += 1\n",
    "        \n",
    "        epoch_val_loss = validation_loss / len(test_loader.dataset)\n",
    "        validation_losses.append(epoch_val_loss)\n",
    "        epoch_dice_score_val = val_dice_total / num_val_batches\n",
    "        valid_dice_scores.append(epoch_dice_score_val)\n",
    "        \n",
    "        print(\"*\"*50)\n",
    "        print(f\"Epoch {epoch+1}/{num_epochs}, Train Loss: {epoch_train_loss:.4f}, Val Loss: {epoch_val_loss:.4f}\")\n",
    "        print(f\"Epoch {epoch+1}/{num_epochs}, Train Dice Score: {epoch_dice_score:.4f}, Val Dice Score: {epoch_dice_score_val:.4f}\")\n",
    "        print(\"*\"*50)\n",
    "        \n",
    "        if epoch_val_loss < best_val_loss:\n",
    "            best_val_loss = epoch_val_loss\n",
    "            patience = 0\n",
    "        else:\n",
    "            patience += 1\n",
    "            if patience >= patience_counter:\n",
    "                print(\"Early stopping triggered\")\n",
    "                break\n",
    "                \n",
    "        if scheduler:\n",
    "            scheduler.step(epoch_val_loss)\n",
    "    \n",
    "    return training_losses, validation_losses, train_dice_scores, valid_dice_scores"
   ]
  },
  {
   "cell_type": "code",
   "execution_count": 15,
   "id": "7ca0af12",
   "metadata": {},
   "outputs": [],
   "source": [
    "class CombinedLoss(nn.Module):\n",
    "    def __init__(self, alpha=0.3):\n",
    "        super().__init__()\n",
    "        self.alpha = alpha\n",
    "        self.bce = nn.BCEWithLogitsLoss()\n",
    "    \n",
    "    def dice_loss(self, pred, target, smooth=1):\n",
    "        pred = torch.sigmoid(pred)\n",
    "        pred = pred.view(-1)\n",
    "        target = target.view(-1)\n",
    "        intersection = (pred * target).sum()\n",
    "        dice = (2. * intersection + smooth) / (pred.sum() + target.sum() + smooth)\n",
    "        return 1 - dice\n",
    "    \n",
    "    def forward(self, pred, target):\n",
    "        bce_loss = self.bce(pred, target)\n",
    "        dice_loss = self.dice_loss(pred, target)\n",
    "        return bce_loss +  dice_loss"
   ]
  },
  {
   "cell_type": "code",
   "execution_count": 16,
   "id": "c3aecdd7",
   "metadata": {},
   "outputs": [
    {
     "name": "stdout",
     "output_type": "stream",
     "text": [
      "Number of trainable parameters in the model: 24433233\n"
     ]
    }
   ],
   "source": [
    "model1 = smp.Unet(encoder_name=\"resnet34\",encoder_weights=\"imagenet\",in_channels=2,classes=1)\n",
    "DEVICE = torch.device(\"cuda:0\" if torch.cuda.is_available() else \"cpu\")\n",
    "model1.to(DEVICE)\n",
    "parameters_count = sum(p.numel() for p in model1.parameters() if p.requires_grad)\n",
    "print(f\"Number of trainable parameters in the model: {parameters_count}\")"
   ]
  },
  {
   "cell_type": "code",
   "execution_count": 17,
   "id": "3f0bdfd7",
   "metadata": {},
   "outputs": [],
   "source": [
    "criterion = CombinedLoss(alpha=0.7)\n",
    "optimizer = torch.optim.AdamW(model1.parameters(), lr=1e-4, weight_decay=1e-4)\n",
    "scheduler = torch.optim.lr_scheduler.CosineAnnealingLR(optimizer, T_max=50, eta_min=1e-6)"
   ]
  },
  {
   "cell_type": "code",
   "execution_count": 21,
   "id": "ea7f551f",
   "metadata": {},
   "outputs": [
    {
     "name": "stderr",
     "output_type": "stream",
     "text": [
      "Train Epoch 1/50: 100%|██████████| 188/188 [00:03<00:00, 48.32it/s]\n",
      "Validation Epoch 1/50: 100%|██████████| 51/51 [00:00<00:00, 195.81it/s]\n"
     ]
    },
    {
     "name": "stdout",
     "output_type": "stream",
     "text": [
      "**************************************************\n",
      "Epoch 1/50, Train Loss: 1.3760, Val Loss: 1.1872\n",
      "Epoch 1/50, Train Dice Score: 0.1895, Val Dice Score: 0.0343\n",
      "**************************************************\n"
     ]
    },
    {
     "name": "stderr",
     "output_type": "stream",
     "text": [
      "/home/pritamk/miniconda3/envs/AIMIA/lib/python3.12/site-packages/torch/optim/lr_scheduler.py:204: UserWarning: The epoch parameter in `scheduler.step()` was not necessary and is being deprecated where possible. Please use `scheduler.step()` to step the scheduler. During the deprecation, if epoch is different from None, the closed form is used instead of the new chainable form, where available. Please open an issue if you are unable to replicate your use case: https://github.com/pytorch/pytorch/issues/new/choose.\n",
      "  warnings.warn(EPOCH_DEPRECATION_WARNING, UserWarning)\n",
      "Train Epoch 2/50: 100%|██████████| 188/188 [00:03<00:00, 51.12it/s]\n",
      "Validation Epoch 2/50: 100%|██████████| 51/51 [00:00<00:00, 194.62it/s]\n"
     ]
    },
    {
     "name": "stdout",
     "output_type": "stream",
     "text": [
      "**************************************************\n",
      "Epoch 2/50, Train Loss: 1.0422, Val Loss: 1.1390\n",
      "Epoch 2/50, Train Dice Score: 0.4221, Val Dice Score: 0.0616\n",
      "**************************************************\n"
     ]
    },
    {
     "name": "stderr",
     "output_type": "stream",
     "text": [
      "Train Epoch 3/50: 100%|██████████| 188/188 [00:03<00:00, 51.22it/s]\n",
      "Validation Epoch 3/50: 100%|██████████| 51/51 [00:00<00:00, 193.97it/s]\n"
     ]
    },
    {
     "name": "stdout",
     "output_type": "stream",
     "text": [
      "**************************************************\n",
      "Epoch 3/50, Train Loss: 0.8848, Val Loss: 1.1343\n",
      "Epoch 3/50, Train Dice Score: 0.4992, Val Dice Score: 0.0549\n",
      "**************************************************\n"
     ]
    },
    {
     "name": "stderr",
     "output_type": "stream",
     "text": [
      "Train Epoch 4/50: 100%|██████████| 188/188 [00:03<00:00, 51.22it/s]\n",
      "Validation Epoch 4/50: 100%|██████████| 51/51 [00:00<00:00, 196.45it/s]\n"
     ]
    },
    {
     "name": "stdout",
     "output_type": "stream",
     "text": [
      "**************************************************\n",
      "Epoch 4/50, Train Loss: 0.7243, Val Loss: 1.0937\n",
      "Epoch 4/50, Train Dice Score: 0.5727, Val Dice Score: 0.0764\n",
      "**************************************************\n"
     ]
    },
    {
     "name": "stderr",
     "output_type": "stream",
     "text": [
      "Train Epoch 5/50: 100%|██████████| 188/188 [00:03<00:00, 51.20it/s]\n",
      "Validation Epoch 5/50: 100%|██████████| 51/51 [00:00<00:00, 195.31it/s]\n"
     ]
    },
    {
     "name": "stdout",
     "output_type": "stream",
     "text": [
      "**************************************************\n",
      "Epoch 5/50, Train Loss: 0.5992, Val Loss: 1.1095\n",
      "Epoch 5/50, Train Dice Score: 0.6162, Val Dice Score: 0.0786\n",
      "**************************************************\n"
     ]
    },
    {
     "name": "stderr",
     "output_type": "stream",
     "text": [
      "Train Epoch 6/50: 100%|██████████| 188/188 [00:03<00:00, 51.31it/s]\n",
      "Validation Epoch 6/50: 100%|██████████| 51/51 [00:00<00:00, 196.77it/s]\n"
     ]
    },
    {
     "name": "stdout",
     "output_type": "stream",
     "text": [
      "**************************************************\n",
      "Epoch 6/50, Train Loss: 0.4935, Val Loss: 1.0915\n",
      "Epoch 6/50, Train Dice Score: 0.6609, Val Dice Score: 0.0958\n",
      "**************************************************\n"
     ]
    },
    {
     "name": "stderr",
     "output_type": "stream",
     "text": [
      "Train Epoch 7/50: 100%|██████████| 188/188 [00:03<00:00, 51.22it/s]\n",
      "Validation Epoch 7/50: 100%|██████████| 51/51 [00:00<00:00, 190.63it/s]\n"
     ]
    },
    {
     "name": "stdout",
     "output_type": "stream",
     "text": [
      "**************************************************\n",
      "Epoch 7/50, Train Loss: 0.4170, Val Loss: 1.1000\n",
      "Epoch 7/50, Train Dice Score: 0.6964, Val Dice Score: 0.0961\n",
      "**************************************************\n"
     ]
    },
    {
     "name": "stderr",
     "output_type": "stream",
     "text": [
      "Train Epoch 8/50: 100%|██████████| 188/188 [00:03<00:00, 51.29it/s]\n",
      "Validation Epoch 8/50: 100%|██████████| 51/51 [00:00<00:00, 195.43it/s]\n"
     ]
    },
    {
     "name": "stdout",
     "output_type": "stream",
     "text": [
      "**************************************************\n",
      "Epoch 8/50, Train Loss: 0.3972, Val Loss: 1.1565\n",
      "Epoch 8/50, Train Dice Score: 0.6945, Val Dice Score: 0.0731\n",
      "**************************************************\n"
     ]
    },
    {
     "name": "stderr",
     "output_type": "stream",
     "text": [
      "Train Epoch 9/50: 100%|██████████| 188/188 [00:03<00:00, 47.23it/s]\n",
      "Validation Epoch 9/50: 100%|██████████| 51/51 [00:00<00:00, 189.71it/s]\n"
     ]
    },
    {
     "name": "stdout",
     "output_type": "stream",
     "text": [
      "**************************************************\n",
      "Epoch 9/50, Train Loss: 0.3376, Val Loss: 1.0544\n",
      "Epoch 9/50, Train Dice Score: 0.7361, Val Dice Score: 0.1162\n",
      "**************************************************\n"
     ]
    },
    {
     "name": "stderr",
     "output_type": "stream",
     "text": [
      "Train Epoch 10/50: 100%|██████████| 188/188 [00:03<00:00, 51.00it/s]\n",
      "Validation Epoch 10/50: 100%|██████████| 51/51 [00:00<00:00, 194.29it/s]\n"
     ]
    },
    {
     "name": "stdout",
     "output_type": "stream",
     "text": [
      "**************************************************\n",
      "Epoch 10/50, Train Loss: 0.3213, Val Loss: 1.1005\n",
      "Epoch 10/50, Train Dice Score: 0.7400, Val Dice Score: 0.0895\n",
      "**************************************************\n"
     ]
    },
    {
     "name": "stderr",
     "output_type": "stream",
     "text": [
      "Train Epoch 11/50: 100%|██████████| 188/188 [00:03<00:00, 51.02it/s]\n",
      "Validation Epoch 11/50: 100%|██████████| 51/51 [00:00<00:00, 194.07it/s]\n"
     ]
    },
    {
     "name": "stdout",
     "output_type": "stream",
     "text": [
      "**************************************************\n",
      "Epoch 11/50, Train Loss: 0.3139, Val Loss: 1.1023\n",
      "Epoch 11/50, Train Dice Score: 0.7427, Val Dice Score: 0.1047\n",
      "**************************************************\n"
     ]
    },
    {
     "name": "stderr",
     "output_type": "stream",
     "text": [
      "Train Epoch 12/50: 100%|██████████| 188/188 [00:03<00:00, 51.15it/s]\n",
      "Validation Epoch 12/50: 100%|██████████| 51/51 [00:00<00:00, 178.62it/s]\n"
     ]
    },
    {
     "name": "stdout",
     "output_type": "stream",
     "text": [
      "**************************************************\n",
      "Epoch 12/50, Train Loss: 0.3026, Val Loss: 1.1324\n",
      "Epoch 12/50, Train Dice Score: 0.7474, Val Dice Score: 0.0981\n",
      "**************************************************\n"
     ]
    },
    {
     "name": "stderr",
     "output_type": "stream",
     "text": [
      "Train Epoch 13/50: 100%|██████████| 188/188 [00:04<00:00, 45.77it/s]\n",
      "Validation Epoch 13/50: 100%|██████████| 51/51 [00:00<00:00, 192.79it/s]\n"
     ]
    },
    {
     "name": "stdout",
     "output_type": "stream",
     "text": [
      "**************************************************\n",
      "Epoch 13/50, Train Loss: 0.2815, Val Loss: 1.1298\n",
      "Epoch 13/50, Train Dice Score: 0.7635, Val Dice Score: 0.1017\n",
      "**************************************************\n"
     ]
    },
    {
     "name": "stderr",
     "output_type": "stream",
     "text": [
      "Train Epoch 14/50: 100%|██████████| 188/188 [00:03<00:00, 49.53it/s]\n",
      "Validation Epoch 14/50: 100%|██████████| 51/51 [00:00<00:00, 195.15it/s]\n"
     ]
    },
    {
     "name": "stdout",
     "output_type": "stream",
     "text": [
      "**************************************************\n",
      "Epoch 14/50, Train Loss: 0.2649, Val Loss: 1.0732\n",
      "Epoch 14/50, Train Dice Score: 0.7771, Val Dice Score: 0.1142\n",
      "**************************************************\n"
     ]
    },
    {
     "name": "stderr",
     "output_type": "stream",
     "text": [
      "Train Epoch 15/50: 100%|██████████| 188/188 [00:03<00:00, 51.25it/s]\n",
      "Validation Epoch 15/50: 100%|██████████| 51/51 [00:00<00:00, 195.32it/s]\n"
     ]
    },
    {
     "name": "stdout",
     "output_type": "stream",
     "text": [
      "**************************************************\n",
      "Epoch 15/50, Train Loss: 0.2424, Val Loss: 1.1579\n",
      "Epoch 15/50, Train Dice Score: 0.7962, Val Dice Score: 0.0950\n",
      "**************************************************\n"
     ]
    },
    {
     "name": "stderr",
     "output_type": "stream",
     "text": [
      "Train Epoch 16/50: 100%|██████████| 188/188 [00:03<00:00, 51.11it/s]\n",
      "Validation Epoch 16/50: 100%|██████████| 51/51 [00:00<00:00, 192.27it/s]\n"
     ]
    },
    {
     "name": "stdout",
     "output_type": "stream",
     "text": [
      "**************************************************\n",
      "Epoch 16/50, Train Loss: 0.2248, Val Loss: 1.1311\n",
      "Epoch 16/50, Train Dice Score: 0.8103, Val Dice Score: 0.0970\n",
      "**************************************************\n"
     ]
    },
    {
     "name": "stderr",
     "output_type": "stream",
     "text": [
      "Train Epoch 17/50: 100%|██████████| 188/188 [00:03<00:00, 51.09it/s]\n",
      "Validation Epoch 17/50: 100%|██████████| 51/51 [00:00<00:00, 195.67it/s]\n"
     ]
    },
    {
     "name": "stdout",
     "output_type": "stream",
     "text": [
      "**************************************************\n",
      "Epoch 17/50, Train Loss: 0.2169, Val Loss: 1.0803\n",
      "Epoch 17/50, Train Dice Score: 0.8170, Val Dice Score: 0.1078\n",
      "**************************************************\n"
     ]
    },
    {
     "name": "stderr",
     "output_type": "stream",
     "text": [
      "Train Epoch 18/50: 100%|██████████| 188/188 [00:03<00:00, 47.67it/s]\n",
      "Validation Epoch 18/50: 100%|██████████| 51/51 [00:00<00:00, 129.72it/s]\n"
     ]
    },
    {
     "name": "stdout",
     "output_type": "stream",
     "text": [
      "**************************************************\n",
      "Epoch 18/50, Train Loss: 0.2084, Val Loss: 1.1299\n",
      "Epoch 18/50, Train Dice Score: 0.8242, Val Dice Score: 0.0939\n",
      "**************************************************\n"
     ]
    },
    {
     "name": "stderr",
     "output_type": "stream",
     "text": [
      "Train Epoch 19/50: 100%|██████████| 188/188 [00:03<00:00, 51.18it/s]\n",
      "Validation Epoch 19/50: 100%|██████████| 51/51 [00:00<00:00, 194.23it/s]"
     ]
    },
    {
     "name": "stdout",
     "output_type": "stream",
     "text": [
      "**************************************************\n",
      "Epoch 19/50, Train Loss: 0.2095, Val Loss: 1.1361\n",
      "Epoch 19/50, Train Dice Score: 0.8216, Val Dice Score: 0.1096\n",
      "**************************************************\n",
      "Early stopping triggered\n"
     ]
    },
    {
     "name": "stderr",
     "output_type": "stream",
     "text": [
      "\n"
     ]
    }
   ],
   "source": [
    "training_losses, validation_losses, train_dice_scores, valid_dice_scores = trainer_class(model1, train_loader, val_loader, criterion, optimizer, num_epochs=50, device=DEVICE, patience_counter=10, scheduler=scheduler)"
   ]
  },
  {
   "cell_type": "code",
   "execution_count": 18,
   "id": "4c1c383c",
   "metadata": {},
   "outputs": [],
   "source": [
    "class plotGraphs:\n",
    "    def __init__(self, title):\n",
    "        self.title = title\n",
    "\n",
    "    def plot_losses(self, training_losses, validation_losses):    \n",
    "        plt.figure(figsize=(8, 5))\n",
    "        plt.plot(training_losses, label='Training Loss', color='blue', marker ='o')\n",
    "        plt.plot(validation_losses, label='Validation Loss', color='orange', marker ='s')\n",
    "        plt.title(self.title)\n",
    "        plt.xlabel('Epochs')\n",
    "        plt.ylabel('Loss')\n",
    "        plt.legend()\n",
    "        plt.grid()\n",
    "        plt.show()\n",
    "    def plot_metrics(self, train_dice_scores, valid_dice_scores):    \n",
    "        plt.figure(figsize=(8, 5))\n",
    "        plt.plot(train_dice_scores, label='Training Dice Score', color='blue', marker ='o')\n",
    "        plt.plot(valid_dice_scores, label='Validation Dice Score', color='red', marker ='s')\n",
    "        plt.title(self.title)\n",
    "        plt.xlabel('Epochs')\n",
    "        plt.ylabel('Dice Score')\n",
    "        plt.legend()\n",
    "        plt.grid()\n",
    "        plt.show()\n"
   ]
  },
  {
   "cell_type": "code",
   "execution_count": 20,
   "id": "e972c253",
   "metadata": {},
   "outputs": [
    {
     "data": {
      "image/png": "[encoded data removed]",
      "text/plain": [
       "<Figure size 800x500 with 1 Axes>"
      ]
     },
     "metadata": {},
     "output_type": "display_data"
    },
    {
     "data": {
      "image/png": "[encoded data removed]",
      "text/plain": [
       "<Figure size 800x500 with 1 Axes>"
      ]
     },
     "metadata": {},
     "output_type": "display_data"
    }
   ],
   "source": [
    "plotGraphs(\"Unadapted Baseline Model\").plot_losses(training_losses, validation_losses)\n",
    "plotGraphs(\"Unadapted Baseline Model\").plot_metrics(train_dice_scores, valid_dice_scores)"
   ]
  },
  {
   "cell_type": "code",
   "execution_count": 19,
   "id": "c606e3ea",
   "metadata": {},
   "outputs": [],
   "source": [
    "def evaluate(model, test_loader, device, threshold, supervised=False):\n",
    "\tmodel.eval()\n",
    "\tpreds, labels = [], []\n",
    "\n",
    "\twith torch.no_grad():\n",
    "\t\tif supervised:\n",
    "\t\t\tfor img, label, _ in test_loader:\n",
    "\t\t\t\timg = img.to(device, dtype=torch.float32)\n",
    "\t\t\t\tlabel = label.to(device, dtype=torch.float32)\n",
    "\n",
    "\t\t\t\tsegmentation_output, _ = model(img) \n",
    "\t\t\t\toutput = torch.sigmoid(segmentation_output) \n",
    "\n",
    "\t\t\t\tpreds.append(output.cpu())\n",
    "\t\t\t\tlabels.append(label.cpu())\n",
    "\t\telse:\n",
    "\t\t\tfor img, label in test_loader:\n",
    "\t\t\t\timg = img.to(device, dtype=torch.float32)\n",
    "\t\t\t\tlabel = label.to(device, dtype=torch.float32)\n",
    "\t\t\t\t\n",
    "\t\t\t\tsegmentation_output, _ = model(img) \n",
    "\t\t\t\toutput = torch.sigmoid(segmentation_output) \n",
    "\n",
    "\t\t\t\tpreds.append(output.cpu())\n",
    "\t\t\t\tlabels.append(label.cpu())\n",
    "\n",
    "\tpreds = torch.cat(preds, dim=0)         \n",
    "\tlabels = torch.cat(labels, dim=0)       \n",
    "\tbinary_preds = (preds >= threshold).float()\n",
    "\treturn binary_preds, labels"
   ]
  },
  {
   "cell_type": "code",
   "execution_count": 57,
   "id": "616d89a8",
   "metadata": {},
   "outputs": [
    {
     "name": "stdout",
     "output_type": "stream",
     "text": [
      "Best dice score: 0.3084\n",
      "Best f1 score: 0.3084\n",
      "Best lesion-wise accuracy: 0.3157\n"
     ]
    }
   ],
   "source": [
    "best_dice = 0\n",
    "dice_scores_model1 = []\n",
    "lesion_acc_scores_model1 = []\n",
    "best_lesion_acc = 0\n",
    "best_threshold = 0.7\n",
    "model1_eval = smp.Unet(encoder_name=\"resnet34\", encoder_weights=\"imagenet\", in_channels=2, classes=1)\n",
    "model1_eval.to(DEVICE)\n",
    "model1_eval.load_state_dict(torch.load(\"unet_baseline_model.pth\"))\n",
    "model1_eval.eval()\n",
    "with torch.no_grad():\n",
    "        for images, masks in val_loader:\n",
    "            images = images.to('cuda', dtype=torch.float32)\n",
    "            masks = masks.to('cuda', dtype=torch.float32)\n",
    "            \n",
    "            outputs = model1_eval(images) \n",
    "            preds = (torch.sigmoid(outputs) > best_threshold).float()\n",
    "            \n",
    "    \n",
    "            masks_np = masks.squeeze(1).cpu().numpy()  # Remove channel dimension\n",
    "            preds_np = preds.squeeze(1).cpu().numpy()  # Remove channel dimension\n",
    "            \n",
    "            for i in range(masks_np.shape[0]):\n",
    "                dice_scores_model1.append(dice_score(masks_np[i], preds_np[i]))\n",
    "                lesion_acc_scores_model1.append(lesion_wise_accuracy(masks_np[i], preds_np[i]))\n",
    "        \n",
    "\n",
    "print(f\"Best dice score: {np.mean(np.array(dice_scores_model1)):.4f}\")\n",
    "print(f\"Best f1 score: {np.mean(np.array(dice_scores_model1)):.4f}\")\n",
    "print(f\"Best lesion-wise accuracy: {np.mean(np.array(lesion_acc_scores_model1)):.4f}\")"
   ]
  },
  {
   "cell_type": "code",
   "execution_count": 58,
   "id": "5fd05152",
   "metadata": {},
   "outputs": [
    {
     "name": "stdout",
     "output_type": "stream",
     "text": [
      "Dice scores for model 1 shape (407,)\n",
      "Lesion-wise accuracy scores for model 1 shape (407,)\n"
     ]
    }
   ],
   "source": [
    "dice_scores_model1 = np.array(dice_scores_model1)\n",
    "lesion_acc_scores_model1 = np.array(lesion_acc_scores_model1)\n",
    "print(f\"Dice scores for model 1 shape {dice_scores_model1.shape}\")\n",
    "print(f\"Lesion-wise accuracy scores for model 1 shape {lesion_acc_scores_model1.shape}\")"
   ]
  },
  {
   "cell_type": "code",
   "execution_count": 26,
   "id": "31707bee",
   "metadata": {},
   "outputs": [],
   "source": [
    "torch.save(model1.state_dict(), \"unet_baseline_model.pth\")"
   ]
  },
  {
   "cell_type": "code",
   "execution_count": 39,
   "id": "3e98001d",
   "metadata": {},
   "outputs": [],
   "source": [
    "class plotSamples:\n",
    "\tdef __init__(self, model, val_loader, device, threshold, supervised=False):\n",
    "\t\tself.model = model\n",
    "\t\tself.val_loader = val_loader\n",
    "\t\tself.device = device\n",
    "\t\tself.threshold = threshold\n",
    "\t\tself.supervised = supervised\n",
    "\n",
    "\tdef get_items(self):\n",
    "\t\tif self.supervised:\n",
    "\t\t\tval_images = self.val_loader.dataset.tensors[0].numpy()  # Images\n",
    "\t\t\ttest_masks = self.val_loader.dataset.tensors[1].numpy()  # Ground truth masks\n",
    "\t\telse:\n",
    "\t\t\tval_images = self.val_loader.dataset.tensors[0].numpy()\n",
    "\t\t\ttest_masks = self.val_loader.dataset.tensors[1].numpy()\n",
    "\t\t\n",
    "\t\toutputs, labels = evaluate(self.model, self.val_loader, device=self.device, threshold=self.threshold, supervised=self.supervised)\n",
    "\t\toutputs = outputs.squeeze(1).numpy()\n",
    "\t\tlabels = labels.squeeze(1).numpy()\n",
    "\t\t\n",
    "\t\tdice_scores = [dice_score(labels[i], outputs[i]) for i in range(len(labels))]\n",
    "\t\tsorted_indices = np.argsort(dice_scores)\n",
    "\t\t\n",
    "\t\tbest_dice_scores = [(dice_scores[i], i) for i in sorted_indices if dice_scores[i] != 1.0]\n",
    "\t\tworst_dice_scores = [(dice_scores[i], i) for i in sorted_indices]\n",
    "\t\t\n",
    "\t\tif len(best_dice_scores) >= 2:\n",
    "\t\t\tbest_indices = [idx for score, idx in best_dice_scores[-2:]]\n",
    "\t\telse:\n",
    "\t\t\tbest_indices = [idx for score, idx in sorted_indices[-2:]]\n",
    "\t\t\n",
    "\t\tworst_indices = [idx for score, idx in worst_dice_scores[:2]]\n",
    "\t\t\n",
    "\t\ttwo_best_masks_ground_truth = test_masks[best_indices]\n",
    "\t\ttwo_worst_masks_ground_truth = test_masks[worst_indices]\n",
    "\t\ttwo_best_masks_predictions = outputs[best_indices]\n",
    "\t\ttwo_worst_masks_predictions = outputs[worst_indices]\n",
    "\t\t\n",
    "\t\treturn two_best_masks_ground_truth, two_best_masks_predictions, two_worst_masks_ground_truth, two_worst_masks_predictions\n",
    "\t\n",
    "\tdef plot_samples(self):\n",
    "\t\tbest_masks_gt, best_masks_pred, worst_masks_gt, worst_masks_pred = self.get_items()\n",
    "\t\t\n",
    "\t\tfor i in range(min(2, len(best_masks_gt))):\n",
    "\t\t\tplt.figure(figsize=(10, 5))\n",
    "\t\t\tplt.subplot(1, 2, 1)\n",
    "\t\t\t# Handle different tensor dimensions\n",
    "\t\t\tif len(best_masks_gt[i].shape) == 3:\n",
    "\t\t\t\tplt.imshow(best_masks_gt[i][0], cmap='gray')\n",
    "\t\t\telse:\n",
    "\t\t\t\tplt.imshow(best_masks_gt[i], cmap='gray')\n",
    "\t\t\tplt.title(f'Best Mask Ground Truth {i+1}')\n",
    "\t\t\tplt.axis('off')\n",
    "\t\t\t\n",
    "\t\t\tplt.subplot(1, 2, 2)\n",
    "\t\t\tplt.imshow(best_masks_pred[i], cmap='gray')\n",
    "\t\t\tplt.title(f'Best Mask Prediction {i+1}')\n",
    "\t\t\tplt.axis('off')\n",
    "\t\t\tplt.show()\n",
    "\t\t\n",
    "\t\tfor i in range(min(2, len(worst_masks_gt))):\n",
    "\t\t\tplt.figure(figsize=(10, 5))\n",
    "\t\t\tplt.subplot(1, 2, 1)\n",
    "\t\t\tif len(worst_masks_gt[i].shape) == 3:\n",
    "\t\t\t\tplt.imshow(worst_masks_gt[i][0], cmap='gray')\n",
    "\t\t\telse:\n",
    "\t\t\t\tplt.imshow(worst_masks_gt[i], cmap='gray')\n",
    "\t\t\tplt.title(f'Worst Mask Ground Truth {i+1}')\n",
    "\t\t\tplt.axis('off')\n",
    "\t\t\t\n",
    "\t\t\tplt.subplot(1, 2, 2)\n",
    "\t\t\tplt.imshow(worst_masks_pred[i], cmap='gray')\n",
    "\t\t\tplt.title(f'Worst Mask Prediction {i+1}')\n",
    "\t\t\tplt.axis('off') \n",
    "\t\t\tplt.show()"
   ]
  },
  {
   "cell_type": "code",
   "execution_count": null,
   "id": "62c18be3",
   "metadata": {},
   "outputs": [
    {
     "data": {
      "image/png": "[encoded data removed]",
      "text/plain": [
       "<Figure size 1000x500 with 2 Axes>"
      ]
     },
     "metadata": {},
     "output_type": "display_data"
    },
    {
     "data": {
      "image/png": "[encoded data removed]",
      "text/plain": [
       "<Figure size 1000x500 with 2 Axes>"
      ]
     },
     "metadata": {},
     "output_type": "display_data"
    },
    {
     "data": {
      "image/png": "[encoded data removed]",
      "text/plain": [
       "<Figure size 1000x500 with 2 Axes>"
      ]
     },
     "metadata": {},
     "output_type": "display_data"
    },
    {
     "data": {
      "image/png": "[encoded data removed]",
      "text/plain": [
       "<Figure size 1000x500 with 2 Axes>"
      ]
     },
     "metadata": {},
     "output_type": "display_data"
    }
   ],
   "source": [
    "plotSamples(model1, val_loader, device='cuda', threshold=0.5).plot_samples()"
   ]
  },
  {
   "cell_type": "markdown",
   "id": "0fbd2d1d",
   "metadata": {},
   "source": [
    "### b"
   ]
  },
  {
   "cell_type": "code",
   "execution_count": 41,
   "id": "b15fda0a",
   "metadata": {},
   "outputs": [
    {
     "name": "stdout",
     "output_type": "stream",
     "text": [
      "Combined training images shape: torch.Size([2454, 2, 64, 64])\n",
      "Combined training masks shape: torch.Size([2454, 1, 64, 64])\n",
      "Supervised DA train loader size: 77\n",
      "Supervised DA validation loader size: 13\n"
     ]
    }
   ],
   "source": [
    "combined_train_images = torch.cat((X_tensor, ds3_train), dim=0)\n",
    "combined_train_masks = torch.cat((y_tensor, ds3_train_masks), dim=0)\n",
    "ds2_domain_labels = torch.zeros(X_tensor.shape[0], 1) # Domain 0\n",
    "ds3_domain_labels = torch.ones(ds3_train.shape[0], 1) # Domain 1\n",
    "combined_domain_labels = torch.cat((ds2_domain_labels, ds3_domain_labels), dim=0)\n",
    "supervised_da_train_dataset = TensorDataset(combined_train_images, combined_train_masks, combined_domain_labels)\n",
    "supervised_da_train_loader = DataLoader(supervised_da_train_dataset, batch_size=32, shuffle=True)\n",
    "ds3_test_domain_labels = torch.ones(ds3_test.shape[0], 1) # Domain 1 for target set\n",
    "supervised_da_val_dataset = TensorDataset(ds3_test, ds3_test_masks, ds3_test_domain_labels)\n",
    "supervised_da_val_loader = DataLoader(supervised_da_val_dataset, batch_size=32, shuffle=False)\n",
    "\n",
    "print(f\"Combined training images shape: {combined_train_images.shape}\")\n",
    "print(f\"Combined training masks shape: {combined_train_masks.shape}\")\n",
    "print(f\"Supervised DA train loader size: {len(supervised_da_train_loader)}\") #Number of batches in the training loader\n",
    "print(f\"Supervised DA validation loader size: {len(supervised_da_val_loader)}\") #Number of batches in the validation loader"
   ]
  },
  {
   "cell_type": "code",
   "execution_count": 34,
   "id": "e9e5abb9",
   "metadata": {},
   "outputs": [],
   "source": [
    "class GradientReversalLayer(torch.autograd.Function):\n",
    "    @staticmethod\n",
    "    def forward(ctx, x, lambda_):\n",
    "        ctx.lambda_ = lambda_\n",
    "        return x.view_as(x)\n",
    "\n",
    "    @staticmethod\n",
    "    def backward(ctx, grad_output):\n",
    "        return -ctx.lambda_ * grad_output, None"
   ]
  },
  {
   "cell_type": "code",
   "execution_count": 35,
   "id": "8fce2f94",
   "metadata": {},
   "outputs": [],
   "source": [
    "class DomainAdaptationModel(nn.Module):\n",
    "    def __init__(self, segmentation_model, grl_lambda=1.0):\n",
    "        super(DomainAdaptationModel, self).__init__()\n",
    "        self.segmentation_model = segmentation_model\n",
    "        self.grl_lambda = grl_lambda\n",
    "\n",
    "        self.domain_classifier = nn.Sequential(\n",
    "            nn.AdaptiveAvgPool2d(1),\n",
    "            nn.Flatten(),\n",
    "            nn.Linear(512, 256),\n",
    "            nn.ReLU(True),\n",
    "            nn.Dropout(0.4),\n",
    "            nn.Linear(256, 1)\n",
    "        )\n",
    "\n",
    "    def forward(self, x):\n",
    "        encoder_features = self.segmentation_model.encoder(x)[-1]\n",
    "        segmentation_output = self.segmentation_model(x)\n",
    "\n",
    "        reversed_features = GradientReversalLayer.apply(encoder_features, self.grl_lambda)\n",
    "        domain_output = self.domain_classifier(reversed_features)\n",
    "\n",
    "        return segmentation_output, domain_output\n"
   ]
  },
  {
   "cell_type": "code",
   "execution_count": 36,
   "id": "84678c02",
   "metadata": {},
   "outputs": [],
   "source": [
    "def supervised_da_trainer(model, train_loader, val_loader, segmentation_criterion,\n",
    "                          domain_criterion, optimizer, num_epochs, device,\n",
    "                          patience_counter, domain_loss_weight=0.1, scheduler=None):\n",
    "\n",
    "    training_losses = []\n",
    "    validation_losses = []\n",
    "    train_dice_scores = []\n",
    "    valid_dice_scores = []\n",
    "\n",
    "    best_val_loss = float('inf')\n",
    "    patience = 0\n",
    "\n",
    "    for epoch in range(num_epochs):\n",
    "        model.train()\n",
    "        epoch_seg_loss, epoch_domain_loss, epoch_total_loss = 0, 0, 0\n",
    "        epoch_dice = 0\n",
    "        num_train_samples = 0\n",
    "\n",
    "        for images, masks, domain_labels in tqdm.tqdm(train_loader, desc=f\"Train Epoch {epoch+1}/{num_epochs}\"):\n",
    "            images = images.to(device, dtype=torch.float32)\n",
    "            masks = masks.to(device, dtype=torch.float32)\n",
    "            domain_labels = domain_labels.to(device, dtype=torch.float32)\n",
    "\n",
    "            optimizer.zero_grad()\n",
    "\n",
    "            segmentation_output, domain_output = model(images) # Get both segmentation and domain outputs(logits)\n",
    "\n",
    "            seg_loss = segmentation_criterion(segmentation_output, masks)\n",
    "            d_loss  = domain_criterion(domain_output, domain_labels)\n",
    "\n",
    "            total_loss = seg_loss + domain_loss_weight * d_loss\n",
    "            total_loss.backward()\n",
    "            torch.nn.utils.clip_grad_norm_(model.parameters(), max_norm=1.0)\n",
    "            optimizer.step()\n",
    "\n",
    "            # Add to epoch totals\n",
    "            epoch_seg_loss += seg_loss.item() * images.size(0)\n",
    "            epoch_domain_loss += d_loss.item() * images.size(0)\n",
    "            epoch_total_loss += total_loss.item() * images.size(0) #images.size(0) is the batch size\n",
    "            num_train_samples += images.size(0) # Add number of samples in the batch\n",
    "\n",
    "            preds = (torch.sigmoid(segmentation_output) > 0.5).float()\n",
    "            epoch_dice += dice_score(masks.cpu().numpy(), preds.cpu().numpy())\n",
    "\n",
    "        # Epoch averages\n",
    "        epoch_seg_loss /= num_train_samples\n",
    "        epoch_domain_loss /= num_train_samples\n",
    "        epoch_total_loss /= num_train_samples\n",
    "        epoch_dice /= len(train_loader)\n",
    "\n",
    "        training_losses.append(epoch_total_loss)\n",
    "        train_dice_scores.append(epoch_dice)\n",
    "\n",
    "        # Validation \n",
    "        model.eval()\n",
    "        val_seg_loss = 0\n",
    "        val_dice = 0\n",
    "        num_val_samples = 0\n",
    "\n",
    "        with torch.no_grad():\n",
    "            for images, masks, _ in tqdm.tqdm(val_loader, desc=f\"Validation Epoch {epoch+1}/{num_epochs}\"):\n",
    "                images = images.to(device, dtype=torch.float32)\n",
    "                masks = masks.to(device, dtype=torch.float32)\n",
    "\n",
    "                segmentation_output, _ = model(images) # Ignore domain output during validation\n",
    "\n",
    "                seg_loss = segmentation_criterion(segmentation_output, masks)\n",
    "                val_seg_loss += seg_loss.item() * images.size(0)\n",
    "\n",
    "                preds = (torch.sigmoid(segmentation_output) > 0.5).float()\n",
    "                val_dice += dice_score(masks.cpu().numpy(), preds.cpu().numpy())\n",
    "\n",
    "                num_val_samples += images.size(0)\n",
    "\n",
    "        val_seg_loss /= num_val_samples\n",
    "        validation_losses.append(val_seg_loss)\n",
    "        val_dice /= len(val_loader)\n",
    "        valid_dice_scores.append(val_dice)\n",
    "\n",
    "        print(f\"\\nEpoch {epoch+1}/{num_epochs}\")\n",
    "        print(f\"Train Loss: {epoch_total_loss:.4f} | Seg: {epoch_seg_loss:.4f} | Domain: {epoch_domain_loss:.4f}\")\n",
    "        print(f\"Val Seg Loss: {val_seg_loss:.4f}\")\n",
    "        print(f\"Train Dice: {epoch_dice:.4f} | Val Dice: {val_dice:.4f}\\n\")\n",
    "\n",
    "        # Early stopping\n",
    "        if val_seg_loss < best_val_loss:\n",
    "            best_val_loss = val_seg_loss\n",
    "            patience = 0\n",
    "        else:\n",
    "            patience += 1\n",
    "            if patience >= patience_counter:\n",
    "                print(\"Early stopping triggered.\")\n",
    "                break\n",
    "\n",
    "        if scheduler:\n",
    "            scheduler.step(val_seg_loss)\n",
    "\n",
    "    return training_losses, validation_losses, train_dice_scores, valid_dice_scores\n"
   ]
  },
  {
   "cell_type": "code",
   "execution_count": 50,
   "id": "339fc38b",
   "metadata": {},
   "outputs": [],
   "source": [
    "segmentation_criterion = criterion #Segmentation loss. Using combined loss\n",
    "domain_criterion = nn.BCEWithLogitsLoss() #Domain loss. Requires logits as input.\n",
    "model = smp.Unet(encoder_name=\"resnet34\",encoder_weights=\"imagenet\",in_channels=2,classes=1)\n",
    "domain_adaptation_model = DomainAdaptationModel(model, grl_lambda=0.1)\n",
    "domain_adaptation_model.to(DEVICE)\n",
    "optimizer_da = torch.optim.Adam(domain_adaptation_model.parameters(), lr=5e-5, weight_decay=1e-5)\n",
    "scheduler_da = torch.optim.lr_scheduler.ReduceLROnPlateau(optimizer_da, mode='min', factor=0.5, patience=3)"
   ]
  },
  {
   "cell_type": "code",
   "execution_count": 51,
   "id": "08f7ba6d",
   "metadata": {},
   "outputs": [
    {
     "name": "stderr",
     "output_type": "stream",
     "text": [
      "Train Epoch 1/50: 100%|██████████| 77/77 [00:02<00:00, 28.31it/s]\n",
      "Validation Epoch 1/50: 100%|██████████| 13/13 [00:00<00:00, 90.00it/s] \n"
     ]
    },
    {
     "name": "stdout",
     "output_type": "stream",
     "text": [
      "\n",
      "Epoch 1/50\n",
      "Train Loss: 1.9011 | Seg: 1.4210 | Domain: 0.9602\n",
      "Val Seg Loss: 1.3243\n",
      "Train Dice: 0.0470 | Val Dice: 0.0207\n",
      "\n"
     ]
    },
    {
     "name": "stderr",
     "output_type": "stream",
     "text": [
      "Train Epoch 2/50: 100%|██████████| 77/77 [00:02<00:00, 30.39it/s]\n",
      "Validation Epoch 2/50: 100%|██████████| 13/13 [00:00<00:00, 109.50it/s]\n"
     ]
    },
    {
     "name": "stdout",
     "output_type": "stream",
     "text": [
      "\n",
      "Epoch 2/50\n",
      "Train Loss: 1.7145 | Seg: 1.2442 | Domain: 0.9407\n",
      "Val Seg Loss: 1.2369\n",
      "Train Dice: 0.1645 | Val Dice: 0.0266\n",
      "\n"
     ]
    },
    {
     "name": "stderr",
     "output_type": "stream",
     "text": [
      "Train Epoch 3/50: 100%|██████████| 77/77 [00:02<00:00, 30.41it/s]\n",
      "Validation Epoch 3/50: 100%|██████████| 13/13 [00:00<00:00, 107.82it/s]\n"
     ]
    },
    {
     "name": "stdout",
     "output_type": "stream",
     "text": [
      "\n",
      "Epoch 3/50\n",
      "Train Loss: 1.6527 | Seg: 1.1594 | Domain: 0.9867\n",
      "Val Seg Loss: 1.1681\n",
      "Train Dice: 0.2973 | Val Dice: 0.0689\n",
      "\n"
     ]
    },
    {
     "name": "stderr",
     "output_type": "stream",
     "text": [
      "Train Epoch 4/50: 100%|██████████| 77/77 [00:02<00:00, 30.39it/s]\n",
      "Validation Epoch 4/50: 100%|██████████| 13/13 [00:00<00:00, 107.67it/s]\n"
     ]
    },
    {
     "name": "stdout",
     "output_type": "stream",
     "text": [
      "\n",
      "Epoch 4/50\n",
      "Train Loss: 1.5318 | Seg: 1.1024 | Domain: 0.8587\n",
      "Val Seg Loss: 1.1940\n",
      "Train Dice: 0.3433 | Val Dice: 0.0939\n",
      "\n"
     ]
    },
    {
     "name": "stderr",
     "output_type": "stream",
     "text": [
      "Train Epoch 5/50: 100%|██████████| 77/77 [00:02<00:00, 30.45it/s]\n",
      "Validation Epoch 5/50: 100%|██████████| 13/13 [00:00<00:00, 108.28it/s]\n"
     ]
    },
    {
     "name": "stdout",
     "output_type": "stream",
     "text": [
      "\n",
      "Epoch 5/50\n",
      "Train Loss: 1.4987 | Seg: 1.0373 | Domain: 0.9229\n",
      "Val Seg Loss: 1.2309\n",
      "Train Dice: 0.4352 | Val Dice: 0.1013\n",
      "\n"
     ]
    },
    {
     "name": "stderr",
     "output_type": "stream",
     "text": [
      "Train Epoch 6/50: 100%|██████████| 77/77 [00:02<00:00, 30.37it/s]\n",
      "Validation Epoch 6/50: 100%|██████████| 13/13 [00:00<00:00, 109.38it/s]\n"
     ]
    },
    {
     "name": "stdout",
     "output_type": "stream",
     "text": [
      "\n",
      "Epoch 6/50\n",
      "Train Loss: 1.3778 | Seg: 0.9881 | Domain: 0.7794\n",
      "Val Seg Loss: 1.0768\n",
      "Train Dice: 0.4845 | Val Dice: 0.1721\n",
      "\n"
     ]
    },
    {
     "name": "stderr",
     "output_type": "stream",
     "text": [
      "Train Epoch 7/50: 100%|██████████| 77/77 [00:02<00:00, 30.46it/s]\n",
      "Validation Epoch 7/50: 100%|██████████| 13/13 [00:00<00:00, 108.07it/s]\n"
     ]
    },
    {
     "name": "stdout",
     "output_type": "stream",
     "text": [
      "\n",
      "Epoch 7/50\n",
      "Train Loss: 1.4058 | Seg: 0.9358 | Domain: 0.9401\n",
      "Val Seg Loss: 1.0373\n",
      "Train Dice: 0.5284 | Val Dice: 0.1614\n",
      "\n"
     ]
    },
    {
     "name": "stderr",
     "output_type": "stream",
     "text": [
      "Train Epoch 8/50: 100%|██████████| 77/77 [00:02<00:00, 30.34it/s]\n",
      "Validation Epoch 8/50: 100%|██████████| 13/13 [00:00<00:00, 109.79it/s]\n"
     ]
    },
    {
     "name": "stdout",
     "output_type": "stream",
     "text": [
      "\n",
      "Epoch 8/50\n",
      "Train Loss: 1.2968 | Seg: 0.8818 | Domain: 0.8300\n",
      "Val Seg Loss: 1.0362\n",
      "Train Dice: 0.5572 | Val Dice: 0.1810\n",
      "\n"
     ]
    },
    {
     "name": "stderr",
     "output_type": "stream",
     "text": [
      "Train Epoch 9/50: 100%|██████████| 77/77 [00:02<00:00, 30.46it/s]\n",
      "Validation Epoch 9/50: 100%|██████████| 13/13 [00:00<00:00, 109.73it/s]\n"
     ]
    },
    {
     "name": "stdout",
     "output_type": "stream",
     "text": [
      "\n",
      "Epoch 9/50\n",
      "Train Loss: 1.2016 | Seg: 0.8303 | Domain: 0.7426\n",
      "Val Seg Loss: 0.9325\n",
      "Train Dice: 0.5927 | Val Dice: 0.3518\n",
      "\n"
     ]
    },
    {
     "name": "stderr",
     "output_type": "stream",
     "text": [
      "Train Epoch 10/50: 100%|██████████| 77/77 [00:02<00:00, 28.74it/s]\n",
      "Validation Epoch 10/50: 100%|██████████| 13/13 [00:00<00:00, 110.28it/s]\n"
     ]
    },
    {
     "name": "stdout",
     "output_type": "stream",
     "text": [
      "\n",
      "Epoch 10/50\n",
      "Train Loss: 1.1556 | Seg: 0.7653 | Domain: 0.7805\n",
      "Val Seg Loss: 0.8506\n",
      "Train Dice: 0.6337 | Val Dice: 0.4861\n",
      "\n"
     ]
    },
    {
     "name": "stderr",
     "output_type": "stream",
     "text": [
      "Train Epoch 11/50: 100%|██████████| 77/77 [00:02<00:00, 30.32it/s]\n",
      "Validation Epoch 11/50: 100%|██████████| 13/13 [00:00<00:00, 108.45it/s]\n"
     ]
    },
    {
     "name": "stdout",
     "output_type": "stream",
     "text": [
      "\n",
      "Epoch 11/50\n",
      "Train Loss: 1.0536 | Seg: 0.7040 | Domain: 0.6992\n",
      "Val Seg Loss: 0.8167\n",
      "Train Dice: 0.6650 | Val Dice: 0.4479\n",
      "\n"
     ]
    },
    {
     "name": "stderr",
     "output_type": "stream",
     "text": [
      "Train Epoch 12/50: 100%|██████████| 77/77 [00:02<00:00, 30.27it/s]\n",
      "Validation Epoch 12/50: 100%|██████████| 13/13 [00:00<00:00, 108.25it/s]\n"
     ]
    },
    {
     "name": "stdout",
     "output_type": "stream",
     "text": [
      "\n",
      "Epoch 12/50\n",
      "Train Loss: 1.0099 | Seg: 0.6375 | Domain: 0.7448\n",
      "Val Seg Loss: 0.7665\n",
      "Train Dice: 0.7003 | Val Dice: 0.4989\n",
      "\n"
     ]
    },
    {
     "name": "stderr",
     "output_type": "stream",
     "text": [
      "Train Epoch 13/50: 100%|██████████| 77/77 [00:02<00:00, 30.39it/s]\n",
      "Validation Epoch 13/50: 100%|██████████| 13/13 [00:00<00:00, 109.53it/s]\n"
     ]
    },
    {
     "name": "stdout",
     "output_type": "stream",
     "text": [
      "\n",
      "Epoch 13/50\n",
      "Train Loss: 0.9444 | Seg: 0.5712 | Domain: 0.7463\n",
      "Val Seg Loss: 0.7126\n",
      "Train Dice: 0.7236 | Val Dice: 0.5525\n",
      "\n"
     ]
    },
    {
     "name": "stderr",
     "output_type": "stream",
     "text": [
      "Train Epoch 14/50: 100%|██████████| 77/77 [00:02<00:00, 30.27it/s]\n",
      "Validation Epoch 14/50: 100%|██████████| 13/13 [00:00<00:00, 108.49it/s]\n"
     ]
    },
    {
     "name": "stdout",
     "output_type": "stream",
     "text": [
      "\n",
      "Epoch 14/50\n",
      "Train Loss: 0.8849 | Seg: 0.5299 | Domain: 0.7098\n",
      "Val Seg Loss: 0.6867\n",
      "Train Dice: 0.7277 | Val Dice: 0.5350\n",
      "\n"
     ]
    },
    {
     "name": "stderr",
     "output_type": "stream",
     "text": [
      "Train Epoch 15/50: 100%|██████████| 77/77 [00:02<00:00, 30.30it/s]\n",
      "Validation Epoch 15/50: 100%|██████████| 13/13 [00:00<00:00, 109.16it/s]\n"
     ]
    },
    {
     "name": "stdout",
     "output_type": "stream",
     "text": [
      "\n",
      "Epoch 15/50\n",
      "Train Loss: 0.8321 | Seg: 0.4763 | Domain: 0.7117\n",
      "Val Seg Loss: 0.6411\n",
      "Train Dice: 0.7482 | Val Dice: 0.5576\n",
      "\n"
     ]
    },
    {
     "name": "stderr",
     "output_type": "stream",
     "text": [
      "Train Epoch 16/50: 100%|██████████| 77/77 [00:02<00:00, 28.20it/s]\n",
      "Validation Epoch 16/50: 100%|██████████| 13/13 [00:00<00:00, 108.97it/s]\n"
     ]
    },
    {
     "name": "stdout",
     "output_type": "stream",
     "text": [
      "\n",
      "Epoch 16/50\n",
      "Train Loss: 0.8026 | Seg: 0.4435 | Domain: 0.7181\n",
      "Val Seg Loss: 0.6113\n",
      "Train Dice: 0.7532 | Val Dice: 0.5739\n",
      "\n"
     ]
    },
    {
     "name": "stderr",
     "output_type": "stream",
     "text": [
      "Train Epoch 17/50: 100%|██████████| 77/77 [00:02<00:00, 30.46it/s]\n",
      "Validation Epoch 17/50: 100%|██████████| 13/13 [00:00<00:00, 109.18it/s]\n"
     ]
    },
    {
     "name": "stdout",
     "output_type": "stream",
     "text": [
      "\n",
      "Epoch 17/50\n",
      "Train Loss: 0.7655 | Seg: 0.4089 | Domain: 0.7132\n",
      "Val Seg Loss: 0.6222\n",
      "Train Dice: 0.7651 | Val Dice: 0.5320\n",
      "\n"
     ]
    },
    {
     "name": "stderr",
     "output_type": "stream",
     "text": [
      "Train Epoch 18/50: 100%|██████████| 77/77 [00:02<00:00, 29.96it/s]\n",
      "Validation Epoch 18/50: 100%|██████████| 13/13 [00:00<00:00, 107.49it/s]\n"
     ]
    },
    {
     "name": "stdout",
     "output_type": "stream",
     "text": [
      "\n",
      "Epoch 18/50\n",
      "Train Loss: 0.7229 | Seg: 0.3827 | Domain: 0.6804\n",
      "Val Seg Loss: 0.5632\n",
      "Train Dice: 0.7691 | Val Dice: 0.5874\n",
      "\n"
     ]
    },
    {
     "name": "stderr",
     "output_type": "stream",
     "text": [
      "Train Epoch 19/50: 100%|██████████| 77/77 [00:02<00:00, 30.04it/s]\n",
      "Validation Epoch 19/50: 100%|██████████| 13/13 [00:00<00:00, 107.68it/s]\n"
     ]
    },
    {
     "name": "stdout",
     "output_type": "stream",
     "text": [
      "\n",
      "Epoch 19/50\n",
      "Train Loss: 0.7000 | Seg: 0.3466 | Domain: 0.7069\n",
      "Val Seg Loss: 0.5328\n",
      "Train Dice: 0.7880 | Val Dice: 0.6032\n",
      "\n"
     ]
    },
    {
     "name": "stderr",
     "output_type": "stream",
     "text": [
      "Train Epoch 20/50: 100%|██████████| 77/77 [00:02<00:00, 29.97it/s]\n",
      "Validation Epoch 20/50: 100%|██████████| 13/13 [00:00<00:00, 108.23it/s]\n"
     ]
    },
    {
     "name": "stdout",
     "output_type": "stream",
     "text": [
      "\n",
      "Epoch 20/50\n",
      "Train Loss: 0.6789 | Seg: 0.3210 | Domain: 0.7159\n",
      "Val Seg Loss: 0.5186\n",
      "Train Dice: 0.7976 | Val Dice: 0.6129\n",
      "\n"
     ]
    },
    {
     "name": "stderr",
     "output_type": "stream",
     "text": [
      "Train Epoch 21/50: 100%|██████████| 77/77 [00:02<00:00, 30.15it/s]\n",
      "Validation Epoch 21/50: 100%|██████████| 13/13 [00:00<00:00, 107.13it/s]\n"
     ]
    },
    {
     "name": "stdout",
     "output_type": "stream",
     "text": [
      "\n",
      "Epoch 21/50\n",
      "Train Loss: 0.6566 | Seg: 0.3074 | Domain: 0.6984\n",
      "Val Seg Loss: 0.5859\n",
      "Train Dice: 0.8024 | Val Dice: 0.5294\n",
      "\n"
     ]
    },
    {
     "name": "stderr",
     "output_type": "stream",
     "text": [
      "Train Epoch 22/50: 100%|██████████| 77/77 [00:02<00:00, 29.97it/s]\n",
      "Validation Epoch 22/50: 100%|██████████| 13/13 [00:00<00:00, 106.87it/s]\n"
     ]
    },
    {
     "name": "stdout",
     "output_type": "stream",
     "text": [
      "\n",
      "Epoch 22/50\n",
      "Train Loss: 0.6482 | Seg: 0.2941 | Domain: 0.7081\n",
      "Val Seg Loss: 0.5228\n",
      "Train Dice: 0.8038 | Val Dice: 0.5870\n",
      "\n"
     ]
    },
    {
     "name": "stderr",
     "output_type": "stream",
     "text": [
      "Train Epoch 23/50: 100%|██████████| 77/77 [00:02<00:00, 30.68it/s]\n",
      "Validation Epoch 23/50: 100%|██████████| 13/13 [00:00<00:00, 108.59it/s]\n"
     ]
    },
    {
     "name": "stdout",
     "output_type": "stream",
     "text": [
      "\n",
      "Epoch 23/50\n",
      "Train Loss: 0.6353 | Seg: 0.2783 | Domain: 0.7140\n",
      "Val Seg Loss: 0.5268\n",
      "Train Dice: 0.8105 | Val Dice: 0.5748\n",
      "\n"
     ]
    },
    {
     "name": "stderr",
     "output_type": "stream",
     "text": [
      "Train Epoch 24/50: 100%|██████████| 77/77 [00:02<00:00, 30.18it/s]\n",
      "Validation Epoch 24/50: 100%|██████████| 13/13 [00:00<00:00, 108.26it/s]\n"
     ]
    },
    {
     "name": "stdout",
     "output_type": "stream",
     "text": [
      "\n",
      "Epoch 24/50\n",
      "Train Loss: 0.6225 | Seg: 0.2662 | Domain: 0.7126\n",
      "Val Seg Loss: 0.5121\n",
      "Train Dice: 0.8156 | Val Dice: 0.5837\n",
      "\n"
     ]
    },
    {
     "name": "stderr",
     "output_type": "stream",
     "text": [
      "Train Epoch 25/50: 100%|██████████| 77/77 [00:02<00:00, 30.56it/s]\n",
      "Validation Epoch 25/50: 100%|██████████| 13/13 [00:00<00:00, 110.33it/s]\n"
     ]
    },
    {
     "name": "stdout",
     "output_type": "stream",
     "text": [
      "\n",
      "Epoch 25/50\n",
      "Train Loss: 0.6137 | Seg: 0.2638 | Domain: 0.6997\n",
      "Val Seg Loss: 0.4869\n",
      "Train Dice: 0.8126 | Val Dice: 0.6058\n",
      "\n"
     ]
    },
    {
     "name": "stderr",
     "output_type": "stream",
     "text": [
      "Train Epoch 26/50: 100%|██████████| 77/77 [00:02<00:00, 28.81it/s]\n",
      "Validation Epoch 26/50: 100%|██████████| 13/13 [00:00<00:00, 109.43it/s]\n"
     ]
    },
    {
     "name": "stdout",
     "output_type": "stream",
     "text": [
      "\n",
      "Epoch 26/50\n",
      "Train Loss: 0.5986 | Seg: 0.2532 | Domain: 0.6907\n",
      "Val Seg Loss: 0.7272\n",
      "Train Dice: 0.8181 | Val Dice: 0.3815\n",
      "\n"
     ]
    },
    {
     "name": "stderr",
     "output_type": "stream",
     "text": [
      "Train Epoch 27/50: 100%|██████████| 77/77 [00:02<00:00, 30.58it/s]\n",
      "Validation Epoch 27/50: 100%|██████████| 13/13 [00:00<00:00, 109.88it/s]\n"
     ]
    },
    {
     "name": "stdout",
     "output_type": "stream",
     "text": [
      "\n",
      "Epoch 27/50\n",
      "Train Loss: 0.6109 | Seg: 0.2436 | Domain: 0.7345\n",
      "Val Seg Loss: 0.8830\n",
      "Train Dice: 0.8229 | Val Dice: 0.3309\n",
      "\n"
     ]
    },
    {
     "name": "stderr",
     "output_type": "stream",
     "text": [
      "Train Epoch 28/50: 100%|██████████| 77/77 [00:02<00:00, 30.50it/s]\n",
      "Validation Epoch 28/50: 100%|██████████| 13/13 [00:00<00:00, 106.75it/s]\n"
     ]
    },
    {
     "name": "stdout",
     "output_type": "stream",
     "text": [
      "\n",
      "Epoch 28/50\n",
      "Train Loss: 0.5826 | Seg: 0.2292 | Domain: 0.7068\n",
      "Val Seg Loss: 1.0195\n",
      "Train Dice: 0.8324 | Val Dice: 0.2721\n",
      "\n"
     ]
    },
    {
     "name": "stderr",
     "output_type": "stream",
     "text": [
      "Train Epoch 29/50: 100%|██████████| 77/77 [00:02<00:00, 30.61it/s]\n",
      "Validation Epoch 29/50: 100%|██████████| 13/13 [00:00<00:00, 108.92it/s]\n"
     ]
    },
    {
     "name": "stdout",
     "output_type": "stream",
     "text": [
      "\n",
      "Epoch 29/50\n",
      "Train Loss: 0.5796 | Seg: 0.2284 | Domain: 0.7023\n",
      "Val Seg Loss: 0.8334\n",
      "Train Dice: 0.8308 | Val Dice: 0.3258\n",
      "\n"
     ]
    },
    {
     "name": "stderr",
     "output_type": "stream",
     "text": [
      "Train Epoch 30/50: 100%|██████████| 77/77 [00:02<00:00, 30.45it/s]\n",
      "Validation Epoch 30/50: 100%|██████████| 13/13 [00:00<00:00, 109.63it/s]\n"
     ]
    },
    {
     "name": "stdout",
     "output_type": "stream",
     "text": [
      "\n",
      "Epoch 30/50\n",
      "Train Loss: 0.5550 | Seg: 0.2165 | Domain: 0.6771\n",
      "Val Seg Loss: 0.5069\n",
      "Train Dice: 0.8392 | Val Dice: 0.5762\n",
      "\n"
     ]
    },
    {
     "name": "stderr",
     "output_type": "stream",
     "text": [
      "Train Epoch 31/50: 100%|██████████| 77/77 [00:02<00:00, 30.52it/s]\n",
      "Validation Epoch 31/50: 100%|██████████| 13/13 [00:00<00:00, 109.34it/s]\n"
     ]
    },
    {
     "name": "stdout",
     "output_type": "stream",
     "text": [
      "\n",
      "Epoch 31/50\n",
      "Train Loss: 0.5542 | Seg: 0.2112 | Domain: 0.6861\n",
      "Val Seg Loss: 0.8046\n",
      "Train Dice: 0.8437 | Val Dice: 0.3227\n",
      "\n"
     ]
    },
    {
     "name": "stderr",
     "output_type": "stream",
     "text": [
      "Train Epoch 32/50: 100%|██████████| 77/77 [00:02<00:00, 30.50it/s]\n",
      "Validation Epoch 32/50: 100%|██████████| 13/13 [00:00<00:00, 109.30it/s]\n"
     ]
    },
    {
     "name": "stdout",
     "output_type": "stream",
     "text": [
      "\n",
      "Epoch 32/50\n",
      "Train Loss: 0.5605 | Seg: 0.2056 | Domain: 0.7098\n",
      "Val Seg Loss: 3.2014\n",
      "Train Dice: 0.8473 | Val Dice: 0.1534\n",
      "\n"
     ]
    },
    {
     "name": "stderr",
     "output_type": "stream",
     "text": [
      "Train Epoch 33/50: 100%|██████████| 77/77 [00:02<00:00, 30.57it/s]\n",
      "Validation Epoch 33/50: 100%|██████████| 13/13 [00:00<00:00, 109.35it/s]\n"
     ]
    },
    {
     "name": "stdout",
     "output_type": "stream",
     "text": [
      "\n",
      "Epoch 33/50\n",
      "Train Loss: 0.5532 | Seg: 0.1985 | Domain: 0.7094\n",
      "Val Seg Loss: 0.8598\n",
      "Train Dice: 0.8524 | Val Dice: 0.3187\n",
      "\n"
     ]
    },
    {
     "name": "stderr",
     "output_type": "stream",
     "text": [
      "Train Epoch 34/50: 100%|██████████| 77/77 [00:02<00:00, 30.30it/s]\n",
      "Validation Epoch 34/50: 100%|██████████| 13/13 [00:00<00:00, 108.28it/s]\n"
     ]
    },
    {
     "name": "stdout",
     "output_type": "stream",
     "text": [
      "\n",
      "Epoch 34/50\n",
      "Train Loss: 0.5443 | Seg: 0.1938 | Domain: 0.7010\n",
      "Val Seg Loss: 0.5903\n",
      "Train Dice: 0.8565 | Val Dice: 0.4939\n",
      "\n"
     ]
    },
    {
     "name": "stderr",
     "output_type": "stream",
     "text": [
      "Train Epoch 35/50: 100%|██████████| 77/77 [00:02<00:00, 30.45it/s]\n",
      "Validation Epoch 35/50: 100%|██████████| 13/13 [00:00<00:00, 109.27it/s]"
     ]
    },
    {
     "name": "stdout",
     "output_type": "stream",
     "text": [
      "\n",
      "Epoch 35/50\n",
      "Train Loss: 0.5451 | Seg: 0.1947 | Domain: 0.7008\n",
      "Val Seg Loss: 0.7758\n",
      "Train Dice: 0.8561 | Val Dice: 0.3686\n",
      "\n",
      "Early stopping triggered.\n"
     ]
    },
    {
     "name": "stderr",
     "output_type": "stream",
     "text": [
      "\n"
     ]
    }
   ],
   "source": [
    "supervised_da_training_losses, supervised_da_validation_losses, supervised_da_train_dice_scores, supervised_da_valid_dice_scores = supervised_da_trainer(\n",
    "                                                        domain_adaptation_model,\n",
    "                                                        supervised_da_train_loader,\n",
    "                                                        supervised_da_val_loader,\n",
    "                                                        segmentation_criterion,\n",
    "                                                        domain_criterion,\n",
    "                                                        optimizer_da,\n",
    "                                                        num_epochs=50, \n",
    "                                                        device=DEVICE,\n",
    "                                                        patience_counter=10,\n",
    "                                                        domain_loss_weight=0.5, \n",
    "                                                        scheduler=scheduler_da)"
   ]
  },
  {
   "cell_type": "code",
   "execution_count": 29,
   "id": "2e88286e",
   "metadata": {},
   "outputs": [
    {
     "data": {
      "image/png": "[encoded data removed]",
      "text/plain": [
       "<Figure size 800x500 with 1 Axes>"
      ]
     },
     "metadata": {},
     "output_type": "display_data"
    },
    {
     "data": {
      "image/png": "[encoded data removed]",
      "text/plain": [
       "<Figure size 800x500 with 1 Axes>"
      ]
     },
     "metadata": {},
     "output_type": "display_data"
    }
   ],
   "source": [
    "plotGraphs(\"Supervised Domain Adaptation Model\").plot_losses(supervised_da_training_losses, supervised_da_validation_losses)\n",
    "plotGraphs(\"Supervised Domain Adaptation Model\").plot_metrics(supervised_da_train_dice_scores, supervised_da_valid_dice_scores)"
   ]
  },
  {
   "cell_type": "code",
   "execution_count": 52,
   "id": "0b8e7fa8",
   "metadata": {},
   "outputs": [
    {
     "name": "stderr",
     "output_type": "stream",
     "text": [
      "Evaluating Supervised DA Model: 100%|██████████| 13/13 [00:00<00:00, 68.81it/s]"
     ]
    },
    {
     "name": "stdout",
     "output_type": "stream",
     "text": [
      "\n",
      "==================================================\n",
      "Supervised Domain Adaptation Model Performance on Dataset 3 Test Set:\n",
      "Best Validation Dice Score: 0.6129\n",
      "Best f1-score: 0.6129\n",
      "Average Lesion-wise Accuracy (F1): 0.4356\n",
      "==================================================\n"
     ]
    },
    {
     "name": "stderr",
     "output_type": "stream",
     "text": [
      "\n"
     ]
    }
   ],
   "source": [
    "domain_adaptation_model.eval()\n",
    "\n",
    "total_val_loss = 0.0\n",
    "total_dice_score = 0.0\n",
    "dice_scores_model2 = []\n",
    "lesion_acc_scores_model2 = []\n",
    "total_lesion_accuracy = 0.0\n",
    "num_samples = 0\n",
    "\n",
    "with torch.no_grad():\n",
    "    for images, masks, domain_labels in tqdm.tqdm(supervised_da_val_loader, desc=\"Evaluating Supervised DA Model\"):\n",
    "        images, masks, domain_labels = images.to(DEVICE), masks.to(DEVICE), domain_labels.to(DEVICE)\n",
    "\n",
    "        segmentation_output, _ = domain_adaptation_model(images)\n",
    "\n",
    "        loss = segmentation_criterion(segmentation_output, masks)\n",
    "        total_val_loss += loss.item() * images.size(0)\n",
    "        num_samples += images.size(0)\n",
    "\n",
    "        preds = (torch.sigmoid(segmentation_output) > 0.5).float()\n",
    "\n",
    "        masks_np = masks.cpu().numpy()\n",
    "        preds_np = preds.cpu().numpy()\n",
    "\n",
    "        for i in range(masks_np.shape[0]):\n",
    "            total_dice_score += dice_score(masks_np[i, 0], preds_np[i, 0])\n",
    "            dice_scores_model2.append(dice_score(masks_np[i, 0], preds_np[i, 0]))\n",
    "        for i in range(masks_np.shape[0]):\n",
    "             total_lesion_accuracy += lesion_wise_accuracy(masks_np[i, 0], preds_np[i, 0])\n",
    "             lesion_acc_scores_model2.append(lesion_wise_accuracy(masks_np[i, 0], preds_np[i, 0]))\n",
    "\n",
    "\n",
    "average_dice_score = total_dice_score / num_samples\n",
    "average_lesion_accuracy = total_lesion_accuracy / num_samples\n",
    "\n",
    "print(\"\\n\" + \"=\"*50)\n",
    "print(f\"Supervised Domain Adaptation Model Performance on Dataset 3 Test Set:\")\n",
    "print(f\"Best Validation Dice Score: {max(supervised_da_valid_dice_scores):.4f}\")\n",
    "print(f\"Best f1-score: {max(supervised_da_valid_dice_scores):.4f}\")\n",
    "print(f\"Average Lesion-wise Accuracy (F1): {average_lesion_accuracy:.4f}\")\n",
    "print(\"=\"*50)"
   ]
  },
  {
   "cell_type": "code",
   "execution_count": 55,
   "id": "00594fc2",
   "metadata": {},
   "outputs": [
    {
     "name": "stdout",
     "output_type": "stream",
     "text": [
      "Dice scores for model 2: shape (407,)\n",
      "Lesion-wise accuracy scores for model 2 shape (407,)\n"
     ]
    }
   ],
   "source": [
    "dice_scores_model2 = np.array(dice_scores_model2)\n",
    "lesion_acc_scores_model2 = np.array(lesion_acc_scores_model2)\n",
    "print(f\"Dice scores for model 2 shape {dice_scores_model2.shape}\")\n",
    "print(f\"Lesion-wise accuracy scores for model 2 shape {lesion_acc_scores_model2.shape}\")"
   ]
  },
  {
   "cell_type": "code",
   "execution_count": 53,
   "id": "875af744",
   "metadata": {},
   "outputs": [],
   "source": [
    "torch.save(domain_adaptation_model.state_dict(), \"supervised_da_unet_model.pth\")"
   ]
  },
  {
   "cell_type": "code",
   "execution_count": null,
   "id": "19ef9e7e",
   "metadata": {},
   "outputs": [
    {
     "data": {
      "image/png": "[encoded data removed]",
      "text/plain": [
       "<Figure size 1000x500 with 2 Axes>"
      ]
     },
     "metadata": {},
     "output_type": "display_data"
    },
    {
     "data": {
      "image/png": "[encoded data removed]",
      "text/plain": [
       "<Figure size 1000x500 with 2 Axes>"
      ]
     },
     "metadata": {},
     "output_type": "display_data"
    },
    {
     "data": {
      "image/png": "[encoded data removed]",
      "text/plain": [
       "<Figure size 1000x500 with 2 Axes>"
      ]
     },
     "metadata": {},
     "output_type": "display_data"
    },
    {
     "data": {
      "image/png": "[encoded data removed]",
      "text/plain": [
       "<Figure size 1000x500 with 2 Axes>"
      ]
     },
     "metadata": {},
     "output_type": "display_data"
    }
   ],
   "source": [
    "plotSamples(domain_adaptation_model, supervised_da_val_loader, device='cuda', threshold=0.5, supervised=True).plot_samples()"
   ]
  },
  {
   "cell_type": "markdown",
   "id": "4436674d",
   "metadata": {},
   "source": [
    "### Unsepervised Domain Adaptation"
   ]
  },
  {
   "cell_type": "code",
   "execution_count": 59,
   "id": "563ae713",
   "metadata": {},
   "outputs": [],
   "source": [
    "def uda_trainer(model, source_loader, target_loader, val_loader, segmentation_criterion, \n",
    "                     domain_criterion, optimizer, device, num_epochs, domain_loss_weight=0.01, \n",
    "                     grl_schedule=True, grl_max=0.1, scheduler=None):\n",
    "    \n",
    "    best_val_loss = float(\"inf\")\n",
    "    patience = 0\n",
    "    patience_counter = 15  # Increased patience for UDA\n",
    "\n",
    "    model.to(device)\n",
    "    training_logs = {\n",
    "        'train_seg_loss': [], 'train_domain_loss': [], 'train_total_loss': [], \n",
    "        'train_dice': [], 'val_seg_loss': [], 'val_dice': []\n",
    "    }\n",
    "\n",
    "    len_src = len(source_loader)\n",
    "    len_tgt = len(target_loader)\n",
    "    max_steps_per_epoch = max(len_src, len_tgt)\n",
    "\n",
    "    global_step = 0\n",
    "    total_steps = num_epochs * max_steps_per_epoch\n",
    "\n",
    "    for epoch in range(num_epochs):\n",
    "        model.train()\n",
    "        epoch_seg_loss = 0.0\n",
    "        epoch_domain_loss = 0.0\n",
    "        epoch_total_loss = 0.0\n",
    "        epoch_dice = 0.0\n",
    "        epoch_samples = 0\n",
    "\n",
    "        src_iter = iter(source_loader)\n",
    "        tgt_iter = iter(target_loader)\n",
    "\n",
    "        for step in tqdm.tqdm(range(max_steps_per_epoch), desc=f\"Epoch {epoch+1}/{num_epochs}\"):\n",
    "            # Get source batch\n",
    "            try:\n",
    "                src_batch = next(src_iter)\n",
    "            except StopIteration:\n",
    "                src_iter = iter(source_loader)\n",
    "                src_batch = next(src_iter)\n",
    "\n",
    "            # Get target batch\n",
    "            try:\n",
    "                tgt_batch = next(tgt_iter)\n",
    "            except StopIteration:\n",
    "                tgt_iter = iter(target_loader)\n",
    "                tgt_batch = next(tgt_iter)\n",
    "\n",
    "            # Extract data\n",
    "            src_images, src_masks = src_batch[0], src_batch[1]\n",
    "            tgt_images = tgt_batch[0] if isinstance(tgt_batch, (list, tuple)) else tgt_batch\n",
    "\n",
    "            # Move to device\n",
    "            src_images = src_images.to(device, dtype=torch.float32)\n",
    "            src_masks = src_masks.to(device, dtype=torch.float32)\n",
    "            tgt_images = tgt_images.to(device, dtype=torch.float32)\n",
    "\n",
    "            batch_size_src = src_images.size(0)\n",
    "            batch_size_tgt = tgt_images.size(0)\n",
    "\n",
    "            if grl_schedule:\n",
    "                p = float(global_step) / float(total_steps)\n",
    "                grl_lambda = grl_max * (2.0 / (1.0 + np.exp(-10.0 * p)) - 1.0) * 0.1\n",
    "            else:\n",
    "                grl_lambda = grl_max\n",
    "            \n",
    "            model.grl_lambda = grl_lambda\n",
    "\n",
    "            optimizer.zero_grad()\n",
    "\n",
    "            # Forward pass\n",
    "            src_seg_logits, src_domain_logits = model(src_images)\n",
    "            _, tgt_domain_logits = model(tgt_images)\n",
    "\n",
    "            # Segmentation loss (only on source)\n",
    "            seg_loss = segmentation_criterion(src_seg_logits, src_masks)\n",
    "\n",
    "            # Domain loss\n",
    "            domain_logits = torch.cat([src_domain_logits, tgt_domain_logits], dim=0)\n",
    "            domain_labels_src = torch.zeros(batch_size_src, 1, device=device, dtype=torch.float32)\n",
    "            domain_labels_tgt = torch.ones(batch_size_tgt, 1, device=device, dtype=torch.float32)\n",
    "            domain_labels = torch.cat([domain_labels_src, domain_labels_tgt], dim=0)\n",
    "\n",
    "            domain_loss = domain_criterion(domain_logits, domain_labels)\n",
    "\n",
    "            # Total loss with adaptive weight\n",
    "            adaptive_weight = min(domain_loss_weight * (epoch + 1) / 10, domain_loss_weight)\n",
    "            total_loss = seg_loss + adaptive_weight * domain_loss\n",
    "\n",
    "            # Backward pass\n",
    "            total_loss.backward()\n",
    "            torch.nn.utils.clip_grad_norm_(model.parameters(), max_norm=1.0)\n",
    "            optimizer.step()\n",
    "\n",
    "            epoch_seg_loss += seg_loss.item() * batch_size_src\n",
    "            epoch_domain_loss += domain_loss.item() * (batch_size_src + batch_size_tgt)\n",
    "            epoch_total_loss += total_loss.item() * batch_size_src\n",
    "            epoch_samples += batch_size_src\n",
    "\n",
    "            with torch.no_grad():\n",
    "                seg_probs = torch.sigmoid(src_seg_logits)\n",
    "                seg_preds = (seg_probs > 0.5).float()\n",
    "                \n",
    "                if seg_preds.dim() == 4 and seg_preds.shape[1] == 1:\n",
    "                    seg_preds_np = seg_preds.squeeze(1).cpu().numpy()\n",
    "                    src_masks_np = src_masks.squeeze(1).cpu().numpy()\n",
    "                else:\n",
    "                    seg_preds_np = seg_preds.cpu().numpy()\n",
    "                    src_masks_np = src_masks.cpu().numpy()\n",
    "                \n",
    "                batch_dice = dice_score(src_masks_np, seg_preds_np)\n",
    "                epoch_dice += batch_dice\n",
    "\n",
    "            global_step += 1\n",
    "\n",
    "        # Calculate epoch averages\n",
    "        epoch_seg_loss = epoch_seg_loss / epoch_samples\n",
    "        epoch_domain_loss = epoch_domain_loss / (max_steps_per_epoch * (batch_size_src + batch_size_tgt))\n",
    "        epoch_total_loss = epoch_total_loss / epoch_samples\n",
    "        epoch_dice_mean = epoch_dice / max_steps_per_epoch\n",
    "\n",
    "        training_logs['train_seg_loss'].append(epoch_seg_loss)\n",
    "        training_logs['train_domain_loss'].append(epoch_domain_loss)\n",
    "        training_logs['train_total_loss'].append(epoch_total_loss)\n",
    "        training_logs['train_dice'].append(epoch_dice_mean)\n",
    "\n",
    "        # Validation\n",
    "        model.eval()\n",
    "        val_seg_loss_acc = 0.0\n",
    "        val_samples = 0\n",
    "        val_dice_acc = 0.0\n",
    "        \n",
    "        with torch.no_grad():\n",
    "            for v_images, v_masks, _ in val_loader:\n",
    "                v_images = v_images.to(device, dtype=torch.float32)\n",
    "                v_masks = v_masks.to(device, dtype=torch.float32)\n",
    "\n",
    "                v_seg_logits, _ = model(v_images)\n",
    "                v_seg_loss = segmentation_criterion(v_seg_logits, v_masks)\n",
    "                val_seg_loss_acc += v_seg_loss.item() * v_images.size(0)\n",
    "                val_samples += v_images.size(0)\n",
    "\n",
    "                v_probs = torch.sigmoid(v_seg_logits)\n",
    "                v_preds = (v_probs > 0.5).float()\n",
    "                \n",
    "                if v_preds.dim() == 4 and v_preds.shape[1] == 1:\n",
    "                    v_preds_np = v_preds.squeeze(1).cpu().numpy()\n",
    "                    v_masks_np = v_masks.squeeze(1).cpu().numpy()\n",
    "                else:\n",
    "                    v_preds_np = v_preds.cpu().numpy()\n",
    "                    v_masks_np = v_masks.cpu().numpy()\n",
    "                \n",
    "                val_dice_batch = dice_score(v_masks_np, v_preds_np)\n",
    "                val_dice_acc += val_dice_batch\n",
    "\n",
    "        val_seg_loss = val_seg_loss_acc / val_samples\n",
    "        val_dice = val_dice_acc / len(val_loader)\n",
    "\n",
    "        training_logs['val_seg_loss'].append(val_seg_loss)\n",
    "        training_logs['val_dice'].append(val_dice)\n",
    "\n",
    "        # Early stopping\n",
    "        if val_seg_loss < best_val_loss:\n",
    "            best_val_loss = val_seg_loss\n",
    "            patience = 0\n",
    "        else:\n",
    "            patience += 1\n",
    "            if patience >= patience_counter:\n",
    "                print(\"Early stopping triggered.\")\n",
    "                break\n",
    "\n",
    "        # Learning rate scheduling\n",
    "        if scheduler:\n",
    "            scheduler.step(val_seg_loss)\n",
    "\n",
    "        print(\"=\"*60)\n",
    "        print(f\"Train Seg Loss: {epoch_seg_loss:.4f}, Domain Loss: {epoch_domain_loss:.4f}\")\n",
    "        print(f\"Total Loss: {epoch_total_loss:.4f}\")\n",
    "        print(f\"Train Dice: {epoch_dice_mean:.4f} | Val Dice: {val_dice:.4f}\")\n",
    "        print(f\"Val Seg Loss: {val_seg_loss:.4f}\")\n",
    "        print(\"=\"*60)\n",
    "\n",
    "    return training_logs"
   ]
  },
  {
   "cell_type": "code",
   "execution_count": null,
   "id": "b3c93c64",
   "metadata": {},
   "outputs": [],
   "source": [
    "model3 = smp.Unet(encoder_name=\"resnet34\",encoder_weights=\"imagenet\",in_channels=2,classes=1)\n",
    "model3.to(DEVICE)\n",
    "uda_model = DomainAdaptationModel(model3, grl_lambda=0.1)\n",
    "uda_model.to(DEVICE)\n",
    "scheduler = torch.optim.lr_scheduler.ReduceLROnPlateau(optimizer, mode='min', factor=0.5, patience=3)\n",
    "seg_crit = criterion\n",
    "domain_crit = nn.BCEWithLogitsLoss() \n",
    "optimizer = torch.optim.AdamW(uda_model.parameters(), lr=1e-4, weight_decay=1e-5)"
   ]
  },
  {
   "cell_type": "code",
   "execution_count": 38,
   "id": "60e5c1ce",
   "metadata": {},
   "outputs": [],
   "source": [
    "target_images_only = TensorDataset(ds3_train)\n",
    "target_loader = DataLoader(target_images_only, batch_size=32, shuffle=True)"
   ]
  },
  {
   "cell_type": "code",
   "execution_count": 40,
   "id": "2e40cc5a",
   "metadata": {},
   "outputs": [
    {
     "name": "stderr",
     "output_type": "stream",
     "text": [
      "Epoch 1/50: 100%|██████████| 77/77 [00:04<00:00, 17.69it/s]\n"
     ]
    },
    {
     "name": "stdout",
     "output_type": "stream",
     "text": [
      "============================================================\n",
      "Train Seg Loss: 1.1001, Domain Loss: 0.5943\n",
      "Total Loss: 1.1006\n",
      "Train Dice: 0.4443 | Val Dice: 0.1964\n",
      "Val Seg Loss: 1.1009\n",
      "============================================================\n"
     ]
    },
    {
     "name": "stderr",
     "output_type": "stream",
     "text": [
      "Epoch 2/50: 100%|██████████| 77/77 [00:04<00:00, 17.70it/s]\n"
     ]
    },
    {
     "name": "stdout",
     "output_type": "stream",
     "text": [
      "============================================================\n",
      "Train Seg Loss: 1.0049, Domain Loss: 0.5120\n",
      "Total Loss: 1.0058\n",
      "Train Dice: 0.4982 | Val Dice: 0.2992\n",
      "Val Seg Loss: 1.0410\n",
      "============================================================\n"
     ]
    },
    {
     "name": "stderr",
     "output_type": "stream",
     "text": [
      "Epoch 3/50: 100%|██████████| 77/77 [00:04<00:00, 17.76it/s]\n"
     ]
    },
    {
     "name": "stdout",
     "output_type": "stream",
     "text": [
      "============================================================\n",
      "Train Seg Loss: 0.9014, Domain Loss: 0.4604\n",
      "Total Loss: 0.9025\n",
      "Train Dice: 0.5810 | Val Dice: 0.4358\n",
      "Val Seg Loss: 0.9359\n",
      "============================================================\n"
     ]
    },
    {
     "name": "stderr",
     "output_type": "stream",
     "text": [
      "Epoch 4/50: 100%|██████████| 77/77 [00:04<00:00, 17.68it/s]\n"
     ]
    },
    {
     "name": "stdout",
     "output_type": "stream",
     "text": [
      "============================================================\n",
      "Train Seg Loss: 0.7965, Domain Loss: 0.3908\n",
      "Total Loss: 0.7979\n",
      "Train Dice: 0.6356 | Val Dice: 0.4058\n",
      "Val Seg Loss: 0.8749\n",
      "============================================================\n"
     ]
    },
    {
     "name": "stderr",
     "output_type": "stream",
     "text": [
      "Epoch 5/50: 100%|██████████| 77/77 [00:04<00:00, 18.43it/s]\n"
     ]
    },
    {
     "name": "stdout",
     "output_type": "stream",
     "text": [
      "============================================================\n",
      "Train Seg Loss: 0.6950, Domain Loss: 0.4089\n",
      "Total Loss: 0.6967\n",
      "Train Dice: 0.6703 | Val Dice: 0.5228\n",
      "Val Seg Loss: 0.7723\n",
      "============================================================\n"
     ]
    },
    {
     "name": "stderr",
     "output_type": "stream",
     "text": [
      "Epoch 6/50: 100%|██████████| 77/77 [00:04<00:00, 18.38it/s]\n"
     ]
    },
    {
     "name": "stdout",
     "output_type": "stream",
     "text": [
      "============================================================\n",
      "Train Seg Loss: 0.6015, Domain Loss: 0.4419\n",
      "Total Loss: 0.6038\n",
      "Train Dice: 0.6959 | Val Dice: 0.5185\n",
      "Val Seg Loss: 0.7316\n",
      "============================================================\n"
     ]
    },
    {
     "name": "stderr",
     "output_type": "stream",
     "text": [
      "Epoch 7/50: 100%|██████████| 77/77 [00:04<00:00, 17.52it/s]\n"
     ]
    },
    {
     "name": "stdout",
     "output_type": "stream",
     "text": [
      "============================================================\n",
      "Train Seg Loss: 0.5185, Domain Loss: 0.5035\n",
      "Total Loss: 0.5215\n",
      "Train Dice: 0.7261 | Val Dice: 0.4667\n",
      "Val Seg Loss: 0.7070\n",
      "============================================================\n"
     ]
    },
    {
     "name": "stderr",
     "output_type": "stream",
     "text": [
      "Epoch 8/50: 100%|██████████| 77/77 [00:04<00:00, 17.62it/s]\n"
     ]
    },
    {
     "name": "stdout",
     "output_type": "stream",
     "text": [
      "============================================================\n",
      "Train Seg Loss: 0.4486, Domain Loss: 0.3890\n",
      "Total Loss: 0.4512\n",
      "Train Dice: 0.7410 | Val Dice: 0.5682\n",
      "Val Seg Loss: 0.6042\n",
      "============================================================\n"
     ]
    },
    {
     "name": "stderr",
     "output_type": "stream",
     "text": [
      "Epoch 9/50: 100%|██████████| 77/77 [00:04<00:00, 17.51it/s]\n"
     ]
    },
    {
     "name": "stdout",
     "output_type": "stream",
     "text": [
      "============================================================\n",
      "Train Seg Loss: 0.3973, Domain Loss: 0.3745\n",
      "Total Loss: 0.4002\n",
      "Train Dice: 0.7551 | Val Dice: 0.5308\n",
      "Val Seg Loss: 0.6027\n",
      "============================================================\n"
     ]
    },
    {
     "name": "stderr",
     "output_type": "stream",
     "text": [
      "Epoch 10/50: 100%|██████████| 77/77 [00:04<00:00, 18.60it/s]\n"
     ]
    },
    {
     "name": "stdout",
     "output_type": "stream",
     "text": [
      "============================================================\n",
      "Train Seg Loss: 0.3477, Domain Loss: 0.3463\n",
      "Total Loss: 0.3506\n",
      "Train Dice: 0.7743 | Val Dice: 0.5432\n",
      "Val Seg Loss: 0.5778\n",
      "============================================================\n"
     ]
    },
    {
     "name": "stderr",
     "output_type": "stream",
     "text": [
      "Epoch 11/50: 100%|██████████| 77/77 [00:04<00:00, 18.67it/s]\n"
     ]
    },
    {
     "name": "stdout",
     "output_type": "stream",
     "text": [
      "============================================================\n",
      "Train Seg Loss: 0.3253, Domain Loss: 0.3364\n",
      "Total Loss: 0.3281\n",
      "Train Dice: 0.7787 | Val Dice: 0.5626\n",
      "Val Seg Loss: 0.5437\n",
      "============================================================\n"
     ]
    },
    {
     "name": "stderr",
     "output_type": "stream",
     "text": [
      "Epoch 12/50: 100%|██████████| 77/77 [00:04<00:00, 18.88it/s]\n"
     ]
    },
    {
     "name": "stdout",
     "output_type": "stream",
     "text": [
      "============================================================\n",
      "Train Seg Loss: 0.2965, Domain Loss: 0.3061\n",
      "Total Loss: 0.2991\n",
      "Train Dice: 0.7909 | Val Dice: 0.5386\n",
      "Val Seg Loss: 0.5550\n",
      "============================================================\n"
     ]
    },
    {
     "name": "stderr",
     "output_type": "stream",
     "text": [
      "Epoch 13/50: 100%|██████████| 77/77 [00:04<00:00, 18.29it/s]\n"
     ]
    },
    {
     "name": "stdout",
     "output_type": "stream",
     "text": [
      "============================================================\n",
      "Train Seg Loss: 0.2677, Domain Loss: 0.2813\n",
      "Total Loss: 0.2701\n",
      "Train Dice: 0.8074 | Val Dice: 0.5519\n",
      "Val Seg Loss: 0.5341\n",
      "============================================================\n"
     ]
    },
    {
     "name": "stderr",
     "output_type": "stream",
     "text": [
      "Epoch 14/50: 100%|██████████| 77/77 [00:04<00:00, 17.63it/s]\n"
     ]
    },
    {
     "name": "stdout",
     "output_type": "stream",
     "text": [
      "============================================================\n",
      "Train Seg Loss: 0.2559, Domain Loss: 0.2807\n",
      "Total Loss: 0.2583\n",
      "Train Dice: 0.8116 | Val Dice: 0.5564\n",
      "Val Seg Loss: 0.5243\n",
      "============================================================\n"
     ]
    },
    {
     "name": "stderr",
     "output_type": "stream",
     "text": [
      "Epoch 15/50: 100%|██████████| 77/77 [00:04<00:00, 17.29it/s]\n"
     ]
    },
    {
     "name": "stdout",
     "output_type": "stream",
     "text": [
      "============================================================\n",
      "Train Seg Loss: 0.2474, Domain Loss: 0.2307\n",
      "Total Loss: 0.2493\n",
      "Train Dice: 0.8130 | Val Dice: 0.5666\n",
      "Val Seg Loss: 0.5082\n",
      "============================================================\n"
     ]
    },
    {
     "name": "stderr",
     "output_type": "stream",
     "text": [
      "Epoch 16/50: 100%|██████████| 77/77 [00:04<00:00, 17.03it/s]\n"
     ]
    },
    {
     "name": "stdout",
     "output_type": "stream",
     "text": [
      "============================================================\n",
      "Train Seg Loss: 0.2307, Domain Loss: 0.2427\n",
      "Total Loss: 0.2328\n",
      "Train Dice: 0.8242 | Val Dice: 0.5657\n",
      "Val Seg Loss: 0.5050\n",
      "============================================================\n"
     ]
    },
    {
     "name": "stderr",
     "output_type": "stream",
     "text": [
      "Epoch 17/50: 100%|██████████| 77/77 [00:04<00:00, 17.43it/s]\n"
     ]
    },
    {
     "name": "stdout",
     "output_type": "stream",
     "text": [
      "============================================================\n",
      "Train Seg Loss: 0.2201, Domain Loss: 0.2383\n",
      "Total Loss: 0.2221\n",
      "Train Dice: 0.8295 | Val Dice: 0.5535\n",
      "Val Seg Loss: 0.5118\n",
      "============================================================\n"
     ]
    },
    {
     "name": "stderr",
     "output_type": "stream",
     "text": [
      "Epoch 18/50: 100%|██████████| 77/77 [00:04<00:00, 17.40it/s]\n"
     ]
    },
    {
     "name": "stdout",
     "output_type": "stream",
     "text": [
      "============================================================\n",
      "Train Seg Loss: 0.2149, Domain Loss: 0.2464\n",
      "Total Loss: 0.2170\n",
      "Train Dice: 0.8313 | Val Dice: 0.5690\n",
      "Val Seg Loss: 0.5027\n",
      "============================================================\n"
     ]
    },
    {
     "name": "stderr",
     "output_type": "stream",
     "text": [
      "Epoch 19/50: 100%|██████████| 77/77 [00:04<00:00, 16.98it/s]\n"
     ]
    },
    {
     "name": "stdout",
     "output_type": "stream",
     "text": [
      "============================================================\n",
      "Train Seg Loss: 0.2082, Domain Loss: 0.2141\n",
      "Total Loss: 0.2100\n",
      "Train Dice: 0.8355 | Val Dice: 0.6126\n",
      "Val Seg Loss: 0.4510\n",
      "============================================================\n"
     ]
    },
    {
     "name": "stderr",
     "output_type": "stream",
     "text": [
      "Epoch 20/50: 100%|██████████| 77/77 [00:04<00:00, 17.53it/s]\n"
     ]
    },
    {
     "name": "stdout",
     "output_type": "stream",
     "text": [
      "============================================================\n",
      "Train Seg Loss: 0.2027, Domain Loss: 0.2409\n",
      "Total Loss: 0.2048\n",
      "Train Dice: 0.8387 | Val Dice: 0.6000\n",
      "Val Seg Loss: 0.4601\n",
      "============================================================\n"
     ]
    },
    {
     "name": "stderr",
     "output_type": "stream",
     "text": [
      "Epoch 21/50: 100%|██████████| 77/77 [00:04<00:00, 17.72it/s]\n"
     ]
    },
    {
     "name": "stdout",
     "output_type": "stream",
     "text": [
      "============================================================\n",
      "Train Seg Loss: 0.2014, Domain Loss: 0.2457\n",
      "Total Loss: 0.2035\n",
      "Train Dice: 0.8384 | Val Dice: 0.5904\n",
      "Val Seg Loss: 0.4712\n",
      "============================================================\n"
     ]
    },
    {
     "name": "stderr",
     "output_type": "stream",
     "text": [
      "Epoch 22/50: 100%|██████████| 77/77 [00:04<00:00, 17.65it/s]\n"
     ]
    },
    {
     "name": "stdout",
     "output_type": "stream",
     "text": [
      "============================================================\n",
      "Train Seg Loss: 0.1887, Domain Loss: 0.2271\n",
      "Total Loss: 0.1906\n",
      "Train Dice: 0.8491 | Val Dice: 0.5768\n",
      "Val Seg Loss: 0.4848\n",
      "============================================================\n"
     ]
    },
    {
     "name": "stderr",
     "output_type": "stream",
     "text": [
      "Epoch 23/50: 100%|██████████| 77/77 [00:04<00:00, 17.99it/s]\n"
     ]
    },
    {
     "name": "stdout",
     "output_type": "stream",
     "text": [
      "============================================================\n",
      "Train Seg Loss: 0.1810, Domain Loss: 0.2124\n",
      "Total Loss: 0.1828\n",
      "Train Dice: 0.8552 | Val Dice: 0.5883\n",
      "Val Seg Loss: 0.4686\n",
      "============================================================\n"
     ]
    },
    {
     "name": "stderr",
     "output_type": "stream",
     "text": [
      "Epoch 24/50: 100%|██████████| 77/77 [00:04<00:00, 18.46it/s]\n"
     ]
    },
    {
     "name": "stdout",
     "output_type": "stream",
     "text": [
      "============================================================\n",
      "Train Seg Loss: 0.1802, Domain Loss: 0.2402\n",
      "Total Loss: 0.1822\n",
      "Train Dice: 0.8553 | Val Dice: 0.5869\n",
      "Val Seg Loss: 0.4687\n",
      "============================================================\n"
     ]
    },
    {
     "name": "stderr",
     "output_type": "stream",
     "text": [
      "Epoch 25/50: 100%|██████████| 77/77 [00:04<00:00, 17.84it/s]\n"
     ]
    },
    {
     "name": "stdout",
     "output_type": "stream",
     "text": [
      "============================================================\n",
      "Train Seg Loss: 0.1747, Domain Loss: 0.2068\n",
      "Total Loss: 0.1765\n",
      "Train Dice: 0.8589 | Val Dice: 0.5596\n",
      "Val Seg Loss: 0.4991\n",
      "============================================================\n"
     ]
    },
    {
     "name": "stderr",
     "output_type": "stream",
     "text": [
      "Epoch 26/50: 100%|██████████| 77/77 [00:04<00:00, 17.57it/s]\n"
     ]
    },
    {
     "name": "stdout",
     "output_type": "stream",
     "text": [
      "============================================================\n",
      "Train Seg Loss: 0.1746, Domain Loss: 0.2322\n",
      "Total Loss: 0.1766\n",
      "Train Dice: 0.8581 | Val Dice: 0.5891\n",
      "Val Seg Loss: 0.4643\n",
      "============================================================\n"
     ]
    },
    {
     "name": "stderr",
     "output_type": "stream",
     "text": [
      "Epoch 27/50: 100%|██████████| 77/77 [00:04<00:00, 17.21it/s]\n"
     ]
    },
    {
     "name": "stdout",
     "output_type": "stream",
     "text": [
      "============================================================\n",
      "Train Seg Loss: 0.1683, Domain Loss: 0.1944\n",
      "Total Loss: 0.1699\n",
      "Train Dice: 0.8635 | Val Dice: 0.6063\n",
      "Val Seg Loss: 0.4458\n",
      "============================================================\n"
     ]
    },
    {
     "name": "stderr",
     "output_type": "stream",
     "text": [
      "Epoch 28/50: 100%|██████████| 77/77 [00:04<00:00, 17.48it/s]\n"
     ]
    },
    {
     "name": "stdout",
     "output_type": "stream",
     "text": [
      "============================================================\n",
      "Train Seg Loss: 0.1693, Domain Loss: 0.2136\n",
      "Total Loss: 0.1711\n",
      "Train Dice: 0.8618 | Val Dice: 0.5762\n",
      "Val Seg Loss: 0.4753\n",
      "============================================================\n"
     ]
    },
    {
     "name": "stderr",
     "output_type": "stream",
     "text": [
      "Epoch 29/50: 100%|██████████| 77/77 [00:04<00:00, 17.86it/s]\n"
     ]
    },
    {
     "name": "stdout",
     "output_type": "stream",
     "text": [
      "============================================================\n",
      "Train Seg Loss: 0.1647, Domain Loss: 0.2291\n",
      "Total Loss: 0.1666\n",
      "Train Dice: 0.8652 | Val Dice: 0.5816\n",
      "Val Seg Loss: 0.4687\n",
      "============================================================\n"
     ]
    },
    {
     "name": "stderr",
     "output_type": "stream",
     "text": [
      "Epoch 30/50: 100%|██████████| 77/77 [00:04<00:00, 17.97it/s]\n"
     ]
    },
    {
     "name": "stdout",
     "output_type": "stream",
     "text": [
      "============================================================\n",
      "Train Seg Loss: 0.1623, Domain Loss: 0.2283\n",
      "Total Loss: 0.1643\n",
      "Train Dice: 0.8671 | Val Dice: 0.6117\n",
      "Val Seg Loss: 0.4354\n",
      "============================================================\n"
     ]
    },
    {
     "name": "stderr",
     "output_type": "stream",
     "text": [
      "Epoch 31/50: 100%|██████████| 77/77 [00:04<00:00, 18.12it/s]\n"
     ]
    },
    {
     "name": "stdout",
     "output_type": "stream",
     "text": [
      "============================================================\n",
      "Train Seg Loss: 0.1569, Domain Loss: 0.2620\n",
      "Total Loss: 0.1591\n",
      "Train Dice: 0.8716 | Val Dice: 0.5853\n",
      "Val Seg Loss: 0.4666\n",
      "============================================================\n"
     ]
    },
    {
     "name": "stderr",
     "output_type": "stream",
     "text": [
      "Epoch 32/50: 100%|██████████| 77/77 [00:04<00:00, 18.07it/s]\n"
     ]
    },
    {
     "name": "stdout",
     "output_type": "stream",
     "text": [
      "============================================================\n",
      "Train Seg Loss: 0.1550, Domain Loss: 0.2286\n",
      "Total Loss: 0.1569\n",
      "Train Dice: 0.8732 | Val Dice: 0.5870\n",
      "Val Seg Loss: 0.4660\n",
      "============================================================\n"
     ]
    },
    {
     "name": "stderr",
     "output_type": "stream",
     "text": [
      "Epoch 33/50: 100%|██████████| 77/77 [00:04<00:00, 17.48it/s]\n"
     ]
    },
    {
     "name": "stdout",
     "output_type": "stream",
     "text": [
      "============================================================\n",
      "Train Seg Loss: 0.1500, Domain Loss: 0.2267\n",
      "Total Loss: 0.1519\n",
      "Train Dice: 0.8775 | Val Dice: 0.5719\n",
      "Val Seg Loss: 0.4829\n",
      "============================================================\n"
     ]
    },
    {
     "name": "stderr",
     "output_type": "stream",
     "text": [
      "Epoch 34/50: 100%|██████████| 77/77 [00:04<00:00, 17.50it/s]\n"
     ]
    },
    {
     "name": "stdout",
     "output_type": "stream",
     "text": [
      "============================================================\n",
      "Train Seg Loss: 0.1456, Domain Loss: 0.2109\n",
      "Total Loss: 0.1474\n",
      "Train Dice: 0.8811 | Val Dice: 0.6147\n",
      "Val Seg Loss: 0.4362\n",
      "============================================================\n"
     ]
    },
    {
     "name": "stderr",
     "output_type": "stream",
     "text": [
      "Epoch 35/50: 100%|██████████| 77/77 [00:04<00:00, 17.61it/s]\n"
     ]
    },
    {
     "name": "stdout",
     "output_type": "stream",
     "text": [
      "============================================================\n",
      "Train Seg Loss: 0.1489, Domain Loss: 0.2586\n",
      "Total Loss: 0.1511\n",
      "Train Dice: 0.8784 | Val Dice: 0.5431\n",
      "Val Seg Loss: 0.5160\n",
      "============================================================\n"
     ]
    },
    {
     "name": "stderr",
     "output_type": "stream",
     "text": [
      "Epoch 36/50: 100%|██████████| 77/77 [00:04<00:00, 17.49it/s]\n"
     ]
    },
    {
     "name": "stdout",
     "output_type": "stream",
     "text": [
      "============================================================\n",
      "Train Seg Loss: 0.1479, Domain Loss: 0.2482\n",
      "Total Loss: 0.1500\n",
      "Train Dice: 0.8788 | Val Dice: 0.5811\n",
      "Val Seg Loss: 0.4727\n",
      "============================================================\n"
     ]
    },
    {
     "name": "stderr",
     "output_type": "stream",
     "text": [
      "Epoch 37/50: 100%|██████████| 77/77 [00:04<00:00, 17.57it/s]\n"
     ]
    },
    {
     "name": "stdout",
     "output_type": "stream",
     "text": [
      "============================================================\n",
      "Train Seg Loss: 0.1607, Domain Loss: 0.2575\n",
      "Total Loss: 0.1629\n",
      "Train Dice: 0.8670 | Val Dice: 0.5558\n",
      "Val Seg Loss: 0.5029\n",
      "============================================================\n"
     ]
    },
    {
     "name": "stderr",
     "output_type": "stream",
     "text": [
      "Epoch 38/50: 100%|██████████| 77/77 [00:04<00:00, 17.66it/s]\n"
     ]
    },
    {
     "name": "stdout",
     "output_type": "stream",
     "text": [
      "============================================================\n",
      "Train Seg Loss: 0.1439, Domain Loss: 0.2517\n",
      "Total Loss: 0.1460\n",
      "Train Dice: 0.8819 | Val Dice: 0.5166\n",
      "Val Seg Loss: 0.5477\n",
      "============================================================\n"
     ]
    },
    {
     "name": "stderr",
     "output_type": "stream",
     "text": [
      "Epoch 39/50: 100%|██████████| 77/77 [00:04<00:00, 17.43it/s]\n"
     ]
    },
    {
     "name": "stdout",
     "output_type": "stream",
     "text": [
      "============================================================\n",
      "Train Seg Loss: 0.1429, Domain Loss: 0.2385\n",
      "Total Loss: 0.1449\n",
      "Train Dice: 0.8823 | Val Dice: 0.5330\n",
      "Val Seg Loss: 0.5258\n",
      "============================================================\n"
     ]
    },
    {
     "name": "stderr",
     "output_type": "stream",
     "text": [
      "Epoch 40/50: 100%|██████████| 77/77 [00:04<00:00, 17.75it/s]\n"
     ]
    },
    {
     "name": "stdout",
     "output_type": "stream",
     "text": [
      "============================================================\n",
      "Train Seg Loss: 0.1414, Domain Loss: 0.2490\n",
      "Total Loss: 0.1435\n",
      "Train Dice: 0.8835 | Val Dice: 0.5877\n",
      "Val Seg Loss: 0.4607\n",
      "============================================================\n"
     ]
    },
    {
     "name": "stderr",
     "output_type": "stream",
     "text": [
      "Epoch 41/50: 100%|██████████| 77/77 [00:04<00:00, 18.12it/s]\n"
     ]
    },
    {
     "name": "stdout",
     "output_type": "stream",
     "text": [
      "============================================================\n",
      "Train Seg Loss: 0.1285, Domain Loss: 0.2403\n",
      "Total Loss: 0.1306\n",
      "Train Dice: 0.8951 | Val Dice: 0.5684\n",
      "Val Seg Loss: 0.4865\n",
      "============================================================\n"
     ]
    },
    {
     "name": "stderr",
     "output_type": "stream",
     "text": [
      "Epoch 42/50: 100%|██████████| 77/77 [00:04<00:00, 18.19it/s]\n"
     ]
    },
    {
     "name": "stdout",
     "output_type": "stream",
     "text": [
      "============================================================\n",
      "Train Seg Loss: 0.1321, Domain Loss: 0.2242\n",
      "Total Loss: 0.1340\n",
      "Train Dice: 0.8919 | Val Dice: 0.5845\n",
      "Val Seg Loss: 0.4722\n",
      "============================================================\n"
     ]
    },
    {
     "name": "stderr",
     "output_type": "stream",
     "text": [
      "Epoch 43/50: 100%|██████████| 77/77 [00:04<00:00, 18.34it/s]\n"
     ]
    },
    {
     "name": "stdout",
     "output_type": "stream",
     "text": [
      "============================================================\n",
      "Train Seg Loss: 0.1302, Domain Loss: 0.2319\n",
      "Total Loss: 0.1322\n",
      "Train Dice: 0.8930 | Val Dice: 0.5605\n",
      "Val Seg Loss: 0.4931\n",
      "============================================================\n"
     ]
    },
    {
     "name": "stderr",
     "output_type": "stream",
     "text": [
      "Epoch 44/50: 100%|██████████| 77/77 [00:04<00:00, 17.78it/s]\n"
     ]
    },
    {
     "name": "stdout",
     "output_type": "stream",
     "text": [
      "============================================================\n",
      "Train Seg Loss: 0.1288, Domain Loss: 0.2747\n",
      "Total Loss: 0.1312\n",
      "Train Dice: 0.8941 | Val Dice: 0.5481\n",
      "Val Seg Loss: 0.5096\n",
      "============================================================\n"
     ]
    },
    {
     "name": "stderr",
     "output_type": "stream",
     "text": [
      "Epoch 45/50: 100%|██████████| 77/77 [00:04<00:00, 18.15it/s]\n"
     ]
    },
    {
     "name": "stdout",
     "output_type": "stream",
     "text": [
      "Early stopping triggered.\n"
     ]
    }
   ],
   "source": [
    "logs = uda_trainer(uda_model, supervised_da_train_loader, target_loader, supervised_da_val_loader,\n",
    "                    seg_crit, domain_crit, optimizer, DEVICE, num_epochs=50, \n",
    "                    domain_loss_weight=0.01, grl_schedule=True, grl_max=0.1, scheduler=scheduler)"
   ]
  },
  {
   "cell_type": "code",
   "execution_count": null,
   "id": "7c7a0594",
   "metadata": {},
   "outputs": [],
   "source": [
    "torch.save(uda_model.state_dict(), 'uda_model.pth')"
   ]
  },
  {
   "cell_type": "code",
   "execution_count": 42,
   "id": "94a12cf1",
   "metadata": {},
   "outputs": [
    {
     "data": {
      "image/png": "[encoded data removed]",
      "text/plain": [
       "<Figure size 800x500 with 1 Axes>"
      ]
     },
     "metadata": {},
     "output_type": "display_data"
    },
    {
     "data": {
      "image/png": "[encoded data removed]",
      "text/plain": [
       "<Figure size 800x500 with 1 Axes>"
      ]
     },
     "metadata": {},
     "output_type": "display_data"
    },
    {
     "data": {
      "image/png": "[encoded data removed]",
      "text/plain": [
       "<Figure size 800x500 with 1 Axes>"
      ]
     },
     "metadata": {},
     "output_type": "display_data"
    }
   ],
   "source": [
    "plotGraphs('UDA Training and Validation Losses').plot_losses(logs['train_total_loss'], logs['val_seg_loss'])\n",
    "plotGraphs('UDA Training Domain Loss').plot_losses(logs['train_domain_loss'], [0]*len(logs['val_seg_loss']))\n",
    "plotGraphs('UDA Training and Validation Dice Scores').plot_metrics(logs['train_dice'], logs['val_dice'])"
   ]
  },
  {
   "cell_type": "code",
   "execution_count": 61,
   "id": "dc0fe4ea",
   "metadata": {},
   "outputs": [
    {
     "name": "stdout",
     "output_type": "stream",
     "text": [
      "Batch 1 Dice Score: 0.5408\n",
      "Batch 2 Dice Score: 0.3696\n",
      "Batch 3 Dice Score: 0.4634\n",
      "Batch 4 Dice Score: 0.5593\n",
      "Batch 5 Dice Score: 0.6236\n",
      "Batch 6 Dice Score: 0.5332\n",
      "Batch 7 Dice Score: 0.3446\n",
      "Batch 8 Dice Score: 0.5392\n",
      "Batch 9 Dice Score: 0.4377\n",
      "Batch 10 Dice Score: 0.3109\n",
      "Batch 11 Dice Score: 0.4997\n",
      "Batch 12 Dice Score: 0.4708\n",
      "Batch 13 Dice Score: 0.6939\n",
      "Average Validation Dice Score: 0.4913\n"
     ]
    }
   ],
   "source": [
    "# Evaluate the UDA model on the validation set\n",
    "uda_model = DomainAdaptationModel(model, grl_lambda=0.1)\n",
    "uda_model.to(DEVICE)\n",
    "uda_model.load_state_dict(torch.load('uda_model.pth'))\n",
    "uda_model.eval()\n",
    "total_dice = 0\n",
    "dice_scores_model3 = []\n",
    "lesion_acc_scores_model3 = []\n",
    "num_batches = 0\n",
    "lwa = []\n",
    "with torch.no_grad():\n",
    "    for images, labels, _ in supervised_da_val_loader:  \n",
    "        images, labels = images.to(DEVICE), labels.to(DEVICE)\n",
    "        seg_outputs, _ = uda_model(images)  \n",
    "        \n",
    "        seg_probs = torch.sigmoid(seg_outputs)\n",
    "        seg_preds = (seg_probs > 0.5).float()\n",
    "        \n",
    "        labels_np = labels.squeeze(1).cpu().numpy() \n",
    "        seg_preds_np = seg_preds.squeeze(1).cpu().numpy() \n",
    "        \n",
    "        batch_dice = 0\n",
    "        batch_lesion_accuracy = 0\n",
    "        batch_size = labels_np.shape[0]\n",
    "        \n",
    "        for i in range(batch_size):\n",
    "            sample_dice = dice_score(labels_np[i], seg_preds_np[i])\n",
    "            dice_scores_model3.append(sample_dice)\n",
    "            sample_lesion_acc = lesion_wise_accuracy(labels_np[i], seg_preds_np[i])\n",
    "            lesion_acc_scores_model3.append(sample_lesion_acc)\n",
    "            batch_dice += sample_dice\n",
    "            batch_lesion_accuracy += sample_lesion_acc\n",
    "        \n",
    "        batch_dice /= batch_size\n",
    "        batch_lesion_accuracy /= batch_size\n",
    "        \n",
    "        total_dice += batch_dice\n",
    "        num_batches += 1\n",
    "        \n",
    "        print(f\"Batch {num_batches} Dice Score: {batch_dice:.4f}\")\n",
    "        lwa.append(round(batch_lesion_accuracy, 4))\n",
    "\n",
    "\n",
    "avg_dice = total_dice / num_batches\n",
    "print(f\"Average Validation Dice Score: {avg_dice:.4f}\")"
   ]
  },
  {
   "cell_type": "code",
   "execution_count": 44,
   "id": "d9533206",
   "metadata": {},
   "outputs": [
    {
     "name": "stdout",
     "output_type": "stream",
     "text": [
      "Best Validation Dice Score: 0.6147\n",
      "Best validation lesion wise accuracy 0.5813\n"
     ]
    }
   ],
   "source": [
    "print(f\"Best Validation Dice Score: {max(logs['val_dice']):.4f}\")\n",
    "print(f\"Best validation lesion wise accuracy {max(lwa)}\")"
   ]
  },
  {
   "cell_type": "code",
   "execution_count": 62,
   "id": "05582804",
   "metadata": {},
   "outputs": [
    {
     "name": "stdout",
     "output_type": "stream",
     "text": [
      "Dice scores for model 3 shape (407,)\n",
      "Lesion-wise accuracy scores for model 3 shape (407,)\n"
     ]
    }
   ],
   "source": [
    "dice_scores_model3 = np.array(dice_scores_model3)\n",
    "lesion_acc_scores_model3 = np.array(lesion_acc_scores_model3)\n",
    "print(f\"Dice scores for model 3 shape {dice_scores_model3.shape}\")\n",
    "print(f\"Lesion-wise accuracy scores for model 3 shape {lesion_acc_scores_model3.shape}\")"
   ]
  },
  {
   "cell_type": "code",
   "execution_count": 47,
   "id": "65da46e1",
   "metadata": {},
   "outputs": [],
   "source": [
    "def get_items_uda(model, val_loader, device, threshold):\n",
    "    val_images = val_loader.dataset.tensors[0].numpy()  # Images\n",
    "    test_masks = val_loader.dataset.tensors[1].numpy()  # Ground truth masks\n",
    "    \n",
    "    outputs, labels = evaluate(model, val_loader, device=device, threshold=threshold, supervised=True)\n",
    "    outputs = outputs.squeeze(1).numpy()\n",
    "    labels = labels.squeeze(1).numpy()\n",
    "    \n",
    "    dice_scores = [dice_score(labels[i], outputs[i]) for i in range(len(labels))]\n",
    "    sorted_indices = np.argsort(dice_scores)\n",
    "    \n",
    "    best_dice_scores = [(dice_scores[i], i) for i in sorted_indices if dice_scores[i] != 1.0]\n",
    "    worst_dice_scores = [(dice_scores[i], i) for i in sorted_indices]\n",
    "    \n",
    "    if len(best_dice_scores) >= 2:\n",
    "        best_indices = [idx for score, idx in best_dice_scores[-2:]]\n",
    "    else:\n",
    "        best_indices = [idx for score, idx in sorted_indices[-2:]]\n",
    "    \n",
    "    worst_indices = [idx for score, idx in worst_dice_scores[:2]]\n",
    "    \n",
    "    two_best_masks_ground_truth = test_masks[best_indices]\n",
    "    two_worst_masks_ground_truth = test_masks[worst_indices]\n",
    "    two_best_masks_predictions = outputs[best_indices]\n",
    "    two_worst_masks_predictions = outputs[worst_indices]\n",
    "    \n",
    "    return two_best_masks_ground_truth, two_best_masks_predictions, two_worst_masks_ground_truth, two_worst_masks_predictions"
   ]
  },
  {
   "cell_type": "code",
   "execution_count": 48,
   "id": "c6c083a4",
   "metadata": {},
   "outputs": [],
   "source": [
    "two_best_gt, two_best_pred, two_worst_gt, two_worst_pred = get_items_uda(uda_model, supervised_da_val_loader, device='cuda', threshold=0.5)"
   ]
  },
  {
   "cell_type": "code",
   "execution_count": null,
   "id": "b38f355b",
   "metadata": {},
   "outputs": [
    {
     "data": {
      "image/png": "[encoded data removed]",
      "text/plain": [
       "<Figure size 1000x500 with 2 Axes>"
      ]
     },
     "metadata": {},
     "output_type": "display_data"
    },
    {
     "data": {
      "image/png": "[encoded data removed]",
      "text/plain": [
       "<Figure size 1000x500 with 2 Axes>"
      ]
     },
     "metadata": {},
     "output_type": "display_data"
    },
    {
     "data": {
      "image/png": "[encoded data removed]",
      "text/plain": [
       "<Figure size 1000x500 with 2 Axes>"
      ]
     },
     "metadata": {},
     "output_type": "display_data"
    },
    {
     "data": {
      "image/png": "[encoded data removed]",
      "text/plain": [
       "<Figure size 1000x500 with 2 Axes>"
      ]
     },
     "metadata": {},
     "output_type": "display_data"
    }
   ],
   "source": [
    "#Plot best and worst samples for UDA model\n",
    "for i in range(min(2, len(two_best_gt))):\n",
    "    plt.figure(figsize=(10, 5))\n",
    "    plt.subplot(1, 2, 1)\n",
    "    if len(two_best_gt[i].shape) == 3:\n",
    "        plt.imshow(two_best_gt[i][0], cmap='gray')\n",
    "    else:\n",
    "        plt.imshow(two_best_gt[i], cmap='gray')\n",
    "    plt.title(f'Best Mask Ground Truth {i+1}')\n",
    "    plt.axis('off')\n",
    "    \n",
    "    plt.subplot(1, 2, 2)\n",
    "    plt.imshow(two_best_pred[i], cmap='gray')\n",
    "    plt.title(f'Best Mask Prediction {i+1}')\n",
    "    plt.axis('off')\n",
    "    plt.show()\n",
    "for i in range(min(2, len(two_worst_gt))):\n",
    "    plt.figure(figsize=(10, 5))\n",
    "    plt.subplot(1, 2, 1)\n",
    "    if len(two_worst_gt[i].shape) == 3:\n",
    "        plt.imshow(two_worst_gt[i][0], cmap='gray')\n",
    "    else:\n",
    "        plt.imshow(two_worst_gt[i], cmap='gray')\n",
    "    plt.title(f'Worst Mask Ground Truth {i+1}')\n",
    "    plt.axis('off')\n",
    "    \n",
    "    plt.subplot(1, 2, 2)\n",
    "    plt.imshow(two_worst_pred[i], cmap='gray')\n",
    "    plt.title(f'Worst Mask Prediction {i+1}')\n",
    "    plt.axis('off') \n",
    "    plt.show()"
   ]
  },
  {
   "cell_type": "markdown",
   "id": "602c38f4",
   "metadata": {},
   "source": [
    "#### Perform statistical testing for all performance metrics for dataset 3 for unsupervised and supervised domain adaptation with respect to the baseline un adapted model."
   ]
  },
  {
   "cell_type": "code",
   "execution_count": 68,
   "id": "b25bffff",
   "metadata": {},
   "outputs": [
    {
     "name": "stdout",
     "output_type": "stream",
     "text": [
      "\n",
      "============================================================\n",
      "STATISTICAL ANALYSIS FOR DICE SCORE\n",
      "============================================================\n",
      "\n",
      "Descriptive Statistics:\n",
      "Baseline Model - Mean: 0.3084, Std: 0.4229\n",
      "Supervised DA - Mean: 0.4411, Std: 0.4226\n",
      "Unsupervised DA - Mean: 0.4868, Std: 0.4126\n",
      "\n",
      "Supervised DA vs Baseline:\n",
      "Paired t-test: t-statistic = 6.2028, p-value = 0.0000\n",
      "Statistically significant difference (p < 0.05)\n",
      "\n",
      "Unsupervised DA vs Baseline:\n",
      "Paired t-test: t-statistic = 9.1269, p-value = 0.0000\n",
      "Statistically significant difference (p < 0.05)\n",
      "\n",
      "Non-parametric tests (Wilcoxon signed-rank):\n",
      "Supervised DA vs Baseline: Wilcoxon statistic = 5954.0000, p-value = 0.0000\n",
      "Unsupervised DA vs Baseline: Wilcoxon statistic = 3381.0000, p-value = 0.0000\n",
      "\n",
      "Effect Size (Cohen's d):\n",
      "Supervised DA vs Baseline: 0.3135\n",
      "Unsupervised DA vs Baseline: 0.4266\n",
      "\n",
      "============================================================\n",
      "STATISTICAL ANALYSIS FOR LESION-WISE ACCURACY\n",
      "============================================================\n",
      "\n",
      "Descriptive Statistics:\n",
      "Baseline Model - Mean: 0.3157, Std: 0.4427\n",
      "Supervised DA - Mean: 0.4356, Std: 0.4527\n",
      "Unsupervised DA - Mean: 0.4651, Std: 0.4547\n",
      "\n",
      "Supervised DA vs Baseline:\n",
      "Paired t-test: t-statistic = 4.9338, p-value = 0.0000\n",
      "Statistically significant difference (p < 0.05)\n",
      "\n",
      "Unsupervised DA vs Baseline:\n",
      "Paired t-test: t-statistic = 6.8935, p-value = 0.0000\n",
      "Statistically significant difference (p < 0.05)\n",
      "\n",
      "Non-parametric tests (Wilcoxon signed-rank):\n",
      "Supervised DA vs Baseline: Wilcoxon statistic = 4408.0000, p-value = 0.0000\n",
      "Unsupervised DA vs Baseline: Wilcoxon statistic = 2642.5000, p-value = 0.0000\n",
      "\n",
      "Effect Size (Cohen's d):\n",
      "Supervised DA vs Baseline: 0.2674\n",
      "Unsupervised DA vs Baseline: 0.3325\n"
     ]
    }
   ],
   "source": [
    "from scipy import stats\n",
    "import pandas as pd\n",
    "\n",
    "def perform_statistical_analysis(baseline_scores, supervised_scores, unsupervised_scores, metric_name):\n",
    "    \n",
    "    print(f\"\\n{'='*60}\")\n",
    "    print(f\"STATISTICAL ANALYSIS FOR {metric_name.upper()}\")\n",
    "    print(f\"{'='*60}\")\n",
    "    \n",
    "    # Descriptive statistics\n",
    "    print(f\"\\nDescriptive Statistics:\")\n",
    "    print(f\"Baseline Model - Mean: {np.mean(baseline_scores):.4f}, Std: {np.std(baseline_scores):.4f}\")\n",
    "    print(f\"Supervised DA - Mean: {np.mean(supervised_scores):.4f}, Std: {np.std(supervised_scores):.4f}\")\n",
    "    print(f\"Unsupervised DA - Mean: {np.mean(unsupervised_scores):.4f}, Std: {np.std(unsupervised_scores):.4f}\")\n",
    "    \n",
    "    # Paired t-test\n",
    "    min_len = min(len(baseline_scores), len(supervised_scores), len(unsupervised_scores))\n",
    "    baseline_subset = baseline_scores[:min_len]\n",
    "    supervised_subset = supervised_scores[:min_len]\n",
    "    unsupervised_subset = unsupervised_scores[:min_len]\n",
    "    \n",
    "    # Supervised vs Baseline\n",
    "    t_stat_sup, p_val_sup = stats.ttest_rel(supervised_subset, baseline_subset)\n",
    "    print(f\"\\nSupervised DA vs Baseline:\")\n",
    "    print(f\"Paired t-test: t-statistic = {t_stat_sup:.4f}, p-value = {p_val_sup:.4f}\")\n",
    "    if p_val_sup < 0.05:\n",
    "        print(\"Statistically significant difference (p < 0.05)\")\n",
    "    else:\n",
    "        print(\"No statistically significant difference (p >= 0.05)\")\n",
    "    \n",
    "    # Unsupervised vs Baseline\n",
    "    t_stat_unsup, p_val_unsup = stats.ttest_rel(unsupervised_subset, baseline_subset)\n",
    "    print(f\"\\nUnsupervised DA vs Baseline:\")\n",
    "    print(f\"Paired t-test: t-statistic = {t_stat_unsup:.4f}, p-value = {p_val_unsup:.4f}\")\n",
    "    if p_val_unsup < 0.05:\n",
    "        print(\"Statistically significant difference (p < 0.05)\")\n",
    "    else:\n",
    "        print(\"No statistically significant difference (p >= 0.05)\")\n",
    "    \n",
    "    # Wilcoxon signed-rank test \n",
    "    print(f\"\\nNon-parametric tests (Wilcoxon signed-rank):\")\n",
    "    \n",
    "    # Supervised vs Baseline\n",
    "    wilcox_stat_sup, wilcox_p_sup = stats.wilcoxon(supervised_subset, baseline_subset)\n",
    "    print(f\"Supervised DA vs Baseline: Wilcoxon statistic = {wilcox_stat_sup:.4f}, p-value = {wilcox_p_sup:.4f}\")\n",
    "    \n",
    "    # Unsupervised vs Baseline\n",
    "    wilcox_stat_unsup, wilcox_p_unsup = stats.wilcoxon(unsupervised_subset, baseline_subset)\n",
    "    print(f\"Unsupervised DA vs Baseline: Wilcoxon statistic = {wilcox_stat_unsup:.4f}, p-value = {wilcox_p_unsup:.4f}\")\n",
    "    \n",
    "    # Effect size (Cohen's d)\n",
    "    def cohens_d(x1, x2):\n",
    "        pooled_std = np.sqrt(((len(x1) - 1) * np.var(x1, ddof=1) + (len(x2) - 1) * np.var(x2, ddof=1)) / (len(x1) + len(x2) - 2))\n",
    "        return (np.mean(x1) - np.mean(x2)) / pooled_std\n",
    "    \n",
    "    cohens_d_sup = cohens_d(supervised_subset, baseline_subset)\n",
    "    cohens_d_unsup = cohens_d(unsupervised_subset, baseline_subset)\n",
    "    \n",
    "    print(f\"\\nEffect Size (Cohen's d):\")\n",
    "    print(f\"Supervised DA vs Baseline: {cohens_d_sup:.4f}\")\n",
    "    print(f\"Unsupervised DA vs Baseline: {cohens_d_unsup:.4f}\")\n",
    "    \n",
    "    return {\n",
    "        'metric': metric_name,\n",
    "        'baseline_mean': np.mean(baseline_scores),\n",
    "        'supervised_mean': np.mean(supervised_scores),\n",
    "        'unsupervised_mean': np.mean(unsupervised_scores),\n",
    "        'sup_vs_base_pvalue': p_val_sup,\n",
    "        'unsup_vs_base_pvalue': p_val_unsup,\n",
    "        'sup_vs_base_cohens_d': cohens_d_sup,\n",
    "        'unsup_vs_base_cohens_d': cohens_d_unsup\n",
    "    }\n",
    "\n",
    "\n",
    "# Dice Scores Analysis\n",
    "dice_results = perform_statistical_analysis(\n",
    "    dice_scores_model1, \n",
    "    dice_scores_model2, \n",
    "    dice_scores_model3, \n",
    "    \"Dice Score\"\n",
    ")\n",
    "\n",
    "# Lesion-wise Accuracy Analysis\n",
    "lesion_results = perform_statistical_analysis(\n",
    "    lesion_acc_scores_model1, \n",
    "    lesion_acc_scores_model2, \n",
    "    lesion_acc_scores_model3, \n",
    "    \"Lesion-wise Accuracy\"\n",
    ")"
   ]
  },
  {
   "cell_type": "code",
   "execution_count": null,
   "id": "7b406ad3",
   "metadata": {},
   "outputs": [
    {
     "name": "stdout",
     "output_type": "stream",
     "text": [
      "\n",
      "============================================================\n",
      "SUMMARY TABLE\n",
      "============================================================\n",
      "                 metric  baseline_mean  supervised_mean  unsupervised_mean  \\\n",
      "0            Dice Score         0.3084           0.4411             0.4868   \n",
      "1  Lesion-wise Accuracy         0.3157           0.4356             0.4651   \n",
      "\n",
      "   sup_vs_base_pvalue  unsup_vs_base_pvalue  sup_vs_base_cohens_d  \\\n",
      "0                 0.0                   0.0                0.3135   \n",
      "1                 0.0                   0.0                0.2674   \n",
      "\n",
      "   unsup_vs_base_cohens_d  \n",
      "0                  0.4266  \n",
      "1                  0.3325  \n"
     ]
    },
    {
     "data": {
      "image/png": "[encoded data removed]",
      "text/plain": [
       "<Figure size 1500x500 with 2 Axes>"
      ]
     },
     "metadata": {},
     "output_type": "display_data"
    }
   ],
   "source": [
    "summary_df = pd.DataFrame([dice_results, lesion_results])\n",
    "print(f\"\\n{'='*60}\")\n",
    "print(\"SUMMARY TABLE\")\n",
    "print(f\"{'='*60}\")\n",
    "print(summary_df.round(4))\n",
    "\n",
    "plt.figure(figsize=(15, 5))\n",
    "\n",
    "# Dice scores comparison\n",
    "plt.subplot(1, 2, 1)\n",
    "plt.boxplot([dice_scores_model1, dice_scores_model2, dice_scores_model3], tick_labels=['Baseline', 'Supervised DA', 'Unsupervised DA'])\n",
    "plt.title('Dice Score Comparison')\n",
    "plt.ylabel('Dice Score')\n",
    "plt.grid(True, alpha=0.3)\n",
    "\n",
    "# Lesion-wise accuracy comparison\n",
    "plt.subplot(1, 2, 2)\n",
    "plt.boxplot([lesion_acc_scores_model1, lesion_acc_scores_model2, lesion_acc_scores_model3], tick_labels=['Baseline', 'Supervised DA', 'Unsupervised DA'])\n",
    "plt.title('Lesion-wise Accuracy Comparison')\n",
    "plt.ylabel('Lesion-wise Accuracy')\n",
    "plt.grid(True, alpha=0.3)\n",
    "\n",
    "plt.tight_layout()\n",
    "plt.show()"
   ]
  },
  {
   "cell_type": "code",
   "execution_count": null,
   "id": "f34be467",
   "metadata": {},
   "outputs": [],
   "source": []
  }
 ],
 "metadata": {
  "kernelspec": {
   "display_name": "AIMIA",
   "language": "python",
   "name": "python3"
  },
  "language_info": {
   "codemirror_mode": {
    "name": "ipython",
    "version": 3
   },
   "file_extension": ".py",
   "mimetype": "text/x-python",
   "name": "python",
   "nbconvert_exporter": "python",
   "pygments_lexer": "ipython3",
   "version": "3.12.12"
  }
 },
 "nbformat": 4,
 "nbformat_minor": 5
}
