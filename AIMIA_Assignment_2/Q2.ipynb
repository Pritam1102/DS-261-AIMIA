{
 "cells": [
  {
   "cell_type": "code",
   "execution_count": 1,
   "id": "cd724df8",
   "metadata": {},
   "outputs": [],
   "source": [
    "import numpy as np\n",
    "import matplotlib.pyplot as plt \n",
    "import cv2\n",
    "from PIL import Image\n",
    "import nibabel as nib\n",
    "import os\n",
    "import torch\n",
    "import torch.nn as nn\n",
    "import tqdm\n",
    "from sklearn.model_selection import train_test_split\n",
    "from torch.utils.data import TensorDataset, DataLoader\n",
    "from torchvision import transforms"
   ]
  },
  {
   "cell_type": "code",
   "execution_count": 2,
   "id": "c98dbc53",
   "metadata": {},
   "outputs": [],
   "source": [
    "#Load Dataset 2 \n",
    "adc_images = []\n",
    "dwi_images = []\n",
    "masks = []\n",
    "adc_dir = r\"/home/pritamk/AIMIA/DS-261-AIMIA/AIMIA_Assignment_2/dataset_2/img/adc\"\n",
    "dwi_dir = r\"/home/pritamk/AIMIA/DS-261-AIMIA/AIMIA_Assignment_2/dataset_2/img/dwi\"\n",
    "mask_dir = r\"/home/pritamk/AIMIA/DS-261-AIMIA/AIMIA_Assignment_2/dataset_2/mask\"\n",
    "\n",
    "for filename in os.listdir(adc_dir):\n",
    "    if filename.endswith(\".gz\"):\n",
    "        adc_path = os.path.join(adc_dir, filename)\n",
    "        adc_img = nib.load(adc_path).get_fdata()\n",
    "        adc_images.append(adc_img)\n",
    "for filename in os.listdir(dwi_dir):\n",
    "    if filename.endswith(\".gz\"):\n",
    "        dwi_path = os.path.join(dwi_dir, filename)\n",
    "        dwi_img = nib.load(dwi_path).get_fdata()\n",
    "        dwi_images.append(dwi_img)\n",
    "for filename in os.listdir(mask_dir):\n",
    "    if filename.endswith(\".gz\"):\n",
    "        mask_path = os.path.join(mask_dir, filename)\n",
    "        mask_img = nib.load(mask_path).get_fdata()\n",
    "        masks.append(mask_img)"
   ]
  },
  {
   "cell_type": "code",
   "execution_count": 3,
   "id": "2a38bb77",
   "metadata": {},
   "outputs": [
    {
     "name": "stdout",
     "output_type": "stream",
     "text": [
      "Shape of ADC images from Dataset 3: (950, 64, 64)\n",
      "Shape of DWI images from Dataset 3: (950, 64, 64)\n",
      "Shape of Mask images from Dataset 3: (950, 64, 64)\n",
      "Shape of ADC images for testing from Dataset 3: (407, 64, 64)\n",
      "Shape of DWI images for testing from Dataset 3: (407, 64, 64)\n",
      "Shape of Mask images for testing from Dataset 3: (407, 64, 64)\n"
     ]
    }
   ],
   "source": [
    "#Load Dataset 3\n",
    "ds3_test_adc = []\n",
    "ds3_train_adc = []\n",
    "ds3_test_dwi = []\n",
    "ds3_train_dwi = []\n",
    "ds3_test_masks = []\n",
    "ds3_train_masks = []\n",
    "ds3_test_dir_adc = r\"/home/pritamk/AIMIA/DS-261-AIMIA/AIMIA_Assignment_2/dataset_3/test/img/adc\"\n",
    "ds3_test_dir_dwi = r\"/home/pritamk/AIMIA/DS-261-AIMIA/AIMIA_Assignment_2/dataset_3/test/img/dwi\"\n",
    "ds3_train_dir_adc = r\"/home/pritamk/AIMIA/DS-261-AIMIA/AIMIA_Assignment_2/dataset_3/train/img/adc\"\n",
    "ds3_train_dir_dwi = r\"/home/pritamk/AIMIA/DS-261-AIMIA/AIMIA_Assignment_2/dataset_3/train/img/dwi\"\n",
    "ds3_test_mask_dir = r\"/home/pritamk/AIMIA/DS-261-AIMIA/AIMIA_Assignment_2/dataset_3/test/mask\"\n",
    "ds3_train_mask_dir = r\"/home/pritamk/AIMIA/DS-261-AIMIA/AIMIA_Assignment_2/dataset_3/train/mask\"\n",
    "for filename in os.listdir(ds3_test_dir_adc):\n",
    "    if filename.endswith(\".gz\"):\n",
    "        adc_path = os.path.join(ds3_test_dir_adc, filename)\n",
    "        adc_img = nib.load(adc_path).get_fdata()\n",
    "        ds3_test_adc.append(adc_img)\n",
    "for filename in os.listdir(ds3_train_dir_adc):\n",
    "    if filename.endswith(\".gz\"):\n",
    "        adc_path = os.path.join(ds3_train_dir_adc, filename)\n",
    "        adc_img = nib.load(adc_path).get_fdata()\n",
    "        ds3_train_adc.append(adc_img)\n",
    "for filename in os.listdir(ds3_test_dir_dwi):\n",
    "    if filename.endswith(\".gz\"):\n",
    "        dwi_path = os.path.join(ds3_test_dir_dwi, filename)\n",
    "        dwi_img = nib.load(dwi_path).get_fdata()\n",
    "        ds3_test_dwi.append(dwi_img)\n",
    "for filename in os.listdir(ds3_train_dir_dwi):\n",
    "    if filename.endswith(\".gz\"):\n",
    "        dwi_path = os.path.join(ds3_train_dir_dwi, filename)\n",
    "        dwi_img = nib.load(dwi_path).get_fdata()\n",
    "        ds3_train_dwi.append(dwi_img)\n",
    "for filename in os.listdir(ds3_test_mask_dir):\n",
    "    if filename.endswith(\".gz\"):\n",
    "        mask_path = os.path.join(ds3_test_mask_dir, filename)\n",
    "        mask_img = nib.load(mask_path).get_fdata()\n",
    "        ds3_test_masks.append(mask_img)\n",
    "for filename in os.listdir(ds3_train_mask_dir):\n",
    "    if filename.endswith(\".gz\"):\n",
    "        mask_path = os.path.join(ds3_train_mask_dir, filename)\n",
    "        mask_img = nib.load(mask_path).get_fdata()\n",
    "        ds3_train_masks.append(mask_img)\n",
    "\n",
    "print(f\"Shape of ADC images from Dataset 3: {np.array(ds3_train_adc).shape}\")\n",
    "print(f\"Shape of DWI images from Dataset 3: {np.array(ds3_train_dwi).shape}\")\n",
    "print(f\"Shape of Mask images from Dataset 3: {np.array(ds3_train_masks).shape}\")\n",
    "print(f\"Shape of ADC images for testing from Dataset 3: {np.array(ds3_test_adc).shape}\")\n",
    "print(f\"Shape of DWI images for testing from Dataset 3: {np.array(ds3_test_dwi).shape}\")\n",
    "print(f\"Shape of Mask images for testing from Dataset 3: {np.array(ds3_test_masks).shape}\")"
   ]
  },
  {
   "cell_type": "code",
   "execution_count": 4,
   "id": "7d197915",
   "metadata": {},
   "outputs": [
    {
     "data": {
      "text/plain": [
       "((64, 64), (64, 64), (64, 64))"
      ]
     },
     "execution_count": 4,
     "metadata": {},
     "output_type": "execute_result"
    }
   ],
   "source": [
    "adc_images[0].shape, dwi_images[0].shape, masks[0].shape"
   ]
  },
  {
   "cell_type": "code",
   "execution_count": 5,
   "id": "9d8f6800",
   "metadata": {},
   "outputs": [
    {
     "data": {
      "image/png": "[encoded data removed]",
      "text/plain": [
       "<Figure size 1200x800 with 3 Axes>"
      ]
     },
     "metadata": {},
     "output_type": "display_data"
    }
   ],
   "source": [
    "plt.figure(figsize=(12, 8))\n",
    "plt.subplot(1, 3, 1)\n",
    "plt.imshow(adc_images[0], cmap='gray')\n",
    "plt.title('ADC Image')\n",
    "plt.axis('off')\n",
    "plt.subplot(1, 3, 2)\n",
    "plt.imshow(dwi_images[0], cmap='gray')\n",
    "plt.title('DWI Image')\n",
    "plt.axis('off')\n",
    "plt.subplot(1, 3, 3)\n",
    "plt.imshow(masks[0], cmap='gray')\n",
    "plt.title('Mask Image')\n",
    "plt.axis('off')\n",
    "plt.show()"
   ]
  },
  {
   "cell_type": "code",
   "execution_count": 6,
   "id": "b2fe49db",
   "metadata": {},
   "outputs": [
    {
     "name": "stdout",
     "output_type": "stream",
     "text": [
      "(1504, 64, 64) (1504, 64, 64) (1504, 64, 64)\n"
     ]
    }
   ],
   "source": [
    "adc_images = np.array(adc_images)\n",
    "dwi_images = np.array(dwi_images)\n",
    "masks = np.array(masks)\n",
    "print(adc_images.shape, dwi_images.shape, masks.shape)"
   ]
  },
  {
   "cell_type": "code",
   "execution_count": 7,
   "id": "4efb1ec9",
   "metadata": {},
   "outputs": [
    {
     "name": "stdout",
     "output_type": "stream",
     "text": [
      "(2, 1504, 64, 64) (1, 1504, 64, 64)\n"
     ]
    }
   ],
   "source": [
    "X = np.stack((adc_images, dwi_images), axis=0) # Combine ADC and DWI images. There are two channels in the training images\n",
    "y = masks[np.newaxis, ...] # Add a new axis to masks to match the shape of X\n",
    "print(X.shape, y.shape)"
   ]
  },
  {
   "cell_type": "code",
   "execution_count": 8,
   "id": "862e9044",
   "metadata": {},
   "outputs": [
    {
     "name": "stdout",
     "output_type": "stream",
     "text": [
      "(2, 950, 64, 64) (1, 950, 64, 64)\n",
      "(2, 407, 64, 64) (1, 407, 64, 64)\n"
     ]
    }
   ],
   "source": [
    "#Combine adc and dwi images from dataset 3\n",
    "ds3_train_images = np.stack((ds3_train_adc, ds3_train_dwi), axis=0)\n",
    "ds3_test_images = np.stack((ds3_test_adc, ds3_test_dwi), axis=0)\n",
    "ds3_train_masks = np.array(ds3_train_masks)[np.newaxis, ...]\n",
    "ds3_test_masks = np.array(ds3_test_masks)[np.newaxis, ...]\n",
    "ds3_train_images[np.isnan(ds3_train_images)] = 0 # Replace NaN values with 0\n",
    "ds3_test_images[np.isnan(ds3_test_images)] = 0\n",
    "print(ds3_train_images.shape, ds3_train_masks.shape)\n",
    "print(ds3_test_images.shape, ds3_test_masks.shape)\n"
   ]
  },
  {
   "cell_type": "code",
   "execution_count": 9,
   "id": "801b658a",
   "metadata": {},
   "outputs": [
    {
     "name": "stderr",
     "output_type": "stream",
     "text": [
      "/home/pritamk/miniconda3/envs/AIMIA/lib/python3.12/site-packages/tqdm/auto.py:21: TqdmWarning: IProgress not found. Please update jupyter and ipywidgets. See https://ipywidgets.readthedocs.io/en/stable/user_install.html\n",
      "  from .autonotebook import tqdm as notebook_tqdm\n"
     ]
    }
   ],
   "source": [
    "import segmentation_models_pytorch as smp"
   ]
  },
  {
   "cell_type": "code",
   "execution_count": 10,
   "id": "f3f3e6e1",
   "metadata": {},
   "outputs": [
    {
     "name": "stdout",
     "output_type": "stream",
     "text": [
      "Normalized X range: [0.000, 1.000]\n",
      "Normalized y range: [0.000, 1.000]\n",
      "Unique values in masks: (array([0., 1.], dtype=float32), array([6082668,   77716]))\n",
      "X tensor shape: torch.Size([1504, 2, 64, 64])\n",
      "y tensor shape: torch.Size([1504, 1, 64, 64])\n"
     ]
    }
   ],
   "source": [
    "def normalize_data(X, y):\n",
    "    X_norm = np.zeros_like(X)\n",
    "    for i in range(X.shape[0]):  # For two channels\n",
    "        X_norm[i] = (X[i] - X[i].min()) / (X[i].max() - X[i].min() + 1e-8)\n",
    "    \n",
    "    y_norm = (y > 0).astype(np.float32)\n",
    "    \n",
    "    return X_norm, y_norm\n",
    "\n",
    "X_normalized, y_normalized = normalize_data(X, y)\n",
    "print(f\"Normalized X range: [{X_normalized.min():.3f}, {X_normalized.max():.3f}]\")\n",
    "print(f\"Normalized y range: [{y_normalized.min():.3f}, {y_normalized.max():.3f}]\")\n",
    "print(f\"Unique values in masks: {np.unique(y_normalized, return_counts=True)}\")\n",
    "\n",
    "\n",
    "X_tensor = torch.FloatTensor(X_normalized).permute(1, 0, 2, 3)  # (samples, channels, H, W)\n",
    "y_tensor = torch.FloatTensor(y_normalized).permute(1, 0, 2, 3)  # (samples, classes, H, W)\n",
    "\n",
    "print(f\"X tensor shape: {X_tensor.shape}\")\n",
    "print(f\"y tensor shape: {y_tensor.shape}\")"
   ]
  },
  {
   "cell_type": "code",
   "execution_count": 11,
   "id": "1f493f28",
   "metadata": {},
   "outputs": [
    {
     "name": "stdout",
     "output_type": "stream",
     "text": [
      "DS3 Train tensor shape: torch.Size([950, 2, 64, 64])\n",
      "DS3 masks tensor shape: torch.Size([950, 1, 64, 64])\n",
      "DS3 Test tensor shape: torch.Size([407, 2, 64, 64])\n",
      "DS3 Test masks tensor shape: torch.Size([407, 1, 64, 64])\n"
     ]
    }
   ],
   "source": [
    "#Normalize datasets 3\n",
    "ds3_train_images_normalized, ds3_train_masks_normalized = normalize_data(ds3_train_images, ds3_train_masks)\n",
    "ds3_test_images_normalized, ds3_test_masks_normalized = normalize_data(ds3_test_images, ds3_test_masks)\n",
    "ds3_train = torch.FloatTensor(ds3_train_images_normalized).permute(1, 0, 2, 3) # Has NaN values\n",
    "ds3_train_masks = torch.FloatTensor(ds3_train_masks_normalized).permute(1, 0, 2, 3)\n",
    "ds3_test = torch.FloatTensor(ds3_test_images_normalized).permute(1, 0, 2, 3) #Has NaN values\n",
    "ds3_test_masks = torch.FloatTensor(ds3_test_masks_normalized).permute(1, 0, 2, 3)\n",
    "print(f\"DS3 Train tensor shape: {ds3_train.shape}\")\n",
    "print(f\"DS3 masks tensor shape: {ds3_train_masks.shape}\")\n",
    "print(f\"DS3 Test tensor shape: {ds3_test.shape}\")\n",
    "print(f\"DS3 Test masks tensor shape: {ds3_test_masks.shape}\")"
   ]
  },
  {
   "cell_type": "code",
   "execution_count": 12,
   "id": "a124357c",
   "metadata": {},
   "outputs": [
    {
     "name": "stdout",
     "output_type": "stream",
     "text": [
      "Train shape torch.Size([1504, 2, 64, 64]), labels shape torch.Size([1504, 1, 64, 64])\n",
      "Validation shape torch.Size([407, 2, 64, 64]), labels shape torch.Size([407, 1, 64, 64])\n",
      "Number of batches in train loader: 188\n",
      "Number of batches in validation loader: 51\n"
     ]
    }
   ],
   "source": [
    "train_loader = DataLoader(TensorDataset(X_tensor, y_tensor), batch_size=8, shuffle=True)\n",
    "val_loader = DataLoader(TensorDataset(ds3_test, ds3_test_masks), batch_size=8, shuffle=False)\n",
    "print(f\"Train shape {X_tensor.shape}, labels shape {y_tensor.shape}\")\n",
    "print(f\"Validation shape {ds3_test.shape}, labels shape {ds3_test_masks.shape}\")\n",
    "print(f\"Number of batches in train loader: {len(train_loader)}\")\n",
    "print(f\"Number of batches in validation loader: {len(val_loader)}\")"
   ]
  },
  {
   "cell_type": "code",
   "execution_count": 13,
   "id": "14d4ee60",
   "metadata": {},
   "outputs": [],
   "source": [
    "def dice_score(y_true, y_pred):\n",
    "    intersection = np.sum(y_true * y_pred) # Element-wise multiplication and sum. If y_true and y_pred are binary masks, this gives the number of pixels that are predicted as positive and are actually positive.\n",
    "    total = np.sum(y_true) + np.sum(y_pred) # total number of positive pixels in both masks\n",
    "    if total == 0:\n",
    "        return 1.0  \n",
    "    return 2. * intersection / total\n",
    "\n",
    "\n",
    "from scipy import ndimage\n",
    "from skimage.measure import label\n",
    "\n",
    "def lesion_wise_accuracy(y_true, y_pred):\n",
    "    true_labeled, true_num_lesions = label(y_true, return_num=True)\n",
    "    pred_labeled, pred_num_lesions = label(y_pred, return_num=True)\n",
    "    \n",
    "    if true_num_lesions == 0 and pred_num_lesions == 0:\n",
    "        return 1.0  # Perfect if both have no lesions\n",
    "    \n",
    "    if true_num_lesions == 0 or pred_num_lesions == 0:\n",
    "        return 0.0  # One has lesions, other doesn't\n",
    "    \n",
    "    # Count overlapping lesions\n",
    "    true_positive = 0\n",
    "    \n",
    "    for true_lesion_id in range(1, true_num_lesions + 1):\n",
    "        true_lesion_mask = (true_labeled == true_lesion_id)\n",
    "        \n",
    "        overlapping_pred_labels = np.unique(pred_labeled[true_lesion_mask]) # Check if any predicted lesion overlaps with this true lesion\n",
    "        overlapping_pred_labels = overlapping_pred_labels[overlapping_pred_labels != 0]\n",
    "        \n",
    "        if len(overlapping_pred_labels) > 0:\n",
    "             \n",
    "            for pred_label in overlapping_pred_labels: # Check if the overlap is significant\n",
    "                pred_lesion_mask = (pred_labeled == pred_label)\n",
    "                intersection = np.sum(true_lesion_mask & pred_lesion_mask)\n",
    "                true_lesion_size = np.sum(true_lesion_mask)\n",
    "                \n",
    "                if intersection / true_lesion_size > 0.5:  \n",
    "                    true_positive += 1\n",
    "                    break\n",
    "    \n",
    "    # Calculate metrics\n",
    "    false_negative = true_num_lesions - true_positive\n",
    "    false_positive = pred_num_lesions - true_positive\n",
    "    \n",
    "    if true_positive + false_negative == 0:\n",
    "        sensitivity = 1.0\n",
    "    else:\n",
    "        sensitivity = true_positive / (true_positive + false_negative)\n",
    "    \n",
    "    if true_positive + false_positive == 0:\n",
    "        precision = 1.0\n",
    "    else:\n",
    "        precision = true_positive / (true_positive + false_positive)\n",
    "    \n",
    "    if precision + sensitivity == 0:\n",
    "        f1 = 0.0\n",
    "    else:\n",
    "        f1 = 2 * (precision * sensitivity) / (precision + sensitivity)\n",
    "    \n",
    "    return f1\n"
   ]
  },
  {
   "cell_type": "code",
   "execution_count": 16,
   "id": "c74859ae",
   "metadata": {},
   "outputs": [],
   "source": [
    "def trainer_class(model, train_loader, test_loader, criterion, optimizer, num_epochs, device, patience_counter, scheduler=None):\n",
    "    training_losses = []\n",
    "    validation_losses = []\n",
    "    best_val_loss = float('inf')\n",
    "    train_dice_scores = []\n",
    "    valid_dice_scores = []\n",
    "    patience = 0\n",
    "    \n",
    "    for epoch in range(num_epochs):\n",
    "        model.train()\n",
    "        train_loss = 0.0\n",
    "        train_dice_total = 0.0\n",
    "        num_train_batches = 0\n",
    "        \n",
    "        for batch_idx, (images, masks) in enumerate(tqdm.tqdm(train_loader, desc=f\"Train Epoch {epoch+1}/{num_epochs}\")):\n",
    "            images, masks = images.to(device, dtype=torch.float32), masks.to(device, dtype=torch.float32)\n",
    "            optimizer.zero_grad()\n",
    "            \n",
    "            outputs = model(images)  # logits \n",
    "            loss = criterion(outputs, masks)\n",
    "            loss.backward()\n",
    "            torch.nn.utils.clip_grad_norm_(model.parameters(), max_norm=1.0)\n",
    "            optimizer.step()\n",
    "            \n",
    "            # FIX: Apply sigmoid before thresholding for dice calculation\n",
    "            with torch.no_grad():\n",
    "                preds = (torch.sigmoid(outputs) > 0.5).float()\n",
    "                batch_dice = dice_score(masks.cpu().numpy(), preds.cpu().numpy())\n",
    "                train_dice_total += batch_dice\n",
    "            \n",
    "            train_loss += loss.item() * images.size(0)\n",
    "            num_train_batches += 1\n",
    "        \n",
    "        epoch_train_loss = train_loss / len(train_loader.dataset)\n",
    "        training_losses.append(epoch_train_loss)\n",
    "        epoch_dice_score = train_dice_total / num_train_batches\n",
    "        train_dice_scores.append(epoch_dice_score)\n",
    "        \n",
    "        # Validation\n",
    "        model.eval()\n",
    "        validation_loss = 0.0\n",
    "        val_dice_total = 0.0\n",
    "        num_val_batches = 0\n",
    "        \n",
    "        with torch.no_grad():\n",
    "            for images, masks in tqdm.tqdm(test_loader, desc=f\"Validation Epoch {epoch+1}/{num_epochs}\"):\n",
    "                images, masks = images.to(device, dtype=torch.float32), masks.to(device, dtype=torch.float32)\n",
    "                outputs = model(images)\n",
    "                loss = criterion(outputs, masks)\n",
    "                validation_loss += loss.item() * images.size(0)\n",
    "                \n",
    "                preds = (torch.sigmoid(outputs) > 0.5).float()\n",
    "                batch_dice = dice_score(masks.cpu().numpy(), preds.cpu().numpy())\n",
    "                val_dice_total += batch_dice\n",
    "                num_val_batches += 1\n",
    "        \n",
    "        epoch_val_loss = validation_loss / len(test_loader.dataset)\n",
    "        validation_losses.append(epoch_val_loss)\n",
    "        epoch_dice_score_val = val_dice_total / num_val_batches\n",
    "        valid_dice_scores.append(epoch_dice_score_val)\n",
    "        \n",
    "        print(\"*\"*50)\n",
    "        print(f\"Epoch {epoch+1}/{num_epochs}, Train Loss: {epoch_train_loss:.4f}, Val Loss: {epoch_val_loss:.4f}\")\n",
    "        print(f\"Epoch {epoch+1}/{num_epochs}, Train Dice Score: {epoch_dice_score:.4f}, Val Dice Score: {epoch_dice_score_val:.4f}\")\n",
    "        print(\"*\"*50)\n",
    "        \n",
    "        # ENABLE early stopping\n",
    "        if epoch_val_loss < best_val_loss:\n",
    "            best_val_loss = epoch_val_loss\n",
    "            patience = 0\n",
    "            # Save best model\n",
    "            torch.save(model.state_dict(), 'best_model.pth')\n",
    "        else:\n",
    "            patience += 1\n",
    "            if patience >= patience_counter:\n",
    "                print(\"Early stopping triggered\")\n",
    "                break\n",
    "                \n",
    "        if scheduler:\n",
    "            scheduler.step(epoch_val_loss)\n",
    "    \n",
    "    return training_losses, validation_losses, train_dice_scores, valid_dice_scores"
   ]
  },
  {
   "cell_type": "code",
   "execution_count": 14,
   "id": "7ca0af12",
   "metadata": {},
   "outputs": [],
   "source": [
    "class CombinedLoss(nn.Module):\n",
    "    def __init__(self, alpha=0.3):\n",
    "        super().__init__()\n",
    "        self.alpha = alpha\n",
    "        self.bce = nn.BCEWithLogitsLoss()\n",
    "    \n",
    "    def dice_loss(self, pred, target, smooth=1):\n",
    "        pred = torch.sigmoid(pred)\n",
    "        pred = pred.view(-1)\n",
    "        target = target.view(-1)\n",
    "        intersection = (pred * target).sum()\n",
    "        dice = (2. * intersection + smooth) / (pred.sum() + target.sum() + smooth)\n",
    "        return 1 - dice\n",
    "    \n",
    "    def forward(self, pred, target):\n",
    "        bce_loss = self.bce(pred, target)\n",
    "        dice_loss = self.dice_loss(pred, target)\n",
    "        return bce_loss +  dice_loss"
   ]
  },
  {
   "cell_type": "code",
   "execution_count": 16,
   "id": "c3aecdd7",
   "metadata": {},
   "outputs": [
    {
     "name": "stdout",
     "output_type": "stream",
     "text": [
      "Number of trainable parameters in the model: 24433233\n"
     ]
    }
   ],
   "source": [
    "model1 = smp.Unet(encoder_name=\"resnet34\",encoder_weights=\"imagenet\",in_channels=2,classes=1)\n",
    "DEVICE = torch.device(\"cuda:0\" if torch.cuda.is_available() else \"cpu\")\n",
    "model1.to(DEVICE)\n",
    "parameters_count = sum(p.numel() for p in model1.parameters() if p.requires_grad)\n",
    "print(f\"Number of trainable parameters in the model: {parameters_count}\")"
   ]
  },
  {
   "cell_type": "code",
   "execution_count": 17,
   "id": "3f0bdfd7",
   "metadata": {},
   "outputs": [],
   "source": [
    "criterion = CombinedLoss(alpha=0.7)\n",
    "optimizer = torch.optim.AdamW(model1.parameters(), lr=1e-4, weight_decay=1e-4)\n",
    "scheduler = torch.optim.lr_scheduler.CosineAnnealingLR(optimizer, T_max=50, eta_min=1e-6)"
   ]
  },
  {
   "cell_type": "code",
   "execution_count": 19,
   "id": "ea7f551f",
   "metadata": {},
   "outputs": [
    {
     "name": "stderr",
     "output_type": "stream",
     "text": [
      "Train Epoch 1/50:   0%|          | 0/188 [00:00<?, ?it/s]"
     ]
    },
    {
     "name": "stderr",
     "output_type": "stream",
     "text": [
      "Train Epoch 1/50: 100%|██████████| 188/188 [00:04<00:00, 45.28it/s]\n",
      "Validation Epoch 1/50: 100%|██████████| 51/51 [00:00<00:00, 171.43it/s]\n"
     ]
    },
    {
     "name": "stdout",
     "output_type": "stream",
     "text": [
      "**************************************************\n",
      "Epoch 1/50, Train Loss: 1.2323, Val Loss: 1.1577\n",
      "Epoch 1/50, Train Dice Score: 0.2074, Val Dice Score: 0.0323\n",
      "**************************************************\n"
     ]
    },
    {
     "name": "stderr",
     "output_type": "stream",
     "text": [
      "/home/pritamk/miniconda3/envs/AIMIA/lib/python3.12/site-packages/torch/optim/lr_scheduler.py:204: UserWarning: The epoch parameter in `scheduler.step()` was not necessary and is being deprecated where possible. Please use `scheduler.step()` to step the scheduler. During the deprecation, if epoch is different from None, the closed form is used instead of the new chainable form, where available. Please open an issue if you are unable to replicate your use case: https://github.com/pytorch/pytorch/issues/new/choose.\n",
      "  warnings.warn(EPOCH_DEPRECATION_WARNING, UserWarning)\n",
      "Train Epoch 2/50: 100%|██████████| 188/188 [00:03<00:00, 50.64it/s]\n",
      "Validation Epoch 2/50: 100%|██████████| 51/51 [00:00<00:00, 191.56it/s]\n"
     ]
    },
    {
     "name": "stdout",
     "output_type": "stream",
     "text": [
      "**************************************************\n",
      "Epoch 2/50, Train Loss: 0.9625, Val Loss: 1.1180\n",
      "Epoch 2/50, Train Dice Score: 0.4237, Val Dice Score: 0.0607\n",
      "**************************************************\n"
     ]
    },
    {
     "name": "stderr",
     "output_type": "stream",
     "text": [
      "Train Epoch 3/50: 100%|██████████| 188/188 [00:03<00:00, 48.83it/s]\n",
      "Validation Epoch 3/50: 100%|██████████| 51/51 [00:00<00:00, 191.13it/s]\n"
     ]
    },
    {
     "name": "stdout",
     "output_type": "stream",
     "text": [
      "**************************************************\n",
      "Epoch 3/50, Train Loss: 0.7899, Val Loss: 1.0522\n",
      "Epoch 3/50, Train Dice Score: 0.5332, Val Dice Score: 0.0691\n",
      "**************************************************\n"
     ]
    },
    {
     "name": "stderr",
     "output_type": "stream",
     "text": [
      "Train Epoch 4/50: 100%|██████████| 188/188 [00:03<00:00, 49.13it/s]\n",
      "Validation Epoch 4/50: 100%|██████████| 51/51 [00:00<00:00, 190.82it/s]\n"
     ]
    },
    {
     "name": "stdout",
     "output_type": "stream",
     "text": [
      "**************************************************\n",
      "Epoch 4/50, Train Loss: 0.6352, Val Loss: 0.9919\n",
      "Epoch 4/50, Train Dice Score: 0.6001, Val Dice Score: 0.0997\n",
      "**************************************************\n"
     ]
    },
    {
     "name": "stderr",
     "output_type": "stream",
     "text": [
      "Train Epoch 5/50: 100%|██████████| 188/188 [00:03<00:00, 50.10it/s]\n",
      "Validation Epoch 5/50: 100%|██████████| 51/51 [00:00<00:00, 190.06it/s]\n"
     ]
    },
    {
     "name": "stdout",
     "output_type": "stream",
     "text": [
      "**************************************************\n",
      "Epoch 5/50, Train Loss: 0.5348, Val Loss: 1.0336\n",
      "Epoch 5/50, Train Dice Score: 0.6269, Val Dice Score: 0.0897\n",
      "**************************************************\n"
     ]
    },
    {
     "name": "stderr",
     "output_type": "stream",
     "text": [
      "Train Epoch 6/50: 100%|██████████| 188/188 [00:03<00:00, 50.42it/s]\n",
      "Validation Epoch 6/50: 100%|██████████| 51/51 [00:00<00:00, 191.72it/s]\n"
     ]
    },
    {
     "name": "stdout",
     "output_type": "stream",
     "text": [
      "**************************************************\n",
      "Epoch 6/50, Train Loss: 0.4482, Val Loss: 1.0808\n",
      "Epoch 6/50, Train Dice Score: 0.6741, Val Dice Score: 0.0842\n",
      "**************************************************\n"
     ]
    },
    {
     "name": "stderr",
     "output_type": "stream",
     "text": [
      "Train Epoch 7/50: 100%|██████████| 188/188 [00:03<00:00, 50.56it/s]\n",
      "Validation Epoch 7/50: 100%|██████████| 51/51 [00:00<00:00, 189.89it/s]\n"
     ]
    },
    {
     "name": "stdout",
     "output_type": "stream",
     "text": [
      "**************************************************\n",
      "Epoch 7/50, Train Loss: 0.3966, Val Loss: 1.0988\n",
      "Epoch 7/50, Train Dice Score: 0.6925, Val Dice Score: 0.0819\n",
      "**************************************************\n"
     ]
    },
    {
     "name": "stderr",
     "output_type": "stream",
     "text": [
      "Train Epoch 8/50: 100%|██████████| 188/188 [00:03<00:00, 50.06it/s]\n",
      "Validation Epoch 8/50: 100%|██████████| 51/51 [00:00<00:00, 192.45it/s]\n"
     ]
    },
    {
     "name": "stdout",
     "output_type": "stream",
     "text": [
      "**************************************************\n",
      "Epoch 8/50, Train Loss: 0.3673, Val Loss: 1.0684\n",
      "Epoch 8/50, Train Dice Score: 0.7059, Val Dice Score: 0.0776\n",
      "**************************************************\n"
     ]
    },
    {
     "name": "stderr",
     "output_type": "stream",
     "text": [
      "Train Epoch 9/50: 100%|██████████| 188/188 [00:03<00:00, 50.67it/s]\n",
      "Validation Epoch 9/50: 100%|██████████| 51/51 [00:00<00:00, 189.99it/s]\n"
     ]
    },
    {
     "name": "stdout",
     "output_type": "stream",
     "text": [
      "**************************************************\n",
      "Epoch 9/50, Train Loss: 0.3338, Val Loss: 1.1345\n",
      "Epoch 9/50, Train Dice Score: 0.7273, Val Dice Score: 0.0704\n",
      "**************************************************\n"
     ]
    },
    {
     "name": "stderr",
     "output_type": "stream",
     "text": [
      "Train Epoch 10/50: 100%|██████████| 188/188 [00:03<00:00, 50.53it/s]\n",
      "Validation Epoch 10/50: 100%|██████████| 51/51 [00:00<00:00, 192.45it/s]\n"
     ]
    },
    {
     "name": "stdout",
     "output_type": "stream",
     "text": [
      "**************************************************\n",
      "Epoch 10/50, Train Loss: 0.3002, Val Loss: 1.0238\n",
      "Epoch 10/50, Train Dice Score: 0.7546, Val Dice Score: 0.0954\n",
      "**************************************************\n"
     ]
    },
    {
     "name": "stderr",
     "output_type": "stream",
     "text": [
      "Train Epoch 11/50: 100%|██████████| 188/188 [00:03<00:00, 50.33it/s]\n",
      "Validation Epoch 11/50: 100%|██████████| 51/51 [00:00<00:00, 190.54it/s]\n"
     ]
    },
    {
     "name": "stdout",
     "output_type": "stream",
     "text": [
      "**************************************************\n",
      "Epoch 11/50, Train Loss: 0.2938, Val Loss: 1.0408\n",
      "Epoch 11/50, Train Dice Score: 0.7561, Val Dice Score: 0.0956\n",
      "**************************************************\n"
     ]
    },
    {
     "name": "stderr",
     "output_type": "stream",
     "text": [
      "Train Epoch 12/50: 100%|██████████| 188/188 [00:03<00:00, 50.36it/s]\n",
      "Validation Epoch 12/50: 100%|██████████| 51/51 [00:00<00:00, 191.38it/s]\n"
     ]
    },
    {
     "name": "stdout",
     "output_type": "stream",
     "text": [
      "**************************************************\n",
      "Epoch 12/50, Train Loss: 0.2743, Val Loss: 1.0524\n",
      "Epoch 12/50, Train Dice Score: 0.7708, Val Dice Score: 0.0942\n",
      "**************************************************\n"
     ]
    },
    {
     "name": "stderr",
     "output_type": "stream",
     "text": [
      "Train Epoch 13/50: 100%|██████████| 188/188 [00:03<00:00, 49.12it/s]\n",
      "Validation Epoch 13/50: 100%|██████████| 51/51 [00:00<00:00, 190.90it/s]\n"
     ]
    },
    {
     "name": "stdout",
     "output_type": "stream",
     "text": [
      "**************************************************\n",
      "Epoch 13/50, Train Loss: 0.2480, Val Loss: 1.0516\n",
      "Epoch 13/50, Train Dice Score: 0.7919, Val Dice Score: 0.0933\n",
      "**************************************************\n"
     ]
    },
    {
     "name": "stderr",
     "output_type": "stream",
     "text": [
      "Train Epoch 14/50: 100%|██████████| 188/188 [00:03<00:00, 50.43it/s]\n",
      "Validation Epoch 14/50: 100%|██████████| 51/51 [00:00<00:00, 190.72it/s]"
     ]
    },
    {
     "name": "stdout",
     "output_type": "stream",
     "text": [
      "**************************************************\n",
      "Epoch 14/50, Train Loss: 0.2317, Val Loss: 1.0407\n",
      "Epoch 14/50, Train Dice Score: 0.8045, Val Dice Score: 0.1002\n",
      "**************************************************\n",
      "Early stopping triggered\n"
     ]
    },
    {
     "name": "stderr",
     "output_type": "stream",
     "text": [
      "\n"
     ]
    }
   ],
   "source": [
    "training_losses, validation_losses, train_dice_scores, valid_dice_scores = trainer_class(model1, train_loader, val_loader, criterion, optimizer, num_epochs=50, device=DEVICE, patience_counter=10, scheduler=scheduler)"
   ]
  },
  {
   "cell_type": "code",
   "execution_count": 28,
   "id": "4c1c383c",
   "metadata": {},
   "outputs": [],
   "source": [
    "class plotGraphs:\n",
    "    def __init__(self, title):\n",
    "        self.title = title\n",
    "\n",
    "    def plot_losses(self, training_losses, validation_losses):    \n",
    "        plt.figure(figsize=(8, 5))\n",
    "        plt.plot(training_losses, label='Training Loss', color='blue', marker ='o')\n",
    "        plt.plot(validation_losses, label='Validation Loss', color='orange', marker ='s')\n",
    "        plt.title(self.title)\n",
    "        plt.xlabel('Epochs')\n",
    "        plt.ylabel('Loss')\n",
    "        plt.legend()\n",
    "        plt.grid()\n",
    "        plt.show()\n",
    "    def plot_metrics(self, train_dice_scores, valid_dice_scores):    \n",
    "        plt.figure(figsize=(8, 5))\n",
    "        plt.plot(train_dice_scores, label='Training Dice Score', color='blue', marker ='o')\n",
    "        plt.plot(valid_dice_scores, label='Validation Dice Score', color='red', marker ='s')\n",
    "        plt.title(self.title)\n",
    "        plt.xlabel('Epochs')\n",
    "        plt.ylabel('Dice Score')\n",
    "        plt.legend()\n",
    "        plt.grid()\n",
    "        plt.show()\n"
   ]
  },
  {
   "cell_type": "code",
   "execution_count": 24,
   "id": "e972c253",
   "metadata": {},
   "outputs": [
    {
     "data": {
      "image/png": "[encoded data removed]",
      "text/plain": [
       "<Figure size 800x500 with 1 Axes>"
      ]
     },
     "metadata": {},
     "output_type": "display_data"
    },
    {
     "data": {
      "image/png": "[encoded data removed]",
      "text/plain": [
       "<Figure size 800x500 with 1 Axes>"
      ]
     },
     "metadata": {},
     "output_type": "display_data"
    }
   ],
   "source": [
    "plotGraphs(\"Unadapted Baseline Model\").plot_losses(training_losses, validation_losses)\n",
    "plotGraphs(\"Unadapted Baseline Model\").plot_metrics(train_dice_scores, valid_dice_scores)"
   ]
  },
  {
   "cell_type": "code",
   "execution_count": 32,
   "id": "c606e3ea",
   "metadata": {},
   "outputs": [],
   "source": [
    "def evaluate(model, test_loader, device, threshold, supervised=False):\n",
    "\tmodel.eval()\n",
    "\tpreds, labels = [], []\n",
    "\n",
    "\twith torch.no_grad():\n",
    "\t\tif supervised:\n",
    "\t\t\tfor img, label, _ in test_loader:\n",
    "\t\t\t\timg = img.to(device, dtype=torch.float32)\n",
    "\t\t\t\tlabel = label.to(device, dtype=torch.float32)\n",
    "\n",
    "\t\t\t\tsegmentation_output, _ = model(img)  # Unpack both outputs, use only segmentation\n",
    "\t\t\t\toutput = torch.sigmoid(segmentation_output) \n",
    "\n",
    "\t\t\t\tpreds.append(output.cpu())\n",
    "\t\t\t\tlabels.append(label.cpu())\n",
    "\t\telse:\n",
    "\t\t\tfor img, label in test_loader:\n",
    "\t\t\t\timg = img.to(device, dtype=torch.float32)\n",
    "\t\t\t\tlabel = label.to(device, dtype=torch.float32)\n",
    "\t\t\t\t\n",
    "\t\t\t\tsegmentation_output, _ = model(img)  # Unpack both outputs, use only segmentation\n",
    "\t\t\t\toutput = torch.sigmoid(segmentation_output)  # convert logits → probability\n",
    "\n",
    "\t\t\t\tpreds.append(output.cpu())\n",
    "\t\t\t\tlabels.append(label.cpu())\n",
    "\n",
    "\t# Concatenate all batches\n",
    "\tpreds = torch.cat(preds, dim=0)         \n",
    "\tlabels = torch.cat(labels, dim=0)       \n",
    "\n",
    "\t# Binarize predictions\n",
    "\tbinary_preds = (preds >= threshold).float()\n",
    "\n",
    "\treturn binary_preds, labels"
   ]
  },
  {
   "cell_type": "code",
   "execution_count": null,
   "id": "616d89a8",
   "metadata": {},
   "outputs": [
    {
     "name": "stdout",
     "output_type": "stream",
     "text": [
      "Threshold 0.7 dice score 0.6670\n",
      "Threshold 0.7 lesion-wise accuracy 0.4780\n"
     ]
    }
   ],
   "source": [
    "best_dice = 0\n",
    "best_lesion_acc = 0\n",
    "threshold = 0.5\n",
    "for threshold in [0.3,0.4,0.5,0.6, 0.7]:\n",
    "    outputs, labels = evaluate(model1, val_loader, device='cuda', threshold=threshold)\n",
    "    outputs = outputs.squeeze(1)\n",
    "    labels = labels.squeeze(1)\n",
    "    outputs = outputs.numpy()\n",
    "    labels = labels.numpy()\n",
    "    if dice_score(labels, outputs) > best_dice:\n",
    "        best_dice = dice_score(labels, outputs)\n",
    "        threshold = threshold\n",
    "    if lesion_wise_accuracy(labels, outputs) > best_lesion_acc:\n",
    "        best_lesion_acc = lesion_wise_accuracy(labels, outputs)\n",
    "        threshold = threshold\n",
    "\n",
    "print(f\"Threshold {threshold} dice score {best_dice:.4f}\")\n",
    "print(f\"Threshold {threshold} lesion-wise accuracy {best_lesion_acc:.4f}\")"
   ]
  },
  {
   "cell_type": "code",
   "execution_count": null,
   "id": "3e98001d",
   "metadata": {},
   "outputs": [],
   "source": [
    "class plotSamples:\n",
    "\tdef __init__(self, model, val_loader, device, threshold, supervised=False):\n",
    "\t\tself.model = model\n",
    "\t\tself.val_loader = val_loader\n",
    "\t\tself.device = device\n",
    "\t\tself.threshold = threshold\n",
    "\t\tself.supervised = supervised\n",
    "\n",
    "\tdef get_items(self):\n",
    "\t\t# Get original images from the validation loader\n",
    "\t\tif self.supervised:\n",
    "\t\t\t# For supervised DA, we need to get the original images\n",
    "\t\t\tval_images = self.val_loader.dataset.tensors[0].numpy()  # Images\n",
    "\t\t\ttest_masks = self.val_loader.dataset.tensors[1].numpy()  # Ground truth masks\n",
    "\t\telse:\n",
    "\t\t\tval_images = self.val_loader.dataset.tensors[0].numpy()\n",
    "\t\t\ttest_masks = self.val_loader.dataset.tensors[1].numpy()\n",
    "\t\t\n",
    "\t\toutputs, labels = evaluate(self.model, self.val_loader, device=self.device, threshold=self.threshold, supervised=self.supervised)\n",
    "\t\toutputs = outputs.squeeze(1).numpy()\n",
    "\t\tlabels = labels.squeeze(1).numpy()\n",
    "\t\t\n",
    "\t\tdice_scores = [dice_score(labels[i], outputs[i]) for i in range(len(labels))]\n",
    "\t\tsorted_indices = np.argsort(dice_scores)\n",
    "\t\t\n",
    "\t\t# Get indices excluding perfect scores\n",
    "\t\tbest_dice_scores = [(dice_scores[i], i) for i in sorted_indices if dice_scores[i] != 1.0]\n",
    "\t\tworst_dice_scores = [(dice_scores[i], i) for i in sorted_indices]\n",
    "\t\t\n",
    "\t\tif len(best_dice_scores) >= 2:\n",
    "\t\t\tbest_indices = [idx for score, idx in best_dice_scores[-2:]]\n",
    "\t\telse:\n",
    "\t\t\tbest_indices = [idx for score, idx in sorted_indices[-2:]]\n",
    "\t\t\n",
    "\t\tworst_indices = [idx for score, idx in worst_dice_scores[:2]]\n",
    "\t\t\n",
    "\t\ttwo_best_masks_ground_truth = test_masks[best_indices]\n",
    "\t\ttwo_worst_masks_ground_truth = test_masks[worst_indices]\n",
    "\t\ttwo_best_masks_predictions = outputs[best_indices]\n",
    "\t\ttwo_worst_masks_predictions = outputs[worst_indices]\n",
    "\t\t\n",
    "\t\treturn two_best_masks_ground_truth, two_best_masks_predictions, two_worst_masks_ground_truth, two_worst_masks_predictions\n",
    "\t\n",
    "\tdef plot_samples(self):\n",
    "\t\tbest_masks_gt, best_masks_pred, worst_masks_gt, worst_masks_pred = self.get_items()\n",
    "\t\t\n",
    "\t\tfor i in range(min(2, len(best_masks_gt))):\n",
    "\t\t\tplt.figure(figsize=(10, 5))\n",
    "\t\t\tplt.subplot(1, 2, 1)\n",
    "\t\t\t# Handle different tensor dimensions\n",
    "\t\t\tif len(best_masks_gt[i].shape) == 3:\n",
    "\t\t\t\tplt.imshow(best_masks_gt[i][0], cmap='gray')\n",
    "\t\t\telse:\n",
    "\t\t\t\tplt.imshow(best_masks_gt[i], cmap='gray')\n",
    "\t\t\tplt.title(f'Best Mask Ground Truth {i+1}')\n",
    "\t\t\tplt.axis('off')\n",
    "\t\t\t\n",
    "\t\t\tplt.subplot(1, 2, 2)\n",
    "\t\t\tplt.imshow(best_masks_pred[i], cmap='gray')\n",
    "\t\t\tplt.title(f'Best Mask Prediction {i+1}')\n",
    "\t\t\tplt.axis('off')\n",
    "\t\t\tplt.show()\n",
    "\t\t\n",
    "\t\tfor i in range(min(2, len(worst_masks_gt))):\n",
    "\t\t\tplt.figure(figsize=(10, 5))\n",
    "\t\t\tplt.subplot(1, 2, 1)\n",
    "\t\t\tif len(worst_masks_gt[i].shape) == 3:\n",
    "\t\t\t\tplt.imshow(worst_masks_gt[i][0], cmap='gray')\n",
    "\t\t\telse:\n",
    "\t\t\t\tplt.imshow(worst_masks_gt[i], cmap='gray')\n",
    "\t\t\tplt.title(f'Worst Mask Ground Truth {i+1}')\n",
    "\t\t\tplt.axis('off')\n",
    "\t\t\t\n",
    "\t\t\tplt.subplot(1, 2, 2)\n",
    "\t\t\tplt.imshow(worst_masks_pred[i], cmap='gray')\n",
    "\t\t\tplt.title(f'Worst Mask Prediction {i+1}')\n",
    "\t\t\tplt.axis('off') \n",
    "\t\t\tplt.show()\n"
   ]
  },
  {
   "cell_type": "code",
   "execution_count": 67,
   "id": "62c18be3",
   "metadata": {},
   "outputs": [
    {
     "data": {
      "image/png": "[encoded data removed]",
      "text/plain": [
       "<Figure size 1000x500 with 2 Axes>"
      ]
     },
     "metadata": {},
     "output_type": "display_data"
    },
    {
     "data": {
      "image/png": "[encoded data removed]",
      "text/plain": [
       "<Figure size 1000x500 with 2 Axes>"
      ]
     },
     "metadata": {},
     "output_type": "display_data"
    },
    {
     "data": {
      "image/png": "[encoded data removed]",
      "text/plain": [
       "<Figure size 1000x500 with 2 Axes>"
      ]
     },
     "metadata": {},
     "output_type": "display_data"
    },
    {
     "data": {
      "image/png": "[encoded data removed]",
      "text/plain": [
       "<Figure size 1000x500 with 2 Axes>"
      ]
     },
     "metadata": {},
     "output_type": "display_data"
    }
   ],
   "source": [
    "plotSamples(model1, val_loader, device='cuda', threshold=threshold).plot_samples()"
   ]
  },
  {
   "cell_type": "markdown",
   "id": "0fbd2d1d",
   "metadata": {},
   "source": [
    "### b"
   ]
  },
  {
   "cell_type": "code",
   "execution_count": 21,
   "id": "b15fda0a",
   "metadata": {},
   "outputs": [
    {
     "name": "stdout",
     "output_type": "stream",
     "text": [
      "Combined training images shape: torch.Size([2454, 2, 64, 64])\n",
      "Combined training masks shape: torch.Size([2454, 1, 64, 64])\n",
      "Supervised DA train loader size: 77\n",
      "Supervised DA validation loader size: 13\n"
     ]
    }
   ],
   "source": [
    "combined_train_images = torch.cat((X_tensor, ds3_train), dim=0)\n",
    "combined_train_masks = torch.cat((y_tensor, ds3_train_masks), dim=0)\n",
    "ds2_domain_labels = torch.zeros(X_tensor.shape[0], 1) # Domain 0\n",
    "ds3_domain_labels = torch.ones(ds3_train.shape[0], 1) # Domain 1\n",
    "combined_domain_labels = torch.cat((ds2_domain_labels, ds3_domain_labels), dim=0)\n",
    "supervised_da_train_dataset = TensorDataset(combined_train_images, combined_train_masks, combined_domain_labels)\n",
    "supervised_da_train_loader = DataLoader(supervised_da_train_dataset, batch_size=32, shuffle=True)\n",
    "ds3_test_domain_labels = torch.ones(ds3_test.shape[0], 1) # Domain 1 for target set\n",
    "supervised_da_val_dataset = TensorDataset(ds3_test, ds3_test_masks, ds3_test_domain_labels)\n",
    "supervised_da_val_loader = DataLoader(supervised_da_val_dataset, batch_size=32, shuffle=False)\n",
    "\n",
    "print(f\"Combined training images shape: {combined_train_images.shape}\")\n",
    "print(f\"Combined training masks shape: {combined_train_masks.shape}\")\n",
    "print(f\"Supervised DA train loader size: {len(supervised_da_train_loader)}\") #Number of batches in the training loader\n",
    "print(f\"Supervised DA validation loader size: {len(supervised_da_val_loader)}\") #Number of batches in the validation loader"
   ]
  },
  {
   "cell_type": "code",
   "execution_count": 22,
   "id": "e9e5abb9",
   "metadata": {},
   "outputs": [],
   "source": [
    "class GradientReversalLayer(torch.autograd.Function):\n",
    "    @staticmethod\n",
    "    def forward(ctx, x, lambda_):\n",
    "        ctx.lambda_ = lambda_\n",
    "        return x.view_as(x)\n",
    "\n",
    "    @staticmethod\n",
    "    def backward(ctx, grad_output):\n",
    "        return -ctx.lambda_ * grad_output, None"
   ]
  },
  {
   "cell_type": "code",
   "execution_count": 23,
   "id": "8fce2f94",
   "metadata": {},
   "outputs": [],
   "source": [
    "class DomainAdaptationModel(nn.Module):\n",
    "    def __init__(self, segmentation_model, grl_lambda=1.0):\n",
    "        super(DomainAdaptationModel, self).__init__()\n",
    "        self.segmentation_model = segmentation_model\n",
    "        self.grl_lambda = grl_lambda\n",
    "\n",
    "        self.domain_classifier = nn.Sequential(\n",
    "            nn.AdaptiveAvgPool2d(1),\n",
    "            nn.Flatten(),\n",
    "            nn.Linear(512, 256),\n",
    "            nn.ReLU(True),\n",
    "            nn.Dropout(0.4),\n",
    "            nn.Linear(256, 1)\n",
    "        )\n",
    "\n",
    "    def forward(self, x):\n",
    "        encoder_features = self.segmentation_model.encoder(x)[-1]\n",
    "        segmentation_output = self.segmentation_model(x)\n",
    "\n",
    "        reversed_features = GradientReversalLayer.apply(encoder_features, self.grl_lambda)\n",
    "        domain_output = self.domain_classifier(reversed_features)\n",
    "\n",
    "        return segmentation_output, domain_output\n"
   ]
  },
  {
   "cell_type": "code",
   "execution_count": 24,
   "id": "84678c02",
   "metadata": {},
   "outputs": [],
   "source": [
    "def supervised_da_trainer(model, train_loader, val_loader, segmentation_criterion,\n",
    "                          domain_criterion, optimizer, num_epochs, device,\n",
    "                          patience_counter, domain_loss_weight=0.1, scheduler=None):\n",
    "\n",
    "    training_losses = []\n",
    "    validation_losses = []\n",
    "    train_dice_scores = []\n",
    "    valid_dice_scores = []\n",
    "\n",
    "    best_val_loss = float('inf')\n",
    "    patience = 0\n",
    "\n",
    "    for epoch in range(num_epochs):\n",
    "        model.train()\n",
    "        epoch_seg_loss, epoch_domain_loss, epoch_total_loss = 0, 0, 0\n",
    "        epoch_dice = 0\n",
    "        num_train_samples = 0\n",
    "\n",
    "        for images, masks, domain_labels in tqdm.tqdm(train_loader, desc=f\"Train Epoch {epoch+1}/{num_epochs}\"):\n",
    "            images = images.to(device, dtype=torch.float32)\n",
    "            masks = masks.to(device, dtype=torch.float32)\n",
    "            domain_labels = domain_labels.to(device, dtype=torch.float32)\n",
    "\n",
    "            optimizer.zero_grad()\n",
    "\n",
    "            segmentation_output, domain_output = model(images) # Get both segmentation and domain outputs(logits)\n",
    "\n",
    "            seg_loss = segmentation_criterion(segmentation_output, masks)\n",
    "            d_loss  = domain_criterion(domain_output, domain_labels)\n",
    "\n",
    "            total_loss = seg_loss + domain_loss_weight * d_loss\n",
    "            total_loss.backward()\n",
    "            torch.nn.utils.clip_grad_norm_(model.parameters(), max_norm=1.0)\n",
    "            optimizer.step()\n",
    "\n",
    "            # Add to epoch totals\n",
    "            epoch_seg_loss += seg_loss.item() * images.size(0)\n",
    "            epoch_domain_loss += d_loss.item() * images.size(0)\n",
    "            epoch_total_loss += total_loss.item() * images.size(0) #images.size(0) is the batch size\n",
    "            num_train_samples += images.size(0) # Add number of samples in the batch\n",
    "\n",
    "            preds = (torch.sigmoid(segmentation_output) > 0.5).float()\n",
    "            epoch_dice += dice_score(masks.cpu().numpy(), preds.cpu().numpy())\n",
    "\n",
    "        # Epoch averages\n",
    "        epoch_seg_loss /= num_train_samples\n",
    "        epoch_domain_loss /= num_train_samples\n",
    "        epoch_total_loss /= num_train_samples\n",
    "        epoch_dice /= len(train_loader)\n",
    "\n",
    "        training_losses.append(epoch_total_loss)\n",
    "        train_dice_scores.append(epoch_dice)\n",
    "\n",
    "        # Validation \n",
    "        model.eval()\n",
    "        val_seg_loss = 0\n",
    "        val_dice = 0\n",
    "        num_val_samples = 0\n",
    "\n",
    "        with torch.no_grad():\n",
    "            for images, masks, _ in tqdm.tqdm(val_loader, desc=f\"Validation Epoch {epoch+1}/{num_epochs}\"):\n",
    "                images = images.to(device, dtype=torch.float32)\n",
    "                masks = masks.to(device, dtype=torch.float32)\n",
    "\n",
    "                segmentation_output, _ = model(images) # Ignore domain output during validation\n",
    "\n",
    "                seg_loss = segmentation_criterion(segmentation_output, masks)\n",
    "                val_seg_loss += seg_loss.item() * images.size(0)\n",
    "\n",
    "                preds = (torch.sigmoid(segmentation_output) > 0.5).float()\n",
    "                val_dice += dice_score(masks.cpu().numpy(), preds.cpu().numpy())\n",
    "\n",
    "                num_val_samples += images.size(0)\n",
    "\n",
    "        val_seg_loss /= num_val_samples\n",
    "        validation_losses.append(val_seg_loss)\n",
    "        val_dice /= len(val_loader)\n",
    "        valid_dice_scores.append(val_dice)\n",
    "\n",
    "        print(f\"\\nEpoch {epoch+1}/{num_epochs}\")\n",
    "        print(f\"Train Loss: {epoch_total_loss:.4f} | Seg: {epoch_seg_loss:.4f} | Domain: {epoch_domain_loss:.4f}\")\n",
    "        print(f\"Val Seg Loss: {val_seg_loss:.4f}\")\n",
    "        print(f\"Train Dice: {epoch_dice:.4f} | Val Dice: {val_dice:.4f}\\n\")\n",
    "\n",
    "        # Early stopping\n",
    "        if val_seg_loss < best_val_loss:\n",
    "            best_val_loss = val_seg_loss\n",
    "            patience = 0\n",
    "        else:\n",
    "            patience += 1\n",
    "            if patience >= patience_counter:\n",
    "                print(\"Early stopping triggered.\")\n",
    "                break\n",
    "\n",
    "        if scheduler:\n",
    "            scheduler.step(val_seg_loss)\n",
    "\n",
    "    return training_losses, validation_losses, train_dice_scores, valid_dice_scores\n"
   ]
  },
  {
   "cell_type": "code",
   "execution_count": 25,
   "id": "339fc38b",
   "metadata": {},
   "outputs": [],
   "source": [
    "segmentation_criterion = criterion #Segmentation loss. Using combined loss\n",
    "domain_criterion = nn.BCEWithLogitsLoss() #Domain loss. Requires logits as input.\n",
    "domain_adaptation_model = DomainAdaptationModel(model1, grl_lambda=0.1)\n",
    "domain_adaptation_model.to(DEVICE)\n",
    "optimizer_da = torch.optim.Adam(domain_adaptation_model.parameters(), lr=5e-5, weight_decay=1e-5)\n",
    "scheduler_da = torch.optim.lr_scheduler.ReduceLROnPlateau(optimizer_da, mode='min', factor=0.5, patience=3)"
   ]
  },
  {
   "cell_type": "code",
   "execution_count": 26,
   "id": "08f7ba6d",
   "metadata": {},
   "outputs": [
    {
     "name": "stderr",
     "output_type": "stream",
     "text": [
      "Train Epoch 1/50: 100%|██████████| 77/77 [00:03<00:00, 23.17it/s]\n",
      "Validation Epoch 1/50: 100%|██████████| 13/13 [00:00<00:00, 85.03it/s] \n"
     ]
    },
    {
     "name": "stdout",
     "output_type": "stream",
     "text": [
      "\n",
      "Epoch 1/50\n",
      "Train Loss: 1.6926 | Seg: 1.2708 | Domain: 0.8436\n",
      "Val Seg Loss: 1.2450\n",
      "Train Dice: 0.0575 | Val Dice: 0.0243\n",
      "\n"
     ]
    },
    {
     "name": "stderr",
     "output_type": "stream",
     "text": [
      "Train Epoch 2/50: 100%|██████████| 77/77 [00:02<00:00, 27.33it/s]\n",
      "Validation Epoch 2/50: 100%|██████████| 13/13 [00:00<00:00, 102.69it/s]\n"
     ]
    },
    {
     "name": "stdout",
     "output_type": "stream",
     "text": [
      "\n",
      "Epoch 2/50\n",
      "Train Loss: 1.5718 | Seg: 1.1566 | Domain: 0.8303\n",
      "Val Seg Loss: 1.1634\n",
      "Train Dice: 0.2018 | Val Dice: 0.0796\n",
      "\n"
     ]
    },
    {
     "name": "stderr",
     "output_type": "stream",
     "text": [
      "Train Epoch 3/50: 100%|██████████| 77/77 [00:02<00:00, 27.42it/s]\n",
      "Validation Epoch 3/50: 100%|██████████| 13/13 [00:00<00:00, 101.92it/s]\n"
     ]
    },
    {
     "name": "stdout",
     "output_type": "stream",
     "text": [
      "\n",
      "Epoch 3/50\n",
      "Train Loss: 1.5788 | Seg: 1.0761 | Domain: 1.0055\n",
      "Val Seg Loss: 1.1109\n",
      "Train Dice: 0.3911 | Val Dice: 0.0920\n",
      "\n"
     ]
    },
    {
     "name": "stderr",
     "output_type": "stream",
     "text": [
      "Train Epoch 4/50: 100%|██████████| 77/77 [00:02<00:00, 27.57it/s]\n",
      "Validation Epoch 4/50: 100%|██████████| 13/13 [00:00<00:00, 101.40it/s]\n"
     ]
    },
    {
     "name": "stdout",
     "output_type": "stream",
     "text": [
      "\n",
      "Epoch 4/50\n",
      "Train Loss: 1.4419 | Seg: 1.0139 | Domain: 0.8561\n",
      "Val Seg Loss: 1.0966\n",
      "Train Dice: 0.4459 | Val Dice: 0.1817\n",
      "\n"
     ]
    },
    {
     "name": "stderr",
     "output_type": "stream",
     "text": [
      "Train Epoch 5/50: 100%|██████████| 77/77 [00:02<00:00, 27.95it/s]\n",
      "Validation Epoch 5/50: 100%|██████████| 13/13 [00:00<00:00, 103.27it/s]\n"
     ]
    },
    {
     "name": "stdout",
     "output_type": "stream",
     "text": [
      "\n",
      "Epoch 5/50\n",
      "Train Loss: 1.3748 | Seg: 0.9550 | Domain: 0.8397\n",
      "Val Seg Loss: 1.0306\n",
      "Train Dice: 0.4838 | Val Dice: 0.2032\n",
      "\n"
     ]
    },
    {
     "name": "stderr",
     "output_type": "stream",
     "text": [
      "Train Epoch 6/50: 100%|██████████| 77/77 [00:02<00:00, 27.65it/s]\n",
      "Validation Epoch 6/50: 100%|██████████| 13/13 [00:00<00:00, 102.13it/s]\n"
     ]
    },
    {
     "name": "stdout",
     "output_type": "stream",
     "text": [
      "\n",
      "Epoch 6/50\n",
      "Train Loss: 1.2860 | Seg: 0.8886 | Domain: 0.7948\n",
      "Val Seg Loss: 0.9813\n",
      "Train Dice: 0.5384 | Val Dice: 0.2497\n",
      "\n"
     ]
    },
    {
     "name": "stderr",
     "output_type": "stream",
     "text": [
      "Train Epoch 7/50: 100%|██████████| 77/77 [00:02<00:00, 27.77it/s]\n",
      "Validation Epoch 7/50: 100%|██████████| 13/13 [00:00<00:00, 102.20it/s]\n"
     ]
    },
    {
     "name": "stdout",
     "output_type": "stream",
     "text": [
      "\n",
      "Epoch 7/50\n",
      "Train Loss: 1.2054 | Seg: 0.8210 | Domain: 0.7689\n",
      "Val Seg Loss: 0.9309\n",
      "Train Dice: 0.5802 | Val Dice: 0.3480\n",
      "\n"
     ]
    },
    {
     "name": "stderr",
     "output_type": "stream",
     "text": [
      "Train Epoch 8/50: 100%|██████████| 77/77 [00:02<00:00, 27.80it/s]\n",
      "Validation Epoch 8/50: 100%|██████████| 13/13 [00:00<00:00, 103.51it/s]\n"
     ]
    },
    {
     "name": "stdout",
     "output_type": "stream",
     "text": [
      "\n",
      "Epoch 8/50\n",
      "Train Loss: 1.1325 | Seg: 0.7561 | Domain: 0.7528\n",
      "Val Seg Loss: 0.8608\n",
      "Train Dice: 0.6125 | Val Dice: 0.4401\n",
      "\n"
     ]
    },
    {
     "name": "stderr",
     "output_type": "stream",
     "text": [
      "Train Epoch 9/50: 100%|██████████| 77/77 [00:02<00:00, 27.88it/s]\n",
      "Validation Epoch 9/50: 100%|██████████| 13/13 [00:00<00:00, 101.89it/s]\n"
     ]
    },
    {
     "name": "stdout",
     "output_type": "stream",
     "text": [
      "\n",
      "Epoch 9/50\n",
      "Train Loss: 1.0469 | Seg: 0.6917 | Domain: 0.7105\n",
      "Val Seg Loss: 0.8349\n",
      "Train Dice: 0.6405 | Val Dice: 0.4062\n",
      "\n"
     ]
    },
    {
     "name": "stderr",
     "output_type": "stream",
     "text": [
      "Train Epoch 10/50: 100%|██████████| 77/77 [00:02<00:00, 28.01it/s]\n",
      "Validation Epoch 10/50: 100%|██████████| 13/13 [00:00<00:00, 101.62it/s]\n"
     ]
    },
    {
     "name": "stdout",
     "output_type": "stream",
     "text": [
      "\n",
      "Epoch 10/50\n",
      "Train Loss: 0.9947 | Seg: 0.6320 | Domain: 0.7254\n",
      "Val Seg Loss: 0.7918\n",
      "Train Dice: 0.6622 | Val Dice: 0.4213\n",
      "\n"
     ]
    },
    {
     "name": "stderr",
     "output_type": "stream",
     "text": [
      "Train Epoch 11/50: 100%|██████████| 77/77 [00:02<00:00, 27.87it/s]\n",
      "Validation Epoch 11/50: 100%|██████████| 13/13 [00:00<00:00, 102.44it/s]\n"
     ]
    },
    {
     "name": "stdout",
     "output_type": "stream",
     "text": [
      "\n",
      "Epoch 11/50\n",
      "Train Loss: 0.9334 | Seg: 0.5720 | Domain: 0.7228\n",
      "Val Seg Loss: 0.6995\n",
      "Train Dice: 0.6906 | Val Dice: 0.5220\n",
      "\n"
     ]
    },
    {
     "name": "stderr",
     "output_type": "stream",
     "text": [
      "Train Epoch 12/50: 100%|██████████| 77/77 [00:02<00:00, 27.34it/s]\n",
      "Validation Epoch 12/50: 100%|██████████| 13/13 [00:00<00:00, 102.57it/s]\n"
     ]
    },
    {
     "name": "stdout",
     "output_type": "stream",
     "text": [
      "\n",
      "Epoch 12/50\n",
      "Train Loss: 0.8697 | Seg: 0.5168 | Domain: 0.7058\n",
      "Val Seg Loss: 0.7191\n",
      "Train Dice: 0.7103 | Val Dice: 0.4583\n",
      "\n"
     ]
    },
    {
     "name": "stderr",
     "output_type": "stream",
     "text": [
      "Train Epoch 13/50: 100%|██████████| 77/77 [00:02<00:00, 28.00it/s]\n",
      "Validation Epoch 13/50: 100%|██████████| 13/13 [00:00<00:00, 103.00it/s]\n"
     ]
    },
    {
     "name": "stdout",
     "output_type": "stream",
     "text": [
      "\n",
      "Epoch 13/50\n",
      "Train Loss: 0.8200 | Seg: 0.4691 | Domain: 0.7019\n",
      "Val Seg Loss: 0.6494\n",
      "Train Dice: 0.7264 | Val Dice: 0.5150\n",
      "\n"
     ]
    },
    {
     "name": "stderr",
     "output_type": "stream",
     "text": [
      "Train Epoch 14/50: 100%|██████████| 77/77 [00:02<00:00, 27.74it/s]\n",
      "Validation Epoch 14/50: 100%|██████████| 13/13 [00:00<00:00, 101.71it/s]\n"
     ]
    },
    {
     "name": "stdout",
     "output_type": "stream",
     "text": [
      "\n",
      "Epoch 14/50\n",
      "Train Loss: 0.7862 | Seg: 0.4370 | Domain: 0.6985\n",
      "Val Seg Loss: 0.6080\n",
      "Train Dice: 0.7345 | Val Dice: 0.5450\n",
      "\n"
     ]
    },
    {
     "name": "stderr",
     "output_type": "stream",
     "text": [
      "Train Epoch 15/50: 100%|██████████| 77/77 [00:02<00:00, 27.95it/s]\n",
      "Validation Epoch 15/50: 100%|██████████| 13/13 [00:00<00:00, 98.02it/s]\n"
     ]
    },
    {
     "name": "stdout",
     "output_type": "stream",
     "text": [
      "\n",
      "Epoch 15/50\n",
      "Train Loss: 0.7472 | Seg: 0.4029 | Domain: 0.6886\n",
      "Val Seg Loss: 0.5884\n",
      "Train Dice: 0.7464 | Val Dice: 0.5477\n",
      "\n"
     ]
    },
    {
     "name": "stderr",
     "output_type": "stream",
     "text": [
      "Train Epoch 16/50: 100%|██████████| 77/77 [00:02<00:00, 28.83it/s]\n",
      "Validation Epoch 16/50: 100%|██████████| 13/13 [00:00<00:00, 98.71it/s]\n"
     ]
    },
    {
     "name": "stdout",
     "output_type": "stream",
     "text": [
      "\n",
      "Epoch 16/50\n",
      "Train Loss: 0.7297 | Seg: 0.3688 | Domain: 0.7218\n",
      "Val Seg Loss: 0.5684\n",
      "Train Dice: 0.7640 | Val Dice: 0.5578\n",
      "\n"
     ]
    },
    {
     "name": "stderr",
     "output_type": "stream",
     "text": [
      "Train Epoch 17/50: 100%|██████████| 77/77 [00:02<00:00, 28.03it/s]\n",
      "Validation Epoch 17/50: 100%|██████████| 13/13 [00:00<00:00, 99.68it/s] \n"
     ]
    },
    {
     "name": "stdout",
     "output_type": "stream",
     "text": [
      "\n",
      "Epoch 17/50\n",
      "Train Loss: 0.6932 | Seg: 0.3464 | Domain: 0.6938\n",
      "Val Seg Loss: 0.5635\n",
      "Train Dice: 0.7706 | Val Dice: 0.5507\n",
      "\n"
     ]
    },
    {
     "name": "stderr",
     "output_type": "stream",
     "text": [
      "Train Epoch 18/50: 100%|██████████| 77/77 [00:02<00:00, 27.60it/s]\n",
      "Validation Epoch 18/50: 100%|██████████| 13/13 [00:00<00:00, 103.48it/s]\n"
     ]
    },
    {
     "name": "stdout",
     "output_type": "stream",
     "text": [
      "\n",
      "Epoch 18/50\n",
      "Train Loss: 0.6843 | Seg: 0.3285 | Domain: 0.7116\n",
      "Val Seg Loss: 0.5653\n",
      "Train Dice: 0.7769 | Val Dice: 0.5379\n",
      "\n"
     ]
    },
    {
     "name": "stderr",
     "output_type": "stream",
     "text": [
      "Train Epoch 19/50: 100%|██████████| 77/77 [00:02<00:00, 27.72it/s]\n",
      "Validation Epoch 19/50: 100%|██████████| 13/13 [00:00<00:00, 100.92it/s]\n"
     ]
    },
    {
     "name": "stdout",
     "output_type": "stream",
     "text": [
      "\n",
      "Epoch 19/50\n",
      "Train Loss: 0.6657 | Seg: 0.3080 | Domain: 0.7155\n",
      "Val Seg Loss: 0.5385\n",
      "Train Dice: 0.7863 | Val Dice: 0.5596\n",
      "\n"
     ]
    },
    {
     "name": "stderr",
     "output_type": "stream",
     "text": [
      "Train Epoch 20/50: 100%|██████████| 77/77 [00:02<00:00, 27.65it/s]\n",
      "Validation Epoch 20/50: 100%|██████████| 13/13 [00:00<00:00, 101.06it/s]\n"
     ]
    },
    {
     "name": "stdout",
     "output_type": "stream",
     "text": [
      "\n",
      "Epoch 20/50\n",
      "Train Loss: 0.6440 | Seg: 0.2935 | Domain: 0.7010\n",
      "Val Seg Loss: 0.5420\n",
      "Train Dice: 0.7924 | Val Dice: 0.5450\n",
      "\n"
     ]
    },
    {
     "name": "stderr",
     "output_type": "stream",
     "text": [
      "Train Epoch 21/50: 100%|██████████| 77/77 [00:02<00:00, 27.44it/s]\n",
      "Validation Epoch 21/50: 100%|██████████| 13/13 [00:00<00:00, 104.58it/s]\n"
     ]
    },
    {
     "name": "stdout",
     "output_type": "stream",
     "text": [
      "\n",
      "Epoch 21/50\n",
      "Train Loss: 0.6334 | Seg: 0.2808 | Domain: 0.7053\n",
      "Val Seg Loss: 0.5060\n",
      "Train Dice: 0.7986 | Val Dice: 0.5774\n",
      "\n"
     ]
    },
    {
     "name": "stderr",
     "output_type": "stream",
     "text": [
      "Train Epoch 22/50: 100%|██████████| 77/77 [00:02<00:00, 28.06it/s]\n",
      "Validation Epoch 22/50: 100%|██████████| 13/13 [00:00<00:00, 101.95it/s]\n"
     ]
    },
    {
     "name": "stdout",
     "output_type": "stream",
     "text": [
      "\n",
      "Epoch 22/50\n",
      "Train Loss: 0.6220 | Seg: 0.2714 | Domain: 0.7011\n",
      "Val Seg Loss: 0.5073\n",
      "Train Dice: 0.8024 | Val Dice: 0.5662\n",
      "\n"
     ]
    },
    {
     "name": "stderr",
     "output_type": "stream",
     "text": [
      "Train Epoch 23/50: 100%|██████████| 77/77 [00:02<00:00, 27.85it/s]\n",
      "Validation Epoch 23/50: 100%|██████████| 13/13 [00:00<00:00, 103.48it/s]\n"
     ]
    },
    {
     "name": "stdout",
     "output_type": "stream",
     "text": [
      "\n",
      "Epoch 23/50\n",
      "Train Loss: 0.6105 | Seg: 0.2579 | Domain: 0.7052\n",
      "Val Seg Loss: 0.4952\n",
      "Train Dice: 0.8085 | Val Dice: 0.5780\n",
      "\n"
     ]
    },
    {
     "name": "stderr",
     "output_type": "stream",
     "text": [
      "Train Epoch 24/50: 100%|██████████| 77/77 [00:02<00:00, 27.71it/s]\n",
      "Validation Epoch 24/50: 100%|██████████| 13/13 [00:00<00:00, 102.41it/s]\n"
     ]
    },
    {
     "name": "stdout",
     "output_type": "stream",
     "text": [
      "\n",
      "Epoch 24/50\n",
      "Train Loss: 0.6067 | Seg: 0.2520 | Domain: 0.7093\n",
      "Val Seg Loss: 0.5296\n",
      "Train Dice: 0.8116 | Val Dice: 0.5459\n",
      "\n"
     ]
    },
    {
     "name": "stderr",
     "output_type": "stream",
     "text": [
      "Train Epoch 25/50: 100%|██████████| 77/77 [00:02<00:00, 27.88it/s]\n",
      "Validation Epoch 25/50: 100%|██████████| 13/13 [00:00<00:00, 100.83it/s]\n"
     ]
    },
    {
     "name": "stdout",
     "output_type": "stream",
     "text": [
      "\n",
      "Epoch 25/50\n",
      "Train Loss: 0.5918 | Seg: 0.2408 | Domain: 0.7020\n",
      "Val Seg Loss: 0.4664\n",
      "Train Dice: 0.8175 | Val Dice: 0.6041\n",
      "\n"
     ]
    },
    {
     "name": "stderr",
     "output_type": "stream",
     "text": [
      "Train Epoch 26/50: 100%|██████████| 77/77 [00:02<00:00, 27.69it/s]\n",
      "Validation Epoch 26/50: 100%|██████████| 13/13 [00:00<00:00, 100.44it/s]\n"
     ]
    },
    {
     "name": "stdout",
     "output_type": "stream",
     "text": [
      "\n",
      "Epoch 26/50\n",
      "Train Loss: 0.5915 | Seg: 0.2350 | Domain: 0.7129\n",
      "Val Seg Loss: 0.5069\n",
      "Train Dice: 0.8207 | Val Dice: 0.5555\n",
      "\n"
     ]
    },
    {
     "name": "stderr",
     "output_type": "stream",
     "text": [
      "Train Epoch 27/50: 100%|██████████| 77/77 [00:02<00:00, 28.12it/s]\n",
      "Validation Epoch 27/50: 100%|██████████| 13/13 [00:00<00:00, 102.50it/s]\n"
     ]
    },
    {
     "name": "stdout",
     "output_type": "stream",
     "text": [
      "\n",
      "Epoch 27/50\n",
      "Train Loss: 0.5716 | Seg: 0.2241 | Domain: 0.6951\n",
      "Val Seg Loss: 0.4941\n",
      "Train Dice: 0.8284 | Val Dice: 0.5699\n",
      "\n"
     ]
    },
    {
     "name": "stderr",
     "output_type": "stream",
     "text": [
      "Train Epoch 28/50: 100%|██████████| 77/77 [00:02<00:00, 28.09it/s]\n",
      "Validation Epoch 28/50: 100%|██████████| 13/13 [00:00<00:00, 103.39it/s]\n"
     ]
    },
    {
     "name": "stdout",
     "output_type": "stream",
     "text": [
      "\n",
      "Epoch 28/50\n",
      "Train Loss: 0.5777 | Seg: 0.2234 | Domain: 0.7086\n",
      "Val Seg Loss: 0.4968\n",
      "Train Dice: 0.8269 | Val Dice: 0.5634\n",
      "\n"
     ]
    },
    {
     "name": "stderr",
     "output_type": "stream",
     "text": [
      "Train Epoch 29/50: 100%|██████████| 77/77 [00:02<00:00, 27.81it/s]\n",
      "Validation Epoch 29/50: 100%|██████████| 13/13 [00:00<00:00, 101.66it/s]\n"
     ]
    },
    {
     "name": "stdout",
     "output_type": "stream",
     "text": [
      "\n",
      "Epoch 29/50\n",
      "Train Loss: 0.5604 | Seg: 0.2197 | Domain: 0.6814\n",
      "Val Seg Loss: 0.4661\n",
      "Train Dice: 0.8287 | Val Dice: 0.5962\n",
      "\n"
     ]
    },
    {
     "name": "stderr",
     "output_type": "stream",
     "text": [
      "Train Epoch 30/50: 100%|██████████| 77/77 [00:02<00:00, 28.11it/s]\n",
      "Validation Epoch 30/50: 100%|██████████| 13/13 [00:00<00:00, 103.77it/s]\n"
     ]
    },
    {
     "name": "stdout",
     "output_type": "stream",
     "text": [
      "\n",
      "Epoch 30/50\n",
      "Train Loss: 0.5807 | Seg: 0.2148 | Domain: 0.7318\n",
      "Val Seg Loss: 0.4798\n",
      "Train Dice: 0.8314 | Val Dice: 0.5797\n",
      "\n"
     ]
    },
    {
     "name": "stderr",
     "output_type": "stream",
     "text": [
      "Train Epoch 31/50: 100%|██████████| 77/77 [00:02<00:00, 27.69it/s]\n",
      "Validation Epoch 31/50: 100%|██████████| 13/13 [00:00<00:00, 103.56it/s]\n"
     ]
    },
    {
     "name": "stdout",
     "output_type": "stream",
     "text": [
      "\n",
      "Epoch 31/50\n",
      "Train Loss: 0.5614 | Seg: 0.2084 | Domain: 0.7061\n",
      "Val Seg Loss: 0.4729\n",
      "Train Dice: 0.8359 | Val Dice: 0.5860\n",
      "\n"
     ]
    },
    {
     "name": "stderr",
     "output_type": "stream",
     "text": [
      "Train Epoch 32/50: 100%|██████████| 77/77 [00:02<00:00, 27.87it/s]\n",
      "Validation Epoch 32/50: 100%|██████████| 13/13 [00:00<00:00, 103.02it/s]\n"
     ]
    },
    {
     "name": "stdout",
     "output_type": "stream",
     "text": [
      "\n",
      "Epoch 32/50\n",
      "Train Loss: 0.5498 | Seg: 0.2051 | Domain: 0.6894\n",
      "Val Seg Loss: 0.4819\n",
      "Train Dice: 0.8374 | Val Dice: 0.5733\n",
      "\n"
     ]
    },
    {
     "name": "stderr",
     "output_type": "stream",
     "text": [
      "Train Epoch 33/50: 100%|██████████| 77/77 [00:02<00:00, 27.68it/s]\n",
      "Validation Epoch 33/50: 100%|██████████| 13/13 [00:00<00:00, 104.12it/s]\n"
     ]
    },
    {
     "name": "stdout",
     "output_type": "stream",
     "text": [
      "\n",
      "Epoch 33/50\n",
      "Train Loss: 0.5586 | Seg: 0.2024 | Domain: 0.7126\n",
      "Val Seg Loss: 0.4777\n",
      "Train Dice: 0.8397 | Val Dice: 0.5794\n",
      "\n"
     ]
    },
    {
     "name": "stderr",
     "output_type": "stream",
     "text": [
      "Train Epoch 34/50: 100%|██████████| 77/77 [00:02<00:00, 27.92it/s]\n",
      "Validation Epoch 34/50: 100%|██████████| 13/13 [00:00<00:00, 101.99it/s]\n"
     ]
    },
    {
     "name": "stdout",
     "output_type": "stream",
     "text": [
      "\n",
      "Epoch 34/50\n",
      "Train Loss: 0.5449 | Seg: 0.1910 | Domain: 0.7077\n",
      "Val Seg Loss: 0.4715\n",
      "Train Dice: 0.8491 | Val Dice: 0.5843\n",
      "\n"
     ]
    },
    {
     "name": "stderr",
     "output_type": "stream",
     "text": [
      "Train Epoch 35/50: 100%|██████████| 77/77 [00:02<00:00, 28.10it/s]\n",
      "Validation Epoch 35/50: 100%|██████████| 13/13 [00:00<00:00, 102.22it/s]\n"
     ]
    },
    {
     "name": "stdout",
     "output_type": "stream",
     "text": [
      "\n",
      "Epoch 35/50\n",
      "Train Loss: 0.5300 | Seg: 0.1872 | Domain: 0.6856\n",
      "Val Seg Loss: 0.4662\n",
      "Train Dice: 0.8523 | Val Dice: 0.5907\n",
      "\n"
     ]
    },
    {
     "name": "stderr",
     "output_type": "stream",
     "text": [
      "Train Epoch 36/50: 100%|██████████| 77/77 [00:02<00:00, 27.76it/s]\n",
      "Validation Epoch 36/50: 100%|██████████| 13/13 [00:00<00:00, 102.75it/s]\n"
     ]
    },
    {
     "name": "stdout",
     "output_type": "stream",
     "text": [
      "\n",
      "Epoch 36/50\n",
      "Train Loss: 0.5339 | Seg: 0.1835 | Domain: 0.7007\n",
      "Val Seg Loss: 0.4654\n",
      "Train Dice: 0.8558 | Val Dice: 0.5891\n",
      "\n"
     ]
    },
    {
     "name": "stderr",
     "output_type": "stream",
     "text": [
      "Train Epoch 37/50: 100%|██████████| 77/77 [00:02<00:00, 28.01it/s]\n",
      "Validation Epoch 37/50: 100%|██████████| 13/13 [00:00<00:00, 102.59it/s]\n"
     ]
    },
    {
     "name": "stdout",
     "output_type": "stream",
     "text": [
      "\n",
      "Epoch 37/50\n",
      "Train Loss: 0.5287 | Seg: 0.1752 | Domain: 0.7069\n",
      "Val Seg Loss: 0.4688\n",
      "Train Dice: 0.8625 | Val Dice: 0.5849\n",
      "\n"
     ]
    },
    {
     "name": "stderr",
     "output_type": "stream",
     "text": [
      "Train Epoch 38/50: 100%|██████████| 77/77 [00:02<00:00, 27.94it/s]\n",
      "Validation Epoch 38/50: 100%|██████████| 13/13 [00:00<00:00, 102.10it/s]\n"
     ]
    },
    {
     "name": "stdout",
     "output_type": "stream",
     "text": [
      "\n",
      "Epoch 38/50\n",
      "Train Loss: 0.5314 | Seg: 0.1815 | Domain: 0.6998\n",
      "Val Seg Loss: 0.4700\n",
      "Train Dice: 0.8564 | Val Dice: 0.5868\n",
      "\n"
     ]
    },
    {
     "name": "stderr",
     "output_type": "stream",
     "text": [
      "Train Epoch 39/50: 100%|██████████| 77/77 [00:02<00:00, 27.68it/s]\n",
      "Validation Epoch 39/50: 100%|██████████| 13/13 [00:00<00:00, 102.02it/s]\n"
     ]
    },
    {
     "name": "stdout",
     "output_type": "stream",
     "text": [
      "\n",
      "Epoch 39/50\n",
      "Train Loss: 0.5270 | Seg: 0.1782 | Domain: 0.6975\n",
      "Val Seg Loss: 0.4617\n",
      "Train Dice: 0.8587 | Val Dice: 0.5890\n",
      "\n"
     ]
    },
    {
     "name": "stderr",
     "output_type": "stream",
     "text": [
      "Train Epoch 40/50: 100%|██████████| 77/77 [00:02<00:00, 27.68it/s]\n",
      "Validation Epoch 40/50: 100%|██████████| 13/13 [00:00<00:00, 102.07it/s]\n"
     ]
    },
    {
     "name": "stdout",
     "output_type": "stream",
     "text": [
      "\n",
      "Epoch 40/50\n",
      "Train Loss: 0.5324 | Seg: 0.1777 | Domain: 0.7093\n",
      "Val Seg Loss: 0.4719\n",
      "Train Dice: 0.8591 | Val Dice: 0.5770\n",
      "\n"
     ]
    },
    {
     "name": "stderr",
     "output_type": "stream",
     "text": [
      "Train Epoch 41/50: 100%|██████████| 77/77 [00:02<00:00, 28.09it/s]\n",
      "Validation Epoch 41/50: 100%|██████████| 13/13 [00:00<00:00, 103.98it/s]\n"
     ]
    },
    {
     "name": "stdout",
     "output_type": "stream",
     "text": [
      "\n",
      "Epoch 41/50\n",
      "Train Loss: 0.5269 | Seg: 0.1710 | Domain: 0.7119\n",
      "Val Seg Loss: 0.4749\n",
      "Train Dice: 0.8650 | Val Dice: 0.5771\n",
      "\n"
     ]
    },
    {
     "name": "stderr",
     "output_type": "stream",
     "text": [
      "Train Epoch 42/50: 100%|██████████| 77/77 [00:02<00:00, 27.71it/s]\n",
      "Validation Epoch 42/50: 100%|██████████| 13/13 [00:00<00:00, 101.43it/s]\n"
     ]
    },
    {
     "name": "stdout",
     "output_type": "stream",
     "text": [
      "\n",
      "Epoch 42/50\n",
      "Train Loss: 0.5149 | Seg: 0.1692 | Domain: 0.6914\n",
      "Val Seg Loss: 0.4547\n",
      "Train Dice: 0.8661 | Val Dice: 0.5950\n",
      "\n"
     ]
    },
    {
     "name": "stderr",
     "output_type": "stream",
     "text": [
      "Train Epoch 43/50: 100%|██████████| 77/77 [00:02<00:00, 28.16it/s]\n",
      "Validation Epoch 43/50: 100%|██████████| 13/13 [00:00<00:00, 103.98it/s]\n"
     ]
    },
    {
     "name": "stdout",
     "output_type": "stream",
     "text": [
      "\n",
      "Epoch 43/50\n",
      "Train Loss: 0.5122 | Seg: 0.1670 | Domain: 0.6904\n",
      "Val Seg Loss: 0.4537\n",
      "Train Dice: 0.8679 | Val Dice: 0.5978\n",
      "\n"
     ]
    },
    {
     "name": "stderr",
     "output_type": "stream",
     "text": [
      "Train Epoch 44/50: 100%|██████████| 77/77 [00:02<00:00, 27.93it/s]\n",
      "Validation Epoch 44/50: 100%|██████████| 13/13 [00:00<00:00, 101.67it/s]\n"
     ]
    },
    {
     "name": "stdout",
     "output_type": "stream",
     "text": [
      "\n",
      "Epoch 44/50\n",
      "Train Loss: 0.5159 | Seg: 0.1666 | Domain: 0.6985\n",
      "Val Seg Loss: 0.4607\n",
      "Train Dice: 0.8682 | Val Dice: 0.5910\n",
      "\n"
     ]
    },
    {
     "name": "stderr",
     "output_type": "stream",
     "text": [
      "Train Epoch 45/50: 100%|██████████| 77/77 [00:02<00:00, 27.86it/s]\n",
      "Validation Epoch 45/50: 100%|██████████| 13/13 [00:00<00:00, 104.17it/s]\n"
     ]
    },
    {
     "name": "stdout",
     "output_type": "stream",
     "text": [
      "\n",
      "Epoch 45/50\n",
      "Train Loss: 0.5137 | Seg: 0.1652 | Domain: 0.6969\n",
      "Val Seg Loss: 0.4595\n",
      "Train Dice: 0.8694 | Val Dice: 0.5915\n",
      "\n"
     ]
    },
    {
     "name": "stderr",
     "output_type": "stream",
     "text": [
      "Train Epoch 46/50: 100%|██████████| 77/77 [00:02<00:00, 28.13it/s]\n",
      "Validation Epoch 46/50: 100%|██████████| 13/13 [00:00<00:00, 102.71it/s]\n"
     ]
    },
    {
     "name": "stdout",
     "output_type": "stream",
     "text": [
      "\n",
      "Epoch 46/50\n",
      "Train Loss: 0.5178 | Seg: 0.1645 | Domain: 0.7065\n",
      "Val Seg Loss: 0.4598\n",
      "Train Dice: 0.8688 | Val Dice: 0.5907\n",
      "\n"
     ]
    },
    {
     "name": "stderr",
     "output_type": "stream",
     "text": [
      "Train Epoch 47/50: 100%|██████████| 77/77 [00:02<00:00, 28.66it/s]\n",
      "Validation Epoch 47/50: 100%|██████████| 13/13 [00:00<00:00, 102.03it/s]\n"
     ]
    },
    {
     "name": "stdout",
     "output_type": "stream",
     "text": [
      "\n",
      "Epoch 47/50\n",
      "Train Loss: 0.5072 | Seg: 0.1563 | Domain: 0.7017\n",
      "Val Seg Loss: 0.4536\n",
      "Train Dice: 0.8761 | Val Dice: 0.5987\n",
      "\n"
     ]
    },
    {
     "name": "stderr",
     "output_type": "stream",
     "text": [
      "Train Epoch 48/50: 100%|██████████| 77/77 [00:02<00:00, 29.67it/s]\n",
      "Validation Epoch 48/50: 100%|██████████| 13/13 [00:00<00:00, 99.17it/s]\n"
     ]
    },
    {
     "name": "stdout",
     "output_type": "stream",
     "text": [
      "\n",
      "Epoch 48/50\n",
      "Train Loss: 0.5074 | Seg: 0.1587 | Domain: 0.6974\n",
      "Val Seg Loss: 0.4693\n",
      "Train Dice: 0.8739 | Val Dice: 0.5830\n",
      "\n"
     ]
    },
    {
     "name": "stderr",
     "output_type": "stream",
     "text": [
      "Train Epoch 49/50: 100%|██████████| 77/77 [00:02<00:00, 29.29it/s]\n",
      "Validation Epoch 49/50: 100%|██████████| 13/13 [00:00<00:00, 98.61it/s]\n"
     ]
    },
    {
     "name": "stdout",
     "output_type": "stream",
     "text": [
      "\n",
      "Epoch 49/50\n",
      "Train Loss: 0.5112 | Seg: 0.1635 | Domain: 0.6953\n",
      "Val Seg Loss: 0.4675\n",
      "Train Dice: 0.8682 | Val Dice: 0.5841\n",
      "\n"
     ]
    },
    {
     "name": "stderr",
     "output_type": "stream",
     "text": [
      "Train Epoch 50/50: 100%|██████████| 77/77 [00:02<00:00, 29.02it/s]\n",
      "Validation Epoch 50/50: 100%|██████████| 13/13 [00:00<00:00, 96.62it/s]"
     ]
    },
    {
     "name": "stdout",
     "output_type": "stream",
     "text": [
      "\n",
      "Epoch 50/50\n",
      "Train Loss: 0.5001 | Seg: 0.1559 | Domain: 0.6886\n",
      "Val Seg Loss: 0.4456\n",
      "Train Dice: 0.8752 | Val Dice: 0.6017\n",
      "\n"
     ]
    },
    {
     "name": "stderr",
     "output_type": "stream",
     "text": [
      "\n"
     ]
    }
   ],
   "source": [
    "supervised_da_training_losses, supervised_da_validation_losses, supervised_da_train_dice_scores, supervised_da_valid_dice_scores = supervised_da_trainer(\n",
    "                                                        domain_adaptation_model,\n",
    "                                                        supervised_da_train_loader,\n",
    "                                                        supervised_da_val_loader,\n",
    "                                                        segmentation_criterion,\n",
    "                                                        domain_criterion,\n",
    "                                                        optimizer_da,\n",
    "                                                        num_epochs=50, \n",
    "                                                        device=DEVICE,\n",
    "                                                        patience_counter=10,\n",
    "                                                        domain_loss_weight=0.5, \n",
    "                                                        scheduler=scheduler_da)"
   ]
  },
  {
   "cell_type": "code",
   "execution_count": 29,
   "id": "2e88286e",
   "metadata": {},
   "outputs": [
    {
     "data": {
      "image/png": "[encoded data removed]",
      "text/plain": [
       "<Figure size 800x500 with 1 Axes>"
      ]
     },
     "metadata": {},
     "output_type": "display_data"
    },
    {
     "data": {
      "image/png": "[encoded data removed]",
      "text/plain": [
       "<Figure size 800x500 with 1 Axes>"
      ]
     },
     "metadata": {},
     "output_type": "display_data"
    }
   ],
   "source": [
    "plotGraphs(\"Supervised Domain Adaptation Model\").plot_losses(supervised_da_training_losses, supervised_da_validation_losses)\n",
    "plotGraphs(\"Supervised Domain Adaptation Model\").plot_metrics(supervised_da_train_dice_scores, supervised_da_valid_dice_scores)"
   ]
  },
  {
   "cell_type": "code",
   "execution_count": 30,
   "id": "0b8e7fa8",
   "metadata": {},
   "outputs": [
    {
     "name": "stderr",
     "output_type": "stream",
     "text": [
      "Evaluating Supervised DA Model: 100%|██████████| 13/13 [00:00<00:00, 65.01it/s]"
     ]
    },
    {
     "name": "stdout",
     "output_type": "stream",
     "text": [
      "\n",
      "==================================================\n",
      "Supervised Domain Adaptation Model Performance on Dataset 3 Test Set:\n",
      "Best Validation Dice Score: 0.6041\n",
      "Best f1-score: 0.6041\n",
      "Average Lesion-wise Accuracy (F1): 0.4886\n",
      "==================================================\n"
     ]
    },
    {
     "name": "stderr",
     "output_type": "stream",
     "text": [
      "\n"
     ]
    }
   ],
   "source": [
    "domain_adaptation_model.eval()\n",
    "\n",
    "total_val_loss = 0.0\n",
    "total_dice_score = 0.0\n",
    "total_lesion_accuracy = 0.0\n",
    "num_samples = 0\n",
    "\n",
    "with torch.no_grad():\n",
    "    for images, masks, domain_labels in tqdm.tqdm(supervised_da_val_loader, desc=\"Evaluating Supervised DA Model\"):\n",
    "        images, masks, domain_labels = images.to(DEVICE), masks.to(DEVICE), domain_labels.to(DEVICE)\n",
    "\n",
    "        segmentation_output, _ = domain_adaptation_model(images)\n",
    "\n",
    "        loss = segmentation_criterion(segmentation_output, masks)\n",
    "        total_val_loss += loss.item() * images.size(0)\n",
    "        num_samples += images.size(0)\n",
    "\n",
    "        preds = (torch.sigmoid(segmentation_output) > 0.5).float()\n",
    "\n",
    "        masks_np = masks.cpu().numpy()\n",
    "        preds_np = preds.cpu().numpy()\n",
    "\n",
    "        for i in range(masks_np.shape[0]):\n",
    "            total_dice_score += dice_score(masks_np[i, 0], preds_np[i, 0])\n",
    "        for i in range(masks_np.shape[0]):\n",
    "             total_lesion_accuracy += lesion_wise_accuracy(masks_np[i, 0], preds_np[i, 0])\n",
    "\n",
    "\n",
    "average_dice_score = total_dice_score / num_samples\n",
    "average_lesion_accuracy = total_lesion_accuracy / num_samples\n",
    "\n",
    "print(\"\\n\" + \"=\"*50)\n",
    "print(f\"Supervised Domain Adaptation Model Performance on Dataset 3 Test Set:\")\n",
    "print(f\"Best Validation Dice Score: {max(supervised_da_valid_dice_scores):.4f}\")\n",
    "print(f\"Best f1-score: {max(supervised_da_valid_dice_scores):.4f}\")\n",
    "print(f\"Average Lesion-wise Accuracy (F1): {average_lesion_accuracy:.4f}\")\n",
    "print(\"=\"*50)"
   ]
  },
  {
   "cell_type": "code",
   "execution_count": null,
   "id": "19ef9e7e",
   "metadata": {},
   "outputs": [
    {
     "data": {
      "image/png": "[encoded data removed]",
      "text/plain": [
       "<Figure size 1000x500 with 2 Axes>"
      ]
     },
     "metadata": {},
     "output_type": "display_data"
    },
    {
     "data": {
      "image/png": "[encoded data removed]",
      "text/plain": [
       "<Figure size 1000x500 with 2 Axes>"
      ]
     },
     "metadata": {},
     "output_type": "display_data"
    },
    {
     "data": {
      "image/png": "[encoded data removed]",
      "text/plain": [
       "<Figure size 1000x500 with 2 Axes>"
      ]
     },
     "metadata": {},
     "output_type": "display_data"
    },
    {
     "data": {
      "image/png": "[encoded data removed]",
      "text/plain": [
       "<Figure size 1000x500 with 2 Axes>"
      ]
     },
     "metadata": {},
     "output_type": "display_data"
    }
   ],
   "source": [
    "plotSamples(domain_adaptation_model, supervised_da_val_loader, device='cuda', threshold=0.5, supervised=True).plot_samples()"
   ]
  },
  {
   "cell_type": "markdown",
   "id": "4436674d",
   "metadata": {},
   "source": [
    "### Unsepervised Domain Adaptation"
   ]
  },
  {
   "cell_type": "code",
   "execution_count": 36,
   "id": "563ae713",
   "metadata": {},
   "outputs": [],
   "source": [
    "def uda_trainer(model, source_loader, target_loader, val_loader, segmentation_criterion, \n",
    "                     domain_criterion, optimizer, device, num_epochs, domain_loss_weight=0.01, \n",
    "                     grl_schedule=True, grl_max=0.1, scheduler=None):\n",
    "    \n",
    "    best_val_loss = float(\"inf\")\n",
    "    patience = 0\n",
    "    patience_counter = 15  # Increased patience for UDA\n",
    "\n",
    "    model.to(device)\n",
    "    training_logs = {\n",
    "        'train_seg_loss': [], 'train_domain_loss': [], 'train_total_loss': [], \n",
    "        'train_dice': [], 'val_seg_loss': [], 'val_dice': []\n",
    "    }\n",
    "\n",
    "    len_src = len(source_loader)\n",
    "    len_tgt = len(target_loader)\n",
    "    max_steps_per_epoch = max(len_src, len_tgt)\n",
    "\n",
    "    global_step = 0\n",
    "    total_steps = num_epochs * max_steps_per_epoch\n",
    "\n",
    "    for epoch in range(num_epochs):\n",
    "        model.train()\n",
    "        epoch_seg_loss = 0.0\n",
    "        epoch_domain_loss = 0.0\n",
    "        epoch_total_loss = 0.0\n",
    "        epoch_dice = 0.0\n",
    "        epoch_samples = 0\n",
    "\n",
    "        src_iter = iter(source_loader)\n",
    "        tgt_iter = iter(target_loader)\n",
    "\n",
    "        for step in tqdm.tqdm(range(max_steps_per_epoch), desc=f\"Epoch {epoch+1}/{num_epochs}\"):\n",
    "            # Get source batch\n",
    "            try:\n",
    "                src_batch = next(src_iter)\n",
    "            except StopIteration:\n",
    "                src_iter = iter(source_loader)\n",
    "                src_batch = next(src_iter)\n",
    "\n",
    "            # Get target batch\n",
    "            try:\n",
    "                tgt_batch = next(tgt_iter)\n",
    "            except StopIteration:\n",
    "                tgt_iter = iter(target_loader)\n",
    "                tgt_batch = next(tgt_iter)\n",
    "\n",
    "            # Extract data\n",
    "            src_images, src_masks = src_batch[0], src_batch[1]\n",
    "            tgt_images = tgt_batch[0] if isinstance(tgt_batch, (list, tuple)) else tgt_batch\n",
    "\n",
    "            # Move to device\n",
    "            src_images = src_images.to(device, dtype=torch.float32)\n",
    "            src_masks = src_masks.to(device, dtype=torch.float32)\n",
    "            tgt_images = tgt_images.to(device, dtype=torch.float32)\n",
    "\n",
    "            batch_size_src = src_images.size(0)\n",
    "            batch_size_tgt = tgt_images.size(0)\n",
    "\n",
    "            # Update GRL lambda with gentler schedule\n",
    "            if grl_schedule:\n",
    "                p = float(global_step) / float(total_steps)\n",
    "                # Much gentler schedule\n",
    "                grl_lambda = grl_max * (2.0 / (1.0 + np.exp(-10.0 * p)) - 1.0) * 0.1\n",
    "            else:\n",
    "                grl_lambda = grl_max\n",
    "            \n",
    "            model.grl_lambda = grl_lambda\n",
    "\n",
    "            optimizer.zero_grad()\n",
    "\n",
    "            # Forward pass\n",
    "            src_seg_logits, src_domain_logits = model(src_images)\n",
    "            _, tgt_domain_logits = model(tgt_images)\n",
    "\n",
    "            # Segmentation loss (only on source)\n",
    "            seg_loss = segmentation_criterion(src_seg_logits, src_masks)\n",
    "\n",
    "            # Domain loss\n",
    "            domain_logits = torch.cat([src_domain_logits, tgt_domain_logits], dim=0)\n",
    "            domain_labels_src = torch.zeros(batch_size_src, 1, device=device, dtype=torch.float32)\n",
    "            domain_labels_tgt = torch.ones(batch_size_tgt, 1, device=device, dtype=torch.float32)\n",
    "            domain_labels = torch.cat([domain_labels_src, domain_labels_tgt], dim=0)\n",
    "\n",
    "            domain_loss = domain_criterion(domain_logits, domain_labels)\n",
    "\n",
    "            # Total loss with adaptive weight\n",
    "            adaptive_weight = min(domain_loss_weight * (epoch + 1) / 10, domain_loss_weight)\n",
    "            total_loss = seg_loss + adaptive_weight * domain_loss\n",
    "\n",
    "            # Backward pass\n",
    "            total_loss.backward()\n",
    "            torch.nn.utils.clip_grad_norm_(model.parameters(), max_norm=1.0)\n",
    "            optimizer.step()\n",
    "\n",
    "            # Update metrics\n",
    "            epoch_seg_loss += seg_loss.item() * batch_size_src\n",
    "            epoch_domain_loss += domain_loss.item() * (batch_size_src + batch_size_tgt)\n",
    "            epoch_total_loss += total_loss.item() * batch_size_src\n",
    "            epoch_samples += batch_size_src\n",
    "\n",
    "            # Calculate dice on source\n",
    "            with torch.no_grad():\n",
    "                seg_probs = torch.sigmoid(src_seg_logits)\n",
    "                seg_preds = (seg_probs > 0.5).float()\n",
    "                \n",
    "                # Handle dimensions properly\n",
    "                if seg_preds.dim() == 4 and seg_preds.shape[1] == 1:\n",
    "                    seg_preds_np = seg_preds.squeeze(1).cpu().numpy()\n",
    "                    src_masks_np = src_masks.squeeze(1).cpu().numpy()\n",
    "                else:\n",
    "                    seg_preds_np = seg_preds.cpu().numpy()\n",
    "                    src_masks_np = src_masks.cpu().numpy()\n",
    "                \n",
    "                batch_dice = dice_score(src_masks_np, seg_preds_np)\n",
    "                epoch_dice += batch_dice\n",
    "\n",
    "            global_step += 1\n",
    "\n",
    "        # Calculate epoch averages\n",
    "        epoch_seg_loss = epoch_seg_loss / epoch_samples\n",
    "        epoch_domain_loss = epoch_domain_loss / (max_steps_per_epoch * (batch_size_src + batch_size_tgt))\n",
    "        epoch_total_loss = epoch_total_loss / epoch_samples\n",
    "        epoch_dice_mean = epoch_dice / max_steps_per_epoch\n",
    "\n",
    "        training_logs['train_seg_loss'].append(epoch_seg_loss)\n",
    "        training_logs['train_domain_loss'].append(epoch_domain_loss)\n",
    "        training_logs['train_total_loss'].append(epoch_total_loss)\n",
    "        training_logs['train_dice'].append(epoch_dice_mean)\n",
    "\n",
    "        # Validation\n",
    "        model.eval()\n",
    "        val_seg_loss_acc = 0.0\n",
    "        val_samples = 0\n",
    "        val_dice_acc = 0.0\n",
    "        \n",
    "        with torch.no_grad():\n",
    "            for v_images, v_masks, _ in val_loader:\n",
    "                v_images = v_images.to(device, dtype=torch.float32)\n",
    "                v_masks = v_masks.to(device, dtype=torch.float32)\n",
    "\n",
    "                v_seg_logits, _ = model(v_images)\n",
    "                v_seg_loss = segmentation_criterion(v_seg_logits, v_masks)\n",
    "                val_seg_loss_acc += v_seg_loss.item() * v_images.size(0)\n",
    "                val_samples += v_images.size(0)\n",
    "\n",
    "                v_probs = torch.sigmoid(v_seg_logits)\n",
    "                v_preds = (v_probs > 0.5).float()\n",
    "                \n",
    "                # Handle dimensions\n",
    "                if v_preds.dim() == 4 and v_preds.shape[1] == 1:\n",
    "                    v_preds_np = v_preds.squeeze(1).cpu().numpy()\n",
    "                    v_masks_np = v_masks.squeeze(1).cpu().numpy()\n",
    "                else:\n",
    "                    v_preds_np = v_preds.cpu().numpy()\n",
    "                    v_masks_np = v_masks.cpu().numpy()\n",
    "                \n",
    "                val_dice_batch = dice_score(v_masks_np, v_preds_np)\n",
    "                val_dice_acc += val_dice_batch\n",
    "\n",
    "        val_seg_loss = val_seg_loss_acc / val_samples\n",
    "        val_dice = val_dice_acc / len(val_loader)\n",
    "\n",
    "        training_logs['val_seg_loss'].append(val_seg_loss)\n",
    "        training_logs['val_dice'].append(val_dice)\n",
    "\n",
    "        # Early stopping\n",
    "        if val_seg_loss < best_val_loss:\n",
    "            best_val_loss = val_seg_loss\n",
    "            patience = 0\n",
    "        else:\n",
    "            patience += 1\n",
    "            if patience >= patience_counter:\n",
    "                print(\"Early stopping triggered.\")\n",
    "                break\n",
    "\n",
    "        # Learning rate scheduling\n",
    "        if scheduler:\n",
    "            scheduler.step(val_seg_loss)\n",
    "\n",
    "        print(\"=\"*60)\n",
    "        print(f\"Train Seg Loss: {epoch_seg_loss:.4f}, Domain Loss: {epoch_domain_loss:.4f}\")\n",
    "        print(f\"Total Loss: {epoch_total_loss:.4f}\")\n",
    "        print(f\"Train Dice: {epoch_dice_mean:.4f} | Val Dice: {val_dice:.4f}\")\n",
    "        print(f\"Val Seg Loss: {val_seg_loss:.4f}\")\n",
    "        print(\"=\"*60)\n",
    "\n",
    "    return training_logs"
   ]
  },
  {
   "cell_type": "code",
   "execution_count": 37,
   "id": "b3c93c64",
   "metadata": {},
   "outputs": [],
   "source": [
    "model3 = smp.Unet(encoder_name=\"resnet34\",encoder_weights=\"imagenet\",in_channels=2,classes=1)\n",
    "model3.to(DEVICE)\n",
    "uda_model = DomainAdaptationModel(model3, grl_lambda=0.1)\n",
    "uda_model.to(DEVICE)\n",
    "scheduler = torch.optim.lr_scheduler.ReduceLROnPlateau(optimizer, mode='min', factor=0.5, patience=3)\n",
    "seg_crit = criterion\n",
    "domain_crit = nn.BCEWithLogitsLoss() \n",
    "optimizer = torch.optim.AdamW(uda_model.parameters(), lr=1e-4, weight_decay=1e-5)"
   ]
  },
  {
   "cell_type": "code",
   "execution_count": 38,
   "id": "60e5c1ce",
   "metadata": {},
   "outputs": [],
   "source": [
    "target_images_only = TensorDataset(ds3_train)\n",
    "target_loader = DataLoader(target_images_only, batch_size=32, shuffle=True)"
   ]
  },
  {
   "cell_type": "code",
   "execution_count": 40,
   "id": "2e40cc5a",
   "metadata": {},
   "outputs": [
    {
     "name": "stderr",
     "output_type": "stream",
     "text": [
      "Epoch 1/50: 100%|██████████| 77/77 [00:04<00:00, 17.69it/s]\n"
     ]
    },
    {
     "name": "stdout",
     "output_type": "stream",
     "text": [
      "============================================================\n",
      "Train Seg Loss: 1.1001, Domain Loss: 0.5943\n",
      "Total Loss: 1.1006\n",
      "Train Dice: 0.4443 | Val Dice: 0.1964\n",
      "Val Seg Loss: 1.1009\n",
      "============================================================\n"
     ]
    },
    {
     "name": "stderr",
     "output_type": "stream",
     "text": [
      "Epoch 2/50: 100%|██████████| 77/77 [00:04<00:00, 17.70it/s]\n"
     ]
    },
    {
     "name": "stdout",
     "output_type": "stream",
     "text": [
      "============================================================\n",
      "Train Seg Loss: 1.0049, Domain Loss: 0.5120\n",
      "Total Loss: 1.0058\n",
      "Train Dice: 0.4982 | Val Dice: 0.2992\n",
      "Val Seg Loss: 1.0410\n",
      "============================================================\n"
     ]
    },
    {
     "name": "stderr",
     "output_type": "stream",
     "text": [
      "Epoch 3/50: 100%|██████████| 77/77 [00:04<00:00, 17.76it/s]\n"
     ]
    },
    {
     "name": "stdout",
     "output_type": "stream",
     "text": [
      "============================================================\n",
      "Train Seg Loss: 0.9014, Domain Loss: 0.4604\n",
      "Total Loss: 0.9025\n",
      "Train Dice: 0.5810 | Val Dice: 0.4358\n",
      "Val Seg Loss: 0.9359\n",
      "============================================================\n"
     ]
    },
    {
     "name": "stderr",
     "output_type": "stream",
     "text": [
      "Epoch 4/50: 100%|██████████| 77/77 [00:04<00:00, 17.68it/s]\n"
     ]
    },
    {
     "name": "stdout",
     "output_type": "stream",
     "text": [
      "============================================================\n",
      "Train Seg Loss: 0.7965, Domain Loss: 0.3908\n",
      "Total Loss: 0.7979\n",
      "Train Dice: 0.6356 | Val Dice: 0.4058\n",
      "Val Seg Loss: 0.8749\n",
      "============================================================\n"
     ]
    },
    {
     "name": "stderr",
     "output_type": "stream",
     "text": [
      "Epoch 5/50: 100%|██████████| 77/77 [00:04<00:00, 18.43it/s]\n"
     ]
    },
    {
     "name": "stdout",
     "output_type": "stream",
     "text": [
      "============================================================\n",
      "Train Seg Loss: 0.6950, Domain Loss: 0.4089\n",
      "Total Loss: 0.6967\n",
      "Train Dice: 0.6703 | Val Dice: 0.5228\n",
      "Val Seg Loss: 0.7723\n",
      "============================================================\n"
     ]
    },
    {
     "name": "stderr",
     "output_type": "stream",
     "text": [
      "Epoch 6/50: 100%|██████████| 77/77 [00:04<00:00, 18.38it/s]\n"
     ]
    },
    {
     "name": "stdout",
     "output_type": "stream",
     "text": [
      "============================================================\n",
      "Train Seg Loss: 0.6015, Domain Loss: 0.4419\n",
      "Total Loss: 0.6038\n",
      "Train Dice: 0.6959 | Val Dice: 0.5185\n",
      "Val Seg Loss: 0.7316\n",
      "============================================================\n"
     ]
    },
    {
     "name": "stderr",
     "output_type": "stream",
     "text": [
      "Epoch 7/50: 100%|██████████| 77/77 [00:04<00:00, 17.52it/s]\n"
     ]
    },
    {
     "name": "stdout",
     "output_type": "stream",
     "text": [
      "============================================================\n",
      "Train Seg Loss: 0.5185, Domain Loss: 0.5035\n",
      "Total Loss: 0.5215\n",
      "Train Dice: 0.7261 | Val Dice: 0.4667\n",
      "Val Seg Loss: 0.7070\n",
      "============================================================\n"
     ]
    },
    {
     "name": "stderr",
     "output_type": "stream",
     "text": [
      "Epoch 8/50: 100%|██████████| 77/77 [00:04<00:00, 17.62it/s]\n"
     ]
    },
    {
     "name": "stdout",
     "output_type": "stream",
     "text": [
      "============================================================\n",
      "Train Seg Loss: 0.4486, Domain Loss: 0.3890\n",
      "Total Loss: 0.4512\n",
      "Train Dice: 0.7410 | Val Dice: 0.5682\n",
      "Val Seg Loss: 0.6042\n",
      "============================================================\n"
     ]
    },
    {
     "name": "stderr",
     "output_type": "stream",
     "text": [
      "Epoch 9/50: 100%|██████████| 77/77 [00:04<00:00, 17.51it/s]\n"
     ]
    },
    {
     "name": "stdout",
     "output_type": "stream",
     "text": [
      "============================================================\n",
      "Train Seg Loss: 0.3973, Domain Loss: 0.3745\n",
      "Total Loss: 0.4002\n",
      "Train Dice: 0.7551 | Val Dice: 0.5308\n",
      "Val Seg Loss: 0.6027\n",
      "============================================================\n"
     ]
    },
    {
     "name": "stderr",
     "output_type": "stream",
     "text": [
      "Epoch 10/50: 100%|██████████| 77/77 [00:04<00:00, 18.60it/s]\n"
     ]
    },
    {
     "name": "stdout",
     "output_type": "stream",
     "text": [
      "============================================================\n",
      "Train Seg Loss: 0.3477, Domain Loss: 0.3463\n",
      "Total Loss: 0.3506\n",
      "Train Dice: 0.7743 | Val Dice: 0.5432\n",
      "Val Seg Loss: 0.5778\n",
      "============================================================\n"
     ]
    },
    {
     "name": "stderr",
     "output_type": "stream",
     "text": [
      "Epoch 11/50: 100%|██████████| 77/77 [00:04<00:00, 18.67it/s]\n"
     ]
    },
    {
     "name": "stdout",
     "output_type": "stream",
     "text": [
      "============================================================\n",
      "Train Seg Loss: 0.3253, Domain Loss: 0.3364\n",
      "Total Loss: 0.3281\n",
      "Train Dice: 0.7787 | Val Dice: 0.5626\n",
      "Val Seg Loss: 0.5437\n",
      "============================================================\n"
     ]
    },
    {
     "name": "stderr",
     "output_type": "stream",
     "text": [
      "Epoch 12/50: 100%|██████████| 77/77 [00:04<00:00, 18.88it/s]\n"
     ]
    },
    {
     "name": "stdout",
     "output_type": "stream",
     "text": [
      "============================================================\n",
      "Train Seg Loss: 0.2965, Domain Loss: 0.3061\n",
      "Total Loss: 0.2991\n",
      "Train Dice: 0.7909 | Val Dice: 0.5386\n",
      "Val Seg Loss: 0.5550\n",
      "============================================================\n"
     ]
    },
    {
     "name": "stderr",
     "output_type": "stream",
     "text": [
      "Epoch 13/50: 100%|██████████| 77/77 [00:04<00:00, 18.29it/s]\n"
     ]
    },
    {
     "name": "stdout",
     "output_type": "stream",
     "text": [
      "============================================================\n",
      "Train Seg Loss: 0.2677, Domain Loss: 0.2813\n",
      "Total Loss: 0.2701\n",
      "Train Dice: 0.8074 | Val Dice: 0.5519\n",
      "Val Seg Loss: 0.5341\n",
      "============================================================\n"
     ]
    },
    {
     "name": "stderr",
     "output_type": "stream",
     "text": [
      "Epoch 14/50: 100%|██████████| 77/77 [00:04<00:00, 17.63it/s]\n"
     ]
    },
    {
     "name": "stdout",
     "output_type": "stream",
     "text": [
      "============================================================\n",
      "Train Seg Loss: 0.2559, Domain Loss: 0.2807\n",
      "Total Loss: 0.2583\n",
      "Train Dice: 0.8116 | Val Dice: 0.5564\n",
      "Val Seg Loss: 0.5243\n",
      "============================================================\n"
     ]
    },
    {
     "name": "stderr",
     "output_type": "stream",
     "text": [
      "Epoch 15/50: 100%|██████████| 77/77 [00:04<00:00, 17.29it/s]\n"
     ]
    },
    {
     "name": "stdout",
     "output_type": "stream",
     "text": [
      "============================================================\n",
      "Train Seg Loss: 0.2474, Domain Loss: 0.2307\n",
      "Total Loss: 0.2493\n",
      "Train Dice: 0.8130 | Val Dice: 0.5666\n",
      "Val Seg Loss: 0.5082\n",
      "============================================================\n"
     ]
    },
    {
     "name": "stderr",
     "output_type": "stream",
     "text": [
      "Epoch 16/50: 100%|██████████| 77/77 [00:04<00:00, 17.03it/s]\n"
     ]
    },
    {
     "name": "stdout",
     "output_type": "stream",
     "text": [
      "============================================================\n",
      "Train Seg Loss: 0.2307, Domain Loss: 0.2427\n",
      "Total Loss: 0.2328\n",
      "Train Dice: 0.8242 | Val Dice: 0.5657\n",
      "Val Seg Loss: 0.5050\n",
      "============================================================\n"
     ]
    },
    {
     "name": "stderr",
     "output_type": "stream",
     "text": [
      "Epoch 17/50: 100%|██████████| 77/77 [00:04<00:00, 17.43it/s]\n"
     ]
    },
    {
     "name": "stdout",
     "output_type": "stream",
     "text": [
      "============================================================\n",
      "Train Seg Loss: 0.2201, Domain Loss: 0.2383\n",
      "Total Loss: 0.2221\n",
      "Train Dice: 0.8295 | Val Dice: 0.5535\n",
      "Val Seg Loss: 0.5118\n",
      "============================================================\n"
     ]
    },
    {
     "name": "stderr",
     "output_type": "stream",
     "text": [
      "Epoch 18/50: 100%|██████████| 77/77 [00:04<00:00, 17.40it/s]\n"
     ]
    },
    {
     "name": "stdout",
     "output_type": "stream",
     "text": [
      "============================================================\n",
      "Train Seg Loss: 0.2149, Domain Loss: 0.2464\n",
      "Total Loss: 0.2170\n",
      "Train Dice: 0.8313 | Val Dice: 0.5690\n",
      "Val Seg Loss: 0.5027\n",
      "============================================================\n"
     ]
    },
    {
     "name": "stderr",
     "output_type": "stream",
     "text": [
      "Epoch 19/50: 100%|██████████| 77/77 [00:04<00:00, 16.98it/s]\n"
     ]
    },
    {
     "name": "stdout",
     "output_type": "stream",
     "text": [
      "============================================================\n",
      "Train Seg Loss: 0.2082, Domain Loss: 0.2141\n",
      "Total Loss: 0.2100\n",
      "Train Dice: 0.8355 | Val Dice: 0.6126\n",
      "Val Seg Loss: 0.4510\n",
      "============================================================\n"
     ]
    },
    {
     "name": "stderr",
     "output_type": "stream",
     "text": [
      "Epoch 20/50: 100%|██████████| 77/77 [00:04<00:00, 17.53it/s]\n"
     ]
    },
    {
     "name": "stdout",
     "output_type": "stream",
     "text": [
      "============================================================\n",
      "Train Seg Loss: 0.2027, Domain Loss: 0.2409\n",
      "Total Loss: 0.2048\n",
      "Train Dice: 0.8387 | Val Dice: 0.6000\n",
      "Val Seg Loss: 0.4601\n",
      "============================================================\n"
     ]
    },
    {
     "name": "stderr",
     "output_type": "stream",
     "text": [
      "Epoch 21/50: 100%|██████████| 77/77 [00:04<00:00, 17.72it/s]\n"
     ]
    },
    {
     "name": "stdout",
     "output_type": "stream",
     "text": [
      "============================================================\n",
      "Train Seg Loss: 0.2014, Domain Loss: 0.2457\n",
      "Total Loss: 0.2035\n",
      "Train Dice: 0.8384 | Val Dice: 0.5904\n",
      "Val Seg Loss: 0.4712\n",
      "============================================================\n"
     ]
    },
    {
     "name": "stderr",
     "output_type": "stream",
     "text": [
      "Epoch 22/50: 100%|██████████| 77/77 [00:04<00:00, 17.65it/s]\n"
     ]
    },
    {
     "name": "stdout",
     "output_type": "stream",
     "text": [
      "============================================================\n",
      "Train Seg Loss: 0.1887, Domain Loss: 0.2271\n",
      "Total Loss: 0.1906\n",
      "Train Dice: 0.8491 | Val Dice: 0.5768\n",
      "Val Seg Loss: 0.4848\n",
      "============================================================\n"
     ]
    },
    {
     "name": "stderr",
     "output_type": "stream",
     "text": [
      "Epoch 23/50: 100%|██████████| 77/77 [00:04<00:00, 17.99it/s]\n"
     ]
    },
    {
     "name": "stdout",
     "output_type": "stream",
     "text": [
      "============================================================\n",
      "Train Seg Loss: 0.1810, Domain Loss: 0.2124\n",
      "Total Loss: 0.1828\n",
      "Train Dice: 0.8552 | Val Dice: 0.5883\n",
      "Val Seg Loss: 0.4686\n",
      "============================================================\n"
     ]
    },
    {
     "name": "stderr",
     "output_type": "stream",
     "text": [
      "Epoch 24/50: 100%|██████████| 77/77 [00:04<00:00, 18.46it/s]\n"
     ]
    },
    {
     "name": "stdout",
     "output_type": "stream",
     "text": [
      "============================================================\n",
      "Train Seg Loss: 0.1802, Domain Loss: 0.2402\n",
      "Total Loss: 0.1822\n",
      "Train Dice: 0.8553 | Val Dice: 0.5869\n",
      "Val Seg Loss: 0.4687\n",
      "============================================================\n"
     ]
    },
    {
     "name": "stderr",
     "output_type": "stream",
     "text": [
      "Epoch 25/50: 100%|██████████| 77/77 [00:04<00:00, 17.84it/s]\n"
     ]
    },
    {
     "name": "stdout",
     "output_type": "stream",
     "text": [
      "============================================================\n",
      "Train Seg Loss: 0.1747, Domain Loss: 0.2068\n",
      "Total Loss: 0.1765\n",
      "Train Dice: 0.8589 | Val Dice: 0.5596\n",
      "Val Seg Loss: 0.4991\n",
      "============================================================\n"
     ]
    },
    {
     "name": "stderr",
     "output_type": "stream",
     "text": [
      "Epoch 26/50: 100%|██████████| 77/77 [00:04<00:00, 17.57it/s]\n"
     ]
    },
    {
     "name": "stdout",
     "output_type": "stream",
     "text": [
      "============================================================\n",
      "Train Seg Loss: 0.1746, Domain Loss: 0.2322\n",
      "Total Loss: 0.1766\n",
      "Train Dice: 0.8581 | Val Dice: 0.5891\n",
      "Val Seg Loss: 0.4643\n",
      "============================================================\n"
     ]
    },
    {
     "name": "stderr",
     "output_type": "stream",
     "text": [
      "Epoch 27/50: 100%|██████████| 77/77 [00:04<00:00, 17.21it/s]\n"
     ]
    },
    {
     "name": "stdout",
     "output_type": "stream",
     "text": [
      "============================================================\n",
      "Train Seg Loss: 0.1683, Domain Loss: 0.1944\n",
      "Total Loss: 0.1699\n",
      "Train Dice: 0.8635 | Val Dice: 0.6063\n",
      "Val Seg Loss: 0.4458\n",
      "============================================================\n"
     ]
    },
    {
     "name": "stderr",
     "output_type": "stream",
     "text": [
      "Epoch 28/50: 100%|██████████| 77/77 [00:04<00:00, 17.48it/s]\n"
     ]
    },
    {
     "name": "stdout",
     "output_type": "stream",
     "text": [
      "============================================================\n",
      "Train Seg Loss: 0.1693, Domain Loss: 0.2136\n",
      "Total Loss: 0.1711\n",
      "Train Dice: 0.8618 | Val Dice: 0.5762\n",
      "Val Seg Loss: 0.4753\n",
      "============================================================\n"
     ]
    },
    {
     "name": "stderr",
     "output_type": "stream",
     "text": [
      "Epoch 29/50: 100%|██████████| 77/77 [00:04<00:00, 17.86it/s]\n"
     ]
    },
    {
     "name": "stdout",
     "output_type": "stream",
     "text": [
      "============================================================\n",
      "Train Seg Loss: 0.1647, Domain Loss: 0.2291\n",
      "Total Loss: 0.1666\n",
      "Train Dice: 0.8652 | Val Dice: 0.5816\n",
      "Val Seg Loss: 0.4687\n",
      "============================================================\n"
     ]
    },
    {
     "name": "stderr",
     "output_type": "stream",
     "text": [
      "Epoch 30/50: 100%|██████████| 77/77 [00:04<00:00, 17.97it/s]\n"
     ]
    },
    {
     "name": "stdout",
     "output_type": "stream",
     "text": [
      "============================================================\n",
      "Train Seg Loss: 0.1623, Domain Loss: 0.2283\n",
      "Total Loss: 0.1643\n",
      "Train Dice: 0.8671 | Val Dice: 0.6117\n",
      "Val Seg Loss: 0.4354\n",
      "============================================================\n"
     ]
    },
    {
     "name": "stderr",
     "output_type": "stream",
     "text": [
      "Epoch 31/50: 100%|██████████| 77/77 [00:04<00:00, 18.12it/s]\n"
     ]
    },
    {
     "name": "stdout",
     "output_type": "stream",
     "text": [
      "============================================================\n",
      "Train Seg Loss: 0.1569, Domain Loss: 0.2620\n",
      "Total Loss: 0.1591\n",
      "Train Dice: 0.8716 | Val Dice: 0.5853\n",
      "Val Seg Loss: 0.4666\n",
      "============================================================\n"
     ]
    },
    {
     "name": "stderr",
     "output_type": "stream",
     "text": [
      "Epoch 32/50: 100%|██████████| 77/77 [00:04<00:00, 18.07it/s]\n"
     ]
    },
    {
     "name": "stdout",
     "output_type": "stream",
     "text": [
      "============================================================\n",
      "Train Seg Loss: 0.1550, Domain Loss: 0.2286\n",
      "Total Loss: 0.1569\n",
      "Train Dice: 0.8732 | Val Dice: 0.5870\n",
      "Val Seg Loss: 0.4660\n",
      "============================================================\n"
     ]
    },
    {
     "name": "stderr",
     "output_type": "stream",
     "text": [
      "Epoch 33/50: 100%|██████████| 77/77 [00:04<00:00, 17.48it/s]\n"
     ]
    },
    {
     "name": "stdout",
     "output_type": "stream",
     "text": [
      "============================================================\n",
      "Train Seg Loss: 0.1500, Domain Loss: 0.2267\n",
      "Total Loss: 0.1519\n",
      "Train Dice: 0.8775 | Val Dice: 0.5719\n",
      "Val Seg Loss: 0.4829\n",
      "============================================================\n"
     ]
    },
    {
     "name": "stderr",
     "output_type": "stream",
     "text": [
      "Epoch 34/50: 100%|██████████| 77/77 [00:04<00:00, 17.50it/s]\n"
     ]
    },
    {
     "name": "stdout",
     "output_type": "stream",
     "text": [
      "============================================================\n",
      "Train Seg Loss: 0.1456, Domain Loss: 0.2109\n",
      "Total Loss: 0.1474\n",
      "Train Dice: 0.8811 | Val Dice: 0.6147\n",
      "Val Seg Loss: 0.4362\n",
      "============================================================\n"
     ]
    },
    {
     "name": "stderr",
     "output_type": "stream",
     "text": [
      "Epoch 35/50: 100%|██████████| 77/77 [00:04<00:00, 17.61it/s]\n"
     ]
    },
    {
     "name": "stdout",
     "output_type": "stream",
     "text": [
      "============================================================\n",
      "Train Seg Loss: 0.1489, Domain Loss: 0.2586\n",
      "Total Loss: 0.1511\n",
      "Train Dice: 0.8784 | Val Dice: 0.5431\n",
      "Val Seg Loss: 0.5160\n",
      "============================================================\n"
     ]
    },
    {
     "name": "stderr",
     "output_type": "stream",
     "text": [
      "Epoch 36/50: 100%|██████████| 77/77 [00:04<00:00, 17.49it/s]\n"
     ]
    },
    {
     "name": "stdout",
     "output_type": "stream",
     "text": [
      "============================================================\n",
      "Train Seg Loss: 0.1479, Domain Loss: 0.2482\n",
      "Total Loss: 0.1500\n",
      "Train Dice: 0.8788 | Val Dice: 0.5811\n",
      "Val Seg Loss: 0.4727\n",
      "============================================================\n"
     ]
    },
    {
     "name": "stderr",
     "output_type": "stream",
     "text": [
      "Epoch 37/50: 100%|██████████| 77/77 [00:04<00:00, 17.57it/s]\n"
     ]
    },
    {
     "name": "stdout",
     "output_type": "stream",
     "text": [
      "============================================================\n",
      "Train Seg Loss: 0.1607, Domain Loss: 0.2575\n",
      "Total Loss: 0.1629\n",
      "Train Dice: 0.8670 | Val Dice: 0.5558\n",
      "Val Seg Loss: 0.5029\n",
      "============================================================\n"
     ]
    },
    {
     "name": "stderr",
     "output_type": "stream",
     "text": [
      "Epoch 38/50: 100%|██████████| 77/77 [00:04<00:00, 17.66it/s]\n"
     ]
    },
    {
     "name": "stdout",
     "output_type": "stream",
     "text": [
      "============================================================\n",
      "Train Seg Loss: 0.1439, Domain Loss: 0.2517\n",
      "Total Loss: 0.1460\n",
      "Train Dice: 0.8819 | Val Dice: 0.5166\n",
      "Val Seg Loss: 0.5477\n",
      "============================================================\n"
     ]
    },
    {
     "name": "stderr",
     "output_type": "stream",
     "text": [
      "Epoch 39/50: 100%|██████████| 77/77 [00:04<00:00, 17.43it/s]\n"
     ]
    },
    {
     "name": "stdout",
     "output_type": "stream",
     "text": [
      "============================================================\n",
      "Train Seg Loss: 0.1429, Domain Loss: 0.2385\n",
      "Total Loss: 0.1449\n",
      "Train Dice: 0.8823 | Val Dice: 0.5330\n",
      "Val Seg Loss: 0.5258\n",
      "============================================================\n"
     ]
    },
    {
     "name": "stderr",
     "output_type": "stream",
     "text": [
      "Epoch 40/50: 100%|██████████| 77/77 [00:04<00:00, 17.75it/s]\n"
     ]
    },
    {
     "name": "stdout",
     "output_type": "stream",
     "text": [
      "============================================================\n",
      "Train Seg Loss: 0.1414, Domain Loss: 0.2490\n",
      "Total Loss: 0.1435\n",
      "Train Dice: 0.8835 | Val Dice: 0.5877\n",
      "Val Seg Loss: 0.4607\n",
      "============================================================\n"
     ]
    },
    {
     "name": "stderr",
     "output_type": "stream",
     "text": [
      "Epoch 41/50: 100%|██████████| 77/77 [00:04<00:00, 18.12it/s]\n"
     ]
    },
    {
     "name": "stdout",
     "output_type": "stream",
     "text": [
      "============================================================\n",
      "Train Seg Loss: 0.1285, Domain Loss: 0.2403\n",
      "Total Loss: 0.1306\n",
      "Train Dice: 0.8951 | Val Dice: 0.5684\n",
      "Val Seg Loss: 0.4865\n",
      "============================================================\n"
     ]
    },
    {
     "name": "stderr",
     "output_type": "stream",
     "text": [
      "Epoch 42/50: 100%|██████████| 77/77 [00:04<00:00, 18.19it/s]\n"
     ]
    },
    {
     "name": "stdout",
     "output_type": "stream",
     "text": [
      "============================================================\n",
      "Train Seg Loss: 0.1321, Domain Loss: 0.2242\n",
      "Total Loss: 0.1340\n",
      "Train Dice: 0.8919 | Val Dice: 0.5845\n",
      "Val Seg Loss: 0.4722\n",
      "============================================================\n"
     ]
    },
    {
     "name": "stderr",
     "output_type": "stream",
     "text": [
      "Epoch 43/50: 100%|██████████| 77/77 [00:04<00:00, 18.34it/s]\n"
     ]
    },
    {
     "name": "stdout",
     "output_type": "stream",
     "text": [
      "============================================================\n",
      "Train Seg Loss: 0.1302, Domain Loss: 0.2319\n",
      "Total Loss: 0.1322\n",
      "Train Dice: 0.8930 | Val Dice: 0.5605\n",
      "Val Seg Loss: 0.4931\n",
      "============================================================\n"
     ]
    },
    {
     "name": "stderr",
     "output_type": "stream",
     "text": [
      "Epoch 44/50: 100%|██████████| 77/77 [00:04<00:00, 17.78it/s]\n"
     ]
    },
    {
     "name": "stdout",
     "output_type": "stream",
     "text": [
      "============================================================\n",
      "Train Seg Loss: 0.1288, Domain Loss: 0.2747\n",
      "Total Loss: 0.1312\n",
      "Train Dice: 0.8941 | Val Dice: 0.5481\n",
      "Val Seg Loss: 0.5096\n",
      "============================================================\n"
     ]
    },
    {
     "name": "stderr",
     "output_type": "stream",
     "text": [
      "Epoch 45/50: 100%|██████████| 77/77 [00:04<00:00, 18.15it/s]\n"
     ]
    },
    {
     "name": "stdout",
     "output_type": "stream",
     "text": [
      "Early stopping triggered.\n"
     ]
    }
   ],
   "source": [
    "logs = uda_trainer(uda_model, supervised_da_train_loader, target_loader, supervised_da_val_loader,\n",
    "                    seg_crit, domain_crit, optimizer, DEVICE, num_epochs=50, \n",
    "                    domain_loss_weight=0.01, grl_schedule=True, grl_max=0.1, scheduler=scheduler)"
   ]
  },
  {
   "cell_type": "code",
   "execution_count": null,
   "id": "7c7a0594",
   "metadata": {},
   "outputs": [],
   "source": [
    "torch.save(uda_model.state_dict(), 'uda_model.pth')"
   ]
  },
  {
   "cell_type": "code",
   "execution_count": 42,
   "id": "94a12cf1",
   "metadata": {},
   "outputs": [
    {
     "data": {
      "image/png": "[encoded data removed]",
      "text/plain": [
       "<Figure size 800x500 with 1 Axes>"
      ]
     },
     "metadata": {},
     "output_type": "display_data"
    },
    {
     "data": {
      "image/png": "[encoded data removed]",
      "text/plain": [
       "<Figure size 800x500 with 1 Axes>"
      ]
     },
     "metadata": {},
     "output_type": "display_data"
    },
    {
     "data": {
      "image/png": "[encoded data removed]",
      "text/plain": [
       "<Figure size 800x500 with 1 Axes>"
      ]
     },
     "metadata": {},
     "output_type": "display_data"
    }
   ],
   "source": [
    "plotGraphs('UDA Training and Validation Losses').plot_losses(logs['train_total_loss'], logs['val_seg_loss'])\n",
    "plotGraphs('UDA Training Domain Loss').plot_losses(logs['train_domain_loss'], [0]*len(logs['val_seg_loss']))\n",
    "plotGraphs('UDA Training and Validation Dice Scores').plot_metrics(logs['train_dice'], logs['val_dice'])"
   ]
  },
  {
   "cell_type": "code",
   "execution_count": 43,
   "id": "dc0fe4ea",
   "metadata": {},
   "outputs": [
    {
     "name": "stdout",
     "output_type": "stream",
     "text": [
      "Batch 1 Dice Score: 0.4911\n",
      "Batch 2 Dice Score: 0.3440\n",
      "Batch 3 Dice Score: 0.4278\n",
      "Batch 4 Dice Score: 0.4731\n",
      "Batch 5 Dice Score: 0.6393\n",
      "Batch 6 Dice Score: 0.5104\n",
      "Batch 7 Dice Score: 0.4574\n",
      "Batch 8 Dice Score: 0.5534\n",
      "Batch 9 Dice Score: 0.4533\n",
      "Batch 10 Dice Score: 0.3232\n",
      "Batch 11 Dice Score: 0.5645\n",
      "Batch 12 Dice Score: 0.4663\n",
      "Batch 13 Dice Score: 0.6613\n",
      "Average Validation Dice Score: 0.4896\n"
     ]
    }
   ],
   "source": [
    "# Evaluate the UDA model on the validation set\n",
    "uda_model.eval()\n",
    "total_dice = 0\n",
    "num_batches = 0\n",
    "lwa = []\n",
    "with torch.no_grad():\n",
    "    for images, labels, _ in supervised_da_val_loader:  \n",
    "        images, labels = images.to(DEVICE), labels.to(DEVICE)\n",
    "        seg_outputs, _ = uda_model(images)  \n",
    "        \n",
    "        seg_probs = torch.sigmoid(seg_outputs)\n",
    "        seg_preds = (seg_probs > 0.5).float()\n",
    "        \n",
    "        labels_np = labels.squeeze(1).cpu().numpy() \n",
    "        seg_preds_np = seg_preds.squeeze(1).cpu().numpy() \n",
    "        \n",
    "        batch_dice = 0\n",
    "        batch_lesion_accuracy = 0\n",
    "        batch_size = labels_np.shape[0]\n",
    "        \n",
    "        for i in range(batch_size):\n",
    "            sample_dice = dice_score(labels_np[i], seg_preds_np[i])\n",
    "            sample_lesion_acc = lesion_wise_accuracy(labels_np[i], seg_preds_np[i])\n",
    "            batch_dice += sample_dice\n",
    "            batch_lesion_accuracy += sample_lesion_acc\n",
    "        \n",
    "        batch_dice /= batch_size\n",
    "        batch_lesion_accuracy /= batch_size\n",
    "        \n",
    "        total_dice += batch_dice\n",
    "        num_batches += 1\n",
    "        \n",
    "        print(f\"Batch {num_batches} Dice Score: {batch_dice:.4f}\")\n",
    "        lwa.append(round(batch_lesion_accuracy, 4))\n",
    "\n",
    "\n",
    "avg_dice = total_dice / num_batches\n",
    "print(f\"Average Validation Dice Score: {avg_dice:.4f}\")"
   ]
  },
  {
   "cell_type": "code",
   "execution_count": 44,
   "id": "d9533206",
   "metadata": {},
   "outputs": [
    {
     "name": "stdout",
     "output_type": "stream",
     "text": [
      "Best Validation Dice Score: 0.6147\n",
      "Best validation lesion wise accuracy 0.5813\n"
     ]
    }
   ],
   "source": [
    "print(f\"Best Validation Dice Score: {max(logs['val_dice']):.4f}\")\n",
    "print(f\"Best validation lesion wise accuracy {max(lwa)}\")"
   ]
  },
  {
   "cell_type": "code",
   "execution_count": 47,
   "id": "65da46e1",
   "metadata": {},
   "outputs": [],
   "source": [
    "def get_items_uda(model, val_loader, device, threshold):\n",
    "    val_images = val_loader.dataset.tensors[0].numpy()  # Images\n",
    "    test_masks = val_loader.dataset.tensors[1].numpy()  # Ground truth masks\n",
    "    \n",
    "    outputs, labels = evaluate(model, val_loader, device=device, threshold=threshold, supervised=True)\n",
    "    outputs = outputs.squeeze(1).numpy()\n",
    "    labels = labels.squeeze(1).numpy()\n",
    "    \n",
    "    dice_scores = [dice_score(labels[i], outputs[i]) for i in range(len(labels))]\n",
    "    sorted_indices = np.argsort(dice_scores)\n",
    "    \n",
    "    best_dice_scores = [(dice_scores[i], i) for i in sorted_indices if dice_scores[i] != 1.0]\n",
    "    worst_dice_scores = [(dice_scores[i], i) for i in sorted_indices]\n",
    "    \n",
    "    if len(best_dice_scores) >= 2:\n",
    "        best_indices = [idx for score, idx in best_dice_scores[-2:]]\n",
    "    else:\n",
    "        best_indices = [idx for score, idx in sorted_indices[-2:]]\n",
    "    \n",
    "    worst_indices = [idx for score, idx in worst_dice_scores[:2]]\n",
    "    \n",
    "    two_best_masks_ground_truth = test_masks[best_indices]\n",
    "    two_worst_masks_ground_truth = test_masks[worst_indices]\n",
    "    two_best_masks_predictions = outputs[best_indices]\n",
    "    two_worst_masks_predictions = outputs[worst_indices]\n",
    "    \n",
    "    return two_best_masks_ground_truth, two_best_masks_predictions, two_worst_masks_ground_truth, two_worst_masks_predictions"
   ]
  },
  {
   "cell_type": "code",
   "execution_count": 48,
   "id": "c6c083a4",
   "metadata": {},
   "outputs": [],
   "source": [
    "two_best_gt, two_best_pred, two_worst_gt, two_worst_pred = get_items_uda(uda_model, supervised_da_val_loader, device='cuda', threshold=0.5)"
   ]
  },
  {
   "cell_type": "code",
   "execution_count": 49,
   "id": "b38f355b",
   "metadata": {},
   "outputs": [
    {
     "data": {
      "image/png": "[encoded data removed]",
      "text/plain": [
       "<Figure size 1000x500 with 2 Axes>"
      ]
     },
     "metadata": {},
     "output_type": "display_data"
    },
    {
     "data": {
      "image/png": "[encoded data removed]",
      "text/plain": [
       "<Figure size 1000x500 with 2 Axes>"
      ]
     },
     "metadata": {},
     "output_type": "display_data"
    },
    {
     "data": {
      "image/png": "[encoded data removed]",
      "text/plain": [
       "<Figure size 1000x500 with 2 Axes>"
      ]
     },
     "metadata": {},
     "output_type": "display_data"
    },
    {
     "data": {
      "image/png": "[encoded data removed]",
      "text/plain": [
       "<Figure size 1000x500 with 2 Axes>"
      ]
     },
     "metadata": {},
     "output_type": "display_data"
    }
   ],
   "source": [
    "#Plot best and worst samples\n",
    "for i in range(min(2, len(two_best_gt))):\n",
    "    plt.figure(figsize=(10, 5))\n",
    "    plt.subplot(1, 2, 1)\n",
    "    if len(two_best_gt[i].shape) == 3:\n",
    "        plt.imshow(two_best_gt[i][0], cmap='gray')\n",
    "    else:\n",
    "        plt.imshow(two_best_gt[i], cmap='gray')\n",
    "    plt.title(f'Best Mask Ground Truth {i+1}')\n",
    "    plt.axis('off')\n",
    "    \n",
    "    plt.subplot(1, 2, 2)\n",
    "    plt.imshow(two_best_pred[i], cmap='gray')\n",
    "    plt.title(f'Best Mask Prediction {i+1}')\n",
    "    plt.axis('off')\n",
    "    plt.show()\n",
    "for i in range(min(2, len(two_worst_gt))):\n",
    "    plt.figure(figsize=(10, 5))\n",
    "    plt.subplot(1, 2, 1)\n",
    "    if len(two_worst_gt[i].shape) == 3:\n",
    "        plt.imshow(two_worst_gt[i][0], cmap='gray')\n",
    "    else:\n",
    "        plt.imshow(two_worst_gt[i], cmap='gray')\n",
    "    plt.title(f'Worst Mask Ground Truth {i+1}')\n",
    "    plt.axis('off')\n",
    "    \n",
    "    plt.subplot(1, 2, 2)\n",
    "    plt.imshow(two_worst_pred[i], cmap='gray')\n",
    "    plt.title(f'Worst Mask Prediction {i+1}')\n",
    "    plt.axis('off') \n",
    "    plt.show()"
   ]
  },
  {
   "cell_type": "code",
   "execution_count": null,
   "id": "b25bffff",
   "metadata": {},
   "outputs": [],
   "source": []
  }
 ],
 "metadata": {
  "kernelspec": {
   "display_name": "AIMIA",
   "language": "python",
   "name": "python3"
  },
  "language_info": {
   "codemirror_mode": {
    "name": "ipython",
    "version": 3
   },
   "file_extension": ".py",
   "mimetype": "text/x-python",
   "name": "python",
   "nbconvert_exporter": "python",
   "pygments_lexer": "ipython3",
   "version": "3.12.12"
  }
 },
 "nbformat": 4,
 "nbformat_minor": 5
}
