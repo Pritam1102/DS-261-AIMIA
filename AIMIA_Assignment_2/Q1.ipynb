{
 "cells": [
  {
   "cell_type": "code",
   "execution_count": 2,
   "id": "4f60ebde",
   "metadata": {},
   "outputs": [],
   "source": [
    "import numpy as np\n",
    "import matplotlib.pyplot as plt \n",
    "import cv2\n",
    "from PIL import Image\n",
    "from sklearn.naive_bayes import GaussianNB\n",
    "import os\n",
    "from sklearn.metrics import f1_score\n",
    "from sklearn.model_selection import train_test_split\n",
    "from sklearn.metrics import confusion_matrix\n",
    "from sklearn.ensemble import RandomForestClassifier\n",
    "from sklearn.neighbors import KNeighborsClassifier\n",
    "import torch\n",
    "import torch.nn as nn\n",
    "import tqdm\n",
    "import torch.nn.functional as F\n",
    "import torch.optim as optim\n",
    "from torch.utils.data import DataLoader, TensorDataset\n",
    "import torchvision.transforms as transforms"
   ]
  },
  {
   "cell_type": "code",
   "execution_count": 3,
   "id": "830c3c4f",
   "metadata": {},
   "outputs": [],
   "source": [
    "# Training data\n",
    "training_images = []\n",
    "training_masks = []\n",
    "train_dir = r\"/home/pritamk/AIMIA/DS-261-AIMIA/AIMIA_Assignment_2/dataset_1/train\"\n",
    "\n",
    "for folder in os.listdir(train_dir):\n",
    "    subfolder_path = os.path.join(train_dir, folder)\n",
    "    if os.path.isdir(subfolder_path):\n",
    "        img_folder = os.path.join(subfolder_path, \"img\")\n",
    "        mask_folder = os.path.join(subfolder_path, \"mask\")\n",
    "        if os.path.isdir(img_folder) and os.path.isdir(mask_folder):\n",
    "            for file_name in os.listdir(img_folder):\n",
    "                img_path = os.path.join(img_folder, file_name)\n",
    "                mask_path = os.path.join(mask_folder, file_name)  # same name in mask folder\n",
    "                if os.path.isfile(img_path) and os.path.isfile(mask_path):\n",
    "                    try:\n",
    "                        img = Image.open(img_path)\n",
    "                        training_images.append(np.array(img))\n",
    "                        mask = Image.open(mask_path)\n",
    "                        training_masks.append(np.array(mask))\n",
    "                    except Exception as e:\n",
    "                        print(f\"Could not open {img_path} or {mask_path}: {e}\")\n",
    "\n",
    "# Test data\n",
    "test_images = []\n",
    "test_masks = []\n",
    "test_dir = r\"/home/pritamk/AIMIA/DS-261-AIMIA/AIMIA_Assignment_2/dataset_1/test\"\n",
    "\n",
    "for folder in os.listdir(test_dir):\n",
    "    subfolder_path = os.path.join(test_dir, folder)\n",
    "    if os.path.isdir(subfolder_path):\n",
    "        img_folder = os.path.join(subfolder_path, \"img\")\n",
    "        mask_folder = os.path.join(subfolder_path, \"mask\")\n",
    "        if os.path.isdir(img_folder) and os.path.isdir(mask_folder):\n",
    "            for file_name in os.listdir(img_folder):\n",
    "                img_path = os.path.join(img_folder, file_name)\n",
    "                mask_path = os.path.join(mask_folder, file_name)\n",
    "                if os.path.isfile(img_path) and os.path.isfile(mask_path):\n",
    "                    try:\n",
    "                        img = Image.open(img_path)\n",
    "                        test_images.append(np.array(img))\n",
    "                        mask = Image.open(mask_path)\n",
    "                        test_masks.append(np.array(mask))\n",
    "                    except Exception as e:\n",
    "                        print(f\"Could not open {img_path} or {mask_path}: {e}\")\n"
   ]
  },
  {
   "cell_type": "code",
   "execution_count": 4,
   "id": "f728193f",
   "metadata": {},
   "outputs": [
    {
     "name": "stdout",
     "output_type": "stream",
     "text": [
      "Shape of training images: (1847, 128, 128)\n",
      "Shape of training masks: (1847, 128, 128)\n",
      "Shape of test images: (947, 128, 128)\n",
      "Shape of test masks: (947, 128, 128)\n",
      "Maximum value in training images: 255\n",
      "Maximum value in test images: 255\n",
      "Maximum value in training masks: 1.0\n",
      "Maximum value in test masks: 1.0\n"
     ]
    }
   ],
   "source": [
    "training_images = np.array(training_images)\n",
    "training_masks = np.array(training_masks)\n",
    "training_masks = (training_masks > 0).astype(np.float32)\n",
    "test_images = np.array(test_images)\n",
    "test_masks = np.array(test_masks)\n",
    "test_masks = (test_masks > 0).astype(np.float32)\n",
    "print(f\"Shape of training images: {training_images.shape}\")\n",
    "print(f\"Shape of training masks: {training_masks.shape}\")\n",
    "print(f\"Shape of test images: {test_images.shape}\")\n",
    "print(f\"Shape of test masks: {test_masks.shape}\")\n",
    "print(f\"Maximum value in training images: {np.max(training_images)}\")\n",
    "print(f\"Maximum value in test images: {np.max(test_images)}\")\n",
    "print(f\"Maximum value in training masks: {np.max(training_masks)}\")\n",
    "print(f\"Maximum value in test masks: {np.max(test_masks)}\")"
   ]
  },
  {
   "cell_type": "code",
   "execution_count": 5,
   "id": "c5c2284d",
   "metadata": {},
   "outputs": [],
   "source": [
    "def normalize_image(images, method='zscore'):\n",
    "    normalized = np.empty_like(images, dtype=np.float32)\n",
    "    for i in range(images.shape[0]):\n",
    "        img = images[i]\n",
    "        if method == 'minmax':\n",
    "            min_val, max_val = np.min(img), np.max(img)\n",
    "            if max_val != min_val:\n",
    "                normalized[i] = (img - min_val) / (max_val - min_val)\n",
    "            else:\n",
    "                normalized[i] = img  \n",
    "        elif method == 'zscore':\n",
    "            mean, std = np.mean(img), np.std(img)\n",
    "            if std != 0:\n",
    "                normalized[i] = (img - mean) / std\n",
    "            else:\n",
    "                normalized[i] = img  \n",
    "        else:\n",
    "            raise ValueError(\"Method must be 'minmax' or 'zscore'\")\n",
    "    return normalized\n"
   ]
  },
  {
   "cell_type": "code",
   "execution_count": 6,
   "id": "37c4bd97",
   "metadata": {},
   "outputs": [
    {
     "data": {
      "image/png": "[encoded data removed]",
      "text/plain": [
       "<Figure size 600x400 with 4 Axes>"
      ]
     },
     "metadata": {},
     "output_type": "display_data"
    }
   ],
   "source": [
    "plt.figure(figsize=(6,4))\n",
    "plt.subplot(2,2,1)\n",
    "plt.imshow(training_images[0])\n",
    "plt.title(\"Sample Image\")\n",
    "plt.axis('off')\n",
    "plt.tight_layout()\n",
    "plt.subplot(2,2,2)\n",
    "plt.imshow(training_masks[0], cmap='gray')\n",
    "plt.title(\"Sample Mask\")\n",
    "plt.axis('off')\n",
    "plt.tight_layout()\n",
    "plt.subplot(2,2,3)\n",
    "plt.imshow(test_images[0])\n",
    "plt.title(\"Sample Test Image\")\n",
    "plt.axis('off')\n",
    "plt.tight_layout()\n",
    "plt.subplot(2,2,4)\n",
    "plt.imshow(test_masks[0])\n",
    "plt.title(\"Sample Test Mask\")\n",
    "plt.axis('off')\n",
    "plt.tight_layout()\n",
    "plt.show()"
   ]
  },
  {
   "cell_type": "code",
   "execution_count": 7,
   "id": "e616aa31",
   "metadata": {},
   "outputs": [],
   "source": [
    "train_images_norm = normalize_image(training_images, method='minmax')\n",
    "test_images_norm = normalize_image(test_images, method='minmax')"
   ]
  },
  {
   "cell_type": "code",
   "execution_count": 8,
   "id": "639cbbc9",
   "metadata": {},
   "outputs": [
    {
     "name": "stdout",
     "output_type": "stream",
     "text": [
      "Shape of X_train: (30261248, 1)\n",
      "Shape of y_train: (30261248,)\n",
      "Shape of X_test: (15515648, 1)\n",
      "Shape of y_test: (15515648,)\n",
      "Counts of unique values in y_train: (array([0., 1.], dtype=float32), array([30092814,   168434]))\n"
     ]
    }
   ],
   "source": [
    "X_train = train_images_norm.reshape(-1, 1)  # Pixel intensities\n",
    "y_train = training_masks.reshape(-1)     # Binary labels (0 or 1)\n",
    "X_test = test_images_norm.reshape(-1, 1)  # Pixel intensities\n",
    "y_test = test_masks.reshape(-1)     # Binary labels (0 or 1)\n",
    "print(f\"Shape of X_train: {X_train.shape}\")\n",
    "print(f\"Shape of y_train: {y_train.shape}\")\n",
    "print(f\"Shape of X_test: {X_test.shape}\")\n",
    "print(f\"Shape of y_test: {y_test.shape}\")\n",
    "print(f\"Counts of unique values in y_train: {np.unique(y_train, return_counts=True)}\")"
   ]
  },
  {
   "cell_type": "code",
   "execution_count": 9,
   "id": "7273e5e8",
   "metadata": {},
   "outputs": [
    {
     "data": {
      "text/html": [
       "<style>#sk-container-id-1 {\n",
       "  /* Definition of color scheme common for light and dark mode */\n",
       "  --sklearn-color-text: #000;\n",
       "  --sklearn-color-text-muted: #666;\n",
       "  --sklearn-color-line: gray;\n",
       "  /* Definition of color scheme for unfitted estimators */\n",
       "  --sklearn-color-unfitted-level-0: #fff5e6;\n",
       "  --sklearn-color-unfitted-level-1: #f6e4d2;\n",
       "  --sklearn-color-unfitted-level-2: #ffe0b3;\n",
       "  --sklearn-color-unfitted-level-3: chocolate;\n",
       "  /* Definition of color scheme for fitted estimators */\n",
       "  --sklearn-color-fitted-level-0: #f0f8ff;\n",
       "  --sklearn-color-fitted-level-1: #d4ebff;\n",
       "  --sklearn-color-fitted-level-2: #b3dbfd;\n",
       "  --sklearn-color-fitted-level-3: cornflowerblue;\n",
       "\n",
       "  /* Specific color for light theme */\n",
       "  --sklearn-color-text-on-default-background: var(--sg-text-color, var(--theme-code-foreground, var(--jp-content-font-color1, black)));\n",
       "  --sklearn-color-background: var(--sg-background-color, var(--theme-background, var(--jp-layout-color0, white)));\n",
       "  --sklearn-color-border-box: var(--sg-text-color, var(--theme-code-foreground, var(--jp-content-font-color1, black)));\n",
       "  --sklearn-color-icon: #696969;\n",
       "\n",
       "  @media (prefers-color-scheme: dark) {\n",
       "    /* Redefinition of color scheme for dark theme */\n",
       "    --sklearn-color-text-on-default-background: var(--sg-text-color, var(--theme-code-foreground, var(--jp-content-font-color1, white)));\n",
       "    --sklearn-color-background: var(--sg-background-color, var(--theme-background, var(--jp-layout-color0, #111)));\n",
       "    --sklearn-color-border-box: var(--sg-text-color, var(--theme-code-foreground, var(--jp-content-font-color1, white)));\n",
       "    --sklearn-color-icon: #878787;\n",
       "  }\n",
       "}\n",
       "\n",
       "#sk-container-id-1 {\n",
       "  color: var(--sklearn-color-text);\n",
       "}\n",
       "\n",
       "#sk-container-id-1 pre {\n",
       "  padding: 0;\n",
       "}\n",
       "\n",
       "#sk-container-id-1 input.sk-hidden--visually {\n",
       "  border: 0;\n",
       "  clip: rect(1px 1px 1px 1px);\n",
       "  clip: rect(1px, 1px, 1px, 1px);\n",
       "  height: 1px;\n",
       "  margin: -1px;\n",
       "  overflow: hidden;\n",
       "  padding: 0;\n",
       "  position: absolute;\n",
       "  width: 1px;\n",
       "}\n",
       "\n",
       "#sk-container-id-1 div.sk-dashed-wrapped {\n",
       "  border: 1px dashed var(--sklearn-color-line);\n",
       "  margin: 0 0.4em 0.5em 0.4em;\n",
       "  box-sizing: border-box;\n",
       "  padding-bottom: 0.4em;\n",
       "  background-color: var(--sklearn-color-background);\n",
       "}\n",
       "\n",
       "#sk-container-id-1 div.sk-container {\n",
       "  /* jupyter's `normalize.less` sets `[hidden] { display: none; }`\n",
       "     but bootstrap.min.css set `[hidden] { display: none !important; }`\n",
       "     so we also need the `!important` here to be able to override the\n",
       "     default hidden behavior on the sphinx rendered scikit-learn.org.\n",
       "     See: https://github.com/scikit-learn/scikit-learn/issues/21755 */\n",
       "  display: inline-block !important;\n",
       "  position: relative;\n",
       "}\n",
       "\n",
       "#sk-container-id-1 div.sk-text-repr-fallback {\n",
       "  display: none;\n",
       "}\n",
       "\n",
       "div.sk-parallel-item,\n",
       "div.sk-serial,\n",
       "div.sk-item {\n",
       "  /* draw centered vertical line to link estimators */\n",
       "  background-image: linear-gradient(var(--sklearn-color-text-on-default-background), var(--sklearn-color-text-on-default-background));\n",
       "  background-size: 2px 100%;\n",
       "  background-repeat: no-repeat;\n",
       "  background-position: center center;\n",
       "}\n",
       "\n",
       "/* Parallel-specific style estimator block */\n",
       "\n",
       "#sk-container-id-1 div.sk-parallel-item::after {\n",
       "  content: \"\";\n",
       "  width: 100%;\n",
       "  border-bottom: 2px solid var(--sklearn-color-text-on-default-background);\n",
       "  flex-grow: 1;\n",
       "}\n",
       "\n",
       "#sk-container-id-1 div.sk-parallel {\n",
       "  display: flex;\n",
       "  align-items: stretch;\n",
       "  justify-content: center;\n",
       "  background-color: var(--sklearn-color-background);\n",
       "  position: relative;\n",
       "}\n",
       "\n",
       "#sk-container-id-1 div.sk-parallel-item {\n",
       "  display: flex;\n",
       "  flex-direction: column;\n",
       "}\n",
       "\n",
       "#sk-container-id-1 div.sk-parallel-item:first-child::after {\n",
       "  align-self: flex-end;\n",
       "  width: 50%;\n",
       "}\n",
       "\n",
       "#sk-container-id-1 div.sk-parallel-item:last-child::after {\n",
       "  align-self: flex-start;\n",
       "  width: 50%;\n",
       "}\n",
       "\n",
       "#sk-container-id-1 div.sk-parallel-item:only-child::after {\n",
       "  width: 0;\n",
       "}\n",
       "\n",
       "/* Serial-specific style estimator block */\n",
       "\n",
       "#sk-container-id-1 div.sk-serial {\n",
       "  display: flex;\n",
       "  flex-direction: column;\n",
       "  align-items: center;\n",
       "  background-color: var(--sklearn-color-background);\n",
       "  padding-right: 1em;\n",
       "  padding-left: 1em;\n",
       "}\n",
       "\n",
       "\n",
       "/* Toggleable style: style used for estimator/Pipeline/ColumnTransformer box that is\n",
       "clickable and can be expanded/collapsed.\n",
       "- Pipeline and ColumnTransformer use this feature and define the default style\n",
       "- Estimators will overwrite some part of the style using the `sk-estimator` class\n",
       "*/\n",
       "\n",
       "/* Pipeline and ColumnTransformer style (default) */\n",
       "\n",
       "#sk-container-id-1 div.sk-toggleable {\n",
       "  /* Default theme specific background. It is overwritten whether we have a\n",
       "  specific estimator or a Pipeline/ColumnTransformer */\n",
       "  background-color: var(--sklearn-color-background);\n",
       "}\n",
       "\n",
       "/* Toggleable label */\n",
       "#sk-container-id-1 label.sk-toggleable__label {\n",
       "  cursor: pointer;\n",
       "  display: flex;\n",
       "  width: 100%;\n",
       "  margin-bottom: 0;\n",
       "  padding: 0.5em;\n",
       "  box-sizing: border-box;\n",
       "  text-align: center;\n",
       "  align-items: start;\n",
       "  justify-content: space-between;\n",
       "  gap: 0.5em;\n",
       "}\n",
       "\n",
       "#sk-container-id-1 label.sk-toggleable__label .caption {\n",
       "  font-size: 0.6rem;\n",
       "  font-weight: lighter;\n",
       "  color: var(--sklearn-color-text-muted);\n",
       "}\n",
       "\n",
       "#sk-container-id-1 label.sk-toggleable__label-arrow:before {\n",
       "  /* Arrow on the left of the label */\n",
       "  content: \"▸\";\n",
       "  float: left;\n",
       "  margin-right: 0.25em;\n",
       "  color: var(--sklearn-color-icon);\n",
       "}\n",
       "\n",
       "#sk-container-id-1 label.sk-toggleable__label-arrow:hover:before {\n",
       "  color: var(--sklearn-color-text);\n",
       "}\n",
       "\n",
       "/* Toggleable content - dropdown */\n",
       "\n",
       "#sk-container-id-1 div.sk-toggleable__content {\n",
       "  display: none;\n",
       "  text-align: left;\n",
       "  /* unfitted */\n",
       "  background-color: var(--sklearn-color-unfitted-level-0);\n",
       "}\n",
       "\n",
       "#sk-container-id-1 div.sk-toggleable__content.fitted {\n",
       "  /* fitted */\n",
       "  background-color: var(--sklearn-color-fitted-level-0);\n",
       "}\n",
       "\n",
       "#sk-container-id-1 div.sk-toggleable__content pre {\n",
       "  margin: 0.2em;\n",
       "  border-radius: 0.25em;\n",
       "  color: var(--sklearn-color-text);\n",
       "  /* unfitted */\n",
       "  background-color: var(--sklearn-color-unfitted-level-0);\n",
       "}\n",
       "\n",
       "#sk-container-id-1 div.sk-toggleable__content.fitted pre {\n",
       "  /* unfitted */\n",
       "  background-color: var(--sklearn-color-fitted-level-0);\n",
       "}\n",
       "\n",
       "#sk-container-id-1 input.sk-toggleable__control:checked~div.sk-toggleable__content {\n",
       "  /* Expand drop-down */\n",
       "  display: block;\n",
       "  width: 100%;\n",
       "  overflow: visible;\n",
       "}\n",
       "\n",
       "#sk-container-id-1 input.sk-toggleable__control:checked~label.sk-toggleable__label-arrow:before {\n",
       "  content: \"▾\";\n",
       "}\n",
       "\n",
       "/* Pipeline/ColumnTransformer-specific style */\n",
       "\n",
       "#sk-container-id-1 div.sk-label input.sk-toggleable__control:checked~label.sk-toggleable__label {\n",
       "  color: var(--sklearn-color-text);\n",
       "  background-color: var(--sklearn-color-unfitted-level-2);\n",
       "}\n",
       "\n",
       "#sk-container-id-1 div.sk-label.fitted input.sk-toggleable__control:checked~label.sk-toggleable__label {\n",
       "  background-color: var(--sklearn-color-fitted-level-2);\n",
       "}\n",
       "\n",
       "/* Estimator-specific style */\n",
       "\n",
       "/* Colorize estimator box */\n",
       "#sk-container-id-1 div.sk-estimator input.sk-toggleable__control:checked~label.sk-toggleable__label {\n",
       "  /* unfitted */\n",
       "  background-color: var(--sklearn-color-unfitted-level-2);\n",
       "}\n",
       "\n",
       "#sk-container-id-1 div.sk-estimator.fitted input.sk-toggleable__control:checked~label.sk-toggleable__label {\n",
       "  /* fitted */\n",
       "  background-color: var(--sklearn-color-fitted-level-2);\n",
       "}\n",
       "\n",
       "#sk-container-id-1 div.sk-label label.sk-toggleable__label,\n",
       "#sk-container-id-1 div.sk-label label {\n",
       "  /* The background is the default theme color */\n",
       "  color: var(--sklearn-color-text-on-default-background);\n",
       "}\n",
       "\n",
       "/* On hover, darken the color of the background */\n",
       "#sk-container-id-1 div.sk-label:hover label.sk-toggleable__label {\n",
       "  color: var(--sklearn-color-text);\n",
       "  background-color: var(--sklearn-color-unfitted-level-2);\n",
       "}\n",
       "\n",
       "/* Label box, darken color on hover, fitted */\n",
       "#sk-container-id-1 div.sk-label.fitted:hover label.sk-toggleable__label.fitted {\n",
       "  color: var(--sklearn-color-text);\n",
       "  background-color: var(--sklearn-color-fitted-level-2);\n",
       "}\n",
       "\n",
       "/* Estimator label */\n",
       "\n",
       "#sk-container-id-1 div.sk-label label {\n",
       "  font-family: monospace;\n",
       "  font-weight: bold;\n",
       "  display: inline-block;\n",
       "  line-height: 1.2em;\n",
       "}\n",
       "\n",
       "#sk-container-id-1 div.sk-label-container {\n",
       "  text-align: center;\n",
       "}\n",
       "\n",
       "/* Estimator-specific */\n",
       "#sk-container-id-1 div.sk-estimator {\n",
       "  font-family: monospace;\n",
       "  border: 1px dotted var(--sklearn-color-border-box);\n",
       "  border-radius: 0.25em;\n",
       "  box-sizing: border-box;\n",
       "  margin-bottom: 0.5em;\n",
       "  /* unfitted */\n",
       "  background-color: var(--sklearn-color-unfitted-level-0);\n",
       "}\n",
       "\n",
       "#sk-container-id-1 div.sk-estimator.fitted {\n",
       "  /* fitted */\n",
       "  background-color: var(--sklearn-color-fitted-level-0);\n",
       "}\n",
       "\n",
       "/* on hover */\n",
       "#sk-container-id-1 div.sk-estimator:hover {\n",
       "  /* unfitted */\n",
       "  background-color: var(--sklearn-color-unfitted-level-2);\n",
       "}\n",
       "\n",
       "#sk-container-id-1 div.sk-estimator.fitted:hover {\n",
       "  /* fitted */\n",
       "  background-color: var(--sklearn-color-fitted-level-2);\n",
       "}\n",
       "\n",
       "/* Specification for estimator info (e.g. \"i\" and \"?\") */\n",
       "\n",
       "/* Common style for \"i\" and \"?\" */\n",
       "\n",
       ".sk-estimator-doc-link,\n",
       "a:link.sk-estimator-doc-link,\n",
       "a:visited.sk-estimator-doc-link {\n",
       "  float: right;\n",
       "  font-size: smaller;\n",
       "  line-height: 1em;\n",
       "  font-family: monospace;\n",
       "  background-color: var(--sklearn-color-background);\n",
       "  border-radius: 1em;\n",
       "  height: 1em;\n",
       "  width: 1em;\n",
       "  text-decoration: none !important;\n",
       "  margin-left: 0.5em;\n",
       "  text-align: center;\n",
       "  /* unfitted */\n",
       "  border: var(--sklearn-color-unfitted-level-1) 1pt solid;\n",
       "  color: var(--sklearn-color-unfitted-level-1);\n",
       "}\n",
       "\n",
       ".sk-estimator-doc-link.fitted,\n",
       "a:link.sk-estimator-doc-link.fitted,\n",
       "a:visited.sk-estimator-doc-link.fitted {\n",
       "  /* fitted */\n",
       "  border: var(--sklearn-color-fitted-level-1) 1pt solid;\n",
       "  color: var(--sklearn-color-fitted-level-1);\n",
       "}\n",
       "\n",
       "/* On hover */\n",
       "div.sk-estimator:hover .sk-estimator-doc-link:hover,\n",
       ".sk-estimator-doc-link:hover,\n",
       "div.sk-label-container:hover .sk-estimator-doc-link:hover,\n",
       ".sk-estimator-doc-link:hover {\n",
       "  /* unfitted */\n",
       "  background-color: var(--sklearn-color-unfitted-level-3);\n",
       "  color: var(--sklearn-color-background);\n",
       "  text-decoration: none;\n",
       "}\n",
       "\n",
       "div.sk-estimator.fitted:hover .sk-estimator-doc-link.fitted:hover,\n",
       ".sk-estimator-doc-link.fitted:hover,\n",
       "div.sk-label-container:hover .sk-estimator-doc-link.fitted:hover,\n",
       ".sk-estimator-doc-link.fitted:hover {\n",
       "  /* fitted */\n",
       "  background-color: var(--sklearn-color-fitted-level-3);\n",
       "  color: var(--sklearn-color-background);\n",
       "  text-decoration: none;\n",
       "}\n",
       "\n",
       "/* Span, style for the box shown on hovering the info icon */\n",
       ".sk-estimator-doc-link span {\n",
       "  display: none;\n",
       "  z-index: 9999;\n",
       "  position: relative;\n",
       "  font-weight: normal;\n",
       "  right: .2ex;\n",
       "  padding: .5ex;\n",
       "  margin: .5ex;\n",
       "  width: min-content;\n",
       "  min-width: 20ex;\n",
       "  max-width: 50ex;\n",
       "  color: var(--sklearn-color-text);\n",
       "  box-shadow: 2pt 2pt 4pt #999;\n",
       "  /* unfitted */\n",
       "  background: var(--sklearn-color-unfitted-level-0);\n",
       "  border: .5pt solid var(--sklearn-color-unfitted-level-3);\n",
       "}\n",
       "\n",
       ".sk-estimator-doc-link.fitted span {\n",
       "  /* fitted */\n",
       "  background: var(--sklearn-color-fitted-level-0);\n",
       "  border: var(--sklearn-color-fitted-level-3);\n",
       "}\n",
       "\n",
       ".sk-estimator-doc-link:hover span {\n",
       "  display: block;\n",
       "}\n",
       "\n",
       "/* \"?\"-specific style due to the `<a>` HTML tag */\n",
       "\n",
       "#sk-container-id-1 a.estimator_doc_link {\n",
       "  float: right;\n",
       "  font-size: 1rem;\n",
       "  line-height: 1em;\n",
       "  font-family: monospace;\n",
       "  background-color: var(--sklearn-color-background);\n",
       "  border-radius: 1rem;\n",
       "  height: 1rem;\n",
       "  width: 1rem;\n",
       "  text-decoration: none;\n",
       "  /* unfitted */\n",
       "  color: var(--sklearn-color-unfitted-level-1);\n",
       "  border: var(--sklearn-color-unfitted-level-1) 1pt solid;\n",
       "}\n",
       "\n",
       "#sk-container-id-1 a.estimator_doc_link.fitted {\n",
       "  /* fitted */\n",
       "  border: var(--sklearn-color-fitted-level-1) 1pt solid;\n",
       "  color: var(--sklearn-color-fitted-level-1);\n",
       "}\n",
       "\n",
       "/* On hover */\n",
       "#sk-container-id-1 a.estimator_doc_link:hover {\n",
       "  /* unfitted */\n",
       "  background-color: var(--sklearn-color-unfitted-level-3);\n",
       "  color: var(--sklearn-color-background);\n",
       "  text-decoration: none;\n",
       "}\n",
       "\n",
       "#sk-container-id-1 a.estimator_doc_link.fitted:hover {\n",
       "  /* fitted */\n",
       "  background-color: var(--sklearn-color-fitted-level-3);\n",
       "}\n",
       "\n",
       ".estimator-table summary {\n",
       "    padding: .5rem;\n",
       "    font-family: monospace;\n",
       "    cursor: pointer;\n",
       "}\n",
       "\n",
       ".estimator-table details[open] {\n",
       "    padding-left: 0.1rem;\n",
       "    padding-right: 0.1rem;\n",
       "    padding-bottom: 0.3rem;\n",
       "}\n",
       "\n",
       ".estimator-table .parameters-table {\n",
       "    margin-left: auto !important;\n",
       "    margin-right: auto !important;\n",
       "}\n",
       "\n",
       ".estimator-table .parameters-table tr:nth-child(odd) {\n",
       "    background-color: #fff;\n",
       "}\n",
       "\n",
       ".estimator-table .parameters-table tr:nth-child(even) {\n",
       "    background-color: #f6f6f6;\n",
       "}\n",
       "\n",
       ".estimator-table .parameters-table tr:hover {\n",
       "    background-color: #e0e0e0;\n",
       "}\n",
       "\n",
       ".estimator-table table td {\n",
       "    border: 1px solid rgba(106, 105, 104, 0.232);\n",
       "}\n",
       "\n",
       ".user-set td {\n",
       "    color:rgb(255, 94, 0);\n",
       "    text-align: left;\n",
       "}\n",
       "\n",
       ".user-set td.value pre {\n",
       "    color:rgb(255, 94, 0) !important;\n",
       "    background-color: transparent !important;\n",
       "}\n",
       "\n",
       ".default td {\n",
       "    color: black;\n",
       "    text-align: left;\n",
       "}\n",
       "\n",
       ".user-set td i,\n",
       ".default td i {\n",
       "    color: black;\n",
       "}\n",
       "\n",
       ".copy-paste-icon {\n",
       "    background-image: url(data:image/svg+xml;base64,PHN2ZyB4bWxucz0iaHR0cDovL3d3dy53My5vcmcvMjAwMC9zdmciIHZpZXdCb3g9IjAgMCA0NDggNTEyIj48IS0tIUZvbnQgQXdlc29tZSBGcmVlIDYuNy4yIGJ5IEBmb250YXdlc29tZSAtIGh0dHBzOi8vZm9udGF3ZXNvbWUuY29tIExpY2Vuc2UgLSBodHRwczovL2ZvbnRhd2Vzb21lLmNvbS9saWNlbnNlL2ZyZWUgQ29weXJpZ2h0IDIwMjUgRm9udGljb25zLCBJbmMuLS0+PHBhdGggZD0iTTIwOCAwTDMzMi4xIDBjMTIuNyAwIDI0LjkgNS4xIDMzLjkgMTQuMWw2Ny45IDY3LjljOSA5IDE0LjEgMjEuMiAxNC4xIDMzLjlMNDQ4IDMzNmMwIDI2LjUtMjEuNSA0OC00OCA0OGwtMTkyIDBjLTI2LjUgMC00OC0yMS41LTQ4LTQ4bDAtMjg4YzAtMjYuNSAyMS41LTQ4IDQ4LTQ4ek00OCAxMjhsODAgMCAwIDY0LTY0IDAgMCAyNTYgMTkyIDAgMC0zMiA2NCAwIDAgNDhjMCAyNi41LTIxLjUgNDgtNDggNDhMNDggNTEyYy0yNi41IDAtNDgtMjEuNS00OC00OEwwIDE3NmMwLTI2LjUgMjEuNS00OCA0OC00OHoiLz48L3N2Zz4=);\n",
       "    background-repeat: no-repeat;\n",
       "    background-size: 14px 14px;\n",
       "    background-position: 0;\n",
       "    display: inline-block;\n",
       "    width: 14px;\n",
       "    height: 14px;\n",
       "    cursor: pointer;\n",
       "}\n",
       "</style><body><div id=\"sk-container-id-1\" class=\"sk-top-container\"><div class=\"sk-text-repr-fallback\"><pre>GaussianNB()</pre><b>In a Jupyter environment, please rerun this cell to show the HTML representation or trust the notebook. <br />On GitHub, the HTML representation is unable to render, please try loading this page with nbviewer.org.</b></div><div class=\"sk-container\" hidden><div class=\"sk-item\"><div class=\"sk-estimator fitted sk-toggleable\"><input class=\"sk-toggleable__control sk-hidden--visually\" id=\"sk-estimator-id-1\" type=\"checkbox\" checked><label for=\"sk-estimator-id-1\" class=\"sk-toggleable__label fitted sk-toggleable__label-arrow\"><div><div>GaussianNB</div></div><div><a class=\"sk-estimator-doc-link fitted\" rel=\"noreferrer\" target=\"_blank\" href=\"https://scikit-learn.org/1.7/modules/generated/sklearn.naive_bayes.GaussianNB.html\">?<span>Documentation for GaussianNB</span></a><span class=\"sk-estimator-doc-link fitted\">i<span>Fitted</span></span></div></label><div class=\"sk-toggleable__content fitted\" data-param-prefix=\"\">\n",
       "        <div class=\"estimator-table\">\n",
       "            <details>\n",
       "                <summary>Parameters</summary>\n",
       "                <table class=\"parameters-table\">\n",
       "                  <tbody>\n",
       "                    \n",
       "        <tr class=\"default\">\n",
       "            <td><i class=\"copy-paste-icon\"\n",
       "                 onclick=\"copyToClipboard('priors',\n",
       "                          this.parentElement.nextElementSibling)\"\n",
       "            ></i></td>\n",
       "            <td class=\"param\">priors&nbsp;</td>\n",
       "            <td class=\"value\">None</td>\n",
       "        </tr>\n",
       "    \n",
       "\n",
       "        <tr class=\"default\">\n",
       "            <td><i class=\"copy-paste-icon\"\n",
       "                 onclick=\"copyToClipboard('var_smoothing',\n",
       "                          this.parentElement.nextElementSibling)\"\n",
       "            ></i></td>\n",
       "            <td class=\"param\">var_smoothing&nbsp;</td>\n",
       "            <td class=\"value\">1e-09</td>\n",
       "        </tr>\n",
       "    \n",
       "                  </tbody>\n",
       "                </table>\n",
       "            </details>\n",
       "        </div>\n",
       "    </div></div></div></div></div><script>function copyToClipboard(text, element) {\n",
       "    // Get the parameter prefix from the closest toggleable content\n",
       "    const toggleableContent = element.closest('.sk-toggleable__content');\n",
       "    const paramPrefix = toggleableContent ? toggleableContent.dataset.paramPrefix : '';\n",
       "    const fullParamName = paramPrefix ? `${paramPrefix}${text}` : text;\n",
       "\n",
       "    const originalStyle = element.style;\n",
       "    const computedStyle = window.getComputedStyle(element);\n",
       "    const originalWidth = computedStyle.width;\n",
       "    const originalHTML = element.innerHTML.replace('Copied!', '');\n",
       "\n",
       "    navigator.clipboard.writeText(fullParamName)\n",
       "        .then(() => {\n",
       "            element.style.width = originalWidth;\n",
       "            element.style.color = 'green';\n",
       "            element.innerHTML = \"Copied!\";\n",
       "\n",
       "            setTimeout(() => {\n",
       "                element.innerHTML = originalHTML;\n",
       "                element.style = originalStyle;\n",
       "            }, 2000);\n",
       "        })\n",
       "        .catch(err => {\n",
       "            console.error('Failed to copy:', err);\n",
       "            element.style.color = 'red';\n",
       "            element.innerHTML = \"Failed!\";\n",
       "            setTimeout(() => {\n",
       "                element.innerHTML = originalHTML;\n",
       "                element.style = originalStyle;\n",
       "            }, 2000);\n",
       "        });\n",
       "    return false;\n",
       "}\n",
       "\n",
       "document.querySelectorAll('.fa-regular.fa-copy').forEach(function(element) {\n",
       "    const toggleableContent = element.closest('.sk-toggleable__content');\n",
       "    const paramPrefix = toggleableContent ? toggleableContent.dataset.paramPrefix : '';\n",
       "    const paramName = element.parentElement.nextElementSibling.textContent.trim();\n",
       "    const fullParamName = paramPrefix ? `${paramPrefix}${paramName}` : paramName;\n",
       "\n",
       "    element.setAttribute('title', fullParamName);\n",
       "});\n",
       "</script></body>"
      ],
      "text/plain": [
       "GaussianNB()"
      ]
     },
     "execution_count": 9,
     "metadata": {},
     "output_type": "execute_result"
    }
   ],
   "source": [
    "clf = GaussianNB()\n",
    "clf.fit(X_train, y_train)\n"
   ]
  },
  {
   "cell_type": "code",
   "execution_count": 10,
   "id": "639e249c",
   "metadata": {},
   "outputs": [
    {
     "name": "stdout",
     "output_type": "stream",
     "text": [
      "predicted masks shape (947, 128, 128)\n"
     ]
    }
   ],
   "source": [
    "X_test = test_images_norm.reshape(-1, 1)\n",
    "y_pred = clf.predict(X_test)\n",
    "predicted_masks = y_pred.reshape(test_images.shape)\n",
    "print(f\"predicted masks shape {predicted_masks.shape}\")"
   ]
  },
  {
   "cell_type": "code",
   "execution_count": 11,
   "id": "a0e906d4",
   "metadata": {},
   "outputs": [],
   "source": [
    "def dice_score(y_true, y_pred):\n",
    "    intersection = np.sum(y_true * y_pred) # Element-wise multiplication and sum. If y_true and y_pred are binary masks, this gives the number of pixels that are predicted as positive and are actually positive.\n",
    "    total = np.sum(y_true) + np.sum(y_pred) # total number of positive pixels in both masks\n",
    "    if total == 0:\n",
    "        return 1.0  \n",
    "    return 2. * intersection / total\n",
    "\n",
    "def lesion_wise_accuracy(y_true, y_pred):\n",
    "    true_lesions = np.unique(y_true) # Unique lesion labels in the true mask.\n",
    "    pred_lesions = np.unique(y_pred) # Unique lesion labels in the predicted mask\n",
    "    \n",
    "    true_lesions = true_lesions[true_lesions != 0] # Exclude background (0)\n",
    "    pred_lesions = pred_lesions[pred_lesions != 0] \n",
    "    \n",
    "    true_positive = 0\n",
    "    false_negative = len(true_lesions)\n",
    "    false_positive = len(pred_lesions)\n",
    "    \n",
    "    for lesion in true_lesions:\n",
    "        if lesion in pred_lesions:\n",
    "            true_positive += 1\n",
    "            false_negative -= 1\n",
    "            false_positive -= 1\n",
    "    \n",
    "    if (true_positive + false_negative) == 0:\n",
    "        sensitivity = 1.0\n",
    "    else:\n",
    "        sensitivity = true_positive / (true_positive + false_negative) # Recall or Sensitivity\n",
    "    \n",
    "    if (true_positive + false_positive) == 0:\n",
    "        precision = 1.0\n",
    "    else:\n",
    "        precision = true_positive / (true_positive + false_positive)\n",
    "    \n",
    "    if (precision + sensitivity) == 0:\n",
    "        f1 = 1.0\n",
    "    else:\n",
    "        f1 = 2 * (precision * sensitivity) / (precision + sensitivity) # F1 Score(Lesion wise accuracy)\n",
    "    \n",
    "    return f1\n"
   ]
  },
  {
   "cell_type": "code",
   "execution_count": 11,
   "id": "bf354a07",
   "metadata": {},
   "outputs": [
    {
     "name": "stdout",
     "output_type": "stream",
     "text": [
      "Mean Dice Score for Naive Bayes: 0.5016\n",
      "Mean F1 Score for Naive Bayes: 0.5016\n",
      "Mean Lesion-wise Accuracy for Naive Bayes: 0.5016\n"
     ]
    }
   ],
   "source": [
    "# Evaluate on each test sample\n",
    "dice_scores_nb = []\n",
    "f1_scores_nb = []\n",
    "lesion_accuracies_nb = []\n",
    "\n",
    "for i in range(test_images.shape[0]):\n",
    "    true = test_masks[i].flatten()\n",
    "    pred = predicted_masks[i].flatten()\n",
    "    dice_scores_nb.append(dice_score(true, pred))\n",
    "    f1 = f1_score(true, pred, zero_division=1)\n",
    "    f1_scores_nb.append(f1)\n",
    "    lesion_accuracies_nb.append(lesion_wise_accuracy(test_masks[i], predicted_masks[i]))\n",
    "\n",
    "print(f\"Mean Dice Score for Naive Bayes: {np.mean(dice_scores_nb):.4f}\")\n",
    "print(f\"Mean F1 Score for Naive Bayes: {np.mean(f1_scores_nb):.4f}\")\n",
    "print(f\"Mean Lesion-wise Accuracy for Naive Bayes: {np.mean(lesion_accuracies_nb):.4f}\")"
   ]
  },
  {
   "cell_type": "markdown",
   "id": "d6b56dc8",
   "metadata": {},
   "source": [
    "### K-Nearest Neighbour"
   ]
  },
  {
   "cell_type": "code",
   "execution_count": 12,
   "id": "2a8702a8",
   "metadata": {},
   "outputs": [
    {
     "name": "stdout",
     "output_type": "stream",
     "text": [
      "Shape of sampled X_train_NB: (1000, 1)\n"
     ]
    }
   ],
   "source": [
    "def sample_data(X, y, sample_size=1000):\n",
    "    np.random.seed(42)\n",
    "    class_0_indices = np.where(y == 0)[0]\n",
    "    class_1_indices = np.where(y == 1)[0]\n",
    "    n_class_0 = sample_size // 2\n",
    "    n_class_1 = sample_size - n_class_0\n",
    "    sample_0 = np.random.choice(class_0_indices, n_class_0, replace=False)\n",
    "    sample_1 = np.random.choice(class_1_indices, n_class_1, replace=False)\n",
    "    indices = np.concatenate([sample_0, sample_1])\n",
    "    np.random.shuffle(indices)\n",
    "    return X[indices], y[indices]\n",
    "X_train_NB, y_train_NB = sample_data(X_train, y_train, sample_size=1000)\n",
    "print(f\"Shape of sampled X_train_NB: {X_train_NB.shape}\")"
   ]
  },
  {
   "cell_type": "code",
   "execution_count": null,
   "id": "13076f9b",
   "metadata": {},
   "outputs": [],
   "source": [
    "knn = KNeighborsClassifier(n_neighbors=5, algorithm='ball_tree', leaf_size=50, n_jobs=-1, metric='euclidean')\n",
    "knn.fit(X_train_NB, y_train_NB)\n",
    "y_pred_knn = knn.predict(X_test)"
   ]
  },
  {
   "cell_type": "code",
   "execution_count": null,
   "id": "be204744",
   "metadata": {},
   "outputs": [
    {
     "name": "stdout",
     "output_type": "stream",
     "text": [
      "Mean Dice Score for KNN: 0.1200\n",
      "Mean F1 Score for KNN: 0.1200\n",
      "Mean Lesion-wise Accuracy for KNN: 19.8000\n"
     ]
    }
   ],
   "source": [
    "dice_scores_knn = []\n",
    "f1_scores_knn = []\n",
    "lesion_accuracies_knn = []\n",
    "predicted_masks_knn = y_pred_knn.reshape(test_images.shape)\n",
    "for i in range(test_images.shape[0]):\n",
    "    true = test_masks[i].flatten()\n",
    "    pred = predicted_masks_knn[i].flatten()\n",
    "    dice_scores_knn.append(dice_score(true, pred))\n",
    "    f1 = f1_score(true, pred, zero_division=1)\n",
    "    f1_scores_knn.append(f1)\n",
    "    lesion_accuracies_knn.append(lesion_wise_accuracy(test_masks[i], predicted_masks_knn[i]))\n",
    "\n",
    "print(f\"Mean Dice Score for KNN: {np.mean(dice_scores_knn):.4f}\")\n",
    "print(f\"Mean F1 Score for KNN: {np.mean(f1_scores_knn):.4f}\")\n",
    "print(f\"Mean Lesion-wise Accuracy for KNN: {np.mean(lesion_accuracies_knn):.4f}\")"
   ]
  },
  {
   "cell_type": "markdown",
   "id": "39b62a49",
   "metadata": {},
   "source": [
    "### Random Forest Classifier"
   ]
  },
  {
   "cell_type": "code",
   "execution_count": null,
   "id": "29e96db6",
   "metadata": {},
   "outputs": [],
   "source": [
    "rf = RandomForestClassifier(n_estimators=100, random_state=42)\n",
    "rf.fit(X_train_NB, y_train_NB)\n",
    "y_pred_rf = rf.predict(X_test)"
   ]
  },
  {
   "cell_type": "code",
   "execution_count": null,
   "id": "7715614d",
   "metadata": {},
   "outputs": [
    {
     "name": "stdout",
     "output_type": "stream",
     "text": [
      "Mean Dice Score for Random Forest: 0.0891\n",
      "Mean F1 Score for Random Forest: 0.0891\n",
      "Mean Lesion-wise Accuracy for Random Forest: 0.1130\n"
     ]
    }
   ],
   "source": [
    "dice_scores_rf = []\n",
    "f1_scores_rf = []\n",
    "lesion_accuracies_rf = []\n",
    "predicted_masks_rf = y_pred_rf.reshape(test_images.shape)\n",
    "for i in range(test_images.shape[0]):\n",
    "    true = test_masks[i].flatten()\n",
    "    pred = predicted_masks_rf[i].flatten()\n",
    "    dice_scores_rf.append(dice_score(true, pred))\n",
    "    f1 = f1_score(true, pred, zero_division=1)\n",
    "    f1_scores_rf.append(f1)\n",
    "    lesion_accuracies_rf.append(lesion_wise_accuracy(test_masks[i], predicted_masks_rf[i]))\n",
    "print(f\"Mean Dice Score for Random Forest: {np.mean(dice_scores_rf):.4f}\")\n",
    "print(f\"Mean F1 Score for Random Forest: {np.mean(f1_scores_rf):.4f}\")\n",
    "print(f\"Mean Lesion-wise Accuracy for Random Forest: {np.mean(lesion_accuracies_rf):.4f}\")"
   ]
  },
  {
   "cell_type": "code",
   "execution_count": 14,
   "id": "bbc071d1",
   "metadata": {},
   "outputs": [],
   "source": [
    "if torch.cuda.is_available():\n",
    "    device = torch.device(\"cuda:0\")\n",
    "else:\n",
    "    device = torch.device(\"cpu\")\n",
    "\n",
    "DEVICE = device"
   ]
  },
  {
   "cell_type": "markdown",
   "id": "8e157cb4",
   "metadata": {},
   "source": [
    "### U-net"
   ]
  },
  {
   "cell_type": "code",
   "execution_count": 15,
   "id": "f39f4741",
   "metadata": {},
   "outputs": [],
   "source": [
    "class DoubleConv(nn.Module): # Convolutional block with two convolutional layers followed by ReLU activations.\n",
    "    def __init__(self, in_channels, out_channels):\n",
    "        super().__init__()\n",
    "        self.conv_op = nn.Sequential(\n",
    "            nn.Conv2d(in_channels, out_channels,kernel_size=3, padding=1),\n",
    "            nn.BatchNorm2d(out_channels),\n",
    "            nn.ReLU(inplace=True),\n",
    "            nn.Conv2d(out_channels, out_channels, kernel_size=3, padding=1),\n",
    "            nn.BatchNorm2d(out_channels),\n",
    "            nn.ReLU(inplace=True)\n",
    "        )\n",
    "    \n",
    "    def forward(self,x):\n",
    "        return self.conv_op(x)\n",
    "    \n",
    "class DownSample(nn.Module): # Downsampling block with DoubleConv followed by MaxPooling. Returns both the output before pooling and after pooling.\n",
    "    def  __init__(self, in_channels, out_channels):\n",
    "        super().__init__()\n",
    "        self.conv = DoubleConv(in_channels, out_channels)\n",
    "        self.pool = nn.MaxPool2d(kernel_size=2, stride=2)\n",
    "    \n",
    "    def forward(self, x):\n",
    "        down = self.conv(x)\n",
    "        p = self.pool(down)\n",
    "        return down, p # p is used for next layer input and down for skip connection\n",
    "class UpSample(nn.Module): # Upsampling block with ConvTranspose2d followed by DoubleConv. Takes two inputs for skip connections.\n",
    "    def __init__(self, in_channels, out_channels):\n",
    "        super().__init__()\n",
    "        self.up = nn.ConvTranspose2d(in_channels, in_channels//2 , kernel_size=2, stride=2)\n",
    "        self.conv = DoubleConv(in_channels,out_channels)\n",
    "    \n",
    "    def forward(self,x1, x2):\n",
    "        x1 = self.up(x1)\n",
    "        x = torch.cat([x1,x2],dim=1) # Concatenate along channel dimension. x1 is the upsampled tensor and x2 is the skip connection tensor.\n",
    "        return self.conv(x)"
   ]
  },
  {
   "cell_type": "code",
   "execution_count": 16,
   "id": "ee5d82ed",
   "metadata": {},
   "outputs": [],
   "source": [
    "class UNet(nn.Module):\n",
    "    def __init__(self, in_channels, num_classes, depth=[False, False, False, False]):\n",
    "        super().__init__()\n",
    "        self.depth = depth\n",
    "\n",
    "        # Encoder depth will be controlled by depth list\n",
    "        self.down_convolution_1 = DownSample(in_channels, 64)\n",
    "        if depth[0]:\n",
    "            self.extra_conv1 = DoubleConv(64, 64) #If I want to add extra conv layers in encoder, I will not change the numbers of channels so that next layers work properly without size mismatch.\n",
    "\n",
    "        self.down_convolution_2 = DownSample(64, 128)\n",
    "        if depth[1]:\n",
    "            self.extra_conv2 = DoubleConv(128, 128)\n",
    "\n",
    "        self.down_convolution_3 = DownSample(128, 256)\n",
    "        if depth[2]:\n",
    "            self.extra_conv3 = DoubleConv(256, 256)\n",
    "\n",
    "        self.down_convolution_4 = DownSample(256, 512)\n",
    "        if depth[3]:\n",
    "            self.extra_conv4 = DoubleConv(512, 512)\n",
    "\n",
    "        # Bottleneck\n",
    "        self.bottleneck = DoubleConv(512, 1024)\n",
    "\n",
    "        # Decoder\n",
    "        self.up_convolution_1 = UpSample(1024, 512)\n",
    "        self.up_convolution_2 = UpSample(512, 256)\n",
    "        self.up_convolution_3 = UpSample(256, 128)\n",
    "        self.up_convolution_4 = UpSample(128, 64)\n",
    "\n",
    "        # Output\n",
    "        self.out = nn.Conv2d(64, num_classes, kernel_size=1)\n",
    "\n",
    "    def forward(self, x):\n",
    "        # Encoder\n",
    "        down_1, p1 = self.down_convolution_1(x)\n",
    "        if self.depth[0]:\n",
    "            down_1 = self.extra_conv1(down_1) # If extra convolutional layers are added in encoder then updating down_1 for next layer. \n",
    "        down_2, p2 = self.down_convolution_2(p1)\n",
    "        if self.depth[1]:\n",
    "            down_2 = self.extra_conv2(down_2)\n",
    "\n",
    "        down_3, p3 = self.down_convolution_3(p2)\n",
    "        if self.depth[2]:\n",
    "            down_3 = self.extra_conv3(down_3)\n",
    "\n",
    "        down_4, p4 = self.down_convolution_4(p3)\n",
    "        if self.depth[3]:\n",
    "            down_4 = self.extra_conv4(down_4)\n",
    "\n",
    "        # Bottleneck\n",
    "        b = self.bottleneck(p4)\n",
    "\n",
    "        # Decoder\n",
    "        up_1 = self.up_convolution_1(b, down_4)\n",
    "        up_2 = self.up_convolution_2(up_1, down_3)\n",
    "        up_3 = self.up_convolution_3(up_2, down_2)\n",
    "        up_4 = self.up_convolution_4(up_3, down_1)\n",
    "\n",
    "        out = self.out(up_4)\n",
    "        return out\n"
   ]
  },
  {
   "cell_type": "code",
   "execution_count": 17,
   "id": "f8587797",
   "metadata": {},
   "outputs": [],
   "source": [
    "train_images_tensor = torch.tensor(train_images_norm, dtype=torch.float32).unsqueeze(1)\n",
    "train_masks_tensor = torch.tensor(training_masks, dtype=torch.float32).unsqueeze(1)\n",
    "test_images_tensor = torch.tensor(test_images_norm, dtype=torch.float32).unsqueeze(1)\n",
    "test_masks_tensor = torch.tensor(test_masks, dtype=torch.float32).unsqueeze(1)\n",
    "\n",
    "train_dataset = TensorDataset(train_images_tensor, train_masks_tensor)\n",
    "test_dataset = TensorDataset(test_images_tensor, test_masks_tensor)\n",
    "train_loader = DataLoader(train_dataset, batch_size=32, shuffle=True)\n",
    "test_loader = DataLoader(test_dataset, batch_size=32, shuffle=False)"
   ]
  },
  {
   "cell_type": "code",
   "execution_count": 74,
   "id": "3eb72ea1",
   "metadata": {},
   "outputs": [],
   "source": [
    "# Training loop\n",
    "def trainer_class(model, train_loader, test_loader, criterion, optimizer, num_epochs, device, patience_counter, depth_added = False, scheduler=None):\n",
    "    training_losses = []\n",
    "    validation_losses = []\n",
    "    best_val_loss = float('inf')\n",
    "    train_dice_scores = []\n",
    "    valid_dice_scores = []\n",
    "    patience = 0\n",
    "    for epoch in range(num_epochs):\n",
    "        model.train()\n",
    "        train_loss = 0.0\n",
    "        validation_loss = 0.0\n",
    "        dice = 0.0\n",
    "        for batch_idx, (images, masks) in enumerate(tqdm.tqdm(train_loader, desc=f\"Train Epoch {epoch+1}/{num_epochs}\")):\n",
    "            images, masks = images.to(device, dtype=torch.float32), masks.to(device, dtype=torch.float32)\n",
    "            optimizer.zero_grad()\n",
    "            outputs = model(images) #logits \n",
    "            # print(f\"masks shape: {masks.shape}, outputs shape: {outputs.shape}\")\n",
    "            loss = criterion(outputs, masks)\n",
    "            loss.backward()\n",
    "            torch.nn.utils.clip_grad_norm_(model.parameters(), max_norm=1.0)\n",
    "            optimizer.step()\n",
    "            preds = outputs > 0.5\n",
    "            train_loss += loss.item() * images.size(0)\n",
    "            dice+= dice_score(masks.cpu().numpy(), preds.cpu().numpy())\n",
    "        epoch_train_loss = train_loss / len(train_loader.dataset)\n",
    "        training_losses.append(epoch_train_loss)\n",
    "        epoch_dice_score = dice / len(train_loader.dataset)\n",
    "        train_dice_scores.append(epoch_dice_score)\n",
    "        # Validation\n",
    "        model.eval()\n",
    "        with torch.no_grad():\n",
    "            for images, masks in tqdm.tqdm(test_loader, desc=f\"Validation Epoch {epoch+1}/{num_epochs}\"):\n",
    "                images, masks = images.to(device), masks.to(device)\n",
    "                outputs = model(images)\n",
    "                # print(f\"masks shape: {masks.shape}, outputs shape: {outputs.shape}\")\n",
    "                loss = criterion(outputs, masks)\n",
    "                validation_loss += loss.item() * images.size(0)\n",
    "                dice += dice_score(masks.cpu().numpy(), (outputs > 0.5).cpu().numpy())\n",
    "        epoch_val_loss = validation_loss / len(test_loader.dataset)\n",
    "        validation_losses.append(epoch_val_loss)\n",
    "        epoch_dice_score_val = dice / len(test_loader.dataset)\n",
    "        valid_dice_scores.append(epoch_dice_score_val)\n",
    "        if not depth_added:\n",
    "            print(f\"Epoch {epoch+1}/{num_epochs}, Train Loss: {epoch_train_loss:.4f}, Val Loss: {epoch_val_loss:.4f}\")\n",
    "        if epoch_val_loss < best_val_loss:\n",
    "            best_val_loss = epoch_val_loss\n",
    "            patience = 0\n",
    "        else:\n",
    "            patience += 1\n",
    "        if patience >= patience_counter:\n",
    "            print(\"Early stopping triggered\")\n",
    "            break\n",
    "        if scheduler:\n",
    "            scheduler.step(epoch_val_loss)\n",
    "    return training_losses, validation_losses, train_dice_scores, valid_dice_scores"
   ]
  },
  {
   "cell_type": "code",
   "execution_count": 19,
   "id": "ee8c22c3",
   "metadata": {},
   "outputs": [],
   "source": [
    "model_exp1 = UNet(in_channels=1, num_classes=1)\n",
    "model_exp1 = model_exp1.to(DEVICE)\n",
    "criterion_bce = nn.BCEWithLogitsLoss()\n",
    "optimizer = optim.Adam(model_exp1.parameters(), lr=0.0001, weight_decay=1e-5)\n",
    "num_epochs = 100\n",
    "patience_counter = 5"
   ]
  },
  {
   "cell_type": "code",
   "execution_count": 20,
   "id": "699ef310",
   "metadata": {},
   "outputs": [
    {
     "name": "stderr",
     "output_type": "stream",
     "text": [
      "Train Epoch 1/100: 100%|██████████| 58/58 [00:06<00:00,  8.43it/s]\n",
      "Validation Epoch 1/100: 100%|██████████| 30/30 [00:01<00:00, 28.75it/s]\n"
     ]
    },
    {
     "name": "stdout",
     "output_type": "stream",
     "text": [
      "Epoch 1/100, Train Loss: 0.5247, Val Loss: 0.4213\n"
     ]
    },
    {
     "name": "stderr",
     "output_type": "stream",
     "text": [
      "Train Epoch 2/100: 100%|██████████| 58/58 [00:06<00:00,  9.48it/s]\n",
      "Validation Epoch 2/100: 100%|██████████| 30/30 [00:01<00:00, 29.58it/s]\n"
     ]
    },
    {
     "name": "stdout",
     "output_type": "stream",
     "text": [
      "Epoch 2/100, Train Loss: 0.3729, Val Loss: 0.3659\n"
     ]
    },
    {
     "name": "stderr",
     "output_type": "stream",
     "text": [
      "Train Epoch 3/100: 100%|██████████| 58/58 [00:06<00:00,  9.64it/s]\n",
      "Validation Epoch 3/100: 100%|██████████| 30/30 [00:01<00:00, 29.67it/s]\n"
     ]
    },
    {
     "name": "stdout",
     "output_type": "stream",
     "text": [
      "Epoch 3/100, Train Loss: 0.3323, Val Loss: 0.3213\n"
     ]
    },
    {
     "name": "stderr",
     "output_type": "stream",
     "text": [
      "Train Epoch 4/100: 100%|██████████| 58/58 [00:06<00:00,  9.60it/s]\n",
      "Validation Epoch 4/100: 100%|██████████| 30/30 [00:01<00:00, 29.09it/s]\n"
     ]
    },
    {
     "name": "stdout",
     "output_type": "stream",
     "text": [
      "Epoch 4/100, Train Loss: 0.3034, Val Loss: 0.2945\n"
     ]
    },
    {
     "name": "stderr",
     "output_type": "stream",
     "text": [
      "Train Epoch 5/100: 100%|██████████| 58/58 [00:06<00:00,  9.57it/s]\n",
      "Validation Epoch 5/100: 100%|██████████| 30/30 [00:01<00:00, 29.52it/s]\n"
     ]
    },
    {
     "name": "stdout",
     "output_type": "stream",
     "text": [
      "Epoch 5/100, Train Loss: 0.2752, Val Loss: 0.2651\n"
     ]
    },
    {
     "name": "stderr",
     "output_type": "stream",
     "text": [
      "Train Epoch 6/100: 100%|██████████| 58/58 [00:06<00:00,  9.61it/s]\n",
      "Validation Epoch 6/100: 100%|██████████| 30/30 [00:01<00:00, 29.54it/s]\n"
     ]
    },
    {
     "name": "stdout",
     "output_type": "stream",
     "text": [
      "Epoch 6/100, Train Loss: 0.2523, Val Loss: 0.2404\n"
     ]
    },
    {
     "name": "stderr",
     "output_type": "stream",
     "text": [
      "Train Epoch 7/100: 100%|██████████| 58/58 [00:06<00:00,  9.58it/s]\n",
      "Validation Epoch 7/100: 100%|██████████| 30/30 [00:01<00:00, 29.90it/s]\n"
     ]
    },
    {
     "name": "stdout",
     "output_type": "stream",
     "text": [
      "Epoch 7/100, Train Loss: 0.2312, Val Loss: 0.2255\n"
     ]
    },
    {
     "name": "stderr",
     "output_type": "stream",
     "text": [
      "Train Epoch 8/100: 100%|██████████| 58/58 [00:06<00:00,  9.61it/s]\n",
      "Validation Epoch 8/100: 100%|██████████| 30/30 [00:01<00:00, 29.52it/s]\n"
     ]
    },
    {
     "name": "stdout",
     "output_type": "stream",
     "text": [
      "Epoch 8/100, Train Loss: 0.2121, Val Loss: 0.2037\n"
     ]
    },
    {
     "name": "stderr",
     "output_type": "stream",
     "text": [
      "Train Epoch 9/100: 100%|██████████| 58/58 [00:06<00:00,  9.60it/s]\n",
      "Validation Epoch 9/100: 100%|██████████| 30/30 [00:01<00:00, 29.57it/s]\n"
     ]
    },
    {
     "name": "stdout",
     "output_type": "stream",
     "text": [
      "Epoch 9/100, Train Loss: 0.1943, Val Loss: 0.1871\n"
     ]
    },
    {
     "name": "stderr",
     "output_type": "stream",
     "text": [
      "Train Epoch 10/100: 100%|██████████| 58/58 [00:06<00:00,  9.58it/s]\n",
      "Validation Epoch 10/100: 100%|██████████| 30/30 [00:01<00:00, 29.93it/s]\n"
     ]
    },
    {
     "name": "stdout",
     "output_type": "stream",
     "text": [
      "Epoch 10/100, Train Loss: 0.1779, Val Loss: 0.1717\n"
     ]
    },
    {
     "name": "stderr",
     "output_type": "stream",
     "text": [
      "Train Epoch 11/100: 100%|██████████| 58/58 [00:06<00:00,  9.61it/s]\n",
      "Validation Epoch 11/100: 100%|██████████| 30/30 [00:01<00:00, 29.75it/s]\n"
     ]
    },
    {
     "name": "stdout",
     "output_type": "stream",
     "text": [
      "Epoch 11/100, Train Loss: 0.1643, Val Loss: 0.1540\n"
     ]
    },
    {
     "name": "stderr",
     "output_type": "stream",
     "text": [
      "Train Epoch 12/100: 100%|██████████| 58/58 [00:06<00:00,  9.57it/s]\n",
      "Validation Epoch 12/100: 100%|██████████| 30/30 [00:01<00:00, 29.62it/s]\n"
     ]
    },
    {
     "name": "stdout",
     "output_type": "stream",
     "text": [
      "Epoch 12/100, Train Loss: 0.1510, Val Loss: 0.1473\n"
     ]
    },
    {
     "name": "stderr",
     "output_type": "stream",
     "text": [
      "Train Epoch 13/100: 100%|██████████| 58/58 [00:06<00:00,  9.58it/s]\n",
      "Validation Epoch 13/100: 100%|██████████| 30/30 [00:01<00:00, 29.82it/s]\n"
     ]
    },
    {
     "name": "stdout",
     "output_type": "stream",
     "text": [
      "Epoch 13/100, Train Loss: 0.1392, Val Loss: 0.1324\n"
     ]
    },
    {
     "name": "stderr",
     "output_type": "stream",
     "text": [
      "Train Epoch 14/100: 100%|██████████| 58/58 [00:06<00:00,  9.58it/s]\n",
      "Validation Epoch 14/100: 100%|██████████| 30/30 [00:01<00:00, 29.96it/s]\n"
     ]
    },
    {
     "name": "stdout",
     "output_type": "stream",
     "text": [
      "Epoch 14/100, Train Loss: 0.1291, Val Loss: 0.1241\n"
     ]
    },
    {
     "name": "stderr",
     "output_type": "stream",
     "text": [
      "Train Epoch 15/100: 100%|██████████| 58/58 [00:06<00:00,  9.56it/s]\n",
      "Validation Epoch 15/100: 100%|██████████| 30/30 [00:01<00:00, 28.96it/s]\n"
     ]
    },
    {
     "name": "stdout",
     "output_type": "stream",
     "text": [
      "Epoch 15/100, Train Loss: 0.1193, Val Loss: 0.1132\n"
     ]
    },
    {
     "name": "stderr",
     "output_type": "stream",
     "text": [
      "Train Epoch 16/100: 100%|██████████| 58/58 [00:06<00:00,  9.52it/s]\n",
      "Validation Epoch 16/100: 100%|██████████| 30/30 [00:01<00:00, 29.38it/s]\n"
     ]
    },
    {
     "name": "stdout",
     "output_type": "stream",
     "text": [
      "Epoch 16/100, Train Loss: 0.1106, Val Loss: 0.1048\n"
     ]
    },
    {
     "name": "stderr",
     "output_type": "stream",
     "text": [
      "Train Epoch 17/100: 100%|██████████| 58/58 [00:06<00:00,  9.53it/s]\n",
      "Validation Epoch 17/100: 100%|██████████| 30/30 [00:01<00:00, 29.45it/s]\n"
     ]
    },
    {
     "name": "stdout",
     "output_type": "stream",
     "text": [
      "Epoch 17/100, Train Loss: 0.1026, Val Loss: 0.0963\n"
     ]
    },
    {
     "name": "stderr",
     "output_type": "stream",
     "text": [
      "Train Epoch 18/100: 100%|██████████| 58/58 [00:06<00:00,  9.54it/s]\n",
      "Validation Epoch 18/100: 100%|██████████| 30/30 [00:01<00:00, 29.82it/s]\n"
     ]
    },
    {
     "name": "stdout",
     "output_type": "stream",
     "text": [
      "Epoch 18/100, Train Loss: 0.0953, Val Loss: 0.0899\n"
     ]
    },
    {
     "name": "stderr",
     "output_type": "stream",
     "text": [
      "Train Epoch 19/100: 100%|██████████| 58/58 [00:06<00:00,  9.54it/s]\n",
      "Validation Epoch 19/100: 100%|██████████| 30/30 [00:01<00:00, 29.45it/s]\n"
     ]
    },
    {
     "name": "stdout",
     "output_type": "stream",
     "text": [
      "Epoch 19/100, Train Loss: 0.0881, Val Loss: 0.0831\n"
     ]
    },
    {
     "name": "stderr",
     "output_type": "stream",
     "text": [
      "Train Epoch 20/100: 100%|██████████| 58/58 [00:06<00:00,  9.55it/s]\n",
      "Validation Epoch 20/100: 100%|██████████| 30/30 [00:01<00:00, 29.80it/s]\n"
     ]
    },
    {
     "name": "stdout",
     "output_type": "stream",
     "text": [
      "Epoch 20/100, Train Loss: 0.0817, Val Loss: 0.0844\n"
     ]
    },
    {
     "name": "stderr",
     "output_type": "stream",
     "text": [
      "Train Epoch 21/100: 100%|██████████| 58/58 [00:06<00:00,  9.57it/s]\n",
      "Validation Epoch 21/100: 100%|██████████| 30/30 [00:01<00:00, 29.88it/s]\n"
     ]
    },
    {
     "name": "stdout",
     "output_type": "stream",
     "text": [
      "Epoch 21/100, Train Loss: 0.0756, Val Loss: 0.0818\n"
     ]
    },
    {
     "name": "stderr",
     "output_type": "stream",
     "text": [
      "Train Epoch 22/100: 100%|██████████| 58/58 [00:06<00:00,  9.55it/s]\n",
      "Validation Epoch 22/100: 100%|██████████| 30/30 [00:01<00:00, 29.40it/s]\n"
     ]
    },
    {
     "name": "stdout",
     "output_type": "stream",
     "text": [
      "Epoch 22/100, Train Loss: 0.0707, Val Loss: 0.0688\n"
     ]
    },
    {
     "name": "stderr",
     "output_type": "stream",
     "text": [
      "Train Epoch 23/100: 100%|██████████| 58/58 [00:06<00:00,  9.57it/s]\n",
      "Validation Epoch 23/100: 100%|██████████| 30/30 [00:01<00:00, 29.83it/s]\n"
     ]
    },
    {
     "name": "stdout",
     "output_type": "stream",
     "text": [
      "Epoch 23/100, Train Loss: 0.0662, Val Loss: 0.0633\n"
     ]
    },
    {
     "name": "stderr",
     "output_type": "stream",
     "text": [
      "Train Epoch 24/100: 100%|██████████| 58/58 [00:06<00:00,  9.57it/s]\n",
      "Validation Epoch 24/100: 100%|██████████| 30/30 [00:01<00:00, 29.91it/s]\n"
     ]
    },
    {
     "name": "stdout",
     "output_type": "stream",
     "text": [
      "Epoch 24/100, Train Loss: 0.0617, Val Loss: 0.0590\n"
     ]
    },
    {
     "name": "stderr",
     "output_type": "stream",
     "text": [
      "Train Epoch 25/100: 100%|██████████| 58/58 [00:06<00:00,  9.58it/s]\n",
      "Validation Epoch 25/100: 100%|██████████| 30/30 [00:01<00:00, 29.87it/s]\n"
     ]
    },
    {
     "name": "stdout",
     "output_type": "stream",
     "text": [
      "Epoch 25/100, Train Loss: 0.0577, Val Loss: 0.0580\n"
     ]
    },
    {
     "name": "stderr",
     "output_type": "stream",
     "text": [
      "Train Epoch 26/100: 100%|██████████| 58/58 [00:06<00:00,  9.57it/s]\n",
      "Validation Epoch 26/100: 100%|██████████| 30/30 [00:01<00:00, 29.90it/s]\n"
     ]
    },
    {
     "name": "stdout",
     "output_type": "stream",
     "text": [
      "Epoch 26/100, Train Loss: 0.0540, Val Loss: 0.0525\n"
     ]
    },
    {
     "name": "stderr",
     "output_type": "stream",
     "text": [
      "Train Epoch 27/100: 100%|██████████| 58/58 [00:06<00:00,  9.56it/s]\n",
      "Validation Epoch 27/100: 100%|██████████| 30/30 [00:01<00:00, 29.46it/s]\n"
     ]
    },
    {
     "name": "stdout",
     "output_type": "stream",
     "text": [
      "Epoch 27/100, Train Loss: 0.0507, Val Loss: 0.0509\n"
     ]
    },
    {
     "name": "stderr",
     "output_type": "stream",
     "text": [
      "Train Epoch 28/100: 100%|██████████| 58/58 [00:06<00:00,  9.55it/s]\n",
      "Validation Epoch 28/100: 100%|██████████| 30/30 [00:01<00:00, 29.73it/s]\n"
     ]
    },
    {
     "name": "stdout",
     "output_type": "stream",
     "text": [
      "Epoch 28/100, Train Loss: 0.0476, Val Loss: 0.0464\n"
     ]
    },
    {
     "name": "stderr",
     "output_type": "stream",
     "text": [
      "Train Epoch 29/100: 100%|██████████| 58/58 [00:06<00:00,  9.55it/s]\n",
      "Validation Epoch 29/100: 100%|██████████| 30/30 [00:01<00:00, 29.81it/s]\n"
     ]
    },
    {
     "name": "stdout",
     "output_type": "stream",
     "text": [
      "Epoch 29/100, Train Loss: 0.0449, Val Loss: 0.0441\n"
     ]
    },
    {
     "name": "stderr",
     "output_type": "stream",
     "text": [
      "Train Epoch 30/100: 100%|██████████| 58/58 [00:06<00:00,  9.54it/s]\n",
      "Validation Epoch 30/100: 100%|██████████| 30/30 [00:01<00:00, 29.40it/s]\n"
     ]
    },
    {
     "name": "stdout",
     "output_type": "stream",
     "text": [
      "Epoch 30/100, Train Loss: 0.0423, Val Loss: 0.0428\n"
     ]
    },
    {
     "name": "stderr",
     "output_type": "stream",
     "text": [
      "Train Epoch 31/100: 100%|██████████| 58/58 [00:06<00:00,  9.53it/s]\n",
      "Validation Epoch 31/100: 100%|██████████| 30/30 [00:01<00:00, 29.40it/s]\n"
     ]
    },
    {
     "name": "stdout",
     "output_type": "stream",
     "text": [
      "Epoch 31/100, Train Loss: 0.0398, Val Loss: 0.0396\n"
     ]
    },
    {
     "name": "stderr",
     "output_type": "stream",
     "text": [
      "Train Epoch 32/100: 100%|██████████| 58/58 [00:06<00:00,  9.54it/s]\n",
      "Validation Epoch 32/100: 100%|██████████| 30/30 [00:01<00:00, 29.78it/s]\n"
     ]
    },
    {
     "name": "stdout",
     "output_type": "stream",
     "text": [
      "Epoch 32/100, Train Loss: 0.0375, Val Loss: 0.0372\n"
     ]
    },
    {
     "name": "stderr",
     "output_type": "stream",
     "text": [
      "Train Epoch 33/100: 100%|██████████| 58/58 [00:06<00:00,  9.54it/s]\n",
      "Validation Epoch 33/100: 100%|██████████| 30/30 [00:01<00:00, 29.43it/s]\n"
     ]
    },
    {
     "name": "stdout",
     "output_type": "stream",
     "text": [
      "Epoch 33/100, Train Loss: 0.0355, Val Loss: 0.0358\n"
     ]
    },
    {
     "name": "stderr",
     "output_type": "stream",
     "text": [
      "Train Epoch 34/100: 100%|██████████| 58/58 [00:06<00:00,  9.57it/s]\n",
      "Validation Epoch 34/100: 100%|██████████| 30/30 [00:01<00:00, 29.79it/s]\n"
     ]
    },
    {
     "name": "stdout",
     "output_type": "stream",
     "text": [
      "Epoch 34/100, Train Loss: 0.0338, Val Loss: 0.0341\n"
     ]
    },
    {
     "name": "stderr",
     "output_type": "stream",
     "text": [
      "Train Epoch 35/100: 100%|██████████| 58/58 [00:06<00:00,  9.54it/s]\n",
      "Validation Epoch 35/100: 100%|██████████| 30/30 [00:01<00:00, 29.50it/s]\n"
     ]
    },
    {
     "name": "stdout",
     "output_type": "stream",
     "text": [
      "Epoch 35/100, Train Loss: 0.0319, Val Loss: 0.0313\n"
     ]
    },
    {
     "name": "stderr",
     "output_type": "stream",
     "text": [
      "Train Epoch 36/100: 100%|██████████| 58/58 [00:06<00:00,  9.56it/s]\n",
      "Validation Epoch 36/100: 100%|██████████| 30/30 [00:01<00:00, 29.85it/s]\n"
     ]
    },
    {
     "name": "stdout",
     "output_type": "stream",
     "text": [
      "Epoch 36/100, Train Loss: 0.0304, Val Loss: 0.0307\n"
     ]
    },
    {
     "name": "stderr",
     "output_type": "stream",
     "text": [
      "Train Epoch 37/100: 100%|██████████| 58/58 [00:06<00:00,  9.56it/s]\n",
      "Validation Epoch 37/100: 100%|██████████| 30/30 [00:01<00:00, 29.85it/s]\n"
     ]
    },
    {
     "name": "stdout",
     "output_type": "stream",
     "text": [
      "Epoch 37/100, Train Loss: 0.0289, Val Loss: 0.0298\n"
     ]
    },
    {
     "name": "stderr",
     "output_type": "stream",
     "text": [
      "Train Epoch 38/100: 100%|██████████| 58/58 [00:06<00:00,  9.54it/s]\n",
      "Validation Epoch 38/100: 100%|██████████| 30/30 [00:01<00:00, 29.49it/s]\n"
     ]
    },
    {
     "name": "stdout",
     "output_type": "stream",
     "text": [
      "Epoch 38/100, Train Loss: 0.0274, Val Loss: 0.0273\n"
     ]
    },
    {
     "name": "stderr",
     "output_type": "stream",
     "text": [
      "Train Epoch 39/100: 100%|██████████| 58/58 [00:06<00:00,  9.55it/s]\n",
      "Validation Epoch 39/100: 100%|██████████| 30/30 [00:01<00:00, 26.51it/s]\n"
     ]
    },
    {
     "name": "stdout",
     "output_type": "stream",
     "text": [
      "Epoch 39/100, Train Loss: 0.0259, Val Loss: 0.0270\n"
     ]
    },
    {
     "name": "stderr",
     "output_type": "stream",
     "text": [
      "Train Epoch 40/100: 100%|██████████| 58/58 [00:06<00:00,  9.57it/s]\n",
      "Validation Epoch 40/100: 100%|██████████| 30/30 [00:01<00:00, 29.90it/s]\n"
     ]
    },
    {
     "name": "stdout",
     "output_type": "stream",
     "text": [
      "Epoch 40/100, Train Loss: 0.0246, Val Loss: 0.0257\n"
     ]
    },
    {
     "name": "stderr",
     "output_type": "stream",
     "text": [
      "Train Epoch 41/100: 100%|██████████| 58/58 [00:06<00:00,  9.56it/s]\n",
      "Validation Epoch 41/100: 100%|██████████| 30/30 [00:01<00:00, 19.17it/s]\n"
     ]
    },
    {
     "name": "stdout",
     "output_type": "stream",
     "text": [
      "Epoch 41/100, Train Loss: 0.0240, Val Loss: 0.0257\n"
     ]
    },
    {
     "name": "stderr",
     "output_type": "stream",
     "text": [
      "Train Epoch 42/100: 100%|██████████| 58/58 [00:06<00:00,  9.07it/s]\n",
      "Validation Epoch 42/100: 100%|██████████| 30/30 [00:01<00:00, 29.75it/s]\n"
     ]
    },
    {
     "name": "stdout",
     "output_type": "stream",
     "text": [
      "Epoch 42/100, Train Loss: 0.0230, Val Loss: 0.0244\n"
     ]
    },
    {
     "name": "stderr",
     "output_type": "stream",
     "text": [
      "Train Epoch 43/100: 100%|██████████| 58/58 [00:06<00:00,  9.49it/s]\n",
      "Validation Epoch 43/100: 100%|██████████| 30/30 [00:01<00:00, 29.15it/s]\n"
     ]
    },
    {
     "name": "stdout",
     "output_type": "stream",
     "text": [
      "Epoch 43/100, Train Loss: 0.0219, Val Loss: 0.0233\n"
     ]
    },
    {
     "name": "stderr",
     "output_type": "stream",
     "text": [
      "Train Epoch 44/100: 100%|██████████| 58/58 [00:06<00:00,  9.42it/s]\n",
      "Validation Epoch 44/100: 100%|██████████| 30/30 [00:01<00:00, 28.60it/s]\n"
     ]
    },
    {
     "name": "stdout",
     "output_type": "stream",
     "text": [
      "Epoch 44/100, Train Loss: 0.0207, Val Loss: 0.0231\n"
     ]
    },
    {
     "name": "stderr",
     "output_type": "stream",
     "text": [
      "Train Epoch 45/100: 100%|██████████| 58/58 [00:06<00:00,  9.48it/s]\n",
      "Validation Epoch 45/100: 100%|██████████| 30/30 [00:01<00:00, 29.29it/s]\n"
     ]
    },
    {
     "name": "stdout",
     "output_type": "stream",
     "text": [
      "Epoch 45/100, Train Loss: 0.0198, Val Loss: 0.0215\n"
     ]
    },
    {
     "name": "stderr",
     "output_type": "stream",
     "text": [
      "Train Epoch 46/100: 100%|██████████| 58/58 [00:06<00:00,  9.36it/s]\n",
      "Validation Epoch 46/100: 100%|██████████| 30/30 [00:01<00:00, 29.39it/s]\n"
     ]
    },
    {
     "name": "stdout",
     "output_type": "stream",
     "text": [
      "Epoch 46/100, Train Loss: 0.0188, Val Loss: 0.0206\n"
     ]
    },
    {
     "name": "stderr",
     "output_type": "stream",
     "text": [
      "Train Epoch 47/100: 100%|██████████| 58/58 [00:06<00:00,  9.46it/s]\n",
      "Validation Epoch 47/100: 100%|██████████| 30/30 [00:01<00:00, 29.33it/s]\n"
     ]
    },
    {
     "name": "stdout",
     "output_type": "stream",
     "text": [
      "Epoch 47/100, Train Loss: 0.0179, Val Loss: 0.0197\n"
     ]
    },
    {
     "name": "stderr",
     "output_type": "stream",
     "text": [
      "Train Epoch 48/100: 100%|██████████| 58/58 [00:06<00:00,  9.50it/s]\n",
      "Validation Epoch 48/100: 100%|██████████| 30/30 [00:01<00:00, 29.09it/s]\n"
     ]
    },
    {
     "name": "stdout",
     "output_type": "stream",
     "text": [
      "Epoch 48/100, Train Loss: 0.0172, Val Loss: 0.0200\n"
     ]
    },
    {
     "name": "stderr",
     "output_type": "stream",
     "text": [
      "Train Epoch 49/100: 100%|██████████| 58/58 [00:06<00:00,  9.48it/s]\n",
      "Validation Epoch 49/100: 100%|██████████| 30/30 [00:01<00:00, 29.53it/s]\n"
     ]
    },
    {
     "name": "stdout",
     "output_type": "stream",
     "text": [
      "Epoch 49/100, Train Loss: 0.0165, Val Loss: 0.0189\n"
     ]
    },
    {
     "name": "stderr",
     "output_type": "stream",
     "text": [
      "Train Epoch 50/100: 100%|██████████| 58/58 [00:06<00:00,  9.51it/s]\n",
      "Validation Epoch 50/100: 100%|██████████| 30/30 [00:01<00:00, 29.49it/s]\n"
     ]
    },
    {
     "name": "stdout",
     "output_type": "stream",
     "text": [
      "Epoch 50/100, Train Loss: 0.0158, Val Loss: 0.0174\n"
     ]
    },
    {
     "name": "stderr",
     "output_type": "stream",
     "text": [
      "Train Epoch 51/100: 100%|██████████| 58/58 [00:06<00:00,  9.54it/s]\n",
      "Validation Epoch 51/100: 100%|██████████| 30/30 [00:01<00:00, 29.77it/s]\n"
     ]
    },
    {
     "name": "stdout",
     "output_type": "stream",
     "text": [
      "Epoch 51/100, Train Loss: 0.0152, Val Loss: 0.0175\n"
     ]
    },
    {
     "name": "stderr",
     "output_type": "stream",
     "text": [
      "Train Epoch 52/100: 100%|██████████| 58/58 [00:06<00:00,  9.52it/s]\n",
      "Validation Epoch 52/100: 100%|██████████| 30/30 [00:01<00:00, 29.22it/s]\n"
     ]
    },
    {
     "name": "stdout",
     "output_type": "stream",
     "text": [
      "Epoch 52/100, Train Loss: 0.0144, Val Loss: 0.0175\n"
     ]
    },
    {
     "name": "stderr",
     "output_type": "stream",
     "text": [
      "Train Epoch 53/100: 100%|██████████| 58/58 [00:06<00:00,  9.50it/s]\n",
      "Validation Epoch 53/100: 100%|██████████| 30/30 [00:01<00:00, 29.73it/s]\n"
     ]
    },
    {
     "name": "stdout",
     "output_type": "stream",
     "text": [
      "Epoch 53/100, Train Loss: 0.0139, Val Loss: 0.0169\n"
     ]
    },
    {
     "name": "stderr",
     "output_type": "stream",
     "text": [
      "Train Epoch 54/100: 100%|██████████| 58/58 [00:06<00:00,  9.45it/s]\n",
      "Validation Epoch 54/100: 100%|██████████| 30/30 [00:01<00:00, 28.45it/s]\n"
     ]
    },
    {
     "name": "stdout",
     "output_type": "stream",
     "text": [
      "Epoch 54/100, Train Loss: 0.0132, Val Loss: 0.0162\n"
     ]
    },
    {
     "name": "stderr",
     "output_type": "stream",
     "text": [
      "Train Epoch 55/100: 100%|██████████| 58/58 [00:06<00:00,  9.41it/s]\n",
      "Validation Epoch 55/100: 100%|██████████| 30/30 [00:01<00:00, 28.90it/s]\n"
     ]
    },
    {
     "name": "stdout",
     "output_type": "stream",
     "text": [
      "Epoch 55/100, Train Loss: 0.0126, Val Loss: 0.0154\n"
     ]
    },
    {
     "name": "stderr",
     "output_type": "stream",
     "text": [
      "Train Epoch 56/100: 100%|██████████| 58/58 [00:06<00:00,  9.40it/s]\n",
      "Validation Epoch 56/100: 100%|██████████| 30/30 [00:01<00:00, 28.75it/s]\n"
     ]
    },
    {
     "name": "stdout",
     "output_type": "stream",
     "text": [
      "Epoch 56/100, Train Loss: 0.0119, Val Loss: 0.0153\n"
     ]
    },
    {
     "name": "stderr",
     "output_type": "stream",
     "text": [
      "Train Epoch 57/100: 100%|██████████| 58/58 [00:06<00:00,  9.43it/s]\n",
      "Validation Epoch 57/100: 100%|██████████| 30/30 [00:01<00:00, 27.98it/s]\n"
     ]
    },
    {
     "name": "stdout",
     "output_type": "stream",
     "text": [
      "Epoch 57/100, Train Loss: 0.0117, Val Loss: 0.0153\n"
     ]
    },
    {
     "name": "stderr",
     "output_type": "stream",
     "text": [
      "Train Epoch 58/100: 100%|██████████| 58/58 [00:06<00:00,  9.43it/s]\n",
      "Validation Epoch 58/100: 100%|██████████| 30/30 [00:01<00:00, 28.58it/s]\n"
     ]
    },
    {
     "name": "stdout",
     "output_type": "stream",
     "text": [
      "Epoch 58/100, Train Loss: 0.0114, Val Loss: 0.0148\n"
     ]
    },
    {
     "name": "stderr",
     "output_type": "stream",
     "text": [
      "Train Epoch 59/100: 100%|██████████| 58/58 [00:06<00:00,  9.48it/s]\n",
      "Validation Epoch 59/100: 100%|██████████| 30/30 [00:01<00:00, 29.12it/s]\n"
     ]
    },
    {
     "name": "stdout",
     "output_type": "stream",
     "text": [
      "Epoch 59/100, Train Loss: 0.0107, Val Loss: 0.0142\n"
     ]
    },
    {
     "name": "stderr",
     "output_type": "stream",
     "text": [
      "Train Epoch 60/100: 100%|██████████| 58/58 [00:06<00:00,  9.50it/s]\n",
      "Validation Epoch 60/100: 100%|██████████| 30/30 [00:01<00:00, 29.12it/s]\n"
     ]
    },
    {
     "name": "stdout",
     "output_type": "stream",
     "text": [
      "Epoch 60/100, Train Loss: 0.0103, Val Loss: 0.0137\n"
     ]
    },
    {
     "name": "stderr",
     "output_type": "stream",
     "text": [
      "Train Epoch 61/100: 100%|██████████| 58/58 [00:06<00:00,  9.49it/s]\n",
      "Validation Epoch 61/100: 100%|██████████| 30/30 [00:01<00:00, 29.51it/s]\n"
     ]
    },
    {
     "name": "stdout",
     "output_type": "stream",
     "text": [
      "Epoch 61/100, Train Loss: 0.0098, Val Loss: 0.0139\n"
     ]
    },
    {
     "name": "stderr",
     "output_type": "stream",
     "text": [
      "Train Epoch 62/100: 100%|██████████| 58/58 [00:06<00:00,  9.45it/s]\n",
      "Validation Epoch 62/100: 100%|██████████| 30/30 [00:01<00:00, 29.11it/s]\n"
     ]
    },
    {
     "name": "stdout",
     "output_type": "stream",
     "text": [
      "Epoch 62/100, Train Loss: 0.0094, Val Loss: 0.0140\n"
     ]
    },
    {
     "name": "stderr",
     "output_type": "stream",
     "text": [
      "Train Epoch 63/100: 100%|██████████| 58/58 [00:06<00:00,  9.45it/s]\n",
      "Validation Epoch 63/100: 100%|██████████| 30/30 [00:01<00:00, 28.61it/s]\n"
     ]
    },
    {
     "name": "stdout",
     "output_type": "stream",
     "text": [
      "Epoch 63/100, Train Loss: 0.0088, Val Loss: 0.0134\n"
     ]
    },
    {
     "name": "stderr",
     "output_type": "stream",
     "text": [
      "Train Epoch 64/100: 100%|██████████| 58/58 [00:06<00:00,  9.44it/s]\n",
      "Validation Epoch 64/100: 100%|██████████| 30/30 [00:01<00:00, 29.12it/s]\n"
     ]
    },
    {
     "name": "stdout",
     "output_type": "stream",
     "text": [
      "Epoch 64/100, Train Loss: 0.0084, Val Loss: 0.0134\n"
     ]
    },
    {
     "name": "stderr",
     "output_type": "stream",
     "text": [
      "Train Epoch 65/100: 100%|██████████| 58/58 [00:06<00:00,  9.47it/s]\n",
      "Validation Epoch 65/100: 100%|██████████| 30/30 [00:01<00:00, 29.22it/s]\n"
     ]
    },
    {
     "name": "stdout",
     "output_type": "stream",
     "text": [
      "Epoch 65/100, Train Loss: 0.0081, Val Loss: 0.0127\n"
     ]
    },
    {
     "name": "stderr",
     "output_type": "stream",
     "text": [
      "Train Epoch 66/100: 100%|██████████| 58/58 [00:06<00:00,  9.47it/s]\n",
      "Validation Epoch 66/100: 100%|██████████| 30/30 [00:01<00:00, 29.04it/s]\n"
     ]
    },
    {
     "name": "stdout",
     "output_type": "stream",
     "text": [
      "Epoch 66/100, Train Loss: 0.0078, Val Loss: 0.0127\n"
     ]
    },
    {
     "name": "stderr",
     "output_type": "stream",
     "text": [
      "Train Epoch 67/100: 100%|██████████| 58/58 [00:06<00:00,  9.48it/s]\n",
      "Validation Epoch 67/100: 100%|██████████| 30/30 [00:01<00:00, 29.13it/s]\n"
     ]
    },
    {
     "name": "stdout",
     "output_type": "stream",
     "text": [
      "Epoch 67/100, Train Loss: 0.0076, Val Loss: 0.0130\n"
     ]
    },
    {
     "name": "stderr",
     "output_type": "stream",
     "text": [
      "Train Epoch 68/100: 100%|██████████| 58/58 [00:06<00:00,  9.47it/s]\n",
      "Validation Epoch 68/100: 100%|██████████| 30/30 [00:01<00:00, 29.10it/s]\n"
     ]
    },
    {
     "name": "stdout",
     "output_type": "stream",
     "text": [
      "Epoch 68/100, Train Loss: 0.0074, Val Loss: 0.0124\n"
     ]
    },
    {
     "name": "stderr",
     "output_type": "stream",
     "text": [
      "Train Epoch 69/100: 100%|██████████| 58/58 [00:06<00:00,  9.49it/s]\n",
      "Validation Epoch 69/100: 100%|██████████| 30/30 [00:01<00:00, 29.49it/s]\n"
     ]
    },
    {
     "name": "stdout",
     "output_type": "stream",
     "text": [
      "Epoch 69/100, Train Loss: 0.0071, Val Loss: 0.0122\n"
     ]
    },
    {
     "name": "stderr",
     "output_type": "stream",
     "text": [
      "Train Epoch 70/100: 100%|██████████| 58/58 [00:06<00:00,  9.50it/s]\n",
      "Validation Epoch 70/100: 100%|██████████| 30/30 [00:01<00:00, 29.10it/s]\n"
     ]
    },
    {
     "name": "stdout",
     "output_type": "stream",
     "text": [
      "Epoch 70/100, Train Loss: 0.0070, Val Loss: 0.0123\n"
     ]
    },
    {
     "name": "stderr",
     "output_type": "stream",
     "text": [
      "Train Epoch 71/100: 100%|██████████| 58/58 [00:06<00:00,  9.48it/s]\n",
      "Validation Epoch 71/100: 100%|██████████| 30/30 [00:01<00:00, 29.50it/s]\n"
     ]
    },
    {
     "name": "stdout",
     "output_type": "stream",
     "text": [
      "Epoch 71/100, Train Loss: 0.0066, Val Loss: 0.0123\n"
     ]
    },
    {
     "name": "stderr",
     "output_type": "stream",
     "text": [
      "Train Epoch 72/100: 100%|██████████| 58/58 [00:06<00:00,  9.49it/s]\n",
      "Validation Epoch 72/100: 100%|██████████| 30/30 [00:01<00:00, 29.55it/s]\n"
     ]
    },
    {
     "name": "stdout",
     "output_type": "stream",
     "text": [
      "Epoch 72/100, Train Loss: 0.0062, Val Loss: 0.0124\n"
     ]
    },
    {
     "name": "stderr",
     "output_type": "stream",
     "text": [
      "Train Epoch 73/100: 100%|██████████| 58/58 [00:06<00:00,  9.49it/s]\n",
      "Validation Epoch 73/100: 100%|██████████| 30/30 [00:01<00:00, 29.38it/s]\n"
     ]
    },
    {
     "name": "stdout",
     "output_type": "stream",
     "text": [
      "Epoch 73/100, Train Loss: 0.0059, Val Loss: 0.0121\n"
     ]
    },
    {
     "name": "stderr",
     "output_type": "stream",
     "text": [
      "Train Epoch 74/100: 100%|██████████| 58/58 [00:06<00:00,  9.48it/s]\n",
      "Validation Epoch 74/100: 100%|██████████| 30/30 [00:01<00:00, 29.00it/s]\n"
     ]
    },
    {
     "name": "stdout",
     "output_type": "stream",
     "text": [
      "Epoch 74/100, Train Loss: 0.0057, Val Loss: 0.0118\n"
     ]
    },
    {
     "name": "stderr",
     "output_type": "stream",
     "text": [
      "Train Epoch 75/100: 100%|██████████| 58/58 [00:06<00:00,  9.50it/s]\n",
      "Validation Epoch 75/100: 100%|██████████| 30/30 [00:01<00:00, 29.50it/s]\n"
     ]
    },
    {
     "name": "stdout",
     "output_type": "stream",
     "text": [
      "Epoch 75/100, Train Loss: 0.0056, Val Loss: 0.0115\n"
     ]
    },
    {
     "name": "stderr",
     "output_type": "stream",
     "text": [
      "Train Epoch 76/100: 100%|██████████| 58/58 [00:06<00:00,  9.52it/s]\n",
      "Validation Epoch 76/100: 100%|██████████| 30/30 [00:01<00:00, 29.39it/s]\n"
     ]
    },
    {
     "name": "stdout",
     "output_type": "stream",
     "text": [
      "Epoch 76/100, Train Loss: 0.0054, Val Loss: 0.0120\n"
     ]
    },
    {
     "name": "stderr",
     "output_type": "stream",
     "text": [
      "Train Epoch 77/100: 100%|██████████| 58/58 [00:06<00:00,  9.51it/s]\n",
      "Validation Epoch 77/100: 100%|██████████| 30/30 [00:01<00:00, 29.57it/s]\n"
     ]
    },
    {
     "name": "stdout",
     "output_type": "stream",
     "text": [
      "Epoch 77/100, Train Loss: 0.0055, Val Loss: 0.0115\n"
     ]
    },
    {
     "name": "stderr",
     "output_type": "stream",
     "text": [
      "Train Epoch 78/100: 100%|██████████| 58/58 [00:06<00:00,  9.51it/s]\n",
      "Validation Epoch 78/100: 100%|██████████| 30/30 [00:01<00:00, 29.47it/s]\n"
     ]
    },
    {
     "name": "stdout",
     "output_type": "stream",
     "text": [
      "Epoch 78/100, Train Loss: 0.0050, Val Loss: 0.0113\n"
     ]
    },
    {
     "name": "stderr",
     "output_type": "stream",
     "text": [
      "Train Epoch 79/100: 100%|██████████| 58/58 [00:06<00:00,  9.49it/s]\n",
      "Validation Epoch 79/100: 100%|██████████| 30/30 [00:01<00:00, 29.42it/s]\n"
     ]
    },
    {
     "name": "stdout",
     "output_type": "stream",
     "text": [
      "Epoch 79/100, Train Loss: 0.0046, Val Loss: 0.0115\n"
     ]
    },
    {
     "name": "stderr",
     "output_type": "stream",
     "text": [
      "Train Epoch 80/100: 100%|██████████| 58/58 [00:06<00:00,  9.49it/s]\n",
      "Validation Epoch 80/100: 100%|██████████| 30/30 [00:01<00:00, 28.97it/s]\n"
     ]
    },
    {
     "name": "stdout",
     "output_type": "stream",
     "text": [
      "Epoch 80/100, Train Loss: 0.0045, Val Loss: 0.0113\n"
     ]
    },
    {
     "name": "stderr",
     "output_type": "stream",
     "text": [
      "Train Epoch 81/100: 100%|██████████| 58/58 [00:06<00:00,  9.49it/s]\n",
      "Validation Epoch 81/100: 100%|██████████| 30/30 [00:01<00:00, 29.48it/s]\n"
     ]
    },
    {
     "name": "stdout",
     "output_type": "stream",
     "text": [
      "Epoch 81/100, Train Loss: 0.0043, Val Loss: 0.0115\n"
     ]
    },
    {
     "name": "stderr",
     "output_type": "stream",
     "text": [
      "Train Epoch 82/100: 100%|██████████| 58/58 [00:06<00:00,  9.51it/s]\n",
      "Validation Epoch 82/100: 100%|██████████| 30/30 [00:01<00:00, 29.49it/s]\n"
     ]
    },
    {
     "name": "stdout",
     "output_type": "stream",
     "text": [
      "Epoch 82/100, Train Loss: 0.0043, Val Loss: 0.0119\n"
     ]
    },
    {
     "name": "stderr",
     "output_type": "stream",
     "text": [
      "Train Epoch 83/100: 100%|██████████| 58/58 [00:06<00:00,  9.52it/s]\n",
      "Validation Epoch 83/100: 100%|██████████| 30/30 [00:01<00:00, 29.56it/s]\n"
     ]
    },
    {
     "name": "stdout",
     "output_type": "stream",
     "text": [
      "Epoch 83/100, Train Loss: 0.0043, Val Loss: 0.0125\n"
     ]
    },
    {
     "name": "stderr",
     "output_type": "stream",
     "text": [
      "Train Epoch 84/100: 100%|██████████| 58/58 [00:06<00:00,  9.52it/s]\n",
      "Validation Epoch 84/100: 100%|██████████| 30/30 [00:01<00:00, 29.59it/s]\n"
     ]
    },
    {
     "name": "stdout",
     "output_type": "stream",
     "text": [
      "Epoch 84/100, Train Loss: 0.0041, Val Loss: 0.0113\n"
     ]
    },
    {
     "name": "stderr",
     "output_type": "stream",
     "text": [
      "Train Epoch 85/100: 100%|██████████| 58/58 [00:06<00:00,  9.51it/s]\n",
      "Validation Epoch 85/100: 100%|██████████| 30/30 [00:01<00:00, 29.62it/s]\n"
     ]
    },
    {
     "name": "stdout",
     "output_type": "stream",
     "text": [
      "Epoch 85/100, Train Loss: 0.0039, Val Loss: 0.0112\n"
     ]
    },
    {
     "name": "stderr",
     "output_type": "stream",
     "text": [
      "Train Epoch 86/100: 100%|██████████| 58/58 [00:06<00:00,  9.50it/s]\n",
      "Validation Epoch 86/100: 100%|██████████| 30/30 [00:01<00:00, 29.01it/s]\n"
     ]
    },
    {
     "name": "stdout",
     "output_type": "stream",
     "text": [
      "Epoch 86/100, Train Loss: 0.0039, Val Loss: 0.0116\n"
     ]
    },
    {
     "name": "stderr",
     "output_type": "stream",
     "text": [
      "Train Epoch 87/100: 100%|██████████| 58/58 [00:06<00:00,  9.49it/s]\n",
      "Validation Epoch 87/100: 100%|██████████| 30/30 [00:01<00:00, 29.47it/s]\n"
     ]
    },
    {
     "name": "stdout",
     "output_type": "stream",
     "text": [
      "Epoch 87/100, Train Loss: 0.0036, Val Loss: 0.0111\n"
     ]
    },
    {
     "name": "stderr",
     "output_type": "stream",
     "text": [
      "Train Epoch 88/100: 100%|██████████| 58/58 [00:06<00:00,  9.47it/s]\n",
      "Validation Epoch 88/100: 100%|██████████| 30/30 [00:01<00:00, 29.06it/s]\n"
     ]
    },
    {
     "name": "stdout",
     "output_type": "stream",
     "text": [
      "Epoch 88/100, Train Loss: 0.0034, Val Loss: 0.0110\n"
     ]
    },
    {
     "name": "stderr",
     "output_type": "stream",
     "text": [
      "Train Epoch 89/100: 100%|██████████| 58/58 [00:06<00:00,  9.48it/s]\n",
      "Validation Epoch 89/100: 100%|██████████| 30/30 [00:01<00:00, 29.08it/s]\n"
     ]
    },
    {
     "name": "stdout",
     "output_type": "stream",
     "text": [
      "Epoch 89/100, Train Loss: 0.0032, Val Loss: 0.0113\n"
     ]
    },
    {
     "name": "stderr",
     "output_type": "stream",
     "text": [
      "Train Epoch 90/100: 100%|██████████| 58/58 [00:06<00:00,  9.50it/s]\n",
      "Validation Epoch 90/100: 100%|██████████| 30/30 [00:01<00:00, 29.40it/s]\n"
     ]
    },
    {
     "name": "stdout",
     "output_type": "stream",
     "text": [
      "Epoch 90/100, Train Loss: 0.0031, Val Loss: 0.0117\n"
     ]
    },
    {
     "name": "stderr",
     "output_type": "stream",
     "text": [
      "Train Epoch 91/100: 100%|██████████| 58/58 [00:06<00:00,  9.47it/s]\n",
      "Validation Epoch 91/100: 100%|██████████| 30/30 [00:01<00:00, 29.21it/s]\n"
     ]
    },
    {
     "name": "stdout",
     "output_type": "stream",
     "text": [
      "Epoch 91/100, Train Loss: 0.0031, Val Loss: 0.0111\n"
     ]
    },
    {
     "name": "stderr",
     "output_type": "stream",
     "text": [
      "Train Epoch 92/100: 100%|██████████| 58/58 [00:06<00:00,  9.52it/s]\n",
      "Validation Epoch 92/100: 100%|██████████| 30/30 [00:01<00:00, 29.51it/s]\n"
     ]
    },
    {
     "name": "stdout",
     "output_type": "stream",
     "text": [
      "Epoch 92/100, Train Loss: 0.0031, Val Loss: 0.0115\n"
     ]
    },
    {
     "name": "stderr",
     "output_type": "stream",
     "text": [
      "Train Epoch 93/100: 100%|██████████| 58/58 [00:06<00:00,  9.48it/s]\n",
      "Validation Epoch 93/100: 100%|██████████| 30/30 [00:01<00:00, 29.06it/s]\n"
     ]
    },
    {
     "name": "stdout",
     "output_type": "stream",
     "text": [
      "Epoch 93/100, Train Loss: 0.0048, Val Loss: 0.0101\n"
     ]
    },
    {
     "name": "stderr",
     "output_type": "stream",
     "text": [
      "Train Epoch 94/100: 100%|██████████| 58/58 [00:06<00:00,  9.51it/s]\n",
      "Validation Epoch 94/100: 100%|██████████| 30/30 [00:01<00:00, 29.61it/s]\n"
     ]
    },
    {
     "name": "stdout",
     "output_type": "stream",
     "text": [
      "Epoch 94/100, Train Loss: 0.0055, Val Loss: 0.0091\n"
     ]
    },
    {
     "name": "stderr",
     "output_type": "stream",
     "text": [
      "Train Epoch 95/100: 100%|██████████| 58/58 [00:06<00:00,  9.52it/s]\n",
      "Validation Epoch 95/100: 100%|██████████| 30/30 [00:01<00:00, 29.51it/s]\n"
     ]
    },
    {
     "name": "stdout",
     "output_type": "stream",
     "text": [
      "Epoch 95/100, Train Loss: 0.0035, Val Loss: 0.0099\n"
     ]
    },
    {
     "name": "stderr",
     "output_type": "stream",
     "text": [
      "Train Epoch 96/100: 100%|██████████| 58/58 [00:06<00:00,  9.48it/s]\n",
      "Validation Epoch 96/100: 100%|██████████| 30/30 [00:01<00:00, 28.97it/s]\n"
     ]
    },
    {
     "name": "stdout",
     "output_type": "stream",
     "text": [
      "Epoch 96/100, Train Loss: 0.0029, Val Loss: 0.0104\n"
     ]
    },
    {
     "name": "stderr",
     "output_type": "stream",
     "text": [
      "Train Epoch 97/100: 100%|██████████| 58/58 [00:06<00:00,  9.52it/s]\n",
      "Validation Epoch 97/100: 100%|██████████| 30/30 [00:01<00:00, 29.50it/s]\n"
     ]
    },
    {
     "name": "stdout",
     "output_type": "stream",
     "text": [
      "Epoch 97/100, Train Loss: 0.0027, Val Loss: 0.0105\n"
     ]
    },
    {
     "name": "stderr",
     "output_type": "stream",
     "text": [
      "Train Epoch 98/100: 100%|██████████| 58/58 [00:06<00:00,  9.50it/s]\n",
      "Validation Epoch 98/100: 100%|██████████| 30/30 [00:01<00:00, 29.53it/s]\n"
     ]
    },
    {
     "name": "stdout",
     "output_type": "stream",
     "text": [
      "Epoch 98/100, Train Loss: 0.0025, Val Loss: 0.0108\n"
     ]
    },
    {
     "name": "stderr",
     "output_type": "stream",
     "text": [
      "Train Epoch 99/100: 100%|██████████| 58/58 [00:06<00:00,  9.50it/s]\n",
      "Validation Epoch 99/100: 100%|██████████| 30/30 [00:01<00:00, 29.19it/s]"
     ]
    },
    {
     "name": "stdout",
     "output_type": "stream",
     "text": [
      "Epoch 99/100, Train Loss: 0.0024, Val Loss: 0.0109\n",
      "Early stopping triggered\n"
     ]
    },
    {
     "name": "stderr",
     "output_type": "stream",
     "text": [
      "\n"
     ]
    }
   ],
   "source": [
    "training_losses, validation_losses, train_dice_scores, valid_dice_scores = trainer_class(model_exp1, train_loader, test_loader, criterion_bce, optimizer, num_epochs, device, patience_counter)"
   ]
  },
  {
   "cell_type": "code",
   "execution_count": 21,
   "id": "589a4e08",
   "metadata": {},
   "outputs": [],
   "source": [
    "def plot_losses(training_losses, validation_losses):\n",
    "    plt.figure(figsize=(8,5))\n",
    "    plt.plot(training_losses, marker='o', label=\"Training Loss\")\n",
    "    plt.plot(validation_losses, marker='s', label=\"Validation Loss\")\n",
    "    plt.xlabel(\"Epochs\")\n",
    "    plt.ylabel(\"Loss\")\n",
    "    plt.grid(True)\n",
    "    plt.title(\"Training and Validation Loss over Epochs\")\n",
    "    plt.legend()\n",
    "    plt.show()"
   ]
  },
  {
   "cell_type": "code",
   "execution_count": 22,
   "id": "395d8884",
   "metadata": {},
   "outputs": [
    {
     "data": {
      "image/png": "[encoded data removed]",
      "text/plain": [
       "<Figure size 800x500 with 1 Axes>"
      ]
     },
     "metadata": {},
     "output_type": "display_data"
    }
   ],
   "source": [
    "plot_losses(training_losses, validation_losses)"
   ]
  },
  {
   "cell_type": "code",
   "execution_count": 23,
   "id": "82bf9162",
   "metadata": {},
   "outputs": [],
   "source": [
    "def evaluate_model(model, test_loader, device, threshold):\n",
    "    model.eval()\n",
    "    dice_scores = []\n",
    "    f1_scores = []\n",
    "    lesion_accuracies = []\n",
    "    all_preds = []\n",
    "    with torch.no_grad():\n",
    "        for images, masks in test_loader:\n",
    "            images, masks = images.to(device), masks.to(device)\n",
    "            outputs = model(images)\n",
    "            preds = torch.sigmoid(outputs) > threshold  # Binarize predictions\n",
    "            all_preds.append(preds.cpu().numpy())\n",
    "            for i in range(images.size(0)):\n",
    "                true = masks[i].cpu().numpy().flatten()\n",
    "                pred = preds[i].cpu().numpy().flatten()\n",
    "                dice_scores.append(dice_score(true, pred))\n",
    "                f1 = f1_score(true, pred, zero_division=1)\n",
    "                f1_scores.append(f1)\n",
    "                lesion_accuracies.append(lesion_wise_accuracy(masks[i].cpu().numpy(), preds[i].cpu().numpy()))\n",
    "    return dice_scores, f1_scores, lesion_accuracies, np.concatenate(all_preds, axis=0)"
   ]
  },
  {
   "cell_type": "code",
   "execution_count": 24,
   "id": "cd69c722",
   "metadata": {},
   "outputs": [
    {
     "name": "stdout",
     "output_type": "stream",
     "text": [
      "Mean Dice Score for U-Net: 0.7363\n",
      "Mean F1 Score for U-Net: 0.7363\n",
      "Mean Lesion-wise Accuracy for U-Net: 0.9050\n"
     ]
    }
   ],
   "source": [
    "train_dice_scores, f1_scores, lesion_accuracies, preds = evaluate_model(model_exp1, test_loader, DEVICE, threshold=0.5)\n",
    "print(f\"Mean Dice Score for U-Net: {np.mean(train_dice_scores):.4f}\")\n",
    "print(f\"Mean F1 Score for U-Net: {np.mean(f1_scores):.4f}\")\n",
    "print(f\"Mean Lesion-wise Accuracy for U-Net: {np.mean(lesion_accuracies):.4f}\")"
   ]
  },
  {
   "cell_type": "code",
   "execution_count": 27,
   "id": "1bd3ce8d",
   "metadata": {},
   "outputs": [
    {
     "data": {
      "text/plain": [
       "(947, 128, 128)"
      ]
     },
     "execution_count": 27,
     "metadata": {},
     "output_type": "execute_result"
    }
   ],
   "source": [
    "unet_predicted_masks = preds.reshape(test_images.shape)\n",
    "unet_predicted_masks.shape"
   ]
  },
  {
   "cell_type": "code",
   "execution_count": null,
   "id": "093c73df",
   "metadata": {},
   "outputs": [],
   "source": [
    "class plotSamples:\n",
    "    def __init__(self, predicted_masks, test_images, test_masks):\n",
    "        self.predicted_masks = predicted_masks\n",
    "        self.test_images = test_images\n",
    "        self.test_masks = test_masks\n",
    "\n",
    "    def plot_best_worst(self, num_samples=2):\n",
    "        dice_list = []\n",
    "        for i in range(self.predicted_masks.shape[0]):\n",
    "            if self.test_masks[i].sum() >= 100:  #I want to see only those masks which has at least 100 white pixels\n",
    "                true = self.test_masks[i].flatten()\n",
    "                pred = self.predicted_masks[i].flatten()\n",
    "                d = dice_score(true, pred)\n",
    "                dice_list.append((i, d))   \n",
    "\n",
    "        # Sort by score\n",
    "        dice_list = sorted(dice_list, key=lambda x: x[1])  # ascending\n",
    "        worst_indices = [idx for idx, _ in dice_list[:num_samples]]\n",
    "        best_indices = [idx for idx, _ in dice_list[-num_samples:]]\n",
    "\n",
    "        selected_indices = best_indices + worst_indices\n",
    "\n",
    "        # Plot\n",
    "        plt.figure(figsize=(12, 4 * len(selected_indices)))\n",
    "\n",
    "        for plot_i, idx in enumerate(selected_indices):\n",
    "            row = plot_i\n",
    "\n",
    "            # Ground Truth Mask\n",
    "            plt.subplot(len(selected_indices), 3, row*3 + 1)\n",
    "            plt.imshow(self.test_masks[idx], cmap='gray')\n",
    "            plt.title(\"Ground Truth\")\n",
    "            plt.axis('off')\n",
    "\n",
    "            # Predicted Mask\n",
    "            plt.subplot(len(selected_indices), 3, row*3 + 2)\n",
    "            plt.imshow(self.predicted_masks[idx], cmap='gray')\n",
    "            if idx in best_indices:\n",
    "                plt.title(\"Predicted (Best)\")\n",
    "            else:\n",
    "                plt.title(\"Predicted (Worst)\")\n",
    "            plt.axis('off')\n",
    "\n",
    "        plt.tight_layout()\n",
    "        plt.show()\n"
   ]
  },
  {
   "cell_type": "code",
   "execution_count": 67,
   "id": "e0198820",
   "metadata": {},
   "outputs": [
    {
     "data": {
      "image/png": "[encoded data removed]",
      "text/plain": [
       "<Figure size 1200x1600 with 8 Axes>"
      ]
     },
     "metadata": {},
     "output_type": "display_data"
    }
   ],
   "source": [
    "plotSamples(unet_predicted_masks, test_images, test_masks).plot_best_worst(num_samples=2)"
   ]
  },
  {
   "cell_type": "markdown",
   "id": "0c5ec279",
   "metadata": {},
   "source": [
    "### Experiment 2\n",
    "#### Train the model using a combination of Dice loss and weighted Cross-Entropy loss"
   ]
  },
  {
   "cell_type": "code",
   "execution_count": 81,
   "id": "466b55c0",
   "metadata": {},
   "outputs": [],
   "source": [
    "def dice_loss(preds, targets, threshold, smooth=1):\n",
    "    preds = torch.sigmoid(preds)\n",
    "    preds = (preds > threshold).float()\n",
    "    intersection = (preds * targets).sum(dim=(2,3))\n",
    "    total = preds.sum(dim=(2,3)) + targets.sum(dim=(2,3))\n",
    "    dice = (2. * intersection + smooth) / (total + smooth)\n",
    "    loss = 1 - dice\n",
    "    return loss.mean()"
   ]
  },
  {
   "cell_type": "code",
   "execution_count": 79,
   "id": "8ca44c0a",
   "metadata": {},
   "outputs": [
    {
     "name": "stdout",
     "output_type": "stream",
     "text": [
      "Class Weights: tensor([ 0.5028, 89.8312], device='cuda:0')\n",
      "class weights dict: {0: tensor(0.5028, device='cuda:0'), 1: tensor(89.8312, device='cuda:0')}\n",
      "Positive class weight for Cross-Entropy Loss: 178.662353515625\n"
     ]
    }
   ],
   "source": [
    "from sklearn.utils import class_weight\n",
    "labels = training_masks.flatten()\n",
    "class_weights = class_weight.compute_class_weight('balanced', classes=np.unique(labels), y=labels)\n",
    "class_weights = torch.tensor(class_weights, dtype=torch.float32).to(DEVICE)\n",
    "print(f\"Class Weights: {class_weights}\")\n",
    "class_weights_dict = {i: class_weights[i] for i in range(len(class_weights))}\n",
    "print(f\"class weights dict: {class_weights_dict}\")\n",
    "pos_weight = class_weights[1] / class_weights[0]\n",
    "pos_weight = pos_weight.to(DEVICE)\n",
    "print(f\"Positive class weight for Cross-Entropy Loss: {pos_weight}\")"
   ]
  },
  {
   "cell_type": "code",
   "execution_count": 76,
   "id": "8237b1e6",
   "metadata": {},
   "outputs": [],
   "source": [
    "def combined_loss(preds, targets, class_weights, alpha):\n",
    "    bce_loss = nn.BCEWithLogitsLoss(weight=class_weights)(preds, targets)\n",
    "    dice_loss_val = dice_loss(preds, targets, threshold=0.5)\n",
    "    return alpha*bce_loss + (1-alpha) * dice_loss_val"
   ]
  },
  {
   "cell_type": "code",
   "execution_count": 44,
   "id": "04f20a61",
   "metadata": {},
   "outputs": [],
   "source": [
    "criterion = lambda preds, targets: combined_loss(preds, targets, pos_weight, 0.7)\n",
    "model_exp2 = UNet(in_channels=1, num_classes=1)\n",
    "optimizer = optim.Adam(model_exp2.parameters(), lr=0.0001, weight_decay=1e-4,amsgrad=True)\n",
    "model_exp2 = model_exp2.to(DEVICE)\n",
    "num_epochs = 100\n",
    "patience_counter = 7"
   ]
  },
  {
   "cell_type": "code",
   "execution_count": 45,
   "id": "61be19b1",
   "metadata": {},
   "outputs": [
    {
     "name": "stderr",
     "output_type": "stream",
     "text": [
      "Train Epoch 1/100: 100%|██████████| 58/58 [00:06<00:00,  9.60it/s]\n",
      "Validation Epoch 1/100: 100%|██████████| 30/30 [00:01<00:00, 29.85it/s]\n"
     ]
    },
    {
     "name": "stdout",
     "output_type": "stream",
     "text": [
      "Epoch 1/100, Train Loss: 54.8146, Val Loss: 43.7171\n"
     ]
    },
    {
     "name": "stderr",
     "output_type": "stream",
     "text": [
      "Train Epoch 2/100: 100%|██████████| 58/58 [00:06<00:00,  9.58it/s]\n",
      "Validation Epoch 2/100: 100%|██████████| 30/30 [00:01<00:00, 29.66it/s]\n"
     ]
    },
    {
     "name": "stdout",
     "output_type": "stream",
     "text": [
      "Epoch 2/100, Train Loss: 38.6476, Val Loss: 36.7753\n"
     ]
    },
    {
     "name": "stderr",
     "output_type": "stream",
     "text": [
      "Train Epoch 3/100: 100%|██████████| 58/58 [00:06<00:00,  9.56it/s]\n",
      "Validation Epoch 3/100: 100%|██████████| 30/30 [00:01<00:00, 29.78it/s]\n"
     ]
    },
    {
     "name": "stdout",
     "output_type": "stream",
     "text": [
      "Epoch 3/100, Train Loss: 33.3531, Val Loss: 30.7940\n"
     ]
    },
    {
     "name": "stderr",
     "output_type": "stream",
     "text": [
      "Train Epoch 4/100: 100%|██████████| 58/58 [00:06<00:00,  9.58it/s]\n",
      "Validation Epoch 4/100: 100%|██████████| 30/30 [00:01<00:00, 29.72it/s]\n"
     ]
    },
    {
     "name": "stdout",
     "output_type": "stream",
     "text": [
      "Epoch 4/100, Train Loss: 29.2543, Val Loss: 28.2729\n"
     ]
    },
    {
     "name": "stderr",
     "output_type": "stream",
     "text": [
      "Train Epoch 5/100: 100%|██████████| 58/58 [00:06<00:00,  9.58it/s]\n",
      "Validation Epoch 5/100: 100%|██████████| 30/30 [00:01<00:00, 29.85it/s]\n"
     ]
    },
    {
     "name": "stdout",
     "output_type": "stream",
     "text": [
      "Epoch 5/100, Train Loss: 25.6808, Val Loss: 24.3218\n"
     ]
    },
    {
     "name": "stderr",
     "output_type": "stream",
     "text": [
      "Train Epoch 6/100: 100%|██████████| 58/58 [00:06<00:00,  9.55it/s]\n",
      "Validation Epoch 6/100: 100%|██████████| 30/30 [00:01<00:00, 29.75it/s]\n"
     ]
    },
    {
     "name": "stdout",
     "output_type": "stream",
     "text": [
      "Epoch 6/100, Train Loss: 22.5819, Val Loss: 21.4968\n"
     ]
    },
    {
     "name": "stderr",
     "output_type": "stream",
     "text": [
      "Train Epoch 7/100: 100%|██████████| 58/58 [00:06<00:00,  9.54it/s]\n",
      "Validation Epoch 7/100: 100%|██████████| 30/30 [00:01<00:00, 29.68it/s]\n"
     ]
    },
    {
     "name": "stdout",
     "output_type": "stream",
     "text": [
      "Epoch 7/100, Train Loss: 19.9259, Val Loss: 19.6240\n"
     ]
    },
    {
     "name": "stderr",
     "output_type": "stream",
     "text": [
      "Train Epoch 8/100: 100%|██████████| 58/58 [00:06<00:00,  9.53it/s]\n",
      "Validation Epoch 8/100: 100%|██████████| 30/30 [00:01<00:00, 29.68it/s]\n"
     ]
    },
    {
     "name": "stdout",
     "output_type": "stream",
     "text": [
      "Epoch 8/100, Train Loss: 17.4601, Val Loss: 17.3830\n"
     ]
    },
    {
     "name": "stderr",
     "output_type": "stream",
     "text": [
      "Train Epoch 9/100: 100%|██████████| 58/58 [00:06<00:00,  9.52it/s]\n",
      "Validation Epoch 9/100: 100%|██████████| 30/30 [00:01<00:00, 29.67it/s]\n"
     ]
    },
    {
     "name": "stdout",
     "output_type": "stream",
     "text": [
      "Epoch 9/100, Train Loss: 15.2585, Val Loss: 14.5666\n"
     ]
    },
    {
     "name": "stderr",
     "output_type": "stream",
     "text": [
      "Train Epoch 10/100: 100%|██████████| 58/58 [00:06<00:00,  9.51it/s]\n",
      "Validation Epoch 10/100: 100%|██████████| 30/30 [00:01<00:00, 29.68it/s]\n"
     ]
    },
    {
     "name": "stdout",
     "output_type": "stream",
     "text": [
      "Epoch 10/100, Train Loss: 13.2707, Val Loss: 12.5337\n"
     ]
    },
    {
     "name": "stderr",
     "output_type": "stream",
     "text": [
      "Train Epoch 11/100: 100%|██████████| 58/58 [00:06<00:00,  9.50it/s]\n",
      "Validation Epoch 11/100: 100%|██████████| 30/30 [00:01<00:00, 29.65it/s]\n"
     ]
    },
    {
     "name": "stdout",
     "output_type": "stream",
     "text": [
      "Epoch 11/100, Train Loss: 11.6044, Val Loss: 11.3560\n"
     ]
    },
    {
     "name": "stderr",
     "output_type": "stream",
     "text": [
      "Train Epoch 12/100: 100%|██████████| 58/58 [00:06<00:00,  9.50it/s]\n",
      "Validation Epoch 12/100: 100%|██████████| 30/30 [00:01<00:00, 29.56it/s]\n"
     ]
    },
    {
     "name": "stdout",
     "output_type": "stream",
     "text": [
      "Epoch 12/100, Train Loss: 10.1004, Val Loss: 9.2533\n"
     ]
    },
    {
     "name": "stderr",
     "output_type": "stream",
     "text": [
      "Train Epoch 13/100: 100%|██████████| 58/58 [00:06<00:00,  9.49it/s]\n",
      "Validation Epoch 13/100: 100%|██████████| 30/30 [00:01<00:00, 29.61it/s]\n"
     ]
    },
    {
     "name": "stdout",
     "output_type": "stream",
     "text": [
      "Epoch 13/100, Train Loss: 8.7127, Val Loss: 8.4273\n"
     ]
    },
    {
     "name": "stderr",
     "output_type": "stream",
     "text": [
      "Train Epoch 14/100: 100%|██████████| 58/58 [00:06<00:00,  9.48it/s]\n",
      "Validation Epoch 14/100: 100%|██████████| 30/30 [00:01<00:00, 29.56it/s]\n"
     ]
    },
    {
     "name": "stdout",
     "output_type": "stream",
     "text": [
      "Epoch 14/100, Train Loss: 7.5127, Val Loss: 7.3685\n"
     ]
    },
    {
     "name": "stderr",
     "output_type": "stream",
     "text": [
      "Train Epoch 15/100: 100%|██████████| 58/58 [00:06<00:00,  9.47it/s]\n",
      "Validation Epoch 15/100: 100%|██████████| 30/30 [00:01<00:00, 29.58it/s]\n"
     ]
    },
    {
     "name": "stdout",
     "output_type": "stream",
     "text": [
      "Epoch 15/100, Train Loss: 6.5681, Val Loss: 6.5796\n"
     ]
    },
    {
     "name": "stderr",
     "output_type": "stream",
     "text": [
      "Train Epoch 16/100: 100%|██████████| 58/58 [00:06<00:00,  9.47it/s]\n",
      "Validation Epoch 16/100: 100%|██████████| 30/30 [00:01<00:00, 29.46it/s]\n"
     ]
    },
    {
     "name": "stdout",
     "output_type": "stream",
     "text": [
      "Epoch 16/100, Train Loss: 5.7711, Val Loss: 5.2809\n"
     ]
    },
    {
     "name": "stderr",
     "output_type": "stream",
     "text": [
      "Train Epoch 17/100: 100%|██████████| 58/58 [00:06<00:00,  9.46it/s]\n",
      "Validation Epoch 17/100: 100%|██████████| 30/30 [00:01<00:00, 29.50it/s]\n"
     ]
    },
    {
     "name": "stdout",
     "output_type": "stream",
     "text": [
      "Epoch 17/100, Train Loss: 4.9982, Val Loss: 4.8878\n"
     ]
    },
    {
     "name": "stderr",
     "output_type": "stream",
     "text": [
      "Train Epoch 18/100: 100%|██████████| 58/58 [00:06<00:00,  9.46it/s]\n",
      "Validation Epoch 18/100: 100%|██████████| 30/30 [00:01<00:00, 29.56it/s]\n"
     ]
    },
    {
     "name": "stdout",
     "output_type": "stream",
     "text": [
      "Epoch 18/100, Train Loss: 4.4402, Val Loss: 4.1987\n"
     ]
    },
    {
     "name": "stderr",
     "output_type": "stream",
     "text": [
      "Train Epoch 19/100: 100%|██████████| 58/58 [00:06<00:00,  9.46it/s]\n",
      "Validation Epoch 19/100: 100%|██████████| 30/30 [00:01<00:00, 29.56it/s]\n"
     ]
    },
    {
     "name": "stdout",
     "output_type": "stream",
     "text": [
      "Epoch 19/100, Train Loss: 3.8100, Val Loss: 3.6712\n"
     ]
    },
    {
     "name": "stderr",
     "output_type": "stream",
     "text": [
      "Train Epoch 20/100: 100%|██████████| 58/58 [00:06<00:00,  9.45it/s]\n",
      "Validation Epoch 20/100: 100%|██████████| 30/30 [00:01<00:00, 29.53it/s]\n"
     ]
    },
    {
     "name": "stdout",
     "output_type": "stream",
     "text": [
      "Epoch 20/100, Train Loss: 3.3546, Val Loss: 3.3717\n"
     ]
    },
    {
     "name": "stderr",
     "output_type": "stream",
     "text": [
      "Train Epoch 21/100: 100%|██████████| 58/58 [00:06<00:00,  9.46it/s]\n",
      "Validation Epoch 21/100: 100%|██████████| 30/30 [00:01<00:00, 29.48it/s]\n"
     ]
    },
    {
     "name": "stdout",
     "output_type": "stream",
     "text": [
      "Epoch 21/100, Train Loss: 3.0560, Val Loss: 2.9013\n"
     ]
    },
    {
     "name": "stderr",
     "output_type": "stream",
     "text": [
      "Train Epoch 22/100: 100%|██████████| 58/58 [00:06<00:00,  9.45it/s]\n",
      "Validation Epoch 22/100: 100%|██████████| 30/30 [00:01<00:00, 29.58it/s]\n"
     ]
    },
    {
     "name": "stdout",
     "output_type": "stream",
     "text": [
      "Epoch 22/100, Train Loss: 2.7142, Val Loss: 2.7469\n"
     ]
    },
    {
     "name": "stderr",
     "output_type": "stream",
     "text": [
      "Train Epoch 23/100: 100%|██████████| 58/58 [00:06<00:00,  9.45it/s]\n",
      "Validation Epoch 23/100: 100%|██████████| 30/30 [00:01<00:00, 29.52it/s]\n"
     ]
    },
    {
     "name": "stdout",
     "output_type": "stream",
     "text": [
      "Epoch 23/100, Train Loss: 2.3837, Val Loss: 2.3461\n"
     ]
    },
    {
     "name": "stderr",
     "output_type": "stream",
     "text": [
      "Train Epoch 24/100: 100%|██████████| 58/58 [00:06<00:00,  9.45it/s]\n",
      "Validation Epoch 24/100: 100%|██████████| 30/30 [00:01<00:00, 29.40it/s]\n"
     ]
    },
    {
     "name": "stdout",
     "output_type": "stream",
     "text": [
      "Epoch 24/100, Train Loss: 2.1740, Val Loss: 2.1217\n"
     ]
    },
    {
     "name": "stderr",
     "output_type": "stream",
     "text": [
      "Train Epoch 25/100: 100%|██████████| 58/58 [00:06<00:00,  9.44it/s]\n",
      "Validation Epoch 25/100: 100%|██████████| 30/30 [00:01<00:00, 29.42it/s]\n"
     ]
    },
    {
     "name": "stdout",
     "output_type": "stream",
     "text": [
      "Epoch 25/100, Train Loss: 1.9424, Val Loss: 1.8288\n"
     ]
    },
    {
     "name": "stderr",
     "output_type": "stream",
     "text": [
      "Train Epoch 26/100: 100%|██████████| 58/58 [00:06<00:00,  9.44it/s]\n",
      "Validation Epoch 26/100: 100%|██████████| 30/30 [00:01<00:00, 29.50it/s]\n"
     ]
    },
    {
     "name": "stdout",
     "output_type": "stream",
     "text": [
      "Epoch 26/100, Train Loss: 1.7261, Val Loss: 1.7311\n"
     ]
    },
    {
     "name": "stderr",
     "output_type": "stream",
     "text": [
      "Train Epoch 27/100: 100%|██████████| 58/58 [00:06<00:00,  9.44it/s]\n",
      "Validation Epoch 27/100: 100%|██████████| 30/30 [00:01<00:00, 29.44it/s]\n"
     ]
    },
    {
     "name": "stdout",
     "output_type": "stream",
     "text": [
      "Epoch 27/100, Train Loss: 1.6024, Val Loss: 1.5553\n"
     ]
    },
    {
     "name": "stderr",
     "output_type": "stream",
     "text": [
      "Train Epoch 28/100: 100%|██████████| 58/58 [00:06<00:00,  9.44it/s]\n",
      "Validation Epoch 28/100: 100%|██████████| 30/30 [00:01<00:00, 29.31it/s]\n"
     ]
    },
    {
     "name": "stdout",
     "output_type": "stream",
     "text": [
      "Epoch 28/100, Train Loss: 1.4719, Val Loss: 1.6697\n"
     ]
    },
    {
     "name": "stderr",
     "output_type": "stream",
     "text": [
      "Train Epoch 29/100: 100%|██████████| 58/58 [00:06<00:00,  9.42it/s]\n",
      "Validation Epoch 29/100: 100%|██████████| 30/30 [00:01<00:00, 29.42it/s]\n"
     ]
    },
    {
     "name": "stdout",
     "output_type": "stream",
     "text": [
      "Epoch 29/100, Train Loss: 1.3694, Val Loss: 1.5171\n"
     ]
    },
    {
     "name": "stderr",
     "output_type": "stream",
     "text": [
      "Train Epoch 30/100: 100%|██████████| 58/58 [00:06<00:00,  9.42it/s]\n",
      "Validation Epoch 30/100: 100%|██████████| 30/30 [00:01<00:00, 29.45it/s]\n"
     ]
    },
    {
     "name": "stdout",
     "output_type": "stream",
     "text": [
      "Epoch 30/100, Train Loss: 1.2600, Val Loss: 1.3947\n"
     ]
    },
    {
     "name": "stderr",
     "output_type": "stream",
     "text": [
      "Train Epoch 31/100: 100%|██████████| 58/58 [00:06<00:00,  9.38it/s]\n",
      "Validation Epoch 31/100: 100%|██████████| 30/30 [00:01<00:00, 29.45it/s]\n"
     ]
    },
    {
     "name": "stdout",
     "output_type": "stream",
     "text": [
      "Epoch 31/100, Train Loss: 1.1839, Val Loss: 1.4303\n"
     ]
    },
    {
     "name": "stderr",
     "output_type": "stream",
     "text": [
      "Train Epoch 32/100: 100%|██████████| 58/58 [00:06<00:00,  9.42it/s]\n",
      "Validation Epoch 32/100: 100%|██████████| 30/30 [00:01<00:00, 29.44it/s]\n"
     ]
    },
    {
     "name": "stdout",
     "output_type": "stream",
     "text": [
      "Epoch 32/100, Train Loss: 1.1306, Val Loss: 1.2581\n"
     ]
    },
    {
     "name": "stderr",
     "output_type": "stream",
     "text": [
      "Train Epoch 33/100: 100%|██████████| 58/58 [00:06<00:00,  9.42it/s]\n",
      "Validation Epoch 33/100: 100%|██████████| 30/30 [00:01<00:00, 29.40it/s]\n"
     ]
    },
    {
     "name": "stdout",
     "output_type": "stream",
     "text": [
      "Epoch 33/100, Train Loss: 1.0469, Val Loss: 1.3324\n"
     ]
    },
    {
     "name": "stderr",
     "output_type": "stream",
     "text": [
      "Train Epoch 34/100: 100%|██████████| 58/58 [00:06<00:00,  9.42it/s]\n",
      "Validation Epoch 34/100: 100%|██████████| 30/30 [00:01<00:00, 29.39it/s]\n"
     ]
    },
    {
     "name": "stdout",
     "output_type": "stream",
     "text": [
      "Epoch 34/100, Train Loss: 0.9750, Val Loss: 1.1523\n"
     ]
    },
    {
     "name": "stderr",
     "output_type": "stream",
     "text": [
      "Train Epoch 35/100: 100%|██████████| 58/58 [00:06<00:00,  9.43it/s]\n",
      "Validation Epoch 35/100: 100%|██████████| 30/30 [00:01<00:00, 29.45it/s]\n"
     ]
    },
    {
     "name": "stdout",
     "output_type": "stream",
     "text": [
      "Epoch 35/100, Train Loss: 0.9296, Val Loss: 1.1090\n"
     ]
    },
    {
     "name": "stderr",
     "output_type": "stream",
     "text": [
      "Train Epoch 36/100: 100%|██████████| 58/58 [00:06<00:00,  9.42it/s]\n",
      "Validation Epoch 36/100: 100%|██████████| 30/30 [00:01<00:00, 29.44it/s]\n"
     ]
    },
    {
     "name": "stdout",
     "output_type": "stream",
     "text": [
      "Epoch 36/100, Train Loss: 0.8708, Val Loss: 1.0520\n"
     ]
    },
    {
     "name": "stderr",
     "output_type": "stream",
     "text": [
      "Train Epoch 37/100: 100%|██████████| 58/58 [00:06<00:00,  9.42it/s]\n",
      "Validation Epoch 37/100: 100%|██████████| 30/30 [00:01<00:00, 29.41it/s]\n"
     ]
    },
    {
     "name": "stdout",
     "output_type": "stream",
     "text": [
      "Epoch 37/100, Train Loss: 0.8284, Val Loss: 1.1068\n"
     ]
    },
    {
     "name": "stderr",
     "output_type": "stream",
     "text": [
      "Train Epoch 38/100: 100%|██████████| 58/58 [00:06<00:00,  9.42it/s]\n",
      "Validation Epoch 38/100: 100%|██████████| 30/30 [00:01<00:00, 29.40it/s]\n"
     ]
    },
    {
     "name": "stdout",
     "output_type": "stream",
     "text": [
      "Epoch 38/100, Train Loss: 0.7818, Val Loss: 1.0643\n"
     ]
    },
    {
     "name": "stderr",
     "output_type": "stream",
     "text": [
      "Train Epoch 39/100: 100%|██████████| 58/58 [00:06<00:00,  9.42it/s]\n",
      "Validation Epoch 39/100: 100%|██████████| 30/30 [00:01<00:00, 29.42it/s]\n"
     ]
    },
    {
     "name": "stdout",
     "output_type": "stream",
     "text": [
      "Epoch 39/100, Train Loss: 0.7558, Val Loss: 1.0610\n"
     ]
    },
    {
     "name": "stderr",
     "output_type": "stream",
     "text": [
      "Train Epoch 40/100: 100%|██████████| 58/58 [00:06<00:00,  9.42it/s]\n",
      "Validation Epoch 40/100: 100%|██████████| 30/30 [00:01<00:00, 29.43it/s]\n"
     ]
    },
    {
     "name": "stdout",
     "output_type": "stream",
     "text": [
      "Epoch 40/100, Train Loss: 0.7357, Val Loss: 1.2029\n"
     ]
    },
    {
     "name": "stderr",
     "output_type": "stream",
     "text": [
      "Train Epoch 41/100: 100%|██████████| 58/58 [00:06<00:00,  9.42it/s]\n",
      "Validation Epoch 41/100: 100%|██████████| 30/30 [00:01<00:00, 29.35it/s]\n"
     ]
    },
    {
     "name": "stdout",
     "output_type": "stream",
     "text": [
      "Epoch 41/100, Train Loss: 0.7027, Val Loss: 1.0009\n"
     ]
    },
    {
     "name": "stderr",
     "output_type": "stream",
     "text": [
      "Train Epoch 42/100: 100%|██████████| 58/58 [00:06<00:00,  9.42it/s]\n",
      "Validation Epoch 42/100: 100%|██████████| 30/30 [00:01<00:00, 29.41it/s]\n"
     ]
    },
    {
     "name": "stdout",
     "output_type": "stream",
     "text": [
      "Epoch 42/100, Train Loss: 0.6905, Val Loss: 0.9890\n"
     ]
    },
    {
     "name": "stderr",
     "output_type": "stream",
     "text": [
      "Train Epoch 43/100: 100%|██████████| 58/58 [00:06<00:00,  9.42it/s]\n",
      "Validation Epoch 43/100: 100%|██████████| 30/30 [00:01<00:00, 29.43it/s]\n"
     ]
    },
    {
     "name": "stdout",
     "output_type": "stream",
     "text": [
      "Epoch 43/100, Train Loss: 0.6599, Val Loss: 1.0413\n"
     ]
    },
    {
     "name": "stderr",
     "output_type": "stream",
     "text": [
      "Train Epoch 44/100: 100%|██████████| 58/58 [00:06<00:00,  9.42it/s]\n",
      "Validation Epoch 44/100: 100%|██████████| 30/30 [00:01<00:00, 29.41it/s]\n"
     ]
    },
    {
     "name": "stdout",
     "output_type": "stream",
     "text": [
      "Epoch 44/100, Train Loss: 0.6318, Val Loss: 0.9911\n"
     ]
    },
    {
     "name": "stderr",
     "output_type": "stream",
     "text": [
      "Train Epoch 45/100: 100%|██████████| 58/58 [00:06<00:00,  9.42it/s]\n",
      "Validation Epoch 45/100: 100%|██████████| 30/30 [00:01<00:00, 29.41it/s]\n"
     ]
    },
    {
     "name": "stdout",
     "output_type": "stream",
     "text": [
      "Epoch 45/100, Train Loss: 0.5927, Val Loss: 0.9670\n"
     ]
    },
    {
     "name": "stderr",
     "output_type": "stream",
     "text": [
      "Train Epoch 46/100: 100%|██████████| 58/58 [00:06<00:00,  9.42it/s]\n",
      "Validation Epoch 46/100: 100%|██████████| 30/30 [00:01<00:00, 29.33it/s]\n"
     ]
    },
    {
     "name": "stdout",
     "output_type": "stream",
     "text": [
      "Epoch 46/100, Train Loss: 0.5790, Val Loss: 0.9883\n"
     ]
    },
    {
     "name": "stderr",
     "output_type": "stream",
     "text": [
      "Train Epoch 47/100: 100%|██████████| 58/58 [00:06<00:00,  9.42it/s]\n",
      "Validation Epoch 47/100: 100%|██████████| 30/30 [00:01<00:00, 29.36it/s]\n"
     ]
    },
    {
     "name": "stdout",
     "output_type": "stream",
     "text": [
      "Epoch 47/100, Train Loss: 0.5558, Val Loss: 0.9879\n"
     ]
    },
    {
     "name": "stderr",
     "output_type": "stream",
     "text": [
      "Train Epoch 48/100: 100%|██████████| 58/58 [00:06<00:00,  9.42it/s]\n",
      "Validation Epoch 48/100: 100%|██████████| 30/30 [00:01<00:00, 29.41it/s]\n"
     ]
    },
    {
     "name": "stdout",
     "output_type": "stream",
     "text": [
      "Epoch 48/100, Train Loss: 0.5306, Val Loss: 0.9414\n"
     ]
    },
    {
     "name": "stderr",
     "output_type": "stream",
     "text": [
      "Train Epoch 49/100: 100%|██████████| 58/58 [00:06<00:00,  9.42it/s]\n",
      "Validation Epoch 49/100: 100%|██████████| 30/30 [00:01<00:00, 29.39it/s]\n"
     ]
    },
    {
     "name": "stdout",
     "output_type": "stream",
     "text": [
      "Epoch 49/100, Train Loss: 0.5137, Val Loss: 0.9538\n"
     ]
    },
    {
     "name": "stderr",
     "output_type": "stream",
     "text": [
      "Train Epoch 50/100: 100%|██████████| 58/58 [00:06<00:00,  9.42it/s]\n",
      "Validation Epoch 50/100: 100%|██████████| 30/30 [00:01<00:00, 29.38it/s]\n"
     ]
    },
    {
     "name": "stdout",
     "output_type": "stream",
     "text": [
      "Epoch 50/100, Train Loss: 0.5220, Val Loss: 0.9675\n"
     ]
    },
    {
     "name": "stderr",
     "output_type": "stream",
     "text": [
      "Train Epoch 51/100: 100%|██████████| 58/58 [00:06<00:00,  9.42it/s]\n",
      "Validation Epoch 51/100: 100%|██████████| 30/30 [00:01<00:00, 29.42it/s]\n"
     ]
    },
    {
     "name": "stdout",
     "output_type": "stream",
     "text": [
      "Epoch 51/100, Train Loss: 0.4877, Val Loss: 0.9501\n"
     ]
    },
    {
     "name": "stderr",
     "output_type": "stream",
     "text": [
      "Train Epoch 52/100: 100%|██████████| 58/58 [00:06<00:00,  9.41it/s]\n",
      "Validation Epoch 52/100: 100%|██████████| 30/30 [00:01<00:00, 29.40it/s]\n"
     ]
    },
    {
     "name": "stdout",
     "output_type": "stream",
     "text": [
      "Epoch 52/100, Train Loss: 0.4537, Val Loss: 1.0188\n"
     ]
    },
    {
     "name": "stderr",
     "output_type": "stream",
     "text": [
      "Train Epoch 53/100: 100%|██████████| 58/58 [00:06<00:00,  9.42it/s]\n",
      "Validation Epoch 53/100: 100%|██████████| 30/30 [00:01<00:00, 29.33it/s]\n"
     ]
    },
    {
     "name": "stdout",
     "output_type": "stream",
     "text": [
      "Epoch 53/100, Train Loss: 0.4480, Val Loss: 0.9630\n"
     ]
    },
    {
     "name": "stderr",
     "output_type": "stream",
     "text": [
      "Train Epoch 54/100: 100%|██████████| 58/58 [00:06<00:00,  9.42it/s]\n",
      "Validation Epoch 54/100: 100%|██████████| 30/30 [00:01<00:00, 29.43it/s]\n"
     ]
    },
    {
     "name": "stdout",
     "output_type": "stream",
     "text": [
      "Epoch 54/100, Train Loss: 0.4188, Val Loss: 0.9974\n"
     ]
    },
    {
     "name": "stderr",
     "output_type": "stream",
     "text": [
      "Train Epoch 55/100: 100%|██████████| 58/58 [00:06<00:00,  9.41it/s]\n",
      "Validation Epoch 55/100: 100%|██████████| 30/30 [00:01<00:00, 29.39it/s]"
     ]
    },
    {
     "name": "stdout",
     "output_type": "stream",
     "text": [
      "Epoch 55/100, Train Loss: 0.4119, Val Loss: 0.9960\n",
      "Early stopping triggered\n"
     ]
    },
    {
     "name": "stderr",
     "output_type": "stream",
     "text": [
      "\n"
     ]
    }
   ],
   "source": [
    "training_losses, validation_losses, train_dice_scores, valid_dice_scores = trainer_class(model_exp2, train_loader, test_loader, criterion, optimizer, num_epochs, device, patience_counter, scheduler=None)"
   ]
  },
  {
   "cell_type": "code",
   "execution_count": 46,
   "id": "cdb4140e",
   "metadata": {},
   "outputs": [
    {
     "data": {
      "image/png": "[encoded data removed]",
      "text/plain": [
       "<Figure size 800x500 with 1 Axes>"
      ]
     },
     "metadata": {},
     "output_type": "display_data"
    }
   ],
   "source": [
    "plot_losses(training_losses, validation_losses)"
   ]
  },
  {
   "cell_type": "code",
   "execution_count": 70,
   "id": "46ea2bea",
   "metadata": {},
   "outputs": [
    {
     "name": "stdout",
     "output_type": "stream",
     "text": [
      "Mean Dice Score: 0.7796\n",
      "Mean F1 Score: 0.7796\n",
      "Mean Lesion-wise Accuracy: 0.9345\n"
     ]
    }
   ],
   "source": [
    "model_exp2 = UNet(in_channels=1, num_classes=1)\n",
    "model_exp2.load_state_dict(torch.load(\"unet_model2.pth\"))\n",
    "model_exp2 = model_exp2.to(DEVICE)\n",
    "train_dice_scores, f1_scores, lesion_accuracies, preds = evaluate_model(model_exp2, test_loader, DEVICE, threshold=0.47)\n",
    "print(f\"Mean Dice Score: {np.mean(train_dice_scores):.4f}\")\n",
    "print(f\"Mean F1 Score: {np.mean(f1_scores):.4f}\")\n",
    "print(f\"Mean Lesion-wise Accuracy: {np.mean(lesion_accuracies):.4f}\")\n"
   ]
  },
  {
   "cell_type": "code",
   "execution_count": null,
   "id": "eaa12e54",
   "metadata": {},
   "outputs": [
    {
     "data": {
      "image/png": "[encoded data removed]",
      "text/plain": [
       "<Figure size 1200x1600 with 8 Axes>"
      ]
     },
     "metadata": {},
     "output_type": "display_data"
    }
   ],
   "source": [
    "unet_predicted_masks_exp2 = preds.reshape(test_images.shape)\n",
    "plotSamples(unet_predicted_masks_exp2, test_images, test_masks).plot_best_worst(num_samples=2)"
   ]
  },
  {
   "cell_type": "markdown",
   "id": "d8357f52",
   "metadata": {},
   "source": [
    "## Experiment 3\n",
    "### Learning Rate Scheduler"
   ]
  },
  {
   "cell_type": "code",
   "execution_count": 54,
   "id": "5011a97a",
   "metadata": {},
   "outputs": [],
   "source": [
    "model_exp3 = UNet(1,1)\n",
    "model_exp3 = model_exp3.to(DEVICE)\n",
    "optimizer = optim.Adam(model_exp3.parameters(), lr=1e-3, weight_decay=1e-4)\n",
    "criterion = lambda preds, targets: combined_loss(preds, targets, pos_weight, 0.5)\n",
    "num_epochs = 75\n",
    "patience_counter = 10\n",
    "scheduler = torch.optim.lr_scheduler.ReduceLROnPlateau(optimizer, factor=0.1, patience=5)"
   ]
  },
  {
   "cell_type": "code",
   "execution_count": 55,
   "id": "08602236",
   "metadata": {},
   "outputs": [
    {
     "name": "stderr",
     "output_type": "stream",
     "text": [
      "Train Epoch 1/75: 100%|██████████| 58/58 [00:06<00:00,  9.60it/s]\n",
      "Validation Epoch 1/75: 100%|██████████| 30/30 [00:01<00:00, 29.82it/s]\n"
     ]
    },
    {
     "name": "stdout",
     "output_type": "stream",
     "text": [
      "Epoch 1/75, Train Loss: 27.0932, Val Loss: 15.9953\n"
     ]
    },
    {
     "name": "stderr",
     "output_type": "stream",
     "text": [
      "Train Epoch 2/75: 100%|██████████| 58/58 [00:06<00:00,  9.60it/s]\n",
      "Validation Epoch 2/75: 100%|██████████| 30/30 [00:01<00:00, 29.88it/s]\n"
     ]
    },
    {
     "name": "stdout",
     "output_type": "stream",
     "text": [
      "Epoch 2/75, Train Loss: 7.0278, Val Loss: 4.2923\n"
     ]
    },
    {
     "name": "stderr",
     "output_type": "stream",
     "text": [
      "Train Epoch 3/75: 100%|██████████| 58/58 [00:06<00:00,  9.63it/s]\n",
      "Validation Epoch 3/75: 100%|██████████| 30/30 [00:01<00:00, 29.85it/s]\n"
     ]
    },
    {
     "name": "stdout",
     "output_type": "stream",
     "text": [
      "Epoch 3/75, Train Loss: 2.0849, Val Loss: 1.4805\n"
     ]
    },
    {
     "name": "stderr",
     "output_type": "stream",
     "text": [
      "Train Epoch 4/75: 100%|██████████| 58/58 [00:06<00:00,  9.57it/s]\n",
      "Validation Epoch 4/75: 100%|██████████| 30/30 [00:01<00:00, 29.75it/s]\n"
     ]
    },
    {
     "name": "stdout",
     "output_type": "stream",
     "text": [
      "Epoch 4/75, Train Loss: 1.3602, Val Loss: 1.6646\n"
     ]
    },
    {
     "name": "stderr",
     "output_type": "stream",
     "text": [
      "Train Epoch 5/75: 100%|██████████| 58/58 [00:06<00:00,  9.59it/s]\n",
      "Validation Epoch 5/75: 100%|██████████| 30/30 [00:01<00:00, 29.72it/s]\n"
     ]
    },
    {
     "name": "stdout",
     "output_type": "stream",
     "text": [
      "Epoch 5/75, Train Loss: 1.0599, Val Loss: 1.0313\n"
     ]
    },
    {
     "name": "stderr",
     "output_type": "stream",
     "text": [
      "Train Epoch 6/75: 100%|██████████| 58/58 [00:06<00:00,  9.59it/s]\n",
      "Validation Epoch 6/75: 100%|██████████| 30/30 [00:01<00:00, 29.72it/s]\n"
     ]
    },
    {
     "name": "stdout",
     "output_type": "stream",
     "text": [
      "Epoch 6/75, Train Loss: 0.9719, Val Loss: 1.6006\n"
     ]
    },
    {
     "name": "stderr",
     "output_type": "stream",
     "text": [
      "Train Epoch 7/75: 100%|██████████| 58/58 [00:06<00:00,  9.57it/s]\n",
      "Validation Epoch 7/75: 100%|██████████| 30/30 [00:01<00:00, 29.68it/s]\n"
     ]
    },
    {
     "name": "stdout",
     "output_type": "stream",
     "text": [
      "Epoch 7/75, Train Loss: 0.9150, Val Loss: 1.7584\n"
     ]
    },
    {
     "name": "stderr",
     "output_type": "stream",
     "text": [
      "Train Epoch 8/75: 100%|██████████| 58/58 [00:06<00:00,  9.56it/s]\n",
      "Validation Epoch 8/75: 100%|██████████| 30/30 [00:01<00:00, 29.65it/s]\n"
     ]
    },
    {
     "name": "stdout",
     "output_type": "stream",
     "text": [
      "Epoch 8/75, Train Loss: 0.8220, Val Loss: 1.6435\n"
     ]
    },
    {
     "name": "stderr",
     "output_type": "stream",
     "text": [
      "Train Epoch 9/75: 100%|██████████| 58/58 [00:06<00:00,  9.55it/s]\n",
      "Validation Epoch 9/75: 100%|██████████| 30/30 [00:01<00:00, 29.65it/s]\n"
     ]
    },
    {
     "name": "stdout",
     "output_type": "stream",
     "text": [
      "Epoch 9/75, Train Loss: 0.8409, Val Loss: 1.1359\n"
     ]
    },
    {
     "name": "stderr",
     "output_type": "stream",
     "text": [
      "Train Epoch 10/75: 100%|██████████| 58/58 [00:06<00:00,  9.51it/s]\n",
      "Validation Epoch 10/75: 100%|██████████| 30/30 [00:01<00:00, 29.62it/s]\n"
     ]
    },
    {
     "name": "stdout",
     "output_type": "stream",
     "text": [
      "Epoch 10/75, Train Loss: 0.8152, Val Loss: 1.4350\n"
     ]
    },
    {
     "name": "stderr",
     "output_type": "stream",
     "text": [
      "Train Epoch 11/75: 100%|██████████| 58/58 [00:06<00:00,  9.55it/s]\n",
      "Validation Epoch 11/75: 100%|██████████| 30/30 [00:01<00:00, 29.52it/s]\n"
     ]
    },
    {
     "name": "stdout",
     "output_type": "stream",
     "text": [
      "Epoch 11/75, Train Loss: 0.7492, Val Loss: 1.0494\n"
     ]
    },
    {
     "name": "stderr",
     "output_type": "stream",
     "text": [
      "Train Epoch 12/75: 100%|██████████| 58/58 [00:06<00:00,  9.53it/s]\n",
      "Validation Epoch 12/75: 100%|██████████| 30/30 [00:01<00:00, 29.58it/s]\n"
     ]
    },
    {
     "name": "stdout",
     "output_type": "stream",
     "text": [
      "Epoch 12/75, Train Loss: 0.6291, Val Loss: 0.9158\n"
     ]
    },
    {
     "name": "stderr",
     "output_type": "stream",
     "text": [
      "Train Epoch 13/75: 100%|██████████| 58/58 [00:06<00:00,  9.52it/s]\n",
      "Validation Epoch 13/75: 100%|██████████| 30/30 [00:01<00:00, 29.56it/s]\n"
     ]
    },
    {
     "name": "stdout",
     "output_type": "stream",
     "text": [
      "Epoch 13/75, Train Loss: 0.6130, Val Loss: 0.7191\n"
     ]
    },
    {
     "name": "stderr",
     "output_type": "stream",
     "text": [
      "Train Epoch 14/75: 100%|██████████| 58/58 [00:06<00:00,  9.52it/s]\n",
      "Validation Epoch 14/75: 100%|██████████| 30/30 [00:01<00:00, 29.55it/s]\n"
     ]
    },
    {
     "name": "stdout",
     "output_type": "stream",
     "text": [
      "Epoch 14/75, Train Loss: 0.5955, Val Loss: 0.7398\n"
     ]
    },
    {
     "name": "stderr",
     "output_type": "stream",
     "text": [
      "Train Epoch 15/75: 100%|██████████| 58/58 [00:06<00:00,  9.52it/s]\n",
      "Validation Epoch 15/75: 100%|██████████| 30/30 [00:01<00:00, 29.59it/s]\n"
     ]
    },
    {
     "name": "stdout",
     "output_type": "stream",
     "text": [
      "Epoch 15/75, Train Loss: 0.6088, Val Loss: 0.8222\n"
     ]
    },
    {
     "name": "stderr",
     "output_type": "stream",
     "text": [
      "Train Epoch 16/75: 100%|██████████| 58/58 [00:06<00:00,  9.52it/s]\n",
      "Validation Epoch 16/75: 100%|██████████| 30/30 [00:01<00:00, 29.54it/s]\n"
     ]
    },
    {
     "name": "stdout",
     "output_type": "stream",
     "text": [
      "Epoch 16/75, Train Loss: 0.5866, Val Loss: 0.7262\n"
     ]
    },
    {
     "name": "stderr",
     "output_type": "stream",
     "text": [
      "Train Epoch 17/75: 100%|██████████| 58/58 [00:06<00:00,  9.51it/s]\n",
      "Validation Epoch 17/75: 100%|██████████| 30/30 [00:01<00:00, 29.55it/s]\n"
     ]
    },
    {
     "name": "stdout",
     "output_type": "stream",
     "text": [
      "Epoch 17/75, Train Loss: 0.5877, Val Loss: 0.7016\n"
     ]
    },
    {
     "name": "stderr",
     "output_type": "stream",
     "text": [
      "Train Epoch 18/75: 100%|██████████| 58/58 [00:06<00:00,  9.51it/s]\n",
      "Validation Epoch 18/75: 100%|██████████| 30/30 [00:01<00:00, 29.51it/s]\n"
     ]
    },
    {
     "name": "stdout",
     "output_type": "stream",
     "text": [
      "Epoch 18/75, Train Loss: 0.5607, Val Loss: 0.7747\n"
     ]
    },
    {
     "name": "stderr",
     "output_type": "stream",
     "text": [
      "Train Epoch 19/75: 100%|██████████| 58/58 [00:06<00:00,  9.51it/s]\n",
      "Validation Epoch 19/75: 100%|██████████| 30/30 [00:01<00:00, 29.56it/s]\n"
     ]
    },
    {
     "name": "stdout",
     "output_type": "stream",
     "text": [
      "Epoch 19/75, Train Loss: 0.5603, Val Loss: 0.6729\n"
     ]
    },
    {
     "name": "stderr",
     "output_type": "stream",
     "text": [
      "Train Epoch 20/75: 100%|██████████| 58/58 [00:06<00:00,  9.51it/s]\n",
      "Validation Epoch 20/75: 100%|██████████| 30/30 [00:01<00:00, 29.55it/s]\n"
     ]
    },
    {
     "name": "stdout",
     "output_type": "stream",
     "text": [
      "Epoch 20/75, Train Loss: 0.5441, Val Loss: 0.7697\n"
     ]
    },
    {
     "name": "stderr",
     "output_type": "stream",
     "text": [
      "Train Epoch 21/75: 100%|██████████| 58/58 [00:06<00:00,  9.51it/s]\n",
      "Validation Epoch 21/75: 100%|██████████| 30/30 [00:01<00:00, 29.49it/s]\n"
     ]
    },
    {
     "name": "stdout",
     "output_type": "stream",
     "text": [
      "Epoch 21/75, Train Loss: 0.5492, Val Loss: 0.7999\n"
     ]
    },
    {
     "name": "stderr",
     "output_type": "stream",
     "text": [
      "Train Epoch 22/75: 100%|██████████| 58/58 [00:06<00:00,  9.51it/s]\n",
      "Validation Epoch 22/75: 100%|██████████| 30/30 [00:01<00:00, 29.46it/s]\n"
     ]
    },
    {
     "name": "stdout",
     "output_type": "stream",
     "text": [
      "Epoch 22/75, Train Loss: 0.5420, Val Loss: 0.7731\n"
     ]
    },
    {
     "name": "stderr",
     "output_type": "stream",
     "text": [
      "Train Epoch 23/75: 100%|██████████| 58/58 [00:06<00:00,  9.50it/s]\n",
      "Validation Epoch 23/75: 100%|██████████| 30/30 [00:01<00:00, 29.50it/s]\n"
     ]
    },
    {
     "name": "stdout",
     "output_type": "stream",
     "text": [
      "Epoch 23/75, Train Loss: 0.5458, Val Loss: 0.6937\n"
     ]
    },
    {
     "name": "stderr",
     "output_type": "stream",
     "text": [
      "Train Epoch 24/75: 100%|██████████| 58/58 [00:06<00:00,  9.50it/s]\n",
      "Validation Epoch 24/75: 100%|██████████| 30/30 [00:01<00:00, 29.45it/s]\n"
     ]
    },
    {
     "name": "stdout",
     "output_type": "stream",
     "text": [
      "Epoch 24/75, Train Loss: 0.5374, Val Loss: 0.6651\n"
     ]
    },
    {
     "name": "stderr",
     "output_type": "stream",
     "text": [
      "Train Epoch 25/75: 100%|██████████| 58/58 [00:06<00:00,  9.50it/s]\n",
      "Validation Epoch 25/75: 100%|██████████| 30/30 [00:01<00:00, 29.51it/s]\n"
     ]
    },
    {
     "name": "stdout",
     "output_type": "stream",
     "text": [
      "Epoch 25/75, Train Loss: 0.5345, Val Loss: 0.7210\n"
     ]
    },
    {
     "name": "stderr",
     "output_type": "stream",
     "text": [
      "Train Epoch 26/75: 100%|██████████| 58/58 [00:06<00:00,  9.49it/s]\n",
      "Validation Epoch 26/75: 100%|██████████| 30/30 [00:01<00:00, 29.52it/s]\n"
     ]
    },
    {
     "name": "stdout",
     "output_type": "stream",
     "text": [
      "Epoch 26/75, Train Loss: 0.5274, Val Loss: 0.6969\n"
     ]
    },
    {
     "name": "stderr",
     "output_type": "stream",
     "text": [
      "Train Epoch 27/75: 100%|██████████| 58/58 [00:06<00:00,  9.49it/s]\n",
      "Validation Epoch 27/75: 100%|██████████| 30/30 [00:01<00:00, 29.50it/s]\n"
     ]
    },
    {
     "name": "stdout",
     "output_type": "stream",
     "text": [
      "Epoch 27/75, Train Loss: 0.5217, Val Loss: 0.8617\n"
     ]
    },
    {
     "name": "stderr",
     "output_type": "stream",
     "text": [
      "Train Epoch 28/75: 100%|██████████| 58/58 [00:06<00:00,  9.49it/s]\n",
      "Validation Epoch 28/75: 100%|██████████| 30/30 [00:01<00:00, 29.51it/s]\n"
     ]
    },
    {
     "name": "stdout",
     "output_type": "stream",
     "text": [
      "Epoch 28/75, Train Loss: 0.5222, Val Loss: 0.6591\n"
     ]
    },
    {
     "name": "stderr",
     "output_type": "stream",
     "text": [
      "Train Epoch 29/75: 100%|██████████| 58/58 [00:06<00:00,  9.49it/s]\n",
      "Validation Epoch 29/75: 100%|██████████| 30/30 [00:01<00:00, 29.50it/s]\n"
     ]
    },
    {
     "name": "stdout",
     "output_type": "stream",
     "text": [
      "Epoch 29/75, Train Loss: 0.5361, Val Loss: 0.6741\n"
     ]
    },
    {
     "name": "stderr",
     "output_type": "stream",
     "text": [
      "Train Epoch 30/75: 100%|██████████| 58/58 [00:06<00:00,  9.49it/s]\n",
      "Validation Epoch 30/75: 100%|██████████| 30/30 [00:01<00:00, 29.46it/s]\n"
     ]
    },
    {
     "name": "stdout",
     "output_type": "stream",
     "text": [
      "Epoch 30/75, Train Loss: 0.5176, Val Loss: 0.7810\n"
     ]
    },
    {
     "name": "stderr",
     "output_type": "stream",
     "text": [
      "Train Epoch 31/75: 100%|██████████| 58/58 [00:06<00:00,  9.49it/s]\n",
      "Validation Epoch 31/75: 100%|██████████| 30/30 [00:01<00:00, 29.49it/s]\n"
     ]
    },
    {
     "name": "stdout",
     "output_type": "stream",
     "text": [
      "Epoch 31/75, Train Loss: 0.5189, Val Loss: 0.7114\n"
     ]
    },
    {
     "name": "stderr",
     "output_type": "stream",
     "text": [
      "Train Epoch 32/75: 100%|██████████| 58/58 [00:06<00:00,  9.49it/s]\n",
      "Validation Epoch 32/75: 100%|██████████| 30/30 [00:01<00:00, 29.46it/s]\n"
     ]
    },
    {
     "name": "stdout",
     "output_type": "stream",
     "text": [
      "Epoch 32/75, Train Loss: 0.5331, Val Loss: 0.9754\n"
     ]
    },
    {
     "name": "stderr",
     "output_type": "stream",
     "text": [
      "Train Epoch 33/75: 100%|██████████| 58/58 [00:06<00:00,  9.49it/s]\n",
      "Validation Epoch 33/75: 100%|██████████| 30/30 [00:01<00:00, 29.48it/s]\n"
     ]
    },
    {
     "name": "stdout",
     "output_type": "stream",
     "text": [
      "Epoch 33/75, Train Loss: 0.5051, Val Loss: 0.7337\n"
     ]
    },
    {
     "name": "stderr",
     "output_type": "stream",
     "text": [
      "Train Epoch 34/75: 100%|██████████| 58/58 [00:06<00:00,  9.49it/s]\n",
      "Validation Epoch 34/75: 100%|██████████| 30/30 [00:01<00:00, 29.46it/s]\n"
     ]
    },
    {
     "name": "stdout",
     "output_type": "stream",
     "text": [
      "Epoch 34/75, Train Loss: 0.5076, Val Loss: 0.6589\n"
     ]
    },
    {
     "name": "stderr",
     "output_type": "stream",
     "text": [
      "Train Epoch 35/75: 100%|██████████| 58/58 [00:06<00:00,  9.49it/s]\n",
      "Validation Epoch 35/75: 100%|██████████| 30/30 [00:01<00:00, 29.46it/s]\n"
     ]
    },
    {
     "name": "stdout",
     "output_type": "stream",
     "text": [
      "Epoch 35/75, Train Loss: 0.4974, Val Loss: 0.7371\n"
     ]
    },
    {
     "name": "stderr",
     "output_type": "stream",
     "text": [
      "Train Epoch 36/75: 100%|██████████| 58/58 [00:06<00:00,  9.49it/s]\n",
      "Validation Epoch 36/75: 100%|██████████| 30/30 [00:01<00:00, 29.45it/s]\n"
     ]
    },
    {
     "name": "stdout",
     "output_type": "stream",
     "text": [
      "Epoch 36/75, Train Loss: 0.4903, Val Loss: 0.7348\n"
     ]
    },
    {
     "name": "stderr",
     "output_type": "stream",
     "text": [
      "Train Epoch 37/75: 100%|██████████| 58/58 [00:06<00:00,  9.49it/s]\n",
      "Validation Epoch 37/75: 100%|██████████| 30/30 [00:01<00:00, 29.47it/s]\n"
     ]
    },
    {
     "name": "stdout",
     "output_type": "stream",
     "text": [
      "Epoch 37/75, Train Loss: 0.4792, Val Loss: 0.7170\n"
     ]
    },
    {
     "name": "stderr",
     "output_type": "stream",
     "text": [
      "Train Epoch 38/75: 100%|██████████| 58/58 [00:06<00:00,  9.49it/s]\n",
      "Validation Epoch 38/75: 100%|██████████| 30/30 [00:01<00:00, 29.49it/s]\n"
     ]
    },
    {
     "name": "stdout",
     "output_type": "stream",
     "text": [
      "Epoch 38/75, Train Loss: 0.4897, Val Loss: 0.8518\n"
     ]
    },
    {
     "name": "stderr",
     "output_type": "stream",
     "text": [
      "Train Epoch 39/75: 100%|██████████| 58/58 [00:06<00:00,  9.49it/s]\n",
      "Validation Epoch 39/75: 100%|██████████| 30/30 [00:01<00:00, 29.47it/s]\n"
     ]
    },
    {
     "name": "stdout",
     "output_type": "stream",
     "text": [
      "Epoch 39/75, Train Loss: 0.4994, Val Loss: 0.6587\n"
     ]
    },
    {
     "name": "stderr",
     "output_type": "stream",
     "text": [
      "Train Epoch 40/75: 100%|██████████| 58/58 [00:06<00:00,  9.49it/s]\n",
      "Validation Epoch 40/75: 100%|██████████| 30/30 [00:01<00:00, 29.43it/s]\n"
     ]
    },
    {
     "name": "stdout",
     "output_type": "stream",
     "text": [
      "Epoch 40/75, Train Loss: 0.4802, Val Loss: 0.6525\n"
     ]
    },
    {
     "name": "stderr",
     "output_type": "stream",
     "text": [
      "Train Epoch 41/75: 100%|██████████| 58/58 [00:06<00:00,  9.49it/s]\n",
      "Validation Epoch 41/75: 100%|██████████| 30/30 [00:01<00:00, 29.44it/s]\n"
     ]
    },
    {
     "name": "stdout",
     "output_type": "stream",
     "text": [
      "Epoch 41/75, Train Loss: 0.4707, Val Loss: 0.6441\n"
     ]
    },
    {
     "name": "stderr",
     "output_type": "stream",
     "text": [
      "Train Epoch 42/75: 100%|██████████| 58/58 [00:06<00:00,  9.49it/s]\n",
      "Validation Epoch 42/75: 100%|██████████| 30/30 [00:01<00:00, 29.41it/s]\n"
     ]
    },
    {
     "name": "stdout",
     "output_type": "stream",
     "text": [
      "Epoch 42/75, Train Loss: 0.4745, Val Loss: 0.6808\n"
     ]
    },
    {
     "name": "stderr",
     "output_type": "stream",
     "text": [
      "Train Epoch 43/75: 100%|██████████| 58/58 [00:06<00:00,  9.49it/s]\n",
      "Validation Epoch 43/75: 100%|██████████| 30/30 [00:01<00:00, 29.47it/s]\n"
     ]
    },
    {
     "name": "stdout",
     "output_type": "stream",
     "text": [
      "Epoch 43/75, Train Loss: 0.4743, Val Loss: 0.7059\n"
     ]
    },
    {
     "name": "stderr",
     "output_type": "stream",
     "text": [
      "Train Epoch 44/75: 100%|██████████| 58/58 [00:06<00:00,  9.49it/s]\n",
      "Validation Epoch 44/75: 100%|██████████| 30/30 [00:01<00:00, 29.48it/s]\n"
     ]
    },
    {
     "name": "stdout",
     "output_type": "stream",
     "text": [
      "Epoch 44/75, Train Loss: 0.4619, Val Loss: 0.6382\n"
     ]
    },
    {
     "name": "stderr",
     "output_type": "stream",
     "text": [
      "Train Epoch 45/75: 100%|██████████| 58/58 [00:06<00:00,  9.49it/s]\n",
      "Validation Epoch 45/75: 100%|██████████| 30/30 [00:01<00:00, 29.42it/s]\n"
     ]
    },
    {
     "name": "stdout",
     "output_type": "stream",
     "text": [
      "Epoch 45/75, Train Loss: 0.4678, Val Loss: 0.6596\n"
     ]
    },
    {
     "name": "stderr",
     "output_type": "stream",
     "text": [
      "Train Epoch 46/75: 100%|██████████| 58/58 [00:06<00:00,  9.49it/s]\n",
      "Validation Epoch 46/75: 100%|██████████| 30/30 [00:01<00:00, 29.46it/s]\n"
     ]
    },
    {
     "name": "stdout",
     "output_type": "stream",
     "text": [
      "Epoch 46/75, Train Loss: 0.4612, Val Loss: 0.7304\n"
     ]
    },
    {
     "name": "stderr",
     "output_type": "stream",
     "text": [
      "Train Epoch 47/75: 100%|██████████| 58/58 [00:06<00:00,  9.49it/s]\n",
      "Validation Epoch 47/75: 100%|██████████| 30/30 [00:01<00:00, 29.47it/s]\n"
     ]
    },
    {
     "name": "stdout",
     "output_type": "stream",
     "text": [
      "Epoch 47/75, Train Loss: 0.4605, Val Loss: 0.8291\n"
     ]
    },
    {
     "name": "stderr",
     "output_type": "stream",
     "text": [
      "Train Epoch 48/75: 100%|██████████| 58/58 [00:06<00:00,  9.49it/s]\n",
      "Validation Epoch 48/75: 100%|██████████| 30/30 [00:01<00:00, 29.48it/s]\n"
     ]
    },
    {
     "name": "stdout",
     "output_type": "stream",
     "text": [
      "Epoch 48/75, Train Loss: 0.4528, Val Loss: 0.7643\n"
     ]
    },
    {
     "name": "stderr",
     "output_type": "stream",
     "text": [
      "Train Epoch 49/75: 100%|██████████| 58/58 [00:06<00:00,  9.49it/s]\n",
      "Validation Epoch 49/75: 100%|██████████| 30/30 [00:01<00:00, 29.42it/s]\n"
     ]
    },
    {
     "name": "stdout",
     "output_type": "stream",
     "text": [
      "Epoch 49/75, Train Loss: 0.4495, Val Loss: 0.7537\n"
     ]
    },
    {
     "name": "stderr",
     "output_type": "stream",
     "text": [
      "Train Epoch 50/75: 100%|██████████| 58/58 [00:06<00:00,  9.49it/s]\n",
      "Validation Epoch 50/75: 100%|██████████| 30/30 [00:01<00:00, 29.42it/s]\n"
     ]
    },
    {
     "name": "stdout",
     "output_type": "stream",
     "text": [
      "Epoch 50/75, Train Loss: 0.4524, Val Loss: 0.6621\n"
     ]
    },
    {
     "name": "stderr",
     "output_type": "stream",
     "text": [
      "Train Epoch 51/75: 100%|██████████| 58/58 [00:06<00:00,  9.49it/s]\n",
      "Validation Epoch 51/75: 100%|██████████| 30/30 [00:01<00:00, 29.46it/s]\n"
     ]
    },
    {
     "name": "stdout",
     "output_type": "stream",
     "text": [
      "Epoch 51/75, Train Loss: 0.4379, Val Loss: 0.6627\n"
     ]
    },
    {
     "name": "stderr",
     "output_type": "stream",
     "text": [
      "Train Epoch 52/75: 100%|██████████| 58/58 [00:06<00:00,  9.48it/s]\n",
      "Validation Epoch 52/75: 100%|██████████| 30/30 [00:01<00:00, 29.43it/s]\n"
     ]
    },
    {
     "name": "stdout",
     "output_type": "stream",
     "text": [
      "Epoch 52/75, Train Loss: 0.4301, Val Loss: 0.6391\n"
     ]
    },
    {
     "name": "stderr",
     "output_type": "stream",
     "text": [
      "Train Epoch 53/75: 100%|██████████| 58/58 [00:06<00:00,  9.48it/s]\n",
      "Validation Epoch 53/75: 100%|██████████| 30/30 [00:01<00:00, 29.48it/s]\n"
     ]
    },
    {
     "name": "stdout",
     "output_type": "stream",
     "text": [
      "Epoch 53/75, Train Loss: 0.4177, Val Loss: 0.6516\n"
     ]
    },
    {
     "name": "stderr",
     "output_type": "stream",
     "text": [
      "Train Epoch 54/75: 100%|██████████| 58/58 [00:06<00:00,  9.48it/s]\n",
      "Validation Epoch 54/75: 100%|██████████| 30/30 [00:01<00:00, 29.47it/s]"
     ]
    },
    {
     "name": "stdout",
     "output_type": "stream",
     "text": [
      "Epoch 54/75, Train Loss: 0.4165, Val Loss: 0.6386\n",
      "Early stopping triggered\n"
     ]
    },
    {
     "name": "stderr",
     "output_type": "stream",
     "text": [
      "\n"
     ]
    }
   ],
   "source": [
    "training_losses, validation_losses, train_dice_scores, valid_dice_scores = trainer_class(model_exp3, train_loader, test_loader, criterion, optimizer, num_epochs, device, patience_counter, scheduler=scheduler)"
   ]
  },
  {
   "cell_type": "code",
   "execution_count": 56,
   "id": "1c011cb4",
   "metadata": {},
   "outputs": [
    {
     "data": {
      "image/png": "[encoded data removed]",
      "text/plain": [
       "<Figure size 800x500 with 1 Axes>"
      ]
     },
     "metadata": {},
     "output_type": "display_data"
    }
   ],
   "source": [
    "plot_losses(training_losses, validation_losses)"
   ]
  },
  {
   "cell_type": "code",
   "execution_count": 72,
   "id": "da82278d",
   "metadata": {},
   "outputs": [
    {
     "name": "stdout",
     "output_type": "stream",
     "text": [
      "Mean Dice Score: 0.7814\n",
      "Mean F1 Score: 0.7814\n",
      "Mean Lesion-wise Accuracy: 0.9356\n"
     ]
    }
   ],
   "source": [
    "model_exp3 = UNet(in_channels=1, num_classes=1)\n",
    "model_exp3.load_state_dict(torch.load(\"unet_model3.pth\"))\n",
    "model_exp3 = model_exp3.to(DEVICE)\n",
    "train_dice_scores, f1_scores, lesion_accuracies, preds = evaluate_model(model_exp3, test_loader, DEVICE, threshold=0.47)\n",
    "print(f\"Mean Dice Score: {np.mean(train_dice_scores):.4f}\")\n",
    "print(f\"Mean F1 Score: {np.mean(f1_scores):.4f}\")\n",
    "print(f\"Mean Lesion-wise Accuracy: {np.mean(lesion_accuracies):.4f}\")"
   ]
  },
  {
   "cell_type": "code",
   "execution_count": 73,
   "id": "2c7be254",
   "metadata": {},
   "outputs": [
    {
     "data": {
      "image/png": "[encoded data removed]",
      "text/plain": [
       "<Figure size 1200x1600 with 8 Axes>"
      ]
     },
     "metadata": {},
     "output_type": "display_data"
    }
   ],
   "source": [
    "unet_predicted_masks_exp3 = preds.reshape(test_images.shape)\n",
    "plotSamples(unet_predicted_masks_exp3, test_images, test_masks).plot_best_worst(num_samples=2)"
   ]
  },
  {
   "cell_type": "markdown",
   "id": "76ad53be",
   "metadata": {},
   "source": [
    "## Experiment 4\n",
    "### Varying depths of encoder"
   ]
  },
  {
   "cell_type": "code",
   "execution_count": 59,
   "id": "01714346",
   "metadata": {},
   "outputs": [],
   "source": [
    "model_exp4 = UNet(1,1, depth=[True, True, False, False]) #Adding extra conv layers in first two encoder blocks\n",
    "model_exp4 = model_exp4.to(DEVICE)\n",
    "optimizer = optim.Adam(model_exp4.parameters(), lr=1e-4, weight_decay=1e-4)\n",
    "criterion = lambda preds, targets: combined_loss(preds, targets, pos_weight, 0.5)\n",
    "num_epochs = 75\n",
    "patience_counter = 10\n",
    "scheduler = torch.optim.lr_scheduler.ReduceLROnPlateau(optimizer, factor=0.1, patience=5)"
   ]
  },
  {
   "cell_type": "code",
   "execution_count": 60,
   "id": "e1360b29",
   "metadata": {},
   "outputs": [
    {
     "name": "stderr",
     "output_type": "stream",
     "text": [
      "Train Epoch 1/75: 100%|██████████| 58/58 [00:07<00:00,  7.75it/s]\n",
      "Validation Epoch 1/75: 100%|██████████| 30/30 [00:01<00:00, 24.26it/s]\n"
     ]
    },
    {
     "name": "stdout",
     "output_type": "stream",
     "text": [
      "Epoch 1/75, Train Loss: 40.6423, Val Loss: 31.2450\n"
     ]
    },
    {
     "name": "stderr",
     "output_type": "stream",
     "text": [
      "Train Epoch 2/75: 100%|██████████| 58/58 [00:07<00:00,  7.73it/s]\n",
      "Validation Epoch 2/75: 100%|██████████| 30/30 [00:01<00:00, 24.31it/s]\n"
     ]
    },
    {
     "name": "stdout",
     "output_type": "stream",
     "text": [
      "Epoch 2/75, Train Loss: 25.8709, Val Loss: 25.5661\n"
     ]
    },
    {
     "name": "stderr",
     "output_type": "stream",
     "text": [
      "Train Epoch 3/75: 100%|██████████| 58/58 [00:07<00:00,  7.75it/s]\n",
      "Validation Epoch 3/75: 100%|██████████| 30/30 [00:01<00:00, 24.26it/s]\n"
     ]
    },
    {
     "name": "stdout",
     "output_type": "stream",
     "text": [
      "Epoch 3/75, Train Loss: 22.8142, Val Loss: 23.6609\n"
     ]
    },
    {
     "name": "stderr",
     "output_type": "stream",
     "text": [
      "Train Epoch 4/75: 100%|██████████| 58/58 [00:07<00:00,  7.73it/s]\n",
      "Validation Epoch 4/75: 100%|██████████| 30/30 [00:01<00:00, 24.19it/s]\n"
     ]
    },
    {
     "name": "stdout",
     "output_type": "stream",
     "text": [
      "Epoch 4/75, Train Loss: 19.9815, Val Loss: 19.1784\n"
     ]
    },
    {
     "name": "stderr",
     "output_type": "stream",
     "text": [
      "Train Epoch 5/75: 100%|██████████| 58/58 [00:07<00:00,  7.72it/s]\n",
      "Validation Epoch 5/75: 100%|██████████| 30/30 [00:01<00:00, 24.11it/s]\n"
     ]
    },
    {
     "name": "stdout",
     "output_type": "stream",
     "text": [
      "Epoch 5/75, Train Loss: 17.8822, Val Loss: 16.8515\n"
     ]
    },
    {
     "name": "stderr",
     "output_type": "stream",
     "text": [
      "Train Epoch 6/75: 100%|██████████| 58/58 [00:07<00:00,  7.70it/s]\n",
      "Validation Epoch 6/75: 100%|██████████| 30/30 [00:01<00:00, 24.15it/s]\n"
     ]
    },
    {
     "name": "stdout",
     "output_type": "stream",
     "text": [
      "Epoch 6/75, Train Loss: 15.8154, Val Loss: 14.9628\n"
     ]
    },
    {
     "name": "stderr",
     "output_type": "stream",
     "text": [
      "Train Epoch 7/75: 100%|██████████| 58/58 [00:07<00:00,  7.70it/s]\n",
      "Validation Epoch 7/75: 100%|██████████| 30/30 [00:01<00:00, 24.11it/s]\n"
     ]
    },
    {
     "name": "stdout",
     "output_type": "stream",
     "text": [
      "Epoch 7/75, Train Loss: 14.0643, Val Loss: 13.6886\n"
     ]
    },
    {
     "name": "stderr",
     "output_type": "stream",
     "text": [
      "Train Epoch 8/75: 100%|██████████| 58/58 [00:07<00:00,  7.69it/s]\n",
      "Validation Epoch 8/75: 100%|██████████| 30/30 [00:01<00:00, 24.11it/s]\n"
     ]
    },
    {
     "name": "stdout",
     "output_type": "stream",
     "text": [
      "Epoch 8/75, Train Loss: 12.4238, Val Loss: 11.6695\n"
     ]
    },
    {
     "name": "stderr",
     "output_type": "stream",
     "text": [
      "Train Epoch 9/75: 100%|██████████| 58/58 [00:07<00:00,  7.68it/s]\n",
      "Validation Epoch 9/75: 100%|██████████| 30/30 [00:01<00:00, 24.06it/s]\n"
     ]
    },
    {
     "name": "stdout",
     "output_type": "stream",
     "text": [
      "Epoch 9/75, Train Loss: 11.0354, Val Loss: 10.5837\n"
     ]
    },
    {
     "name": "stderr",
     "output_type": "stream",
     "text": [
      "Train Epoch 10/75: 100%|██████████| 58/58 [00:07<00:00,  7.66it/s]\n",
      "Validation Epoch 10/75: 100%|██████████| 30/30 [00:01<00:00, 24.02it/s]\n"
     ]
    },
    {
     "name": "stdout",
     "output_type": "stream",
     "text": [
      "Epoch 10/75, Train Loss: 9.6319, Val Loss: 8.6971\n"
     ]
    },
    {
     "name": "stderr",
     "output_type": "stream",
     "text": [
      "Train Epoch 11/75: 100%|██████████| 58/58 [00:07<00:00,  7.66it/s]\n",
      "Validation Epoch 11/75: 100%|██████████| 30/30 [00:01<00:00, 23.18it/s]\n"
     ]
    },
    {
     "name": "stdout",
     "output_type": "stream",
     "text": [
      "Epoch 11/75, Train Loss: 8.4457, Val Loss: 8.5366\n"
     ]
    },
    {
     "name": "stderr",
     "output_type": "stream",
     "text": [
      "Train Epoch 12/75: 100%|██████████| 58/58 [00:07<00:00,  7.66it/s]\n",
      "Validation Epoch 12/75: 100%|██████████| 30/30 [00:01<00:00, 23.36it/s]\n"
     ]
    },
    {
     "name": "stdout",
     "output_type": "stream",
     "text": [
      "Epoch 12/75, Train Loss: 7.4446, Val Loss: 8.3016\n"
     ]
    },
    {
     "name": "stderr",
     "output_type": "stream",
     "text": [
      "Train Epoch 13/75: 100%|██████████| 58/58 [00:07<00:00,  7.63it/s]\n",
      "Validation Epoch 13/75: 100%|██████████| 30/30 [00:01<00:00, 24.02it/s]\n"
     ]
    },
    {
     "name": "stdout",
     "output_type": "stream",
     "text": [
      "Epoch 13/75, Train Loss: 6.5228, Val Loss: 6.2871\n"
     ]
    },
    {
     "name": "stderr",
     "output_type": "stream",
     "text": [
      "Train Epoch 14/75: 100%|██████████| 58/58 [00:07<00:00,  7.65it/s]\n",
      "Validation Epoch 14/75: 100%|██████████| 30/30 [00:01<00:00, 24.05it/s]\n"
     ]
    },
    {
     "name": "stdout",
     "output_type": "stream",
     "text": [
      "Epoch 14/75, Train Loss: 5.6892, Val Loss: 5.3277\n"
     ]
    },
    {
     "name": "stderr",
     "output_type": "stream",
     "text": [
      "Train Epoch 15/75: 100%|██████████| 58/58 [00:07<00:00,  7.64it/s]\n",
      "Validation Epoch 15/75: 100%|██████████| 30/30 [00:01<00:00, 23.99it/s]\n"
     ]
    },
    {
     "name": "stdout",
     "output_type": "stream",
     "text": [
      "Epoch 15/75, Train Loss: 4.9301, Val Loss: 4.9929\n"
     ]
    },
    {
     "name": "stderr",
     "output_type": "stream",
     "text": [
      "Train Epoch 16/75: 100%|██████████| 58/58 [00:07<00:00,  7.61it/s]\n",
      "Validation Epoch 16/75: 100%|██████████| 30/30 [00:01<00:00, 24.00it/s]\n"
     ]
    },
    {
     "name": "stdout",
     "output_type": "stream",
     "text": [
      "Epoch 16/75, Train Loss: 4.2917, Val Loss: 4.3237\n"
     ]
    },
    {
     "name": "stderr",
     "output_type": "stream",
     "text": [
      "Train Epoch 17/75: 100%|██████████| 58/58 [00:07<00:00,  7.63it/s]\n",
      "Validation Epoch 17/75: 100%|██████████| 30/30 [00:01<00:00, 23.98it/s]\n"
     ]
    },
    {
     "name": "stdout",
     "output_type": "stream",
     "text": [
      "Epoch 17/75, Train Loss: 3.7195, Val Loss: 3.4658\n"
     ]
    },
    {
     "name": "stderr",
     "output_type": "stream",
     "text": [
      "Train Epoch 18/75: 100%|██████████| 58/58 [00:07<00:00,  7.63it/s]\n",
      "Validation Epoch 18/75: 100%|██████████| 30/30 [00:01<00:00, 23.97it/s]\n"
     ]
    },
    {
     "name": "stdout",
     "output_type": "stream",
     "text": [
      "Epoch 18/75, Train Loss: 3.3020, Val Loss: 3.0171\n"
     ]
    },
    {
     "name": "stderr",
     "output_type": "stream",
     "text": [
      "Train Epoch 19/75: 100%|██████████| 58/58 [00:07<00:00,  7.63it/s]\n",
      "Validation Epoch 19/75: 100%|██████████| 30/30 [00:01<00:00, 23.96it/s]\n"
     ]
    },
    {
     "name": "stdout",
     "output_type": "stream",
     "text": [
      "Epoch 19/75, Train Loss: 2.8767, Val Loss: 2.7048\n"
     ]
    },
    {
     "name": "stderr",
     "output_type": "stream",
     "text": [
      "Train Epoch 20/75: 100%|██████████| 58/58 [00:07<00:00,  7.62it/s]\n",
      "Validation Epoch 20/75: 100%|██████████| 30/30 [00:01<00:00, 23.93it/s]\n"
     ]
    },
    {
     "name": "stdout",
     "output_type": "stream",
     "text": [
      "Epoch 20/75, Train Loss: 2.5747, Val Loss: 2.5033\n"
     ]
    },
    {
     "name": "stderr",
     "output_type": "stream",
     "text": [
      "Train Epoch 21/75: 100%|██████████| 58/58 [00:07<00:00,  7.63it/s]\n",
      "Validation Epoch 21/75: 100%|██████████| 30/30 [00:01<00:00, 23.97it/s]\n"
     ]
    },
    {
     "name": "stdout",
     "output_type": "stream",
     "text": [
      "Epoch 21/75, Train Loss: 2.2174, Val Loss: 2.1156\n"
     ]
    },
    {
     "name": "stderr",
     "output_type": "stream",
     "text": [
      "Train Epoch 22/75: 100%|██████████| 58/58 [00:07<00:00,  7.62it/s]\n",
      "Validation Epoch 22/75: 100%|██████████| 30/30 [00:01<00:00, 23.96it/s]\n"
     ]
    },
    {
     "name": "stdout",
     "output_type": "stream",
     "text": [
      "Epoch 22/75, Train Loss: 1.9726, Val Loss: 2.0616\n"
     ]
    },
    {
     "name": "stderr",
     "output_type": "stream",
     "text": [
      "Train Epoch 23/75: 100%|██████████| 58/58 [00:07<00:00,  7.62it/s]\n",
      "Validation Epoch 23/75: 100%|██████████| 30/30 [00:01<00:00, 23.95it/s]\n"
     ]
    },
    {
     "name": "stdout",
     "output_type": "stream",
     "text": [
      "Epoch 23/75, Train Loss: 1.7524, Val Loss: 1.8803\n"
     ]
    },
    {
     "name": "stderr",
     "output_type": "stream",
     "text": [
      "Train Epoch 24/75: 100%|██████████| 58/58 [00:07<00:00,  7.62it/s]\n",
      "Validation Epoch 24/75: 100%|██████████| 30/30 [00:01<00:00, 23.96it/s]\n"
     ]
    },
    {
     "name": "stdout",
     "output_type": "stream",
     "text": [
      "Epoch 24/75, Train Loss: 1.5643, Val Loss: 1.5777\n"
     ]
    },
    {
     "name": "stderr",
     "output_type": "stream",
     "text": [
      "Train Epoch 25/75: 100%|██████████| 58/58 [00:07<00:00,  7.62it/s]\n",
      "Validation Epoch 25/75: 100%|██████████| 30/30 [00:01<00:00, 23.90it/s]\n"
     ]
    },
    {
     "name": "stdout",
     "output_type": "stream",
     "text": [
      "Epoch 25/75, Train Loss: 1.4102, Val Loss: 1.4350\n"
     ]
    },
    {
     "name": "stderr",
     "output_type": "stream",
     "text": [
      "Train Epoch 26/75: 100%|██████████| 58/58 [00:07<00:00,  7.62it/s]\n",
      "Validation Epoch 26/75: 100%|██████████| 30/30 [00:01<00:00, 23.90it/s]\n"
     ]
    },
    {
     "name": "stdout",
     "output_type": "stream",
     "text": [
      "Epoch 26/75, Train Loss: 1.2585, Val Loss: 1.3163\n"
     ]
    },
    {
     "name": "stderr",
     "output_type": "stream",
     "text": [
      "Train Epoch 27/75: 100%|██████████| 58/58 [00:07<00:00,  7.62it/s]\n",
      "Validation Epoch 27/75: 100%|██████████| 30/30 [00:01<00:00, 23.90it/s]\n"
     ]
    },
    {
     "name": "stdout",
     "output_type": "stream",
     "text": [
      "Epoch 27/75, Train Loss: 1.1576, Val Loss: 1.2647\n"
     ]
    },
    {
     "name": "stderr",
     "output_type": "stream",
     "text": [
      "Train Epoch 28/75: 100%|██████████| 58/58 [00:07<00:00,  7.62it/s]\n",
      "Validation Epoch 28/75: 100%|██████████| 30/30 [00:01<00:00, 23.89it/s]\n"
     ]
    },
    {
     "name": "stdout",
     "output_type": "stream",
     "text": [
      "Epoch 28/75, Train Loss: 1.0448, Val Loss: 1.1131\n"
     ]
    },
    {
     "name": "stderr",
     "output_type": "stream",
     "text": [
      "Train Epoch 29/75: 100%|██████████| 58/58 [00:07<00:00,  7.62it/s]\n",
      "Validation Epoch 29/75: 100%|██████████| 30/30 [00:01<00:00, 23.90it/s]\n"
     ]
    },
    {
     "name": "stdout",
     "output_type": "stream",
     "text": [
      "Epoch 29/75, Train Loss: 0.9740, Val Loss: 1.1336\n"
     ]
    },
    {
     "name": "stderr",
     "output_type": "stream",
     "text": [
      "Train Epoch 30/75: 100%|██████████| 58/58 [00:07<00:00,  7.62it/s]\n",
      "Validation Epoch 30/75: 100%|██████████| 30/30 [00:01<00:00, 23.92it/s]\n"
     ]
    },
    {
     "name": "stdout",
     "output_type": "stream",
     "text": [
      "Epoch 30/75, Train Loss: 0.8868, Val Loss: 1.0786\n"
     ]
    },
    {
     "name": "stderr",
     "output_type": "stream",
     "text": [
      "Train Epoch 31/75: 100%|██████████| 58/58 [00:07<00:00,  7.60it/s]\n",
      "Validation Epoch 31/75: 100%|██████████| 30/30 [00:01<00:00, 23.93it/s]\n"
     ]
    },
    {
     "name": "stdout",
     "output_type": "stream",
     "text": [
      "Epoch 31/75, Train Loss: 0.8426, Val Loss: 1.0454\n"
     ]
    },
    {
     "name": "stderr",
     "output_type": "stream",
     "text": [
      "Train Epoch 32/75: 100%|██████████| 58/58 [00:07<00:00,  7.62it/s]\n",
      "Validation Epoch 32/75: 100%|██████████| 30/30 [00:01<00:00, 23.95it/s]\n"
     ]
    },
    {
     "name": "stdout",
     "output_type": "stream",
     "text": [
      "Epoch 32/75, Train Loss: 0.7647, Val Loss: 0.9430\n"
     ]
    },
    {
     "name": "stderr",
     "output_type": "stream",
     "text": [
      "Train Epoch 33/75: 100%|██████████| 58/58 [00:07<00:00,  7.62it/s]\n",
      "Validation Epoch 33/75: 100%|██████████| 30/30 [00:01<00:00, 23.95it/s]\n"
     ]
    },
    {
     "name": "stdout",
     "output_type": "stream",
     "text": [
      "Epoch 33/75, Train Loss: 0.7128, Val Loss: 0.8935\n"
     ]
    },
    {
     "name": "stderr",
     "output_type": "stream",
     "text": [
      "Train Epoch 34/75: 100%|██████████| 58/58 [00:07<00:00,  7.62it/s]\n",
      "Validation Epoch 34/75: 100%|██████████| 30/30 [00:01<00:00, 23.95it/s]\n"
     ]
    },
    {
     "name": "stdout",
     "output_type": "stream",
     "text": [
      "Epoch 34/75, Train Loss: 0.6839, Val Loss: 0.8654\n"
     ]
    },
    {
     "name": "stderr",
     "output_type": "stream",
     "text": [
      "Train Epoch 35/75: 100%|██████████| 58/58 [00:07<00:00,  7.62it/s]\n",
      "Validation Epoch 35/75: 100%|██████████| 30/30 [00:01<00:00, 23.92it/s]\n"
     ]
    },
    {
     "name": "stdout",
     "output_type": "stream",
     "text": [
      "Epoch 35/75, Train Loss: 0.6295, Val Loss: 0.8814\n"
     ]
    },
    {
     "name": "stderr",
     "output_type": "stream",
     "text": [
      "Train Epoch 36/75: 100%|██████████| 58/58 [00:07<00:00,  7.61it/s]\n",
      "Validation Epoch 36/75: 100%|██████████| 30/30 [00:01<00:00, 23.95it/s]\n"
     ]
    },
    {
     "name": "stdout",
     "output_type": "stream",
     "text": [
      "Epoch 36/75, Train Loss: 0.6056, Val Loss: 0.7958\n"
     ]
    },
    {
     "name": "stderr",
     "output_type": "stream",
     "text": [
      "Train Epoch 37/75: 100%|██████████| 58/58 [00:07<00:00,  7.62it/s]\n",
      "Validation Epoch 37/75: 100%|██████████| 30/30 [00:01<00:00, 23.96it/s]\n"
     ]
    },
    {
     "name": "stdout",
     "output_type": "stream",
     "text": [
      "Epoch 37/75, Train Loss: 0.5653, Val Loss: 0.8312\n"
     ]
    },
    {
     "name": "stderr",
     "output_type": "stream",
     "text": [
      "Train Epoch 38/75: 100%|██████████| 58/58 [00:07<00:00,  7.61it/s]\n",
      "Validation Epoch 38/75: 100%|██████████| 30/30 [00:01<00:00, 23.89it/s]\n"
     ]
    },
    {
     "name": "stdout",
     "output_type": "stream",
     "text": [
      "Epoch 38/75, Train Loss: 0.5452, Val Loss: 0.8156\n"
     ]
    },
    {
     "name": "stderr",
     "output_type": "stream",
     "text": [
      "Train Epoch 39/75: 100%|██████████| 58/58 [00:07<00:00,  7.61it/s]\n",
      "Validation Epoch 39/75: 100%|██████████| 30/30 [00:01<00:00, 23.95it/s]\n"
     ]
    },
    {
     "name": "stdout",
     "output_type": "stream",
     "text": [
      "Epoch 39/75, Train Loss: 0.5149, Val Loss: 0.7808\n"
     ]
    },
    {
     "name": "stderr",
     "output_type": "stream",
     "text": [
      "Train Epoch 40/75: 100%|██████████| 58/58 [00:07<00:00,  7.61it/s]\n",
      "Validation Epoch 40/75: 100%|██████████| 30/30 [00:01<00:00, 23.91it/s]\n"
     ]
    },
    {
     "name": "stdout",
     "output_type": "stream",
     "text": [
      "Epoch 40/75, Train Loss: 0.4839, Val Loss: 0.8574\n"
     ]
    },
    {
     "name": "stderr",
     "output_type": "stream",
     "text": [
      "Train Epoch 41/75: 100%|██████████| 58/58 [00:07<00:00,  7.61it/s]\n",
      "Validation Epoch 41/75: 100%|██████████| 30/30 [00:01<00:00, 23.94it/s]\n"
     ]
    },
    {
     "name": "stdout",
     "output_type": "stream",
     "text": [
      "Epoch 41/75, Train Loss: 0.4923, Val Loss: 0.9635\n"
     ]
    },
    {
     "name": "stderr",
     "output_type": "stream",
     "text": [
      "Train Epoch 42/75: 100%|██████████| 58/58 [00:07<00:00,  7.61it/s]\n",
      "Validation Epoch 42/75: 100%|██████████| 30/30 [00:01<00:00, 23.95it/s]\n"
     ]
    },
    {
     "name": "stdout",
     "output_type": "stream",
     "text": [
      "Epoch 42/75, Train Loss: 0.4562, Val Loss: 0.9073\n"
     ]
    },
    {
     "name": "stderr",
     "output_type": "stream",
     "text": [
      "Train Epoch 43/75: 100%|██████████| 58/58 [00:07<00:00,  7.61it/s]\n",
      "Validation Epoch 43/75: 100%|██████████| 30/30 [00:01<00:00, 23.95it/s]\n"
     ]
    },
    {
     "name": "stdout",
     "output_type": "stream",
     "text": [
      "Epoch 43/75, Train Loss: 0.4351, Val Loss: 0.7721\n"
     ]
    },
    {
     "name": "stderr",
     "output_type": "stream",
     "text": [
      "Train Epoch 44/75: 100%|██████████| 58/58 [00:07<00:00,  7.61it/s]\n",
      "Validation Epoch 44/75: 100%|██████████| 30/30 [00:01<00:00, 23.94it/s]\n"
     ]
    },
    {
     "name": "stdout",
     "output_type": "stream",
     "text": [
      "Epoch 44/75, Train Loss: 0.4078, Val Loss: 0.7818\n"
     ]
    },
    {
     "name": "stderr",
     "output_type": "stream",
     "text": [
      "Train Epoch 45/75: 100%|██████████| 58/58 [00:07<00:00,  7.61it/s]\n",
      "Validation Epoch 45/75: 100%|██████████| 30/30 [00:01<00:00, 23.90it/s]\n"
     ]
    },
    {
     "name": "stdout",
     "output_type": "stream",
     "text": [
      "Epoch 45/75, Train Loss: 0.3895, Val Loss: 0.7904\n"
     ]
    },
    {
     "name": "stderr",
     "output_type": "stream",
     "text": [
      "Train Epoch 46/75: 100%|██████████| 58/58 [00:07<00:00,  7.61it/s]\n",
      "Validation Epoch 46/75: 100%|██████████| 30/30 [00:01<00:00, 23.96it/s]\n"
     ]
    },
    {
     "name": "stdout",
     "output_type": "stream",
     "text": [
      "Epoch 46/75, Train Loss: 0.3649, Val Loss: 0.8406\n"
     ]
    },
    {
     "name": "stderr",
     "output_type": "stream",
     "text": [
      "Train Epoch 47/75: 100%|██████████| 58/58 [00:07<00:00,  7.61it/s]\n",
      "Validation Epoch 47/75: 100%|██████████| 30/30 [00:01<00:00, 23.94it/s]\n"
     ]
    },
    {
     "name": "stdout",
     "output_type": "stream",
     "text": [
      "Epoch 47/75, Train Loss: 0.3497, Val Loss: 0.7874\n"
     ]
    },
    {
     "name": "stderr",
     "output_type": "stream",
     "text": [
      "Train Epoch 48/75: 100%|██████████| 58/58 [00:07<00:00,  7.61it/s]\n",
      "Validation Epoch 48/75: 100%|██████████| 30/30 [00:01<00:00, 23.92it/s]\n"
     ]
    },
    {
     "name": "stdout",
     "output_type": "stream",
     "text": [
      "Epoch 48/75, Train Loss: 0.3363, Val Loss: 0.8061\n"
     ]
    },
    {
     "name": "stderr",
     "output_type": "stream",
     "text": [
      "Train Epoch 49/75: 100%|██████████| 58/58 [00:07<00:00,  7.61it/s]\n",
      "Validation Epoch 49/75: 100%|██████████| 30/30 [00:01<00:00, 23.92it/s]\n"
     ]
    },
    {
     "name": "stdout",
     "output_type": "stream",
     "text": [
      "Epoch 49/75, Train Loss: 0.3221, Val Loss: 0.8029\n"
     ]
    },
    {
     "name": "stderr",
     "output_type": "stream",
     "text": [
      "Train Epoch 50/75: 100%|██████████| 58/58 [00:07<00:00,  7.61it/s]\n",
      "Validation Epoch 50/75: 100%|██████████| 30/30 [00:01<00:00, 23.90it/s]\n"
     ]
    },
    {
     "name": "stdout",
     "output_type": "stream",
     "text": [
      "Epoch 50/75, Train Loss: 0.2665, Val Loss: 0.7897\n"
     ]
    },
    {
     "name": "stderr",
     "output_type": "stream",
     "text": [
      "Train Epoch 51/75: 100%|██████████| 58/58 [00:07<00:00,  7.61it/s]\n",
      "Validation Epoch 51/75: 100%|██████████| 30/30 [00:01<00:00, 23.93it/s]\n"
     ]
    },
    {
     "name": "stdout",
     "output_type": "stream",
     "text": [
      "Epoch 51/75, Train Loss: 0.2501, Val Loss: 0.8099\n"
     ]
    },
    {
     "name": "stderr",
     "output_type": "stream",
     "text": [
      "Train Epoch 52/75: 100%|██████████| 58/58 [00:07<00:00,  7.61it/s]\n",
      "Validation Epoch 52/75: 100%|██████████| 30/30 [00:01<00:00, 23.93it/s]\n"
     ]
    },
    {
     "name": "stdout",
     "output_type": "stream",
     "text": [
      "Epoch 52/75, Train Loss: 0.2423, Val Loss: 0.8484\n"
     ]
    },
    {
     "name": "stderr",
     "output_type": "stream",
     "text": [
      "Train Epoch 53/75: 100%|██████████| 58/58 [00:07<00:00,  7.61it/s]\n",
      "Validation Epoch 53/75: 100%|██████████| 30/30 [00:01<00:00, 23.92it/s]"
     ]
    },
    {
     "name": "stdout",
     "output_type": "stream",
     "text": [
      "Epoch 53/75, Train Loss: 0.2413, Val Loss: 0.8303\n",
      "Early stopping triggered\n"
     ]
    },
    {
     "name": "stderr",
     "output_type": "stream",
     "text": [
      "\n"
     ]
    }
   ],
   "source": [
    "training_losses, validation_losses, train_dice_scores, valid_dice_scores = trainer_class(model_exp4, train_loader, test_loader, criterion, optimizer, num_epochs, device, patience_counter, scheduler=scheduler)"
   ]
  },
  {
   "cell_type": "code",
   "execution_count": 61,
   "id": "9ed1f9db",
   "metadata": {},
   "outputs": [
    {
     "name": "stdout",
     "output_type": "stream",
     "text": [
      "Mean Dice Score: 0.7796\n",
      "Mean F1 Score: 0.7796\n",
      "Mean Lesion-wise Accuracy: 0.9335\n"
     ]
    }
   ],
   "source": [
    "train_dice_scores, f1_scores, lesion_accuracies, preds = evaluate_model(model_exp4, test_loader, device, threshold=0.47)\n",
    "print(f\"Mean Dice Score: {np.mean(train_dice_scores):.4f}\")\n",
    "print(f\"Mean F1 Score: {np.mean(f1_scores):.4f}\")\n",
    "print(f\"Mean Lesion-wise Accuracy: {np.mean(lesion_accuracies):.4f}\")"
   ]
  },
  {
   "cell_type": "code",
   "execution_count": 82,
   "id": "aeef156e",
   "metadata": {},
   "outputs": [
    {
     "name": "stderr",
     "output_type": "stream",
     "text": [
      "Train Epoch 1/75: 100%|██████████| 58/58 [00:06<00:00,  9.06it/s]\n",
      "Validation Epoch 1/75: 100%|██████████| 30/30 [00:01<00:00, 27.93it/s]\n",
      "Train Epoch 2/75: 100%|██████████| 58/58 [00:06<00:00,  9.07it/s]\n",
      "Validation Epoch 2/75: 100%|██████████| 30/30 [00:01<00:00, 27.92it/s]\n",
      "Train Epoch 3/75: 100%|██████████| 58/58 [00:06<00:00,  9.09it/s]\n",
      "Validation Epoch 3/75: 100%|██████████| 30/30 [00:01<00:00, 28.29it/s]\n",
      "Train Epoch 4/75: 100%|██████████| 58/58 [00:06<00:00,  9.08it/s]\n",
      "Validation Epoch 4/75: 100%|██████████| 30/30 [00:01<00:00, 27.89it/s]\n",
      "Train Epoch 5/75: 100%|██████████| 58/58 [00:06<00:00,  9.05it/s]\n",
      "Validation Epoch 5/75: 100%|██████████| 30/30 [00:01<00:00, 28.19it/s]\n",
      "Train Epoch 6/75: 100%|██████████| 58/58 [00:06<00:00,  9.05it/s]\n",
      "Validation Epoch 6/75: 100%|██████████| 30/30 [00:01<00:00, 28.17it/s]\n",
      "Train Epoch 7/75: 100%|██████████| 58/58 [00:06<00:00,  8.98it/s]\n",
      "Validation Epoch 7/75: 100%|██████████| 30/30 [00:01<00:00, 28.15it/s]\n",
      "Train Epoch 8/75: 100%|██████████| 58/58 [00:06<00:00,  9.00it/s]\n",
      "Validation Epoch 8/75: 100%|██████████| 30/30 [00:01<00:00, 27.61it/s]\n",
      "Train Epoch 9/75: 100%|██████████| 58/58 [00:06<00:00,  9.00it/s]\n",
      "Validation Epoch 9/75: 100%|██████████| 30/30 [00:01<00:00, 27.65it/s]\n",
      "Train Epoch 10/75: 100%|██████████| 58/58 [00:06<00:00,  8.95it/s]\n",
      "Validation Epoch 10/75: 100%|██████████| 30/30 [00:01<00:00, 27.58it/s]\n",
      "Train Epoch 11/75: 100%|██████████| 58/58 [00:06<00:00,  8.95it/s]\n",
      "Validation Epoch 11/75: 100%|██████████| 30/30 [00:01<00:00, 27.63it/s]\n",
      "Train Epoch 12/75: 100%|██████████| 58/58 [00:06<00:00,  8.96it/s]\n",
      "Validation Epoch 12/75: 100%|██████████| 30/30 [00:01<00:00, 27.61it/s]\n",
      "Train Epoch 13/75: 100%|██████████| 58/58 [00:06<00:00,  8.97it/s]\n",
      "Validation Epoch 13/75: 100%|██████████| 30/30 [00:01<00:00, 27.61it/s]\n",
      "Train Epoch 14/75: 100%|██████████| 58/58 [00:06<00:00,  8.94it/s]\n",
      "Validation Epoch 14/75: 100%|██████████| 30/30 [00:01<00:00, 27.88it/s]\n",
      "Train Epoch 15/75: 100%|██████████| 58/58 [00:06<00:00,  8.96it/s]\n",
      "Validation Epoch 15/75: 100%|██████████| 30/30 [00:01<00:00, 27.81it/s]\n",
      "Train Epoch 16/75: 100%|██████████| 58/58 [00:06<00:00,  8.94it/s]\n",
      "Validation Epoch 16/75: 100%|██████████| 30/30 [00:01<00:00, 27.56it/s]\n",
      "Train Epoch 17/75: 100%|██████████| 58/58 [00:06<00:00,  8.95it/s]\n",
      "Validation Epoch 17/75: 100%|██████████| 30/30 [00:01<00:00, 27.90it/s]\n",
      "Train Epoch 18/75: 100%|██████████| 58/58 [00:06<00:00,  8.96it/s]\n",
      "Validation Epoch 18/75: 100%|██████████| 30/30 [00:01<00:00, 27.90it/s]\n",
      "Train Epoch 19/75: 100%|██████████| 58/58 [00:06<00:00,  8.94it/s]\n",
      "Validation Epoch 19/75: 100%|██████████| 30/30 [00:01<00:00, 27.50it/s]\n",
      "Train Epoch 20/75: 100%|██████████| 58/58 [00:06<00:00,  8.95it/s]\n",
      "Validation Epoch 20/75: 100%|██████████| 30/30 [00:01<00:00, 27.94it/s]\n",
      "Train Epoch 21/75: 100%|██████████| 58/58 [00:06<00:00,  8.96it/s]\n",
      "Validation Epoch 21/75: 100%|██████████| 30/30 [00:01<00:00, 27.87it/s]\n",
      "Train Epoch 22/75: 100%|██████████| 58/58 [00:06<00:00,  8.97it/s]\n",
      "Validation Epoch 22/75: 100%|██████████| 30/30 [00:01<00:00, 27.91it/s]\n",
      "Train Epoch 23/75: 100%|██████████| 58/58 [00:06<00:00,  8.95it/s]\n",
      "Validation Epoch 23/75: 100%|██████████| 30/30 [00:01<00:00, 27.85it/s]\n",
      "Train Epoch 24/75: 100%|██████████| 58/58 [00:06<00:00,  8.93it/s]\n",
      "Validation Epoch 24/75: 100%|██████████| 30/30 [00:01<00:00, 27.45it/s]\n",
      "Train Epoch 25/75: 100%|██████████| 58/58 [00:06<00:00,  8.94it/s]\n",
      "Validation Epoch 25/75: 100%|██████████| 30/30 [00:01<00:00, 27.93it/s]\n",
      "Train Epoch 26/75: 100%|██████████| 58/58 [00:06<00:00,  8.95it/s]\n",
      "Validation Epoch 26/75: 100%|██████████| 30/30 [00:01<00:00, 27.89it/s]\n",
      "Train Epoch 27/75: 100%|██████████| 58/58 [00:06<00:00,  8.94it/s]\n",
      "Validation Epoch 27/75: 100%|██████████| 30/30 [00:01<00:00, 27.85it/s]\n",
      "Train Epoch 28/75: 100%|██████████| 58/58 [00:06<00:00,  8.93it/s]\n",
      "Validation Epoch 28/75: 100%|██████████| 30/30 [00:01<00:00, 27.47it/s]\n",
      "Train Epoch 29/75: 100%|██████████| 58/58 [00:06<00:00,  8.92it/s]\n",
      "Validation Epoch 29/75: 100%|██████████| 30/30 [00:01<00:00, 27.81it/s]\n",
      "Train Epoch 30/75: 100%|██████████| 58/58 [00:06<00:00,  8.93it/s]\n",
      "Validation Epoch 30/75: 100%|██████████| 30/30 [00:01<00:00, 27.89it/s]\n",
      "Train Epoch 31/75: 100%|██████████| 58/58 [00:06<00:00,  8.94it/s]\n",
      "Validation Epoch 31/75: 100%|██████████| 30/30 [00:01<00:00, 27.90it/s]\n",
      "Train Epoch 32/75: 100%|██████████| 58/58 [00:06<00:00,  8.95it/s]\n",
      "Validation Epoch 32/75: 100%|██████████| 30/30 [00:01<00:00, 27.85it/s]\n",
      "Train Epoch 33/75: 100%|██████████| 58/58 [00:06<00:00,  8.94it/s]\n",
      "Validation Epoch 33/75: 100%|██████████| 30/30 [00:01<00:00, 27.54it/s]\n",
      "Train Epoch 34/75: 100%|██████████| 58/58 [00:06<00:00,  8.92it/s]\n",
      "Validation Epoch 34/75: 100%|██████████| 30/30 [00:01<00:00, 27.91it/s]\n",
      "Train Epoch 35/75: 100%|██████████| 58/58 [00:06<00:00,  8.93it/s]\n",
      "Validation Epoch 35/75: 100%|██████████| 30/30 [00:01<00:00, 27.86it/s]\n",
      "Train Epoch 36/75: 100%|██████████| 58/58 [00:06<00:00,  8.94it/s]\n",
      "Validation Epoch 36/75: 100%|██████████| 30/30 [00:01<00:00, 27.85it/s]\n",
      "Train Epoch 37/75: 100%|██████████| 58/58 [00:06<00:00,  8.94it/s]\n",
      "Validation Epoch 37/75: 100%|██████████| 30/30 [00:01<00:00, 27.84it/s]\n",
      "Train Epoch 38/75: 100%|██████████| 58/58 [00:06<00:00,  8.93it/s]\n",
      "Validation Epoch 38/75: 100%|██████████| 30/30 [00:01<00:00, 27.84it/s]\n",
      "Train Epoch 39/75: 100%|██████████| 58/58 [00:06<00:00,  8.93it/s]\n",
      "Validation Epoch 39/75: 100%|██████████| 30/30 [00:01<00:00, 27.86it/s]\n",
      "Train Epoch 40/75: 100%|██████████| 58/58 [00:06<00:00,  8.92it/s]\n",
      "Validation Epoch 40/75: 100%|██████████| 30/30 [00:01<00:00, 27.46it/s]\n",
      "Train Epoch 41/75: 100%|██████████| 58/58 [00:06<00:00,  8.92it/s]\n",
      "Validation Epoch 41/75: 100%|██████████| 30/30 [00:01<00:00, 27.86it/s]\n",
      "Train Epoch 42/75: 100%|██████████| 58/58 [00:06<00:00,  8.94it/s]\n",
      "Validation Epoch 42/75: 100%|██████████| 30/30 [00:01<00:00, 27.79it/s]\n",
      "Train Epoch 43/75: 100%|██████████| 58/58 [00:06<00:00,  8.94it/s]\n",
      "Validation Epoch 43/75: 100%|██████████| 30/30 [00:01<00:00, 27.79it/s]\n",
      "Train Epoch 44/75: 100%|██████████| 58/58 [00:06<00:00,  8.94it/s]\n",
      "Validation Epoch 44/75: 100%|██████████| 30/30 [00:01<00:00, 27.94it/s]\n",
      "Train Epoch 45/75: 100%|██████████| 58/58 [00:06<00:00,  8.94it/s]\n",
      "Validation Epoch 45/75: 100%|██████████| 30/30 [00:01<00:00, 27.86it/s]\n",
      "Train Epoch 46/75: 100%|██████████| 58/58 [00:06<00:00,  8.94it/s]\n",
      "Validation Epoch 46/75: 100%|██████████| 30/30 [00:01<00:00, 27.55it/s]\n",
      "Train Epoch 47/75: 100%|██████████| 58/58 [00:06<00:00,  8.93it/s]\n",
      "Validation Epoch 47/75: 100%|██████████| 30/30 [00:01<00:00, 27.87it/s]\n",
      "Train Epoch 48/75: 100%|██████████| 58/58 [00:06<00:00,  8.95it/s]\n",
      "Validation Epoch 48/75: 100%|██████████| 30/30 [00:01<00:00, 27.84it/s]\n",
      "Train Epoch 49/75: 100%|██████████| 58/58 [00:06<00:00,  8.94it/s]\n",
      "Validation Epoch 49/75: 100%|██████████| 30/30 [00:01<00:00, 27.80it/s]\n",
      "Train Epoch 50/75: 100%|██████████| 58/58 [00:06<00:00,  8.94it/s]\n",
      "Validation Epoch 50/75: 100%|██████████| 30/30 [00:01<00:00, 27.84it/s]\n",
      "Train Epoch 51/75: 100%|██████████| 58/58 [00:06<00:00,  8.93it/s]\n",
      "Validation Epoch 51/75: 100%|██████████| 30/30 [00:01<00:00, 27.58it/s]\n",
      "Train Epoch 52/75: 100%|██████████| 58/58 [00:06<00:00,  8.93it/s]\n",
      "Validation Epoch 52/75: 100%|██████████| 30/30 [00:01<00:00, 27.92it/s]\n",
      "Train Epoch 53/75: 100%|██████████| 58/58 [00:06<00:00,  8.94it/s]\n",
      "Validation Epoch 53/75: 100%|██████████| 30/30 [00:01<00:00, 27.82it/s]\n",
      "Train Epoch 54/75: 100%|██████████| 58/58 [00:06<00:00,  8.91it/s]\n",
      "Validation Epoch 54/75: 100%|██████████| 30/30 [00:01<00:00, 27.16it/s]\n",
      "Train Epoch 55/75: 100%|██████████| 58/58 [00:06<00:00,  8.90it/s]\n",
      "Validation Epoch 55/75: 100%|██████████| 30/30 [00:01<00:00, 27.46it/s]\n",
      "Train Epoch 56/75: 100%|██████████| 58/58 [00:06<00:00,  8.91it/s]\n",
      "Validation Epoch 56/75: 100%|██████████| 30/30 [00:01<00:00, 27.54it/s]\n",
      "Train Epoch 57/75: 100%|██████████| 58/58 [00:06<00:00,  8.93it/s]\n",
      "Validation Epoch 57/75: 100%|██████████| 30/30 [00:01<00:00, 27.48it/s]\n",
      "Train Epoch 58/75: 100%|██████████| 58/58 [00:06<00:00,  8.91it/s]\n",
      "Validation Epoch 58/75: 100%|██████████| 30/30 [00:01<00:00, 27.79it/s]\n",
      "Train Epoch 59/75: 100%|██████████| 58/58 [00:06<00:00,  8.95it/s]\n",
      "Validation Epoch 59/75: 100%|██████████| 30/30 [00:01<00:00, 27.83it/s]\n",
      "Train Epoch 60/75: 100%|██████████| 58/58 [00:06<00:00,  8.93it/s]\n",
      "Validation Epoch 60/75: 100%|██████████| 30/30 [00:01<00:00, 27.56it/s]\n",
      "Train Epoch 61/75: 100%|██████████| 58/58 [00:06<00:00,  8.94it/s]\n",
      "Validation Epoch 61/75: 100%|██████████| 30/30 [00:01<00:00, 27.90it/s]\n",
      "Train Epoch 62/75: 100%|██████████| 58/58 [00:06<00:00,  8.95it/s]\n",
      "Validation Epoch 62/75: 100%|██████████| 30/30 [00:01<00:00, 27.88it/s]\n",
      "Train Epoch 63/75: 100%|██████████| 58/58 [00:06<00:00,  8.95it/s]\n",
      "Validation Epoch 63/75: 100%|██████████| 30/30 [00:01<00:00, 27.78it/s]\n",
      "Train Epoch 64/75: 100%|██████████| 58/58 [00:06<00:00,  8.93it/s]\n",
      "Validation Epoch 64/75: 100%|██████████| 30/30 [00:01<00:00, 27.47it/s]\n",
      "Train Epoch 65/75: 100%|██████████| 58/58 [00:06<00:00,  8.95it/s]\n",
      "Validation Epoch 65/75: 100%|██████████| 30/30 [00:01<00:00, 27.93it/s]\n",
      "Train Epoch 66/75: 100%|██████████| 58/58 [00:06<00:00,  8.95it/s]\n",
      "Validation Epoch 66/75: 100%|██████████| 30/30 [00:01<00:00, 27.91it/s]\n",
      "Train Epoch 67/75: 100%|██████████| 58/58 [00:06<00:00,  8.95it/s]\n",
      "Validation Epoch 67/75: 100%|██████████| 30/30 [00:01<00:00, 27.83it/s]\n",
      "Train Epoch 68/75: 100%|██████████| 58/58 [00:06<00:00,  8.95it/s]\n",
      "Validation Epoch 68/75: 100%|██████████| 30/30 [00:01<00:00, 27.50it/s]"
     ]
    },
    {
     "name": "stdout",
     "output_type": "stream",
     "text": [
      "Early stopping triggered\n"
     ]
    },
    {
     "name": "stderr",
     "output_type": "stream",
     "text": [
      "\n"
     ]
    }
   ],
   "source": [
    "#Adding one extra conv layer in the encoder at a time\n",
    "depths = [[False, False, True, False]]\n",
    "for depth in depths:\n",
    "    model = UNet(1,1, depth=depth)\n",
    "    model = model.to(DEVICE)\n",
    "    optimizer = optim.Adam(model.parameters(), lr=1e-4, weight_decay=1e-4)\n",
    "    criterion = lambda preds, targets: combined_loss(preds, targets, pos_weight, 0.5)\n",
    "    num_epochs = 75\n",
    "    patience_counter = 10\n",
    "    scheduler = torch.optim.lr_scheduler.ReduceLROnPlateau(optimizer, factor=0.1, patience=5)\n",
    "\n",
    "    training_losses, validation_losses, train_dice_scores, valid_dice_scores = trainer_class(model, train_loader, test_loader, criterion, optimizer, num_epochs, device, patience_counter,depth_added=True, scheduler=scheduler)"
   ]
  },
  {
   "cell_type": "code",
   "execution_count": 97,
   "id": "209176a7",
   "metadata": {},
   "outputs": [
    {
     "name": "stdout",
     "output_type": "stream",
     "text": [
      "Depth [False, False, True, False] Mean Dice Score: 0.7873, Mean F1 Score: 0.7873, Mean Lesion-wise Accuracy: 0.9388\n"
     ]
    }
   ],
   "source": [
    "train_dice_scores, f1_scores, lesion_accuracies, preds = evaluate_model(model, test_loader, device, threshold=0.47)\n",
    "print(f\"Depth {depth} Mean Dice Score: {np.mean(train_dice_scores):.4f}, Mean F1 Score: {np.mean(f1_scores):.4f}, Mean Lesion-wise Accuracy: {np.mean(lesion_accuracies):.4f}\")"
   ]
  },
  {
   "cell_type": "code",
   "execution_count": 93,
   "id": "7fd0fbf9",
   "metadata": {},
   "outputs": [],
   "source": [
    "torch.save(model.state_dict(), \"unet_model_depth_experiment.pth\")"
   ]
  },
  {
   "cell_type": "code",
   "execution_count": 94,
   "id": "925c2813",
   "metadata": {},
   "outputs": [
    {
     "data": {
      "image/png": "[encoded data removed]",
      "text/plain": [
       "<Figure size 1200x1600 with 8 Axes>"
      ]
     },
     "metadata": {},
     "output_type": "display_data"
    }
   ],
   "source": [
    "predicted_masks_depth_exp = preds.reshape(test_images.shape)\n",
    "plotSamples(predicted_masks_depth_exp, test_images, test_masks).plot_best_worst(num_samples=2)"
   ]
  },
  {
   "cell_type": "code",
   "execution_count": 63,
   "id": "d1817201",
   "metadata": {},
   "outputs": [
    {
     "name": "stderr",
     "output_type": "stream",
     "text": [
      "Train Epoch 1/75: 100%|██████████| 58/58 [00:08<00:00,  7.21it/s]\n",
      "Validation Epoch 1/75: 100%|██████████| 30/30 [00:01<00:00, 22.80it/s]\n"
     ]
    },
    {
     "name": "stdout",
     "output_type": "stream",
     "text": [
      "Epoch 1/75, Train Loss: 43.4970, Val Loss: 33.8254\n"
     ]
    },
    {
     "name": "stderr",
     "output_type": "stream",
     "text": [
      "Train Epoch 2/75: 100%|██████████| 58/58 [00:08<00:00,  7.21it/s]\n",
      "Validation Epoch 2/75: 100%|██████████| 30/30 [00:01<00:00, 22.77it/s]\n"
     ]
    },
    {
     "name": "stdout",
     "output_type": "stream",
     "text": [
      "Epoch 2/75, Train Loss: 29.0019, Val Loss: 28.4260\n"
     ]
    },
    {
     "name": "stderr",
     "output_type": "stream",
     "text": [
      "Train Epoch 3/75: 100%|██████████| 58/58 [00:08<00:00,  7.22it/s]\n",
      "Validation Epoch 3/75: 100%|██████████| 30/30 [00:01<00:00, 22.81it/s]\n"
     ]
    },
    {
     "name": "stdout",
     "output_type": "stream",
     "text": [
      "Epoch 3/75, Train Loss: 25.4226, Val Loss: 24.8182\n"
     ]
    },
    {
     "name": "stderr",
     "output_type": "stream",
     "text": [
      "Train Epoch 4/75: 100%|██████████| 58/58 [00:08<00:00,  7.21it/s]\n",
      "Validation Epoch 4/75: 100%|██████████| 30/30 [00:01<00:00, 22.79it/s]\n"
     ]
    },
    {
     "name": "stdout",
     "output_type": "stream",
     "text": [
      "Epoch 4/75, Train Loss: 22.5272, Val Loss: 21.4008\n"
     ]
    },
    {
     "name": "stderr",
     "output_type": "stream",
     "text": [
      "Train Epoch 5/75: 100%|██████████| 58/58 [00:08<00:00,  7.21it/s]\n",
      "Validation Epoch 5/75: 100%|██████████| 30/30 [00:01<00:00, 22.74it/s]\n"
     ]
    },
    {
     "name": "stdout",
     "output_type": "stream",
     "text": [
      "Epoch 5/75, Train Loss: 19.8629, Val Loss: 18.6976\n"
     ]
    },
    {
     "name": "stderr",
     "output_type": "stream",
     "text": [
      "Train Epoch 6/75: 100%|██████████| 58/58 [00:08<00:00,  7.22it/s]\n",
      "Validation Epoch 6/75: 100%|██████████| 30/30 [00:01<00:00, 22.76it/s]\n"
     ]
    },
    {
     "name": "stdout",
     "output_type": "stream",
     "text": [
      "Epoch 6/75, Train Loss: 17.6623, Val Loss: 16.6477\n"
     ]
    },
    {
     "name": "stderr",
     "output_type": "stream",
     "text": [
      "Train Epoch 7/75: 100%|██████████| 58/58 [00:08<00:00,  7.22it/s]\n",
      "Validation Epoch 7/75: 100%|██████████| 30/30 [00:01<00:00, 22.78it/s]\n"
     ]
    },
    {
     "name": "stdout",
     "output_type": "stream",
     "text": [
      "Epoch 7/75, Train Loss: 15.4879, Val Loss: 14.8006\n"
     ]
    },
    {
     "name": "stderr",
     "output_type": "stream",
     "text": [
      "Train Epoch 8/75: 100%|██████████| 58/58 [00:08<00:00,  7.22it/s]\n",
      "Validation Epoch 8/75: 100%|██████████| 30/30 [00:01<00:00, 22.78it/s]\n"
     ]
    },
    {
     "name": "stdout",
     "output_type": "stream",
     "text": [
      "Epoch 8/75, Train Loss: 13.6995, Val Loss: 12.6119\n"
     ]
    },
    {
     "name": "stderr",
     "output_type": "stream",
     "text": [
      "Train Epoch 9/75: 100%|██████████| 58/58 [00:08<00:00,  7.22it/s]\n",
      "Validation Epoch 9/75: 100%|██████████| 30/30 [00:01<00:00, 22.80it/s]\n"
     ]
    },
    {
     "name": "stdout",
     "output_type": "stream",
     "text": [
      "Epoch 9/75, Train Loss: 12.0085, Val Loss: 11.9215\n"
     ]
    },
    {
     "name": "stderr",
     "output_type": "stream",
     "text": [
      "Train Epoch 10/75: 100%|██████████| 58/58 [00:08<00:00,  7.22it/s]\n",
      "Validation Epoch 10/75: 100%|██████████| 30/30 [00:01<00:00, 22.80it/s]\n"
     ]
    },
    {
     "name": "stdout",
     "output_type": "stream",
     "text": [
      "Epoch 10/75, Train Loss: 10.5418, Val Loss: 10.4953\n"
     ]
    },
    {
     "name": "stderr",
     "output_type": "stream",
     "text": [
      "Train Epoch 11/75: 100%|██████████| 58/58 [00:08<00:00,  7.22it/s]\n",
      "Validation Epoch 11/75: 100%|██████████| 30/30 [00:01<00:00, 22.80it/s]\n"
     ]
    },
    {
     "name": "stdout",
     "output_type": "stream",
     "text": [
      "Epoch 11/75, Train Loss: 9.1613, Val Loss: 8.9231\n"
     ]
    },
    {
     "name": "stderr",
     "output_type": "stream",
     "text": [
      "Train Epoch 12/75: 100%|██████████| 58/58 [00:08<00:00,  7.21it/s]\n",
      "Validation Epoch 12/75: 100%|██████████| 30/30 [00:01<00:00, 22.75it/s]\n"
     ]
    },
    {
     "name": "stdout",
     "output_type": "stream",
     "text": [
      "Epoch 12/75, Train Loss: 8.0262, Val Loss: 7.6821\n"
     ]
    },
    {
     "name": "stderr",
     "output_type": "stream",
     "text": [
      "Train Epoch 13/75: 100%|██████████| 58/58 [00:08<00:00,  7.21it/s]\n",
      "Validation Epoch 13/75: 100%|██████████| 30/30 [00:01<00:00, 22.80it/s]\n"
     ]
    },
    {
     "name": "stdout",
     "output_type": "stream",
     "text": [
      "Epoch 13/75, Train Loss: 7.0267, Val Loss: 7.3463\n"
     ]
    },
    {
     "name": "stderr",
     "output_type": "stream",
     "text": [
      "Train Epoch 14/75: 100%|██████████| 58/58 [00:08<00:00,  7.21it/s]\n",
      "Validation Epoch 14/75: 100%|██████████| 30/30 [00:01<00:00, 22.78it/s]\n"
     ]
    },
    {
     "name": "stdout",
     "output_type": "stream",
     "text": [
      "Epoch 14/75, Train Loss: 6.1073, Val Loss: 5.1681\n"
     ]
    },
    {
     "name": "stderr",
     "output_type": "stream",
     "text": [
      "Train Epoch 15/75: 100%|██████████| 58/58 [00:08<00:00,  7.21it/s]\n",
      "Validation Epoch 15/75: 100%|██████████| 30/30 [00:01<00:00, 22.79it/s]\n"
     ]
    },
    {
     "name": "stdout",
     "output_type": "stream",
     "text": [
      "Epoch 15/75, Train Loss: 5.3237, Val Loss: 4.6860\n"
     ]
    },
    {
     "name": "stderr",
     "output_type": "stream",
     "text": [
      "Train Epoch 16/75: 100%|██████████| 58/58 [00:08<00:00,  7.21it/s]\n",
      "Validation Epoch 16/75: 100%|██████████| 30/30 [00:01<00:00, 22.78it/s]\n"
     ]
    },
    {
     "name": "stdout",
     "output_type": "stream",
     "text": [
      "Epoch 16/75, Train Loss: 4.6290, Val Loss: 3.9910\n"
     ]
    },
    {
     "name": "stderr",
     "output_type": "stream",
     "text": [
      "Train Epoch 17/75: 100%|██████████| 58/58 [00:08<00:00,  7.21it/s]\n",
      "Validation Epoch 17/75: 100%|██████████| 30/30 [00:01<00:00, 22.76it/s]\n"
     ]
    },
    {
     "name": "stdout",
     "output_type": "stream",
     "text": [
      "Epoch 17/75, Train Loss: 4.0536, Val Loss: 3.9414\n"
     ]
    },
    {
     "name": "stderr",
     "output_type": "stream",
     "text": [
      "Train Epoch 18/75: 100%|██████████| 58/58 [00:08<00:00,  7.22it/s]\n",
      "Validation Epoch 18/75: 100%|██████████| 30/30 [00:01<00:00, 22.79it/s]\n"
     ]
    },
    {
     "name": "stdout",
     "output_type": "stream",
     "text": [
      "Epoch 18/75, Train Loss: 3.5427, Val Loss: 3.0088\n"
     ]
    },
    {
     "name": "stderr",
     "output_type": "stream",
     "text": [
      "Train Epoch 19/75: 100%|██████████| 58/58 [00:08<00:00,  7.21it/s]\n",
      "Validation Epoch 19/75: 100%|██████████| 30/30 [00:01<00:00, 22.77it/s]\n"
     ]
    },
    {
     "name": "stdout",
     "output_type": "stream",
     "text": [
      "Epoch 19/75, Train Loss: 3.0320, Val Loss: 3.0317\n"
     ]
    },
    {
     "name": "stderr",
     "output_type": "stream",
     "text": [
      "Train Epoch 20/75: 100%|██████████| 58/58 [00:08<00:00,  7.21it/s]\n",
      "Validation Epoch 20/75: 100%|██████████| 30/30 [00:01<00:00, 22.79it/s]\n"
     ]
    },
    {
     "name": "stdout",
     "output_type": "stream",
     "text": [
      "Epoch 20/75, Train Loss: 2.6723, Val Loss: 2.6975\n"
     ]
    },
    {
     "name": "stderr",
     "output_type": "stream",
     "text": [
      "Train Epoch 21/75: 100%|██████████| 58/58 [00:08<00:00,  7.21it/s]\n",
      "Validation Epoch 21/75: 100%|██████████| 30/30 [00:01<00:00, 22.74it/s]\n"
     ]
    },
    {
     "name": "stdout",
     "output_type": "stream",
     "text": [
      "Epoch 21/75, Train Loss: 2.3699, Val Loss: 2.7332\n"
     ]
    },
    {
     "name": "stderr",
     "output_type": "stream",
     "text": [
      "Train Epoch 22/75: 100%|██████████| 58/58 [00:08<00:00,  7.18it/s]\n",
      "Validation Epoch 22/75: 100%|██████████| 30/30 [00:01<00:00, 22.61it/s]\n"
     ]
    },
    {
     "name": "stdout",
     "output_type": "stream",
     "text": [
      "Epoch 22/75, Train Loss: 2.0867, Val Loss: 2.7860\n"
     ]
    },
    {
     "name": "stderr",
     "output_type": "stream",
     "text": [
      "Train Epoch 23/75: 100%|██████████| 58/58 [00:08<00:00,  7.18it/s]\n",
      "Validation Epoch 23/75: 100%|██████████| 30/30 [00:01<00:00, 22.65it/s]\n"
     ]
    },
    {
     "name": "stdout",
     "output_type": "stream",
     "text": [
      "Epoch 23/75, Train Loss: 1.8577, Val Loss: 1.7149\n"
     ]
    },
    {
     "name": "stderr",
     "output_type": "stream",
     "text": [
      "Train Epoch 24/75: 100%|██████████| 58/58 [00:08<00:00,  7.18it/s]\n",
      "Validation Epoch 24/75: 100%|██████████| 30/30 [00:01<00:00, 22.57it/s]\n"
     ]
    },
    {
     "name": "stdout",
     "output_type": "stream",
     "text": [
      "Epoch 24/75, Train Loss: 1.6128, Val Loss: 1.6393\n"
     ]
    },
    {
     "name": "stderr",
     "output_type": "stream",
     "text": [
      "Train Epoch 25/75: 100%|██████████| 58/58 [00:08<00:00,  7.17it/s]\n",
      "Validation Epoch 25/75: 100%|██████████| 30/30 [00:01<00:00, 22.67it/s]\n"
     ]
    },
    {
     "name": "stdout",
     "output_type": "stream",
     "text": [
      "Epoch 25/75, Train Loss: 1.4254, Val Loss: 1.5193\n"
     ]
    },
    {
     "name": "stderr",
     "output_type": "stream",
     "text": [
      "Train Epoch 26/75: 100%|██████████| 58/58 [00:08<00:00,  7.18it/s]\n",
      "Validation Epoch 26/75: 100%|██████████| 30/30 [00:01<00:00, 22.71it/s]\n"
     ]
    },
    {
     "name": "stdout",
     "output_type": "stream",
     "text": [
      "Epoch 26/75, Train Loss: 1.2849, Val Loss: 1.5728\n"
     ]
    },
    {
     "name": "stderr",
     "output_type": "stream",
     "text": [
      "Train Epoch 27/75: 100%|██████████| 58/58 [00:08<00:00,  7.19it/s]\n",
      "Validation Epoch 27/75: 100%|██████████| 30/30 [00:01<00:00, 22.71it/s]\n"
     ]
    },
    {
     "name": "stdout",
     "output_type": "stream",
     "text": [
      "Epoch 27/75, Train Loss: 1.1915, Val Loss: 1.1945\n"
     ]
    },
    {
     "name": "stderr",
     "output_type": "stream",
     "text": [
      "Train Epoch 28/75: 100%|██████████| 58/58 [00:08<00:00,  7.19it/s]\n",
      "Validation Epoch 28/75: 100%|██████████| 30/30 [00:01<00:00, 22.74it/s]\n"
     ]
    },
    {
     "name": "stdout",
     "output_type": "stream",
     "text": [
      "Epoch 28/75, Train Loss: 1.0657, Val Loss: 1.1350\n"
     ]
    },
    {
     "name": "stderr",
     "output_type": "stream",
     "text": [
      "Train Epoch 29/75: 100%|██████████| 58/58 [00:08<00:00,  7.19it/s]\n",
      "Validation Epoch 29/75: 100%|██████████| 30/30 [00:01<00:00, 22.73it/s]\n"
     ]
    },
    {
     "name": "stdout",
     "output_type": "stream",
     "text": [
      "Epoch 29/75, Train Loss: 0.9839, Val Loss: 1.1794\n"
     ]
    },
    {
     "name": "stderr",
     "output_type": "stream",
     "text": [
      "Train Epoch 30/75: 100%|██████████| 58/58 [00:08<00:00,  7.20it/s]\n",
      "Validation Epoch 30/75: 100%|██████████| 30/30 [00:01<00:00, 22.72it/s]\n"
     ]
    },
    {
     "name": "stdout",
     "output_type": "stream",
     "text": [
      "Epoch 30/75, Train Loss: 0.8809, Val Loss: 1.0328\n"
     ]
    },
    {
     "name": "stderr",
     "output_type": "stream",
     "text": [
      "Train Epoch 31/75: 100%|██████████| 58/58 [00:08<00:00,  7.20it/s]\n",
      "Validation Epoch 31/75: 100%|██████████| 30/30 [00:01<00:00, 22.73it/s]\n"
     ]
    },
    {
     "name": "stdout",
     "output_type": "stream",
     "text": [
      "Epoch 31/75, Train Loss: 0.8217, Val Loss: 0.9572\n"
     ]
    },
    {
     "name": "stderr",
     "output_type": "stream",
     "text": [
      "Train Epoch 32/75: 100%|██████████| 58/58 [00:08<00:00,  7.20it/s]\n",
      "Validation Epoch 32/75: 100%|██████████| 30/30 [00:01<00:00, 22.72it/s]\n"
     ]
    },
    {
     "name": "stdout",
     "output_type": "stream",
     "text": [
      "Epoch 32/75, Train Loss: 0.7586, Val Loss: 0.9406\n"
     ]
    },
    {
     "name": "stderr",
     "output_type": "stream",
     "text": [
      "Train Epoch 33/75: 100%|██████████| 58/58 [00:08<00:00,  7.20it/s]\n",
      "Validation Epoch 33/75: 100%|██████████| 30/30 [00:01<00:00, 22.75it/s]\n"
     ]
    },
    {
     "name": "stdout",
     "output_type": "stream",
     "text": [
      "Epoch 33/75, Train Loss: 0.7274, Val Loss: 0.9690\n"
     ]
    },
    {
     "name": "stderr",
     "output_type": "stream",
     "text": [
      "Train Epoch 34/75: 100%|██████████| 58/58 [00:08<00:00,  7.20it/s]\n",
      "Validation Epoch 34/75: 100%|██████████| 30/30 [00:01<00:00, 22.72it/s]\n"
     ]
    },
    {
     "name": "stdout",
     "output_type": "stream",
     "text": [
      "Epoch 34/75, Train Loss: 0.6696, Val Loss: 0.8517\n"
     ]
    },
    {
     "name": "stderr",
     "output_type": "stream",
     "text": [
      "Train Epoch 35/75: 100%|██████████| 58/58 [00:08<00:00,  7.21it/s]\n",
      "Validation Epoch 35/75: 100%|██████████| 30/30 [00:01<00:00, 22.78it/s]\n"
     ]
    },
    {
     "name": "stdout",
     "output_type": "stream",
     "text": [
      "Epoch 35/75, Train Loss: 0.6442, Val Loss: 0.8392\n"
     ]
    },
    {
     "name": "stderr",
     "output_type": "stream",
     "text": [
      "Train Epoch 36/75: 100%|██████████| 58/58 [00:08<00:00,  7.20it/s]\n",
      "Validation Epoch 36/75: 100%|██████████| 30/30 [00:01<00:00, 22.79it/s]\n"
     ]
    },
    {
     "name": "stdout",
     "output_type": "stream",
     "text": [
      "Epoch 36/75, Train Loss: 0.6058, Val Loss: 0.8410\n"
     ]
    },
    {
     "name": "stderr",
     "output_type": "stream",
     "text": [
      "Train Epoch 37/75: 100%|██████████| 58/58 [00:08<00:00,  7.20it/s]\n",
      "Validation Epoch 37/75: 100%|██████████| 30/30 [00:01<00:00, 22.77it/s]\n"
     ]
    },
    {
     "name": "stdout",
     "output_type": "stream",
     "text": [
      "Epoch 37/75, Train Loss: 0.5727, Val Loss: 0.8333\n"
     ]
    },
    {
     "name": "stderr",
     "output_type": "stream",
     "text": [
      "Train Epoch 38/75: 100%|██████████| 58/58 [00:08<00:00,  7.21it/s]\n",
      "Validation Epoch 38/75: 100%|██████████| 30/30 [00:01<00:00, 22.78it/s]\n"
     ]
    },
    {
     "name": "stdout",
     "output_type": "stream",
     "text": [
      "Epoch 38/75, Train Loss: 0.5457, Val Loss: 0.8126\n"
     ]
    },
    {
     "name": "stderr",
     "output_type": "stream",
     "text": [
      "Train Epoch 39/75: 100%|██████████| 58/58 [00:08<00:00,  7.21it/s]\n",
      "Validation Epoch 39/75: 100%|██████████| 30/30 [00:01<00:00, 22.73it/s]\n"
     ]
    },
    {
     "name": "stdout",
     "output_type": "stream",
     "text": [
      "Epoch 39/75, Train Loss: 0.5182, Val Loss: 0.7790\n"
     ]
    },
    {
     "name": "stderr",
     "output_type": "stream",
     "text": [
      "Train Epoch 40/75: 100%|██████████| 58/58 [00:08<00:00,  7.21it/s]\n",
      "Validation Epoch 40/75: 100%|██████████| 30/30 [00:01<00:00, 22.75it/s]\n"
     ]
    },
    {
     "name": "stdout",
     "output_type": "stream",
     "text": [
      "Epoch 40/75, Train Loss: 0.4980, Val Loss: 0.7691\n"
     ]
    },
    {
     "name": "stderr",
     "output_type": "stream",
     "text": [
      "Train Epoch 41/75: 100%|██████████| 58/58 [00:08<00:00,  7.21it/s]\n",
      "Validation Epoch 41/75: 100%|██████████| 30/30 [00:01<00:00, 22.75it/s]\n"
     ]
    },
    {
     "name": "stdout",
     "output_type": "stream",
     "text": [
      "Epoch 41/75, Train Loss: 0.4727, Val Loss: 0.8020\n"
     ]
    },
    {
     "name": "stderr",
     "output_type": "stream",
     "text": [
      "Train Epoch 42/75: 100%|██████████| 58/58 [00:08<00:00,  7.21it/s]\n",
      "Validation Epoch 42/75: 100%|██████████| 30/30 [00:01<00:00, 22.79it/s]\n"
     ]
    },
    {
     "name": "stdout",
     "output_type": "stream",
     "text": [
      "Epoch 42/75, Train Loss: 0.4616, Val Loss: 0.7509\n"
     ]
    },
    {
     "name": "stderr",
     "output_type": "stream",
     "text": [
      "Train Epoch 43/75: 100%|██████████| 58/58 [00:08<00:00,  7.21it/s]\n",
      "Validation Epoch 43/75: 100%|██████████| 30/30 [00:01<00:00, 22.76it/s]\n"
     ]
    },
    {
     "name": "stdout",
     "output_type": "stream",
     "text": [
      "Epoch 43/75, Train Loss: 0.4331, Val Loss: 0.7969\n"
     ]
    },
    {
     "name": "stderr",
     "output_type": "stream",
     "text": [
      "Train Epoch 44/75: 100%|██████████| 58/58 [00:08<00:00,  7.21it/s]\n",
      "Validation Epoch 44/75: 100%|██████████| 30/30 [00:01<00:00, 22.78it/s]\n"
     ]
    },
    {
     "name": "stdout",
     "output_type": "stream",
     "text": [
      "Epoch 44/75, Train Loss: 0.4066, Val Loss: 0.7944\n"
     ]
    },
    {
     "name": "stderr",
     "output_type": "stream",
     "text": [
      "Train Epoch 45/75: 100%|██████████| 58/58 [00:08<00:00,  7.20it/s]\n",
      "Validation Epoch 45/75: 100%|██████████| 30/30 [00:01<00:00, 22.78it/s]\n"
     ]
    },
    {
     "name": "stdout",
     "output_type": "stream",
     "text": [
      "Epoch 45/75, Train Loss: 0.4036, Val Loss: 0.9296\n"
     ]
    },
    {
     "name": "stderr",
     "output_type": "stream",
     "text": [
      "Train Epoch 46/75: 100%|██████████| 58/58 [00:08<00:00,  7.19it/s]\n",
      "Validation Epoch 46/75: 100%|██████████| 30/30 [00:01<00:00, 22.70it/s]\n"
     ]
    },
    {
     "name": "stdout",
     "output_type": "stream",
     "text": [
      "Epoch 46/75, Train Loss: 0.3757, Val Loss: 0.7408\n"
     ]
    },
    {
     "name": "stderr",
     "output_type": "stream",
     "text": [
      "Train Epoch 47/75: 100%|██████████| 58/58 [00:08<00:00,  7.18it/s]\n",
      "Validation Epoch 47/75: 100%|██████████| 30/30 [00:01<00:00, 22.72it/s]\n"
     ]
    },
    {
     "name": "stdout",
     "output_type": "stream",
     "text": [
      "Epoch 47/75, Train Loss: 0.3607, Val Loss: 0.7754\n"
     ]
    },
    {
     "name": "stderr",
     "output_type": "stream",
     "text": [
      "Train Epoch 48/75: 100%|██████████| 58/58 [00:08<00:00,  7.19it/s]\n",
      "Validation Epoch 48/75: 100%|██████████| 30/30 [00:01<00:00, 22.68it/s]\n"
     ]
    },
    {
     "name": "stdout",
     "output_type": "stream",
     "text": [
      "Epoch 48/75, Train Loss: 0.3512, Val Loss: 0.7721\n"
     ]
    },
    {
     "name": "stderr",
     "output_type": "stream",
     "text": [
      "Train Epoch 49/75: 100%|██████████| 58/58 [00:08<00:00,  7.20it/s]\n",
      "Validation Epoch 49/75: 100%|██████████| 30/30 [00:01<00:00, 22.66it/s]\n"
     ]
    },
    {
     "name": "stdout",
     "output_type": "stream",
     "text": [
      "Epoch 49/75, Train Loss: 0.3226, Val Loss: 0.7799\n"
     ]
    },
    {
     "name": "stderr",
     "output_type": "stream",
     "text": [
      "Train Epoch 50/75: 100%|██████████| 58/58 [00:08<00:00,  7.19it/s]\n",
      "Validation Epoch 50/75: 100%|██████████| 30/30 [00:01<00:00, 22.66it/s]\n"
     ]
    },
    {
     "name": "stdout",
     "output_type": "stream",
     "text": [
      "Epoch 50/75, Train Loss: 0.3074, Val Loss: 0.7708\n"
     ]
    },
    {
     "name": "stderr",
     "output_type": "stream",
     "text": [
      "Train Epoch 51/75: 100%|██████████| 58/58 [00:08<00:00,  7.19it/s]\n",
      "Validation Epoch 51/75: 100%|██████████| 30/30 [00:01<00:00, 22.66it/s]\n"
     ]
    },
    {
     "name": "stdout",
     "output_type": "stream",
     "text": [
      "Epoch 51/75, Train Loss: 0.3021, Val Loss: 0.8058\n"
     ]
    },
    {
     "name": "stderr",
     "output_type": "stream",
     "text": [
      "Train Epoch 52/75: 100%|██████████| 58/58 [00:08<00:00,  7.20it/s]\n",
      "Validation Epoch 52/75: 100%|██████████| 30/30 [00:01<00:00, 22.69it/s]\n"
     ]
    },
    {
     "name": "stdout",
     "output_type": "stream",
     "text": [
      "Epoch 52/75, Train Loss: 0.2832, Val Loss: 0.7843\n"
     ]
    },
    {
     "name": "stderr",
     "output_type": "stream",
     "text": [
      "Train Epoch 53/75: 100%|██████████| 58/58 [00:08<00:00,  7.20it/s]\n",
      "Validation Epoch 53/75: 100%|██████████| 30/30 [00:01<00:00, 22.66it/s]\n"
     ]
    },
    {
     "name": "stdout",
     "output_type": "stream",
     "text": [
      "Epoch 53/75, Train Loss: 0.2366, Val Loss: 0.8148\n"
     ]
    },
    {
     "name": "stderr",
     "output_type": "stream",
     "text": [
      "Train Epoch 54/75: 100%|██████████| 58/58 [00:08<00:00,  7.18it/s]\n",
      "Validation Epoch 54/75: 100%|██████████| 30/30 [00:01<00:00, 21.84it/s]\n"
     ]
    },
    {
     "name": "stdout",
     "output_type": "stream",
     "text": [
      "Epoch 54/75, Train Loss: 0.2208, Val Loss: 0.8187\n"
     ]
    },
    {
     "name": "stderr",
     "output_type": "stream",
     "text": [
      "Train Epoch 55/75: 100%|██████████| 58/58 [00:08<00:00,  7.20it/s]\n",
      "Validation Epoch 55/75: 100%|██████████| 30/30 [00:01<00:00, 22.75it/s]\n"
     ]
    },
    {
     "name": "stdout",
     "output_type": "stream",
     "text": [
      "Epoch 55/75, Train Loss: 0.2104, Val Loss: 0.8411\n"
     ]
    },
    {
     "name": "stderr",
     "output_type": "stream",
     "text": [
      "Train Epoch 56/75: 100%|██████████| 58/58 [00:08<00:00,  7.16it/s]\n",
      "Validation Epoch 56/75: 100%|██████████| 30/30 [00:01<00:00, 22.71it/s]\n"
     ]
    },
    {
     "name": "stdout",
     "output_type": "stream",
     "text": [
      "Epoch 56/75, Train Loss: 0.2069, Val Loss: 0.8518\n",
      "Early stopping triggered\n",
      "Depth [True, True, True, False] -> Mean Dice Score: 0.7817, Mean F1 Score: 0.7817, Mean Lesion-wise Accuracy: 0.9419\n"
     ]
    },
    {
     "name": "stderr",
     "output_type": "stream",
     "text": [
      "Train Epoch 1/75: 100%|██████████| 58/58 [00:08<00:00,  6.87it/s]\n",
      "Validation Epoch 1/75: 100%|██████████| 30/30 [00:01<00:00, 21.76it/s]\n"
     ]
    },
    {
     "name": "stdout",
     "output_type": "stream",
     "text": [
      "Epoch 1/75, Train Loss: 44.9780, Val Loss: 35.9468\n"
     ]
    },
    {
     "name": "stderr",
     "output_type": "stream",
     "text": [
      "Train Epoch 2/75: 100%|██████████| 58/58 [00:08<00:00,  6.87it/s]\n",
      "Validation Epoch 2/75: 100%|██████████| 30/30 [00:01<00:00, 21.73it/s]\n"
     ]
    },
    {
     "name": "stdout",
     "output_type": "stream",
     "text": [
      "Epoch 2/75, Train Loss: 29.8797, Val Loss: 29.4991\n"
     ]
    },
    {
     "name": "stderr",
     "output_type": "stream",
     "text": [
      "Train Epoch 3/75: 100%|██████████| 58/58 [00:08<00:00,  6.86it/s]\n",
      "Validation Epoch 3/75: 100%|██████████| 30/30 [00:01<00:00, 21.74it/s]\n"
     ]
    },
    {
     "name": "stdout",
     "output_type": "stream",
     "text": [
      "Epoch 3/75, Train Loss: 26.3148, Val Loss: 25.9763\n"
     ]
    },
    {
     "name": "stderr",
     "output_type": "stream",
     "text": [
      "Train Epoch 4/75: 100%|██████████| 58/58 [00:08<00:00,  6.86it/s]\n",
      "Validation Epoch 4/75: 100%|██████████| 30/30 [00:01<00:00, 21.74it/s]\n"
     ]
    },
    {
     "name": "stdout",
     "output_type": "stream",
     "text": [
      "Epoch 4/75, Train Loss: 23.2924, Val Loss: 22.5956\n"
     ]
    },
    {
     "name": "stderr",
     "output_type": "stream",
     "text": [
      "Train Epoch 5/75: 100%|██████████| 58/58 [00:08<00:00,  6.86it/s]\n",
      "Validation Epoch 5/75: 100%|██████████| 30/30 [00:01<00:00, 21.72it/s]\n"
     ]
    },
    {
     "name": "stdout",
     "output_type": "stream",
     "text": [
      "Epoch 5/75, Train Loss: 20.5389, Val Loss: 18.9053\n"
     ]
    },
    {
     "name": "stderr",
     "output_type": "stream",
     "text": [
      "Train Epoch 6/75: 100%|██████████| 58/58 [00:08<00:00,  6.86it/s]\n",
      "Validation Epoch 6/75: 100%|██████████| 30/30 [00:01<00:00, 21.72it/s]\n"
     ]
    },
    {
     "name": "stdout",
     "output_type": "stream",
     "text": [
      "Epoch 6/75, Train Loss: 18.3185, Val Loss: 17.2464\n"
     ]
    },
    {
     "name": "stderr",
     "output_type": "stream",
     "text": [
      "Train Epoch 7/75: 100%|██████████| 58/58 [00:08<00:00,  6.85it/s]\n",
      "Validation Epoch 7/75: 100%|██████████| 30/30 [00:01<00:00, 21.72it/s]\n"
     ]
    },
    {
     "name": "stdout",
     "output_type": "stream",
     "text": [
      "Epoch 7/75, Train Loss: 16.2285, Val Loss: 15.7361\n"
     ]
    },
    {
     "name": "stderr",
     "output_type": "stream",
     "text": [
      "Train Epoch 8/75: 100%|██████████| 58/58 [00:08<00:00,  6.85it/s]\n",
      "Validation Epoch 8/75: 100%|██████████| 30/30 [00:01<00:00, 21.67it/s]\n"
     ]
    },
    {
     "name": "stdout",
     "output_type": "stream",
     "text": [
      "Epoch 8/75, Train Loss: 14.3924, Val Loss: 13.2641\n"
     ]
    },
    {
     "name": "stderr",
     "output_type": "stream",
     "text": [
      "Train Epoch 9/75: 100%|██████████| 58/58 [00:08<00:00,  6.85it/s]\n",
      "Validation Epoch 9/75: 100%|██████████| 30/30 [00:01<00:00, 21.67it/s]\n"
     ]
    },
    {
     "name": "stdout",
     "output_type": "stream",
     "text": [
      "Epoch 9/75, Train Loss: 12.7692, Val Loss: 11.3469\n"
     ]
    },
    {
     "name": "stderr",
     "output_type": "stream",
     "text": [
      "Train Epoch 10/75: 100%|██████████| 58/58 [00:08<00:00,  6.86it/s]\n",
      "Validation Epoch 10/75: 100%|██████████| 30/30 [00:01<00:00, 21.75it/s]\n"
     ]
    },
    {
     "name": "stdout",
     "output_type": "stream",
     "text": [
      "Epoch 10/75, Train Loss: 11.2235, Val Loss: 10.4129\n"
     ]
    },
    {
     "name": "stderr",
     "output_type": "stream",
     "text": [
      "Train Epoch 11/75: 100%|██████████| 58/58 [00:08<00:00,  6.85it/s]\n",
      "Validation Epoch 11/75: 100%|██████████| 30/30 [00:01<00:00, 21.70it/s]\n"
     ]
    },
    {
     "name": "stdout",
     "output_type": "stream",
     "text": [
      "Epoch 11/75, Train Loss: 9.9003, Val Loss: 9.5128\n"
     ]
    },
    {
     "name": "stderr",
     "output_type": "stream",
     "text": [
      "Train Epoch 12/75: 100%|██████████| 58/58 [00:08<00:00,  6.85it/s]\n",
      "Validation Epoch 12/75: 100%|██████████| 30/30 [00:01<00:00, 21.61it/s]\n"
     ]
    },
    {
     "name": "stdout",
     "output_type": "stream",
     "text": [
      "Epoch 12/75, Train Loss: 8.7387, Val Loss: 9.1206\n"
     ]
    },
    {
     "name": "stderr",
     "output_type": "stream",
     "text": [
      "Train Epoch 13/75: 100%|██████████| 58/58 [00:08<00:00,  6.84it/s]\n",
      "Validation Epoch 13/75: 100%|██████████| 30/30 [00:01<00:00, 21.66it/s]\n"
     ]
    },
    {
     "name": "stdout",
     "output_type": "stream",
     "text": [
      "Epoch 13/75, Train Loss: 7.6684, Val Loss: 6.9921\n"
     ]
    },
    {
     "name": "stderr",
     "output_type": "stream",
     "text": [
      "Train Epoch 14/75: 100%|██████████| 58/58 [00:08<00:00,  6.84it/s]\n",
      "Validation Epoch 14/75: 100%|██████████| 30/30 [00:01<00:00, 21.67it/s]\n"
     ]
    },
    {
     "name": "stdout",
     "output_type": "stream",
     "text": [
      "Epoch 14/75, Train Loss: 6.6286, Val Loss: 6.0780\n"
     ]
    },
    {
     "name": "stderr",
     "output_type": "stream",
     "text": [
      "Train Epoch 15/75: 100%|██████████| 58/58 [00:08<00:00,  6.85it/s]\n",
      "Validation Epoch 15/75: 100%|██████████| 30/30 [00:01<00:00, 21.68it/s]\n"
     ]
    },
    {
     "name": "stdout",
     "output_type": "stream",
     "text": [
      "Epoch 15/75, Train Loss: 5.9380, Val Loss: 5.4766\n"
     ]
    },
    {
     "name": "stderr",
     "output_type": "stream",
     "text": [
      "Train Epoch 16/75: 100%|██████████| 58/58 [00:08<00:00,  6.84it/s]\n",
      "Validation Epoch 16/75: 100%|██████████| 30/30 [00:01<00:00, 21.63it/s]\n"
     ]
    },
    {
     "name": "stdout",
     "output_type": "stream",
     "text": [
      "Epoch 16/75, Train Loss: 5.1813, Val Loss: 4.8210\n"
     ]
    },
    {
     "name": "stderr",
     "output_type": "stream",
     "text": [
      "Train Epoch 17/75: 100%|██████████| 58/58 [00:08<00:00,  6.84it/s]\n",
      "Validation Epoch 17/75: 100%|██████████| 30/30 [00:01<00:00, 21.65it/s]\n"
     ]
    },
    {
     "name": "stdout",
     "output_type": "stream",
     "text": [
      "Epoch 17/75, Train Loss: 4.5114, Val Loss: 4.1661\n"
     ]
    },
    {
     "name": "stderr",
     "output_type": "stream",
     "text": [
      "Train Epoch 18/75: 100%|██████████| 58/58 [00:08<00:00,  6.84it/s]\n",
      "Validation Epoch 18/75: 100%|██████████| 30/30 [00:01<00:00, 21.68it/s]\n"
     ]
    },
    {
     "name": "stdout",
     "output_type": "stream",
     "text": [
      "Epoch 18/75, Train Loss: 3.9860, Val Loss: 3.7571\n"
     ]
    },
    {
     "name": "stderr",
     "output_type": "stream",
     "text": [
      "Train Epoch 19/75: 100%|██████████| 58/58 [00:08<00:00,  6.84it/s]\n",
      "Validation Epoch 19/75: 100%|██████████| 30/30 [00:01<00:00, 21.72it/s]\n"
     ]
    },
    {
     "name": "stdout",
     "output_type": "stream",
     "text": [
      "Epoch 19/75, Train Loss: 3.4913, Val Loss: 3.2988\n"
     ]
    },
    {
     "name": "stderr",
     "output_type": "stream",
     "text": [
      "Train Epoch 20/75: 100%|██████████| 58/58 [00:08<00:00,  6.85it/s]\n",
      "Validation Epoch 20/75: 100%|██████████| 30/30 [00:01<00:00, 21.70it/s]\n"
     ]
    },
    {
     "name": "stdout",
     "output_type": "stream",
     "text": [
      "Epoch 20/75, Train Loss: 3.0847, Val Loss: 2.9628\n"
     ]
    },
    {
     "name": "stderr",
     "output_type": "stream",
     "text": [
      "Train Epoch 21/75: 100%|██████████| 58/58 [00:08<00:00,  6.86it/s]\n",
      "Validation Epoch 21/75: 100%|██████████| 30/30 [00:01<00:00, 21.71it/s]\n"
     ]
    },
    {
     "name": "stdout",
     "output_type": "stream",
     "text": [
      "Epoch 21/75, Train Loss: 2.6889, Val Loss: 2.6204\n"
     ]
    },
    {
     "name": "stderr",
     "output_type": "stream",
     "text": [
      "Train Epoch 22/75: 100%|██████████| 58/58 [00:08<00:00,  6.86it/s]\n",
      "Validation Epoch 22/75: 100%|██████████| 30/30 [00:01<00:00, 21.77it/s]\n"
     ]
    },
    {
     "name": "stdout",
     "output_type": "stream",
     "text": [
      "Epoch 22/75, Train Loss: 2.4157, Val Loss: 2.4893\n"
     ]
    },
    {
     "name": "stderr",
     "output_type": "stream",
     "text": [
      "Train Epoch 23/75: 100%|██████████| 58/58 [00:08<00:00,  6.87it/s]\n",
      "Validation Epoch 23/75: 100%|██████████| 30/30 [00:01<00:00, 21.74it/s]\n"
     ]
    },
    {
     "name": "stdout",
     "output_type": "stream",
     "text": [
      "Epoch 23/75, Train Loss: 2.1568, Val Loss: 2.1941\n"
     ]
    },
    {
     "name": "stderr",
     "output_type": "stream",
     "text": [
      "Train Epoch 24/75: 100%|██████████| 58/58 [00:08<00:00,  6.86it/s]\n",
      "Validation Epoch 24/75: 100%|██████████| 30/30 [00:01<00:00, 21.79it/s]\n"
     ]
    },
    {
     "name": "stdout",
     "output_type": "stream",
     "text": [
      "Epoch 24/75, Train Loss: 1.9119, Val Loss: 2.0736\n"
     ]
    },
    {
     "name": "stderr",
     "output_type": "stream",
     "text": [
      "Train Epoch 25/75: 100%|██████████| 58/58 [00:08<00:00,  6.87it/s]\n",
      "Validation Epoch 25/75: 100%|██████████| 30/30 [00:01<00:00, 21.79it/s]\n"
     ]
    },
    {
     "name": "stdout",
     "output_type": "stream",
     "text": [
      "Epoch 25/75, Train Loss: 1.7372, Val Loss: 1.8258\n"
     ]
    },
    {
     "name": "stderr",
     "output_type": "stream",
     "text": [
      "Train Epoch 26/75: 100%|██████████| 58/58 [00:08<00:00,  6.86it/s]\n",
      "Validation Epoch 26/75: 100%|██████████| 30/30 [00:01<00:00, 21.70it/s]\n"
     ]
    },
    {
     "name": "stdout",
     "output_type": "stream",
     "text": [
      "Epoch 26/75, Train Loss: 1.5427, Val Loss: 1.7182\n"
     ]
    },
    {
     "name": "stderr",
     "output_type": "stream",
     "text": [
      "Train Epoch 27/75: 100%|██████████| 58/58 [00:08<00:00,  6.86it/s]\n",
      "Validation Epoch 27/75: 100%|██████████| 30/30 [00:01<00:00, 21.69it/s]\n"
     ]
    },
    {
     "name": "stdout",
     "output_type": "stream",
     "text": [
      "Epoch 27/75, Train Loss: 1.3703, Val Loss: 1.4745\n"
     ]
    },
    {
     "name": "stderr",
     "output_type": "stream",
     "text": [
      "Train Epoch 28/75: 100%|██████████| 58/58 [00:08<00:00,  6.87it/s]\n",
      "Validation Epoch 28/75: 100%|██████████| 30/30 [00:01<00:00, 21.78it/s]\n"
     ]
    },
    {
     "name": "stdout",
     "output_type": "stream",
     "text": [
      "Epoch 28/75, Train Loss: 1.2552, Val Loss: 1.3406\n"
     ]
    },
    {
     "name": "stderr",
     "output_type": "stream",
     "text": [
      "Train Epoch 29/75: 100%|██████████| 58/58 [00:08<00:00,  6.86it/s]\n",
      "Validation Epoch 29/75: 100%|██████████| 30/30 [00:01<00:00, 21.70it/s]\n"
     ]
    },
    {
     "name": "stdout",
     "output_type": "stream",
     "text": [
      "Epoch 29/75, Train Loss: 1.1247, Val Loss: 1.2568\n"
     ]
    },
    {
     "name": "stderr",
     "output_type": "stream",
     "text": [
      "Train Epoch 30/75: 100%|██████████| 58/58 [00:08<00:00,  6.86it/s]\n",
      "Validation Epoch 30/75: 100%|██████████| 30/30 [00:01<00:00, 21.73it/s]\n"
     ]
    },
    {
     "name": "stdout",
     "output_type": "stream",
     "text": [
      "Epoch 30/75, Train Loss: 1.0448, Val Loss: 1.1778\n"
     ]
    },
    {
     "name": "stderr",
     "output_type": "stream",
     "text": [
      "Train Epoch 31/75: 100%|██████████| 58/58 [00:08<00:00,  6.85it/s]\n",
      "Validation Epoch 31/75: 100%|██████████| 30/30 [00:01<00:00, 21.72it/s]\n"
     ]
    },
    {
     "name": "stdout",
     "output_type": "stream",
     "text": [
      "Epoch 31/75, Train Loss: 0.9800, Val Loss: 1.2129\n"
     ]
    },
    {
     "name": "stderr",
     "output_type": "stream",
     "text": [
      "Train Epoch 32/75: 100%|██████████| 58/58 [00:08<00:00,  6.85it/s]\n",
      "Validation Epoch 32/75: 100%|██████████| 30/30 [00:01<00:00, 21.67it/s]\n"
     ]
    },
    {
     "name": "stdout",
     "output_type": "stream",
     "text": [
      "Epoch 32/75, Train Loss: 0.9011, Val Loss: 1.0191\n"
     ]
    },
    {
     "name": "stderr",
     "output_type": "stream",
     "text": [
      "Train Epoch 33/75: 100%|██████████| 58/58 [00:08<00:00,  6.85it/s]\n",
      "Validation Epoch 33/75: 100%|██████████| 30/30 [00:01<00:00, 21.62it/s]\n"
     ]
    },
    {
     "name": "stdout",
     "output_type": "stream",
     "text": [
      "Epoch 33/75, Train Loss: 0.8273, Val Loss: 0.9956\n"
     ]
    },
    {
     "name": "stderr",
     "output_type": "stream",
     "text": [
      "Train Epoch 34/75: 100%|██████████| 58/58 [00:08<00:00,  6.85it/s]\n",
      "Validation Epoch 34/75: 100%|██████████| 30/30 [00:01<00:00, 21.68it/s]\n"
     ]
    },
    {
     "name": "stdout",
     "output_type": "stream",
     "text": [
      "Epoch 34/75, Train Loss: 0.7753, Val Loss: 0.9464\n"
     ]
    },
    {
     "name": "stderr",
     "output_type": "stream",
     "text": [
      "Train Epoch 35/75: 100%|██████████| 58/58 [00:08<00:00,  6.84it/s]\n",
      "Validation Epoch 35/75: 100%|██████████| 30/30 [00:01<00:00, 21.65it/s]\n"
     ]
    },
    {
     "name": "stdout",
     "output_type": "stream",
     "text": [
      "Epoch 35/75, Train Loss: 0.7121, Val Loss: 0.9148\n"
     ]
    },
    {
     "name": "stderr",
     "output_type": "stream",
     "text": [
      "Train Epoch 36/75: 100%|██████████| 58/58 [00:08<00:00,  6.84it/s]\n",
      "Validation Epoch 36/75: 100%|██████████| 30/30 [00:01<00:00, 21.68it/s]\n"
     ]
    },
    {
     "name": "stdout",
     "output_type": "stream",
     "text": [
      "Epoch 36/75, Train Loss: 0.6756, Val Loss: 0.8786\n"
     ]
    },
    {
     "name": "stderr",
     "output_type": "stream",
     "text": [
      "Train Epoch 37/75: 100%|██████████| 58/58 [00:08<00:00,  6.83it/s]\n",
      "Validation Epoch 37/75: 100%|██████████| 30/30 [00:01<00:00, 21.66it/s]\n"
     ]
    },
    {
     "name": "stdout",
     "output_type": "stream",
     "text": [
      "Epoch 37/75, Train Loss: 0.6462, Val Loss: 0.8488\n"
     ]
    },
    {
     "name": "stderr",
     "output_type": "stream",
     "text": [
      "Train Epoch 38/75: 100%|██████████| 58/58 [00:08<00:00,  6.83it/s]\n",
      "Validation Epoch 38/75: 100%|██████████| 30/30 [00:01<00:00, 21.66it/s]\n"
     ]
    },
    {
     "name": "stdout",
     "output_type": "stream",
     "text": [
      "Epoch 38/75, Train Loss: 0.6175, Val Loss: 0.7985\n"
     ]
    },
    {
     "name": "stderr",
     "output_type": "stream",
     "text": [
      "Train Epoch 39/75: 100%|██████████| 58/58 [00:08<00:00,  6.83it/s]\n",
      "Validation Epoch 39/75: 100%|██████████| 30/30 [00:01<00:00, 21.65it/s]\n"
     ]
    },
    {
     "name": "stdout",
     "output_type": "stream",
     "text": [
      "Epoch 39/75, Train Loss: 0.5585, Val Loss: 0.8230\n"
     ]
    },
    {
     "name": "stderr",
     "output_type": "stream",
     "text": [
      "Train Epoch 40/75: 100%|██████████| 58/58 [00:08<00:00,  6.82it/s]\n",
      "Validation Epoch 40/75: 100%|██████████| 30/30 [00:01<00:00, 21.63it/s]\n"
     ]
    },
    {
     "name": "stdout",
     "output_type": "stream",
     "text": [
      "Epoch 40/75, Train Loss: 0.5456, Val Loss: 0.9268\n"
     ]
    },
    {
     "name": "stderr",
     "output_type": "stream",
     "text": [
      "Train Epoch 41/75: 100%|██████████| 58/58 [00:08<00:00,  6.82it/s]\n",
      "Validation Epoch 41/75: 100%|██████████| 30/30 [00:01<00:00, 21.64it/s]\n"
     ]
    },
    {
     "name": "stdout",
     "output_type": "stream",
     "text": [
      "Epoch 41/75, Train Loss: 0.5143, Val Loss: 0.8408\n"
     ]
    },
    {
     "name": "stderr",
     "output_type": "stream",
     "text": [
      "Train Epoch 42/75: 100%|██████████| 58/58 [00:08<00:00,  6.82it/s]\n",
      "Validation Epoch 42/75: 100%|██████████| 30/30 [00:01<00:00, 21.63it/s]\n"
     ]
    },
    {
     "name": "stdout",
     "output_type": "stream",
     "text": [
      "Epoch 42/75, Train Loss: 0.5239, Val Loss: 0.7750\n"
     ]
    },
    {
     "name": "stderr",
     "output_type": "stream",
     "text": [
      "Train Epoch 43/75: 100%|██████████| 58/58 [00:08<00:00,  6.82it/s]\n",
      "Validation Epoch 43/75: 100%|██████████| 30/30 [00:01<00:00, 21.66it/s]\n"
     ]
    },
    {
     "name": "stdout",
     "output_type": "stream",
     "text": [
      "Epoch 43/75, Train Loss: 0.4677, Val Loss: 0.7666\n"
     ]
    },
    {
     "name": "stderr",
     "output_type": "stream",
     "text": [
      "Train Epoch 44/75: 100%|██████████| 58/58 [00:08<00:00,  6.83it/s]\n",
      "Validation Epoch 44/75: 100%|██████████| 30/30 [00:01<00:00, 21.63it/s]\n"
     ]
    },
    {
     "name": "stdout",
     "output_type": "stream",
     "text": [
      "Epoch 44/75, Train Loss: 0.4449, Val Loss: 0.7609\n"
     ]
    },
    {
     "name": "stderr",
     "output_type": "stream",
     "text": [
      "Train Epoch 45/75: 100%|██████████| 58/58 [00:08<00:00,  6.81it/s]\n",
      "Validation Epoch 45/75: 100%|██████████| 30/30 [00:01<00:00, 21.48it/s]\n"
     ]
    },
    {
     "name": "stdout",
     "output_type": "stream",
     "text": [
      "Epoch 45/75, Train Loss: 0.4318, Val Loss: 0.8046\n"
     ]
    },
    {
     "name": "stderr",
     "output_type": "stream",
     "text": [
      "Train Epoch 46/75: 100%|██████████| 58/58 [00:08<00:00,  6.82it/s]\n",
      "Validation Epoch 46/75: 100%|██████████| 30/30 [00:01<00:00, 21.61it/s]\n"
     ]
    },
    {
     "name": "stdout",
     "output_type": "stream",
     "text": [
      "Epoch 46/75, Train Loss: 0.4165, Val Loss: 0.7618\n"
     ]
    },
    {
     "name": "stderr",
     "output_type": "stream",
     "text": [
      "Train Epoch 47/75: 100%|██████████| 58/58 [00:08<00:00,  6.82it/s]\n",
      "Validation Epoch 47/75: 100%|██████████| 30/30 [00:01<00:00, 21.61it/s]\n"
     ]
    },
    {
     "name": "stdout",
     "output_type": "stream",
     "text": [
      "Epoch 47/75, Train Loss: 0.3951, Val Loss: 0.7772\n"
     ]
    },
    {
     "name": "stderr",
     "output_type": "stream",
     "text": [
      "Train Epoch 48/75: 100%|██████████| 58/58 [00:08<00:00,  6.82it/s]\n",
      "Validation Epoch 48/75: 100%|██████████| 30/30 [00:01<00:00, 21.61it/s]\n"
     ]
    },
    {
     "name": "stdout",
     "output_type": "stream",
     "text": [
      "Epoch 48/75, Train Loss: 0.3804, Val Loss: 0.7793\n"
     ]
    },
    {
     "name": "stderr",
     "output_type": "stream",
     "text": [
      "Train Epoch 49/75: 100%|██████████| 58/58 [00:08<00:00,  6.76it/s]\n",
      "Validation Epoch 49/75: 100%|██████████| 30/30 [00:01<00:00, 21.63it/s]\n"
     ]
    },
    {
     "name": "stdout",
     "output_type": "stream",
     "text": [
      "Epoch 49/75, Train Loss: 0.3564, Val Loss: 0.7702\n"
     ]
    },
    {
     "name": "stderr",
     "output_type": "stream",
     "text": [
      "Train Epoch 50/75: 100%|██████████| 58/58 [00:08<00:00,  6.83it/s]\n",
      "Validation Epoch 50/75: 100%|██████████| 30/30 [00:01<00:00, 21.40it/s]\n"
     ]
    },
    {
     "name": "stdout",
     "output_type": "stream",
     "text": [
      "Epoch 50/75, Train Loss: 0.3421, Val Loss: 0.7684\n"
     ]
    },
    {
     "name": "stderr",
     "output_type": "stream",
     "text": [
      "Train Epoch 51/75: 100%|██████████| 58/58 [00:08<00:00,  6.83it/s]\n",
      "Validation Epoch 51/75: 100%|██████████| 30/30 [00:01<00:00, 21.76it/s]\n"
     ]
    },
    {
     "name": "stdout",
     "output_type": "stream",
     "text": [
      "Epoch 51/75, Train Loss: 0.2922, Val Loss: 0.7809\n"
     ]
    },
    {
     "name": "stderr",
     "output_type": "stream",
     "text": [
      "Train Epoch 52/75: 100%|██████████| 58/58 [00:08<00:00,  6.81it/s]\n",
      "Validation Epoch 52/75: 100%|██████████| 30/30 [00:01<00:00, 21.63it/s]\n"
     ]
    },
    {
     "name": "stdout",
     "output_type": "stream",
     "text": [
      "Epoch 52/75, Train Loss: 0.2765, Val Loss: 0.7956\n"
     ]
    },
    {
     "name": "stderr",
     "output_type": "stream",
     "text": [
      "Train Epoch 53/75: 100%|██████████| 58/58 [00:08<00:00,  6.83it/s]\n",
      "Validation Epoch 53/75: 100%|██████████| 30/30 [00:01<00:00, 21.72it/s]\n"
     ]
    },
    {
     "name": "stdout",
     "output_type": "stream",
     "text": [
      "Epoch 53/75, Train Loss: 0.2677, Val Loss: 0.8023\n"
     ]
    },
    {
     "name": "stderr",
     "output_type": "stream",
     "text": [
      "Train Epoch 54/75: 100%|██████████| 58/58 [00:08<00:00,  6.83it/s]\n",
      "Validation Epoch 54/75: 100%|██████████| 30/30 [00:01<00:00, 21.70it/s]\n"
     ]
    },
    {
     "name": "stdout",
     "output_type": "stream",
     "text": [
      "Epoch 54/75, Train Loss: 0.2634, Val Loss: 0.8062\n",
      "Early stopping triggered\n",
      "Depth [True, True, True, True] -> Mean Dice Score: 0.7804, Mean F1 Score: 0.7804, Mean Lesion-wise Accuracy: 0.9366\n"
     ]
    }
   ],
   "source": [
    "depths = [[True, True, True, False],\n",
    "          [True, True, True, True]]\n",
    "for depth in depths:\n",
    "    model = UNet(1,1, depth=depth)\n",
    "    model = model.to(DEVICE)\n",
    "    optimizer = optim.Adam(model.parameters(), lr=1e-4, weight_decay=1e-4)\n",
    "    criterion = lambda preds, targets: combined_loss(preds, targets, pos_weight, 0.5)\n",
    "    num_epochs = 75\n",
    "    patience_counter = 10\n",
    "    scheduler = torch.optim.lr_scheduler.ReduceLROnPlateau(optimizer, factor=0.1, patience=5)\n",
    "\n",
    "    training_losses, validation_losses, train_dice_scores, valid_dice_scores = trainer_class(model, train_loader, test_loader, criterion, optimizer, num_epochs, device, patience_counter, scheduler=scheduler)\n",
    "\n",
    "    train_dice_scores, f1_scores, lesion_accuracies, preds = evaluate_model(model, test_loader, device, threshold=0.47)\n",
    "    print(f\"Depth {depth} -> Mean Dice Score: {np.mean(train_dice_scores):.4f}, Mean F1 Score: {np.mean(f1_scores):.4f}, Mean Lesion-wise Accuracy: {np.mean(lesion_accuracies):.4f}\")"
   ]
  },
  {
   "cell_type": "code",
   "execution_count": null,
   "id": "dfdd9c49",
   "metadata": {},
   "outputs": [],
   "source": []
  }
 ],
 "metadata": {
  "kernelspec": {
   "display_name": "AIMIA",
   "language": "python",
   "name": "python3"
  },
  "language_info": {
   "codemirror_mode": {
    "name": "ipython",
    "version": 3
   },
   "file_extension": ".py",
   "mimetype": "text/x-python",
   "name": "python",
   "nbconvert_exporter": "python",
   "pygments_lexer": "ipython3",
   "version": "3.12.12"
  }
 },
 "nbformat": 4,
 "nbformat_minor": 5
}
